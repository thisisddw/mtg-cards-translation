{
 "cells": [
  {
   "cell_type": "code",
   "execution_count": 1,
   "metadata": {},
   "outputs": [
    {
     "name": "stderr",
     "output_type": "stream",
     "text": [
      "c:\\Users\\ddw\\Anaconda3\\envs\\seq2seq\\lib\\site-packages\\tqdm\\auto.py:21: TqdmWarning: IProgress not found. Please update jupyter and ipywidgets. See https://ipywidgets.readthedocs.io/en/stable/user_install.html\n",
      "  from .autonotebook import tqdm as notebook_tqdm\n"
     ]
    }
   ],
   "source": [
    "import torch\n",
    "import torch.nn as nn\n",
    "import torch.optim as optim\n",
    "import torch.nn.functional as F\n",
    "\n",
    "from torchtext.legacy.data import Field, TabularDataset, BucketIterator\n",
    "\n",
    "from dataset.mtgcards import RuleText\n",
    "from utils.preprocess import fields_for_rule_text\n",
    "\n",
    "import random\n",
    "import math\n",
    "import time\n",
    "import os"
   ]
  },
  {
   "cell_type": "code",
   "execution_count": 2,
   "metadata": {},
   "outputs": [],
   "source": [
    "SRC, TRG = fields_for_rule_text()\n",
    "fields = {'src': ('src', SRC), 'trg': ('trg', TRG)}\n",
    "\n",
    "train_data, valid_data, test_data = RuleText.splits(fields=fields)"
   ]
  },
  {
   "cell_type": "code",
   "execution_count": 3,
   "metadata": {},
   "outputs": [
    {
     "name": "stdout",
     "output_type": "stream",
     "text": [
      "Unique tokens in source (en) vocabulary: 4991\n",
      "Unique tokens in target (zh) vocabulary: 2357\n"
     ]
    }
   ],
   "source": [
    "SRC.build_vocab(train_data, min_freq = 2)\n",
    "TRG.build_vocab(train_data, min_freq = 2)\n",
    "print(f\"Unique tokens in source (en) vocabulary: {len(SRC.vocab)}\")\n",
    "print(f\"Unique tokens in target (zh) vocabulary: {len(TRG.vocab)}\")"
   ]
  },
  {
   "cell_type": "code",
   "execution_count": 4,
   "metadata": {},
   "outputs": [
    {
     "name": "stdout",
     "output_type": "stream",
     "text": [
      "cpu\n",
      "\n",
      "[torchtext.legacy.data.batch.Batch of size 32]\n",
      "\t[.src]:('[torch.LongTensor of size 3x32]', '[torch.LongTensor of size 32]')\n",
      "\t[.trg]:[torch.LongTensor of size 7x32]\n"
     ]
    }
   ],
   "source": [
    "device = torch.device('cuda' if torch.cuda.is_available() else 'cpu')\n",
    "print(device)\n",
    "BATCH_SIZE = 32\n",
    "\n",
    "train_iterator, valid_iterator, test_iterator = BucketIterator.splits(\n",
    "    (train_data, valid_data, test_data), \n",
    "    batch_size = BATCH_SIZE, \n",
    "    sort_within_batch = True,\n",
    "    sort_key = lambda x: len(x.src),\n",
    "    device = device)\n",
    "\n",
    "tmp = next(iter(train_iterator))\n",
    "print(tmp)"
   ]
  },
  {
   "cell_type": "code",
   "execution_count": 5,
   "metadata": {},
   "outputs": [],
   "source": [
    "from models.model4.definition import Encoder, Attention, Decoder, Seq2Seq\n",
    "from models.model4.train import init_weights, train, evaluate\n",
    "from utils import count_parameters, train_loop"
   ]
  },
  {
   "cell_type": "code",
   "execution_count": 6,
   "metadata": {},
   "outputs": [
    {
     "name": "stdout",
     "output_type": "stream",
     "text": [
      "The model has 12,540,469 trainable parameters\n"
     ]
    }
   ],
   "source": [
    "INPUT_DIM = len(SRC.vocab)\n",
    "OUTPUT_DIM = len(TRG.vocab)\n",
    "ENC_EMB_DIM = 256\n",
    "DEC_EMB_DIM = 256\n",
    "ENC_HID_DIM = 512\n",
    "DEC_HID_DIM = 512\n",
    "ENC_DROPOUT = 0.5\n",
    "DEC_DROPOUT = 0.5\n",
    "SRC_PAD_IDX = SRC.vocab.stoi[SRC.pad_token]\n",
    "\n",
    "attn = Attention(ENC_HID_DIM, DEC_HID_DIM)\n",
    "enc = Encoder(INPUT_DIM, ENC_EMB_DIM, ENC_HID_DIM, DEC_HID_DIM, ENC_DROPOUT)\n",
    "dec = Decoder(OUTPUT_DIM, DEC_EMB_DIM, ENC_HID_DIM, DEC_HID_DIM, DEC_DROPOUT, attn)\n",
    "\n",
    "model = Seq2Seq(enc, dec, SRC_PAD_IDX, device).to(device)\n",
    "\n",
    "model.apply(init_weights)\n",
    "\n",
    "print(f'The model has {count_parameters(model):,} trainable parameters')"
   ]
  },
  {
   "cell_type": "code",
   "execution_count": null,
   "metadata": {},
   "outputs": [],
   "source": [
    "optimizer = optim.Adam(model.parameters())\n",
    "TRG_PAD_IDX = TRG.vocab.stoi[TRG.pad_token]\n",
    "criterion = nn.CrossEntropyLoss(ignore_index = TRG_PAD_IDX)\n",
    "\n",
    "train_loop(model, optimizer, criterion, train, evaluate,\n",
    "           train_iterator, valid_iterator, \n",
    "           save_path='result/', file_name='tut4-model.pt', load_before_train=True)"
   ]
  },
  {
   "cell_type": "code",
   "execution_count": 7,
   "metadata": {},
   "outputs": [],
   "source": [
    "from utils.translate import Translator\n",
    "from models.model4.definition import beam_search"
   ]
  },
  {
   "cell_type": "code",
   "execution_count": 8,
   "metadata": {},
   "outputs": [],
   "source": [
    "model.load_state_dict(torch.load('result/tut4-model.pt', map_location=torch.device(device)))\n",
    "T = Translator(SRC, TRG, model, device, beam_search)"
   ]
  },
  {
   "cell_type": "code",
   "execution_count": 53,
   "metadata": {},
   "outputs": [
    {
     "name": "stdout",
     "output_type": "stream",
     "text": [
      "['{', '<unk>', '1', '}', '{', 'b', '}', '{', 'b', '}', '，', '{', 't', '}', '：', '如果', '<cn>', '是', '非瑞人', '，', '则', '在', '其', '上', '放置', '一个', '+', '1', '/', '+', '1', '指示物', '，', '然后', '你', '抓', '一', '张', '牌且', '失去', '1', '点', '生命', '。', '<eos>']\n",
      "['{', '<unk>', '1', '}', '{', 'b', '}', '{', 'b', '}', '，', '{', 't', '}', '：', '如果', '<cn>', '是', '非瑞人', '，', '则', '在', '其', '上', '放置', '一个', '+', '1', '/', '+', '1', '指示物', '，', '然后', '你', '抓', '一', '张', '牌且', '你', '失去', '1', '点', '生命', '。', '<eos>']\n",
      "['{', '<unk>', '1', '}', '{', 'b', '}', '{', 'b', '}', '，', '{', 't', '}', '，', '如果', '<cn>', '是', '非瑞人', '，', '则', '在', '其', '上', '放置', '一个', '+', '1', '/', '+', '1', '指示物', '，', '然后', '你', '抓', '一', '张', '牌且', '你', '失去', '1', '点', '生命', '。', '<eos>']\n"
     ]
    },
    {
     "data": {
      "text/plain": [
       "['{',\n",
       " ' ',\n",
       " '1',\n",
       " ' ',\n",
       " '}',\n",
       " '{',\n",
       " ' ',\n",
       " 'b',\n",
       " ' ',\n",
       " '}',\n",
       " '{',\n",
       " ' ',\n",
       " 'b',\n",
       " ' ',\n",
       " '}',\n",
       " ':',\n",
       " 'if',\n",
       " 'evolved',\n",
       " 'sleeper',\n",
       " 'is',\n",
       " 'a',\n",
       " 'phyrexian',\n",
       " ',',\n",
       " 'put',\n",
       " 'a',\n",
       " '+',\n",
       " '1',\n",
       " '/',\n",
       " '+',\n",
       " '1',\n",
       " 'counter',\n",
       " 'on',\n",
       " 'it',\n",
       " ',',\n",
       " 'then',\n",
       " 'you',\n",
       " 'draw',\n",
       " 'a',\n",
       " 'card',\n",
       " 'and',\n",
       " 'you',\n",
       " 'lose',\n",
       " '1',\n",
       " 'life',\n",
       " '.']"
      ]
     },
     "execution_count": 53,
     "metadata": {},
     "output_type": "execute_result"
    }
   ],
   "source": [
    "data = '{ 1 } { b } { b } : if evolved sleeper is a phyrexian , put a + 1 / + 1 counter on it , then you draw a card and you lose 1 life .'\n",
    "ret, prob, att = T.translate_with_att(data)\n",
    "print(*ret[:3], sep='\\n')\n",
    "SRC.preprocess(data)"
   ]
  },
  {
   "cell_type": "code",
   "execution_count": 52,
   "metadata": {},
   "outputs": [
    {
     "name": "stdout",
     "output_type": "stream",
     "text": [
      "Number of samples: 45\n",
      "src: [when exuberant fuseling enters the battlefield and whenever another creature or artifact you control is put into a graveyard from the battlefield , put an oil counter on exuberant fuseling . ] trg = [当<cn>进战场和每当另一个由你操控的生物或神器从战场进入坟墓场时，在<cn>上放置一个烁油指示物。]\n",
      "当<cn>进战场和另一个由你操控的生物或神器从战场进入坟墓场时，在<cn>上放置一个烁油指示物。<eos> \t[probability: 0.00359]\n",
      "当<cn>进战场时，每当另一个由你操控的其他或神器从战场进入坟墓场时，在<cn>上放置一个烁油指示物。<eos> \t[probability: 0.00037]\n",
      "当<cn>进战场和另一个由你操控的生物或神器从战场进入坟墓场，在<cn>上放置一个烁油指示物。<eos> \t[probability: 0.00015]\n",
      "\n",
      "src: [as long as the top card of your library is a creature card , creatures you control that share a color with that card get + 1 / + 1 . ] trg = [只要你的牌库顶牌是生物牌，由你操控，且与该生物牌有共通颜色的生物便得+1/+1。]\n",
      "只要你的牌库顶牌是生物牌，由你操控且具共通颜色的生物便得+1/+1。<eos> \t[probability: 0.00004]\n",
      "只要你的牌库顶牌是生物牌，由你操控且具共通的共通颜色的生物便得+1/+1。<eos> \t[probability: 0.00002]\n",
      "只要你的牌库顶牌是生物牌，由你操控且具共通颜色的生物的生物便得+1/+1。<eos> \t[probability: 0.00000]\n",
      "\n",
      "src: [{ g } , { t } , sacrifice magus of the order and another green creature : search your library for a green creature card , put it onto the battlefield , then shuffle . ] trg = [{g}，{t}，牺牲<cn>和另一个绿色生物：从你的牌库中搜寻一张绿色生物牌，将之放进战场，然后将你的牌库洗牌。]\n",
      "{g}，{t}，牺牲<cn>：另一张绿色生物：从你的牌库中搜寻一张生物牌物牌，将之放进战场，然后洗牌。<eos> \t[probability: 0.00040]\n",
      "{g}，{t}，牺牲<cn>：另一张绿色生物：从你的牌库中搜寻一张生物牌物牌，将之放进战场，然后将你的牌库洗牌。<eos> \t[probability: 0.00028]\n",
      "{g}，{t}，牺牲<cn>：另一张绿色生物：从你的牌库中搜寻一张生物牌，将之放进战场，然后将你的牌库洗牌。<eos> \t[probability: 0.00023]\n",
      "\n"
     ]
    }
   ],
   "source": [
    "from utils import show_samples\n",
    "long_data = [x for x in test_data.examples if len(x.src) > 30]\n",
    "print(f'Number of samples: {len(long_data)}')\n",
    "show_samples(long_data, T, n=3, beam_size=3)"
   ]
  },
  {
   "cell_type": "code",
   "execution_count": 12,
   "metadata": {},
   "outputs": [
    {
     "name": "stderr",
     "output_type": "stream",
     "text": [
      "100%|██████████| 45/45 [00:06<00:00,  7.18it/s]\n"
     ]
    },
    {
     "name": "stdout",
     "output_type": "stream",
     "text": [
      "74.36702387304524\n"
     ]
    }
   ],
   "source": [
    "from utils import calculate_bleu\n",
    "\n",
    "bleu = calculate_bleu(long_data, lambda x: T.translate(x, beam_size=3)[0][0])\n",
    "print(bleu*100)"
   ]
  }
 ],
 "metadata": {
  "kernelspec": {
   "display_name": "Python 3 (ipykernel)",
   "language": "python",
   "name": "python3"
  },
  "language_info": {
   "codemirror_mode": {
    "name": "ipython",
    "version": 3
   },
   "file_extension": ".py",
   "mimetype": "text/x-python",
   "name": "python",
   "nbconvert_exporter": "python",
   "pygments_lexer": "ipython3",
   "version": "3.9.16"
  }
 },
 "nbformat": 4,
 "nbformat_minor": 2
}
