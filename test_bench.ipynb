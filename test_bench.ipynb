{
 "cells": [
  {
   "cell_type": "code",
   "execution_count": 1,
   "metadata": {},
   "outputs": [
    {
     "name": "stderr",
     "output_type": "stream",
     "text": [
      "c:\\Users\\ddw\\Anaconda3\\envs\\seq2seq\\lib\\site-packages\\tqdm\\auto.py:21: TqdmWarning: IProgress not found. Please update jupyter and ipywidgets. See https://ipywidgets.readthedocs.io/en/stable/user_install.html\n",
      "  from .autonotebook import tqdm as notebook_tqdm\n"
     ]
    }
   ],
   "source": [
    "import torch\n",
    "import torch.nn as nn\n",
    "import torch.optim as optim\n",
    "import torch.nn.functional as F\n",
    "\n",
    "from torchtext.legacy.data import Field, TabularDataset, BucketIterator\n",
    "\n",
    "from dataset.mtgcards import RuleText\n",
    "from utils.preprocess import fields_for_rule_text\n",
    "\n",
    "import random\n",
    "import math\n",
    "import time\n",
    "import os"
   ]
  },
  {
   "cell_type": "code",
   "execution_count": 2,
   "metadata": {},
   "outputs": [],
   "source": [
    "SRC, TRG = fields_for_rule_text()\n",
    "fields = {'src': ('src', SRC), 'trg': ('trg', TRG)}\n",
    "\n",
    "train_data, valid_data, test_data = RuleText.splits(fields=fields, version='v2')"
   ]
  },
  {
   "cell_type": "code",
   "execution_count": 3,
   "metadata": {},
   "outputs": [
    {
     "name": "stdout",
     "output_type": "stream",
     "text": [
      "Unique tokens in source (en) vocabulary: 1488\n",
      "Unique tokens in target (zh) vocabulary: 2313\n"
     ]
    }
   ],
   "source": [
    "SRC.build_vocab(train_data, min_freq = 2)\n",
    "TRG.build_vocab(train_data, min_freq = 2)\n",
    "print(f\"Unique tokens in source (en) vocabulary: {len(SRC.vocab)}\")\n",
    "print(f\"Unique tokens in target (zh) vocabulary: {len(TRG.vocab)}\")"
   ]
  },
  {
   "cell_type": "code",
   "execution_count": 4,
   "metadata": {},
   "outputs": [
    {
     "name": "stdout",
     "output_type": "stream",
     "text": [
      "['假设', '中间', '夹', '<', 'x', 'b', 'p', ',', ' ', 't', 'h', 'e', ' ', 's', 't', 'r', 'o', 'n', 'g', 'e', 's', 't', ' ', 'o', 'f', ' ', 'a', 'l', 'l', '>', '着', '<', 'x', 'b', 'p', ',', ' ', 't', 'h', 'e', ' ', 's', 't', 'r', 'o', 'n', 'g', 'e', 's', 't', ' ', 'o', 'f', ' ', 'a', 'l', 'l', '>', '一个', '名字']\n",
      "['there', '<', 'x', 'b', 'p', ',', ' ', 't', 'h', 'e', ' ', 's', 't', 'r', 'o', 'n', 'g', 'e', 's', 't', ' ', 'o', 'f', ' ', 'a', 'l', 'l', '>', 'is', 'a', 'card', 'name', '<', 'x', 'b', 'p', ',', ' ', 't', 'h', 'e', ' ', 's', 't', 'r', 'o', 'n', 'g', 'e', 's', 't', ' ', 'o', 'f', ' ', 'a', 'l', 'l', '>', '.']\n"
     ]
    }
   ],
   "source": [
    "from utils.preprocess import tokenize_en, tokenize_zh\n",
    "\n",
    "print(tokenize_zh('假设中间夹<xbp, the strongest of all>着<xbp, the strongest of all>一个名字'))\n",
    "print(tokenize_en('there <xbp, the strongest of all> is a card name <xbp, the strongest of all>.'))"
   ]
  },
  {
   "cell_type": "code",
   "execution_count": 5,
   "metadata": {},
   "outputs": [
    {
     "name": "stdout",
     "output_type": "stream",
     "text": [
      "cpu\n",
      "\n",
      "[torchtext.legacy.data.batch.Batch of size 128]\n",
      "\t[.src]:('[torch.LongTensor of size 15x128]', '[torch.LongTensor of size 128]')\n",
      "\t[.trg]:[torch.LongTensor of size 33x128]\n"
     ]
    }
   ],
   "source": [
    "device = torch.device('cuda' if torch.cuda.is_available() else 'cpu')\n",
    "print(device)\n",
    "BATCH_SIZE = 128\n",
    "\n",
    "train_iterator, valid_iterator, test_iterator = BucketIterator.splits(\n",
    "    (train_data, valid_data, test_data), \n",
    "    batch_size = BATCH_SIZE, \n",
    "    sort_within_batch = True,\n",
    "    sort_key = lambda x: len(x.src),\n",
    "    device = device)\n",
    "\n",
    "tmp = next(iter(train_iterator))\n",
    "print(tmp)"
   ]
  },
  {
   "cell_type": "code",
   "execution_count": 6,
   "metadata": {},
   "outputs": [],
   "source": [
    "from models.model4.definition import Encoder, Attention, Decoder, Seq2Seq\n",
    "from models.model4.train import init_weights, train, evaluate\n",
    "from utils import count_parameters, train_loop"
   ]
  },
  {
   "cell_type": "code",
   "execution_count": 7,
   "metadata": {},
   "outputs": [
    {
     "name": "stdout",
     "output_type": "stream",
     "text": [
      "The model has 11,553,545 trainable parameters\n"
     ]
    }
   ],
   "source": [
    "INPUT_DIM = len(SRC.vocab)\n",
    "OUTPUT_DIM = len(TRG.vocab)\n",
    "ENC_EMB_DIM = 256\n",
    "DEC_EMB_DIM = 256\n",
    "ENC_HID_DIM = 512\n",
    "DEC_HID_DIM = 512\n",
    "ENC_DROPOUT = 0.5\n",
    "DEC_DROPOUT = 0.5\n",
    "SRC_PAD_IDX = SRC.vocab.stoi[SRC.pad_token]\n",
    "\n",
    "attn = Attention(ENC_HID_DIM, DEC_HID_DIM)\n",
    "enc = Encoder(INPUT_DIM, ENC_EMB_DIM, ENC_HID_DIM, DEC_HID_DIM, ENC_DROPOUT)\n",
    "dec = Decoder(OUTPUT_DIM, DEC_EMB_DIM, ENC_HID_DIM, DEC_HID_DIM, DEC_DROPOUT, attn)\n",
    "\n",
    "model = Seq2Seq(enc, dec, SRC_PAD_IDX, device).to(device)\n",
    "\n",
    "model.apply(init_weights)\n",
    "\n",
    "print(f'The model has {count_parameters(model):,} trainable parameters')"
   ]
  },
  {
   "cell_type": "code",
   "execution_count": null,
   "metadata": {},
   "outputs": [],
   "source": [
    "optimizer = optim.Adam(model.parameters())\n",
    "TRG_PAD_IDX = TRG.vocab.stoi[TRG.pad_token]\n",
    "criterion = nn.CrossEntropyLoss(ignore_index = TRG_PAD_IDX)\n",
    "\n",
    "train_loop(model, optimizer, criterion, train, evaluate,\n",
    "           train_iterator, valid_iterator, \n",
    "           save_path='result/', file_name='model4-rule-v2.pt', load_before_train=True)"
   ]
  },
  {
   "cell_type": "code",
   "execution_count": 23,
   "metadata": {},
   "outputs": [],
   "source": [
    "from utils.translate import Translator\n",
    "from models.model4.definition import beam_search\n",
    "model.load_state_dict(torch.load('model4-rule-v2.pt', map_location=torch.device(device)))\n",
    "T = Translator(SRC, TRG, model, device, beam_search)"
   ]
  },
  {
   "cell_type": "code",
   "execution_count": 26,
   "metadata": {},
   "outputs": [
    {
     "name": "stdout",
     "output_type": "stream",
     "text": [
      "['每当', '<', 'm', '>', '上', '生物', '上', '的', '生物', '上', '时', '，', '只要', '其', '上', '，', '它', '，', '此', '武具', '的', '生物', '上', '，', '该', '生物', '，', '，', '你', '可以', '令', '该', '生物', '成为', '另', '一个', '目标', '由', '你', '操控', '的', '生物', '之', '复制品', '。', '<eos>']\n",
      "['每当', '<', 'm', '>', '上', '生物', '上', '的', '生物', '上', '时', '，', '只要', '其', '上', '，', '它', '，', '此', '武具', '的', '生物', '上', '，', '该', '生物', '，', '，', '你', '可以', '令', '该', '生物', '成为', '另', '一个', '目标', '由', '你', '操控', '的', '生物', '成为', '另', '。', '<eos>']\n",
      "['每当', '<', 'm', '>', '上', '生物', '上', '的', '生物', '上', '时', '，', '只要', '其', '上', '，', '它', '，', '此', '武具', '的', '生物', '上', '，', '该', '生物', '，', '，', '你', '可以', '让', '该', '生物', '成为', '另', '一个', '目标', '由', '你', '操控', '的', '生物', '成为', '另', '。', '<eos>']\n"
     ]
    }
   ],
   "source": [
    "data = 'Whenever <1> becomes attached to a creature, for as long as <1> remains attached to it, you may have that creature become a copy of another target creature you control.'\n",
    "ret, prob = T.translate(data, max_len=100)\n",
    "print(*ret[:3], sep='\\n')"
   ]
  },
  {
   "cell_type": "code",
   "execution_count": 38,
   "metadata": {},
   "outputs": [
    {
     "name": "stdout",
     "output_type": "stream",
     "text": [
      "Number of samples: 352\n",
      "src: [spells your opponents cast that target < i c e f a l l   r e g e n t > cost { 2 } more to cast . ] trg = [由对手施放且以<icefall regent>为目标的咒语增加{2}来施放。]\n",
      "对手施放之以<icefall regent>为目标的咒语增加{2}来施放。<eos> \t[probability: 0.16734]\n",
      "对手施放之以<icefall regent>为目标的咒语增加{2}来使用。<eos> \t[probability: 0.01427]\n",
      "对手施放之以<icefall regent>为目标为目标的咒语增加{2}来施放。<eos> \t[probability: 0.00839]\n",
      "\n",
      "src: [each clashing player reveals the top card of their library , then puts that card on the top or bottom . ] trg = [参与比点的牌手各展示其牌库顶牌，然后将该牌置于牌库顶部或底部。]\n",
      "参与比点的牌手各展示其牌库顶牌，然后将该牌置于底部底部底部底部。<eos> \t[probability: 0.30383]\n",
      "参与比点的牌手各展示其牌库顶牌，然后将该牌置于底部底部底部底部底部。<eos> \t[probability: 0.11974]\n",
      "参与比点的牌手各展示其牌库顶牌，然后将该牌置于底部底部底部底部。底部。<eos> \t[probability: 0.09725]\n",
      "\n",
      "src: [as this creature enters the battlefield , an opponent of your choice may put two + 1 / + 1 counters on it . ] trg = [于此生物进战场时，选择一位对手，他可以在其上放置两个+1/+1指示物。]\n",
      "于此生物进战场时，选择一位对手，他可以在其上放置两个+1/+1指示物。<eos> \t[probability: 0.62496]\n",
      "于此生物进时，选择一位对手，他可以在其上放置两个+1/+1指示物。<eos> \t[probability: 0.03789]\n",
      "于此生物进战场时，选择一位对手，他可以可以在其上放置两个+1/+1指示物。<eos> \t[probability: 0.02680]\n",
      "\n"
     ]
    }
   ],
   "source": [
    "from utils import show_samples\n",
    "long_data = [x for x in test_data.examples if len(x.src) > 20]\n",
    "print(f'Number of samples: {len(long_data)}')\n",
    "show_samples(long_data, T, n=3, beam_size=3)"
   ]
  },
  {
   "cell_type": "code",
   "execution_count": 60,
   "metadata": {},
   "outputs": [
    {
     "name": "stdout",
     "output_type": "stream",
     "text": [
      "path: d:\\ddw\\school\\大三下\\语音信息处理技术\\期末作业\\code\\mtg-cards-translation\\models\\card_name_detector\n"
     ]
    }
   ],
   "source": [
    "from dataset.mtgcards import TestSets\n",
    "from utils import calculate_bleu\n",
    "from torchtext.legacy.data import Field\n",
    "\n",
    "fields = {'src-rule': ('src', Field(tokenize=lambda x: x.split(' '))), 'trg-rule': ('trg', Field())}\n",
    "test_data = TestSets.load(fields)\n",
    "\n",
    "from models.card_name_detector.definition import TrainedDetector\n",
    "D = TrainedDetector()"
   ]
  },
  {
   "cell_type": "code",
   "execution_count": 65,
   "metadata": {},
   "outputs": [],
   "source": [
    "def sentencize(text: str):\n",
    "    ignore = {' ', '(', ')', '\\n'}\n",
    "    while len(text) and text[0] in ignore:\n",
    "        text = text[1:]\n",
    "    if len(text) == 0:\n",
    "        return []\n",
    "    \n",
    "    r = 0\n",
    "    delims = {'.', '\\n', '('}\n",
    "    while r < len(text) and text[r] not in delims:\n",
    "        r += 1\n",
    "    \n",
    "    if r < len(text) and text[r] == '.':\n",
    "        return [text[:r + 1]] + sentencize(text[r + 1:])\n",
    "    return [text[:r]] + sentencize(text[r:])\n",
    "\n",
    "class CardTranslator:\n",
    "    def __init__(self, sentencize, sent_translator, preprocess=None, postprocess=None) -> None:\n",
    "        self.sentencize = sentencize\n",
    "        self.sent_translator = sent_translator\n",
    "        self.preprocess = preprocess\n",
    "        self.postprocess = postprocess\n",
    "    \n",
    "    def translate(self, text: str)->str:\n",
    "        sents = self.sentencize(text)\n",
    "        result = []\n",
    "        for sent in sents:\n",
    "            if self.preprocess:\n",
    "                sent = self.preprocess(sent)\n",
    "            sent, _ = self.sent_translator.translate(sent)\n",
    "            sent = ''.join(sent[0][:-1])\n",
    "            if self.postprocess:\n",
    "                sent = self.postprocess(sent)\n",
    "            result.append(sent)\n",
    "        return ' '.join(result)"
   ]
  },
  {
   "cell_type": "code",
   "execution_count": 66,
   "metadata": {},
   "outputs": [
    {
     "name": "stdout",
     "output_type": "stream",
     "text": [
      "{'src': ['You', 'gain', 'X', 'life.', 'Create', 'X', '1/1', 'colorless', 'Phyrexian', 'Mite', 'artifact', 'creature', 'tokens', 'with', 'toxic', '1', 'and', '\"This', 'creature', \"can't\", 'block.\"', 'If', 'X', 'is', '5', 'or', 'more,', 'destroy', 'all', 'other', 'creatures.', '(Players', 'dealt', 'combat', 'damage', 'by', 'a', 'creature', 'with', 'toxic', '1', 'also', 'get', 'a', 'poison', 'counter.)'], 'trg': ['你获得X点生命。派出X个1/1无色非瑞人／虫械衍生神器生物，且具有下毒1与「此生物不能进行阻挡。」如果X等于或大于5，则消灭所有其他生物。（受到具下毒1生物之战斗伤害的牌手还会得到一个中毒指示物。）']}\n",
      "['you', 'gain', 'x', 'life', '.']\n",
      "['create', 'x', '1', '/', '1', 'colorless', 'phyrexian', 'mite', 'artifact', 'creature', 'tokens', 'with', 'toxic', '1', 'and', '\"', 'this', 'creature', 'ca', \"n't\", 'block', '.']\n",
      "['\"', 'if', 'x', 'is', '5', 'or', 'more', ',', 'destroy', 'all', 'other', 'creatures', '.']\n",
      "['players', 'dealt', 'combat', 'damage', 'by', 'a', 'creature', 'with', 'toxic', '1', 'also', 'get', 'a', 'poison', 'counter', '.']\n"
     ]
    },
    {
     "data": {
      "text/plain": [
       "'你你获得x点生命。 将派出x个1/1无色秘耳衍生神器生物放进战场，且具有下毒1且具有\"此生物不能进行阻挡。 赋予 xx等于5或更多，则消灭所有其他生物。 当此牌手受过伤害的生物还会触发时上面得到一个中毒指示物。'"
      ]
     },
     "execution_count": 66,
     "metadata": {},
     "output_type": "execute_result"
    }
   ],
   "source": [
    "CT = CardTranslator(sentencize, T, preprocess=lambda x: D.annotate(x))\n",
    "\n",
    "example = random.sample(list(test_data), 1)[0]\n",
    "print(vars(example))\n",
    "CT.translate(' '.join(example.src))"
   ]
  }
 ],
 "metadata": {
  "kernelspec": {
   "display_name": "seq2seq",
   "language": "python",
   "name": "python3"
  },
  "language_info": {
   "codemirror_mode": {
    "name": "ipython",
    "version": 3
   },
   "file_extension": ".py",
   "mimetype": "text/x-python",
   "name": "python",
   "nbconvert_exporter": "python",
   "pygments_lexer": "ipython3",
   "version": "3.9.16"
  },
  "orig_nbformat": 4
 },
 "nbformat": 4,
 "nbformat_minor": 2
}
