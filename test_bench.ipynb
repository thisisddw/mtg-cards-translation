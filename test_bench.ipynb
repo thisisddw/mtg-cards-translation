{
 "cells": [
  {
   "cell_type": "code",
   "execution_count": 16,
   "metadata": {},
   "outputs": [],
   "source": [
    "import torch\n",
    "import torch.nn as nn\n",
    "import torch.optim as optim\n",
    "import torch.nn.functional as F\n",
    "\n",
    "from torchtext.legacy.data import Field, TabularDataset, BucketIterator\n",
    "\n",
    "from dataset.mtgcards import RuleText\n",
    "from utils.preprocess import fields_for_rule_text\n",
    "\n",
    "import random\n",
    "import math\n",
    "import time\n",
    "import os"
   ]
  },
  {
   "cell_type": "code",
   "execution_count": 17,
   "metadata": {},
   "outputs": [],
   "source": [
    "SRC, TRG = fields_for_rule_text()\n",
    "fields = {'src': ('src', SRC), 'trg': ('trg', TRG)}\n",
    "\n",
    "train_data, valid_data, test_data = RuleText.splits(fields=fields, version='v2.1')"
   ]
  },
  {
   "cell_type": "code",
   "execution_count": 18,
   "metadata": {},
   "outputs": [
    {
     "name": "stdout",
     "output_type": "stream",
     "text": [
      "Unique tokens in source (en) vocabulary: 1475\n",
      "Unique tokens in target (zh) vocabulary: 2306\n",
      "['counter', 'target', 'spell', '.'] ['反击', '目标', '咒语', '。']\n",
      "['choose', 'one', '—'] ['选择', '一', '项', '～']\n",
      "['equip', '{', '3', '}'] ['佩带', '{', '3', '}']\n"
     ]
    }
   ],
   "source": [
    "SRC.build_vocab(train_data, min_freq = 2)\n",
    "TRG.build_vocab(train_data, min_freq = 2)\n",
    "print(f\"Unique tokens in source (en) vocabulary: {len(SRC.vocab)}\")\n",
    "print(f\"Unique tokens in target (zh) vocabulary: {len(TRG.vocab)}\")\n",
    "\n",
    "for x in random.sample(list(train_data), 3):\n",
    "    print(x.src, x.trg)"
   ]
  },
  {
   "cell_type": "code",
   "execution_count": 19,
   "metadata": {},
   "outputs": [
    {
     "name": "stdout",
     "output_type": "stream",
     "text": [
      "cpu\n",
      "\n",
      "[torchtext.legacy.data.batch.Batch of size 128]\n",
      "\t[.src]:('[torch.LongTensor of size 26x128]', '[torch.LongTensor of size 128]')\n",
      "\t[.trg]:[torch.LongTensor of size 36x128]\n"
     ]
    }
   ],
   "source": [
    "device = torch.device('cuda' if torch.cuda.is_available() else 'cpu')\n",
    "print(device)\n",
    "BATCH_SIZE = 128\n",
    "\n",
    "train_iterator, valid_iterator, test_iterator = BucketIterator.splits(\n",
    "    (train_data, valid_data, test_data), \n",
    "    batch_size = BATCH_SIZE, \n",
    "    sort_within_batch = True,\n",
    "    sort_key = lambda x: len(x.src),\n",
    "    device = device)\n",
    "\n",
    "tmp = next(iter(train_iterator))\n",
    "print(tmp)"
   ]
  },
  {
   "cell_type": "code",
   "execution_count": 20,
   "metadata": {},
   "outputs": [],
   "source": [
    "from models.model4.definition import Encoder, Attention, Decoder, Seq2Seq\n",
    "from models.model4.train import init_weights, train, evaluate\n",
    "from utils import count_parameters, train_loop"
   ]
  },
  {
   "cell_type": "code",
   "execution_count": 21,
   "metadata": {},
   "outputs": [
    {
     "name": "stdout",
     "output_type": "stream",
     "text": [
      "The model has 11,535,874 trainable parameters\n"
     ]
    }
   ],
   "source": [
    "INPUT_DIM = len(SRC.vocab)\n",
    "OUTPUT_DIM = len(TRG.vocab)\n",
    "ENC_EMB_DIM = 256\n",
    "DEC_EMB_DIM = 256\n",
    "ENC_HID_DIM = 512\n",
    "DEC_HID_DIM = 512\n",
    "ENC_DROPOUT = 0.5\n",
    "DEC_DROPOUT = 0.5\n",
    "SRC_PAD_IDX = SRC.vocab.stoi[SRC.pad_token]\n",
    "\n",
    "attn = Attention(ENC_HID_DIM, DEC_HID_DIM)\n",
    "enc = Encoder(INPUT_DIM, ENC_EMB_DIM, ENC_HID_DIM, DEC_HID_DIM, ENC_DROPOUT)\n",
    "dec = Decoder(OUTPUT_DIM, DEC_EMB_DIM, ENC_HID_DIM, DEC_HID_DIM, DEC_DROPOUT, attn)\n",
    "\n",
    "model = Seq2Seq(enc, dec, SRC_PAD_IDX, device).to(device)\n",
    "\n",
    "model.apply(init_weights)\n",
    "\n",
    "print(f'The model has {count_parameters(model):,} trainable parameters')"
   ]
  },
  {
   "cell_type": "code",
   "execution_count": 22,
   "metadata": {},
   "outputs": [
    {
     "name": "stdout",
     "output_type": "stream",
     "text": [
      "model will be saved to result/model4-rule-v2.1.pt\n"
     ]
    },
    {
     "ename": "KeyboardInterrupt",
     "evalue": "",
     "output_type": "error",
     "traceback": [
      "\u001b[1;31m---------------------------------------------------------------------------\u001b[0m",
      "\u001b[1;31mKeyboardInterrupt\u001b[0m                         Traceback (most recent call last)",
      "Cell \u001b[1;32mIn[22], line 5\u001b[0m\n\u001b[0;32m      2\u001b[0m TRG_PAD_IDX \u001b[39m=\u001b[39m TRG\u001b[39m.\u001b[39mvocab\u001b[39m.\u001b[39mstoi[TRG\u001b[39m.\u001b[39mpad_token]\n\u001b[0;32m      3\u001b[0m criterion \u001b[39m=\u001b[39m nn\u001b[39m.\u001b[39mCrossEntropyLoss(ignore_index \u001b[39m=\u001b[39m TRG_PAD_IDX)\n\u001b[1;32m----> 5\u001b[0m train_loop(model, optimizer, criterion, train, evaluate,\n\u001b[0;32m      6\u001b[0m            train_iterator, valid_iterator, \n\u001b[0;32m      7\u001b[0m            save_path\u001b[39m=\u001b[39;49m\u001b[39m'\u001b[39;49m\u001b[39mresult/\u001b[39;49m\u001b[39m'\u001b[39;49m, file_name\u001b[39m=\u001b[39;49m\u001b[39m'\u001b[39;49m\u001b[39mmodel4-rule-v2.1.pt\u001b[39;49m\u001b[39m'\u001b[39;49m, load_before_train\u001b[39m=\u001b[39;49m\u001b[39mTrue\u001b[39;49;00m)\n",
      "File \u001b[1;32md:\\Desktop\\mtg-cards-translation\\utils\\__init__.py:32\u001b[0m, in \u001b[0;36mtrain_loop\u001b[1;34m(model, optimizer, criterion, train, evaluate, train_iterator, valid_iterator, N_EPOCHS, CLIP, save_path, file_name, load_before_train)\u001b[0m\n\u001b[0;32m     30\u001b[0m \u001b[39mif\u001b[39;00m load_before_train \u001b[39mand\u001b[39;00m os\u001b[39m.\u001b[39mpath\u001b[39m.\u001b[39misfile(path):\n\u001b[0;32m     31\u001b[0m     model\u001b[39m.\u001b[39mload_state_dict(torch\u001b[39m.\u001b[39mload(path, map_location\u001b[39m=\u001b[39mtorch\u001b[39m.\u001b[39mdevice(model\u001b[39m.\u001b[39mdevice)))\n\u001b[1;32m---> 32\u001b[0m     best_valid_loss \u001b[39m=\u001b[39m evaluate(model, valid_iterator, criterion)\n\u001b[0;32m     33\u001b[0m     \u001b[39mprint\u001b[39m(\u001b[39mf\u001b[39m\u001b[39m'\u001b[39m\u001b[39mload model parameters from \u001b[39m\u001b[39m{\u001b[39;00mpath\u001b[39m}\u001b[39;00m\u001b[39m\\n\u001b[39;00m\u001b[39mVal. Loss: \u001b[39m\u001b[39m{\u001b[39;00mbest_valid_loss\u001b[39m:\u001b[39;00m\u001b[39m.3f\u001b[39m\u001b[39m}\u001b[39;00m\u001b[39m |  Val. PPL: \u001b[39m\u001b[39m{\u001b[39;00mmath\u001b[39m.\u001b[39mexp(best_valid_loss)\u001b[39m:\u001b[39;00m\u001b[39m7.3f\u001b[39m\u001b[39m}\u001b[39;00m\u001b[39m'\u001b[39m)\n\u001b[0;32m     35\u001b[0m \u001b[39mfor\u001b[39;00m epoch \u001b[39min\u001b[39;00m \u001b[39mrange\u001b[39m(N_EPOCHS):\n",
      "File \u001b[1;32md:\\Desktop\\mtg-cards-translation\\models\\model4\\train.py:84\u001b[0m, in \u001b[0;36mevaluate\u001b[1;34m(model, iterator, criterion)\u001b[0m\n\u001b[0;32m     81\u001b[0m src, src_len \u001b[39m=\u001b[39m batch\u001b[39m.\u001b[39msrc\n\u001b[0;32m     82\u001b[0m trg \u001b[39m=\u001b[39m batch\u001b[39m.\u001b[39mtrg\n\u001b[1;32m---> 84\u001b[0m output \u001b[39m=\u001b[39m model(src, src_len, trg, \u001b[39m0\u001b[39;49m) \u001b[39m#turn off teacher forcing\u001b[39;00m\n\u001b[0;32m     86\u001b[0m \u001b[39m#trg = [trg len, batch size]\u001b[39;00m\n\u001b[0;32m     87\u001b[0m \u001b[39m#output = [trg len, batch size, output dim]\u001b[39;00m\n\u001b[0;32m     89\u001b[0m output_dim \u001b[39m=\u001b[39m output\u001b[39m.\u001b[39mshape[\u001b[39m-\u001b[39m\u001b[39m1\u001b[39m]\n",
      "File \u001b[1;32md:\\Miniconda3\\envs\\seq2seq\\lib\\site-packages\\torch\\nn\\modules\\module.py:1051\u001b[0m, in \u001b[0;36mModule._call_impl\u001b[1;34m(self, *input, **kwargs)\u001b[0m\n\u001b[0;32m   1047\u001b[0m \u001b[39m# If we don't have any hooks, we want to skip the rest of the logic in\u001b[39;00m\n\u001b[0;32m   1048\u001b[0m \u001b[39m# this function, and just call forward.\u001b[39;00m\n\u001b[0;32m   1049\u001b[0m \u001b[39mif\u001b[39;00m \u001b[39mnot\u001b[39;00m (\u001b[39mself\u001b[39m\u001b[39m.\u001b[39m_backward_hooks \u001b[39mor\u001b[39;00m \u001b[39mself\u001b[39m\u001b[39m.\u001b[39m_forward_hooks \u001b[39mor\u001b[39;00m \u001b[39mself\u001b[39m\u001b[39m.\u001b[39m_forward_pre_hooks \u001b[39mor\u001b[39;00m _global_backward_hooks\n\u001b[0;32m   1050\u001b[0m         \u001b[39mor\u001b[39;00m _global_forward_hooks \u001b[39mor\u001b[39;00m _global_forward_pre_hooks):\n\u001b[1;32m-> 1051\u001b[0m     \u001b[39mreturn\u001b[39;00m forward_call(\u001b[39m*\u001b[39m\u001b[39minput\u001b[39m, \u001b[39m*\u001b[39m\u001b[39m*\u001b[39mkwargs)\n\u001b[0;32m   1052\u001b[0m \u001b[39m# Do not call functions when jit is used\u001b[39;00m\n\u001b[0;32m   1053\u001b[0m full_backward_hooks, non_full_backward_hooks \u001b[39m=\u001b[39m [], []\n",
      "File \u001b[1;32md:\\Desktop\\mtg-cards-translation\\models\\model4\\definition.py:220\u001b[0m, in \u001b[0;36mSeq2Seq.forward\u001b[1;34m(self, src, src_len, trg, teacher_forcing_ratio)\u001b[0m\n\u001b[0;32m    213\u001b[0m \u001b[39m#mask = [batch size, src len]\u001b[39;00m\n\u001b[0;32m    215\u001b[0m \u001b[39mfor\u001b[39;00m t \u001b[39min\u001b[39;00m \u001b[39mrange\u001b[39m(\u001b[39m1\u001b[39m, trg_len):\n\u001b[0;32m    216\u001b[0m     \n\u001b[0;32m    217\u001b[0m     \u001b[39m#insert input token embedding, previous hidden state, all encoder hidden states \u001b[39;00m\n\u001b[0;32m    218\u001b[0m     \u001b[39m#  and mask\u001b[39;00m\n\u001b[0;32m    219\u001b[0m     \u001b[39m#receive output tensor (predictions) and new hidden state\u001b[39;00m\n\u001b[1;32m--> 220\u001b[0m     output, hidden, _ \u001b[39m=\u001b[39m \u001b[39mself\u001b[39;49m\u001b[39m.\u001b[39;49mdecoder(\u001b[39minput\u001b[39;49m, hidden, encoder_outputs, mask)\n\u001b[0;32m    222\u001b[0m     \u001b[39m#place predictions in a tensor holding predictions for each token\u001b[39;00m\n\u001b[0;32m    223\u001b[0m     outputs[t] \u001b[39m=\u001b[39m output\n",
      "File \u001b[1;32md:\\Miniconda3\\envs\\seq2seq\\lib\\site-packages\\torch\\nn\\modules\\module.py:1051\u001b[0m, in \u001b[0;36mModule._call_impl\u001b[1;34m(self, *input, **kwargs)\u001b[0m\n\u001b[0;32m   1047\u001b[0m \u001b[39m# If we don't have any hooks, we want to skip the rest of the logic in\u001b[39;00m\n\u001b[0;32m   1048\u001b[0m \u001b[39m# this function, and just call forward.\u001b[39;00m\n\u001b[0;32m   1049\u001b[0m \u001b[39mif\u001b[39;00m \u001b[39mnot\u001b[39;00m (\u001b[39mself\u001b[39m\u001b[39m.\u001b[39m_backward_hooks \u001b[39mor\u001b[39;00m \u001b[39mself\u001b[39m\u001b[39m.\u001b[39m_forward_hooks \u001b[39mor\u001b[39;00m \u001b[39mself\u001b[39m\u001b[39m.\u001b[39m_forward_pre_hooks \u001b[39mor\u001b[39;00m _global_backward_hooks\n\u001b[0;32m   1050\u001b[0m         \u001b[39mor\u001b[39;00m _global_forward_hooks \u001b[39mor\u001b[39;00m _global_forward_pre_hooks):\n\u001b[1;32m-> 1051\u001b[0m     \u001b[39mreturn\u001b[39;00m forward_call(\u001b[39m*\u001b[39m\u001b[39minput\u001b[39m, \u001b[39m*\u001b[39m\u001b[39m*\u001b[39mkwargs)\n\u001b[0;32m   1052\u001b[0m \u001b[39m# Do not call functions when jit is used\u001b[39;00m\n\u001b[0;32m   1053\u001b[0m full_backward_hooks, non_full_backward_hooks \u001b[39m=\u001b[39m [], []\n",
      "File \u001b[1;32md:\\Desktop\\mtg-cards-translation\\models\\model4\\definition.py:169\u001b[0m, in \u001b[0;36mDecoder.forward\u001b[1;34m(self, input, hidden, encoder_outputs, mask)\u001b[0m\n\u001b[0;32m    166\u001b[0m output \u001b[39m=\u001b[39m output\u001b[39m.\u001b[39msqueeze(\u001b[39m0\u001b[39m)\n\u001b[0;32m    167\u001b[0m weighted \u001b[39m=\u001b[39m weighted\u001b[39m.\u001b[39msqueeze(\u001b[39m0\u001b[39m)\n\u001b[1;32m--> 169\u001b[0m prediction \u001b[39m=\u001b[39m \u001b[39mself\u001b[39;49m\u001b[39m.\u001b[39;49mfc_out(torch\u001b[39m.\u001b[39;49mcat((output, weighted, embedded), dim \u001b[39m=\u001b[39;49m \u001b[39m1\u001b[39;49m))\n\u001b[0;32m    171\u001b[0m \u001b[39m#prediction = [batch size, output dim]\u001b[39;00m\n\u001b[0;32m    173\u001b[0m \u001b[39mreturn\u001b[39;00m prediction, hidden\u001b[39m.\u001b[39msqueeze(\u001b[39m0\u001b[39m), a\u001b[39m.\u001b[39msqueeze(\u001b[39m1\u001b[39m)\n",
      "File \u001b[1;32md:\\Miniconda3\\envs\\seq2seq\\lib\\site-packages\\torch\\nn\\modules\\module.py:1051\u001b[0m, in \u001b[0;36mModule._call_impl\u001b[1;34m(self, *input, **kwargs)\u001b[0m\n\u001b[0;32m   1047\u001b[0m \u001b[39m# If we don't have any hooks, we want to skip the rest of the logic in\u001b[39;00m\n\u001b[0;32m   1048\u001b[0m \u001b[39m# this function, and just call forward.\u001b[39;00m\n\u001b[0;32m   1049\u001b[0m \u001b[39mif\u001b[39;00m \u001b[39mnot\u001b[39;00m (\u001b[39mself\u001b[39m\u001b[39m.\u001b[39m_backward_hooks \u001b[39mor\u001b[39;00m \u001b[39mself\u001b[39m\u001b[39m.\u001b[39m_forward_hooks \u001b[39mor\u001b[39;00m \u001b[39mself\u001b[39m\u001b[39m.\u001b[39m_forward_pre_hooks \u001b[39mor\u001b[39;00m _global_backward_hooks\n\u001b[0;32m   1050\u001b[0m         \u001b[39mor\u001b[39;00m _global_forward_hooks \u001b[39mor\u001b[39;00m _global_forward_pre_hooks):\n\u001b[1;32m-> 1051\u001b[0m     \u001b[39mreturn\u001b[39;00m forward_call(\u001b[39m*\u001b[39m\u001b[39minput\u001b[39m, \u001b[39m*\u001b[39m\u001b[39m*\u001b[39mkwargs)\n\u001b[0;32m   1052\u001b[0m \u001b[39m# Do not call functions when jit is used\u001b[39;00m\n\u001b[0;32m   1053\u001b[0m full_backward_hooks, non_full_backward_hooks \u001b[39m=\u001b[39m [], []\n",
      "File \u001b[1;32md:\\Miniconda3\\envs\\seq2seq\\lib\\site-packages\\torch\\nn\\modules\\linear.py:96\u001b[0m, in \u001b[0;36mLinear.forward\u001b[1;34m(self, input)\u001b[0m\n\u001b[0;32m     95\u001b[0m \u001b[39mdef\u001b[39;00m \u001b[39mforward\u001b[39m(\u001b[39mself\u001b[39m, \u001b[39minput\u001b[39m: Tensor) \u001b[39m-\u001b[39m\u001b[39m>\u001b[39m Tensor:\n\u001b[1;32m---> 96\u001b[0m     \u001b[39mreturn\u001b[39;00m F\u001b[39m.\u001b[39;49mlinear(\u001b[39minput\u001b[39;49m, \u001b[39mself\u001b[39;49m\u001b[39m.\u001b[39;49mweight, \u001b[39mself\u001b[39;49m\u001b[39m.\u001b[39;49mbias)\n",
      "File \u001b[1;32md:\\Miniconda3\\envs\\seq2seq\\lib\\site-packages\\torch\\nn\\functional.py:1847\u001b[0m, in \u001b[0;36mlinear\u001b[1;34m(input, weight, bias)\u001b[0m\n\u001b[0;32m   1845\u001b[0m \u001b[39mif\u001b[39;00m has_torch_function_variadic(\u001b[39minput\u001b[39m, weight):\n\u001b[0;32m   1846\u001b[0m     \u001b[39mreturn\u001b[39;00m handle_torch_function(linear, (\u001b[39minput\u001b[39m, weight), \u001b[39minput\u001b[39m, weight, bias\u001b[39m=\u001b[39mbias)\n\u001b[1;32m-> 1847\u001b[0m \u001b[39mreturn\u001b[39;00m torch\u001b[39m.\u001b[39;49m_C\u001b[39m.\u001b[39;49m_nn\u001b[39m.\u001b[39;49mlinear(\u001b[39minput\u001b[39;49m, weight, bias)\n",
      "\u001b[1;31mKeyboardInterrupt\u001b[0m: "
     ]
    }
   ],
   "source": [
    "optimizer = optim.Adam(model.parameters())\n",
    "TRG_PAD_IDX = TRG.vocab.stoi[TRG.pad_token]\n",
    "criterion = nn.CrossEntropyLoss(ignore_index = TRG_PAD_IDX)\n",
    "\n",
    "train_loop(model, optimizer, criterion, train, evaluate,\n",
    "           train_iterator, valid_iterator, \n",
    "           save_path='result/', file_name='model4-rule-v2.1.pt', load_before_train=True)"
   ]
  },
  {
   "cell_type": "code",
   "execution_count": 23,
   "metadata": {},
   "outputs": [],
   "source": [
    "from utils.translate import Translator\n",
    "from models.model4.definition import beam_search\n",
    "model.load_state_dict(torch.load('result/model4-rule-v2.1.pt', map_location=torch.device(device)))\n",
    "T = Translator(SRC, TRG, model, device, beam_search)"
   ]
  },
  {
   "cell_type": "code",
   "execution_count": 24,
   "metadata": {},
   "outputs": [
    {
     "name": "stdout",
     "output_type": "stream",
     "text": [
      "['目标', '生物', '得', '-', '1', '/', '-', '1', '直到', '回合', '结束', '。', '<eos>']\n",
      "['目标', '生物', '得', '得', '-', '1', '/', '-', '1', '直到', '回合', '结束', '。', '<eos>']\n",
      "['目标', '生物', '得', '1', '/', '-', '1', '直到', '回合', '结束', '。', '<eos>']\n"
     ]
    }
   ],
   "source": [
    "data = 'Whenever <1> becomes attached to a creature, for as long as <1> remains attached to it, you may have that creature become a copy of another target creature you control.'\n",
    "data = 'target creature gets - 1 / - 1 until end of turn .'\n",
    "ret, prob = T.translate(data, max_len=100)\n",
    "print(*ret[:3], sep='\\n')"
   ]
  },
  {
   "cell_type": "code",
   "execution_count": 25,
   "metadata": {},
   "outputs": [
    {
     "name": "stdout",
     "output_type": "stream",
     "text": [
      "Number of samples: 212\n",
      "src: [{ 3 } { g } { g } , exile < 7 > from your graveyard : create a 3 / 3 green beast creature token . ] trg = [{3}{g}{g}，从你的坟墓场放逐<7>：将一个3/3绿色野兽衍生生物放进战场。]\n",
      "{3}{g}{g}，从你的坟墓场放逐<7>：派出一个3/3绿色野兽衍生生物。<eos> \t[probability: 0.14533]\n",
      "{3}{g}{g}，从你的坟墓场放逐<7>：将一个3/3绿色野兽衍生生物。<eos> \t[probability: 0.09515]\n",
      "{3}{g}{g}，从你的坟墓场放逐<7>：派出一个3/3绿色野兽衍生生物放进战场。<eos> \t[probability: 0.04418]\n",
      "\n",
      "src: [whenever one or more loyalty counters are removed from < 3 > , she deals that much damage to target opponent or planeswalker . ] trg = [每当从<3>上移去一个或数个忠诚指示物时，她向目标对手或鹏洛客造成等量的伤害。]\n",
      "每当一个<3>上移去一个或数个忠诚指示物时，刻拉诺斯对目标对手造成等量的伤害。<eos> \t[probability: 0.00182]\n",
      "每当一个<3>上移去一个或数个忠诚指示物时，普罗烽斯对目标对手造成等量的伤害。<eos> \t[probability: 0.00093]\n",
      "每当一个<3>上移去一个或数个忠诚指示物时，<unk>对目标对手造成等量的伤害。<eos> \t[probability: 0.00063]\n",
      "\n",
      "src: [whenever one or more pirates you control deal combat damage to a player , exile the top card of that player 's library . ] trg = [每当由你操控的一个或数个海盗对任一牌手造成战斗伤害时，放逐该牌手的牌库顶牌。]\n",
      "每当由你操控的一个或数个对任一牌手造成战斗伤害时，放逐该牌手的牌库顶牌。<eos> \t[probability: 0.10420]\n",
      "每当由你操控的一个或数个海盗对任一牌手造成战斗伤害时，放逐该牌手的牌库顶牌。<eos> \t[probability: 0.04261]\n",
      "每当由你操控的一个或数个珍宝对任一牌手造成战斗伤害时，放逐该牌手的牌库顶牌。<eos> \t[probability: 0.02431]\n",
      "\n",
      "src: [each creature your opponents control is an illusion in addition to its other types and has \" when this creature becomes the target of a spell or ability , sacrifice it . \" ] trg = [由对手操控的每个生物均额外具有\"虚影\"此类别，且都具有\"当此生物成为咒语或异能的目标时，将它牺牲。\"]\n",
      "每个由对手操控的生物、且仍具有\"当此类别的类别与\"当此生物成为咒语时，将它成为咒语或异能的目标。<eos> \t[probability: 0.00000]\n",
      "每个由对手操控的生物、且仍具有\"当此类别的类别与\"当此生物成为咒语时，将它成为咒语或异能的目标时，将它牺牲之。<eos> \t[probability: 0.00000]\n",
      "每个由对手操控的生物、且仍具有\"当此类别的类别与\"当此生物成为咒语时，将目标成为咒语或异能的目标时，将它牺牲之。<eos> \t[probability: 0.00000]\n",
      "\n",
      "src: [for each creature card revealed this way , create a token that 's a copy of that card , except it 's 1 / 1 , it 's a spirit in addition to its other types , and it has < 0 > . ] trg = [对以法此展示的每张生物牌而言，你派出一个为该牌之复制品的衍生物，但它是1/1，额外具有精怪此类别，且具有<0>异能。]\n",
      "每以此法展示出一张生物牌，派出一个衍生物，该衍生物为该牌的复制品，该牌为该牌，但它是1/1，，但它是精怪类别，且具有<0>类别，且具有 \t[probability: 0.00000]\n",
      "每以此法展示出一张生物牌，派出一个衍生物，该衍生物为该牌的复制品，该牌为该牌，但它是1/1，，但它是精怪类别，且具有<0>与，且具有 \t[probability: 0.00000]\n",
      "每以此法展示出一张生物牌，派出一个衍生物，该衍生物为该牌的复制品，该牌为该牌，但它是1/1，，但它是精怪类别，且具有<0>类别。<eos> \t[probability: 0.00000]\n",
      "\n",
      "src: [remove a healing counter from < 2 > : prevent the next 1 damage that would be dealt to < 2 > this turn . ] trg = [从<2>上移去一个医疗指示物：于本回合中，防止接下来将对<2>造成的1点伤害。]\n",
      "从<2>上移去一个盾牌指示物：于本回合中，防止接下来将<2>造成的1点伤害。<eos> \t[probability: 0.00912]\n",
      "从<2>上移去一个盾牌指示物：于本回合中，防止接下来将对<2>造成的1点伤害。<eos> \t[probability: 0.00400]\n",
      "从<2>上移去一个盾牌指示物：于本回合中，防止接下来将<2>造成的点伤害。<eos> \t[probability: 0.00262]\n",
      "\n",
      "src: [when you do , < 9 > deals damage to any target equal to the number of cards in your hand . ] trg = [当你如此作时，<9>对任意一个目标造成等同于你手牌数量的伤害。]\n",
      "当你如此作时，<9>对目标生物或牌手造成等同于你手牌数量的伤害。<eos> \t[probability: 0.07675]\n",
      "当你如此作时，<9>对目标生物或牌手造成伤害，其数量等同于你的手牌数量。<eos> \t[probability: 0.07161]\n",
      "当你如此作时，<9>对目标生物或牌手造成伤害，其数量等同于你手牌数量的伤害。<eos> \t[probability: 0.00885]\n",
      "\n",
      "src: [whenever a creature you control attacks alone , that creature gets + 1 / + 1 until end of turn . ] trg = [每当一个由你操控的生物单独攻击时，该生物得+1/+1直到回合结束。]\n",
      "每当一个由你操控的生物单独攻击时，该生物得+1/+1直到回合结束。<eos> \t[probability: 0.87603]\n",
      "每当一个由你操控的生物单独攻击时时该生物得+1/+1直到回合结束。<eos> \t[probability: 0.02016]\n",
      "每当一个由你操控的生物攻击时，该生物得+1/+1直到回合结束。<eos> \t[probability: 0.01155]\n",
      "\n",
      "src: [when another creature is put into your graveyard from the battlefield , you may pay half your life , rounded up . ] trg = [当另一个生物从场上进入你的坟墓场时，你可以支付一半生命，小数点后进位。]\n",
      "当另一个生物从场上置入你的坟墓场时，你可以支付你的生命，小数点后进位。<eos> \t[probability: 0.01470]\n",
      "当另一个生物从战场进入你的坟墓场时，你可以支付你的生命，小数点后进位。<eos> \t[probability: 0.01354]\n",
      "当另一个生物从场上置入你的坟墓场时，你可以支付你的坟墓，小数点后进位。<eos> \t[probability: 0.00417]\n",
      "\n",
      "src: [when linvala enters the battlefield , if an opponent controls more creatures than you , create a 3 / 3 white angel creature token with < 4 > . ] trg = [当琳法拉进战场时，若某对手操控的生物比你多，则将一个3/3白色，具<4>异能的天使衍生生物放进战场。]\n",
      "<unk><unk>进战场时，若某对手操控的生物比你多，则派出一个3/3白色，具<4>异能的天使衍生生物放进战场。<eos> \t[probability: 0.00467]\n",
      "当<unk>战场时，若某对手操控的生物比你多，则派出一个3/3白色，具<4>异能的天使衍生生物放进战场。<eos> \t[probability: 0.00333]\n",
      "<unk><unk>进战场时，若某对手操控的生物比你多，则派出一个3/3白色，具<4>异能的天使衍生生物。<eos> \t[probability: 0.00285]\n",
      "\n",
      "src: [{ r } { w } : < 6 > becomes a 1 / 1 red and white soldier artifact creature with double strike until end of turn . ] trg = [{r}{w}：<6>成为1/1，红白双色，具有连击异能的士兵神器生物直到回合结束。]\n",
      "{r}{w}：<6>成为1/1，红白双色，具连击异能直到回合结束。<eos> \t[probability: 0.00066]\n",
      "{r}{w}：直到回合结束，<6>成为1/1，红白双色，具连击异能的士兵生物生物直到回合结束。<eos> \t[probability: 0.00005]\n",
      "{r}{w}：直到回合结束，<6>成为1/1，红白双色，具连击异能的士兵生物生物。<eos> \t[probability: 0.00005]\n",
      "\n",
      "src: [whenever another creature enters the battlefield under your control , < 7 > gets + 2 / + 2 until end of turn . ] trg = [每当另一个生物在你的操控下进场时，<7>得+2/+2直到回合结束。]\n",
      "每当另一个生物在你的操控下进战场时，<7>得+2/+2直到回合结束。<eos> \t[probability: 0.83432]\n",
      "每当另一个生物在你的操控下进进场时，<7>得+2/+2直到回合结束。<eos> \t[probability: 0.05922]\n",
      "每当另一个生物在你的操控下进场时，<7>得+2/+2直到回合结束。<eos> \t[probability: 0.02481]\n",
      "\n",
      "src: [if { u } was spent to cast this spell , return up to one target creature to its owner 's hand . ] trg = [如果使用<3>时支付了{u}，则将至多一个目标生物移回其拥有者手上。]\n",
      "若用<8>时支付了{u}，则将至多一个目标生物移回其拥有者手上。<eos> \t[probability: 0.00420]\n",
      "若你支付<8>时支付了{u}，则将至多一个目标生物移回其拥有者手上。<eos> \t[probability: 0.00325]\n",
      "若你支付<4>时支付了{u}，则将至多一个目标生物移回其拥有者手上。<eos> \t[probability: 0.00323]\n",
      "\n",
      "src: [whenever an opponent casts a spell , if < 0 > is suspended , that player may put a time counter on < 0 > . ] trg = [每当对手使用咒语时，若<0>已延缓，则该牌手可以在<0>上放置一个计时指示物。]\n",
      "每当任一对手施放咒语时，若<0>已进行攻击，则该牌手可以在<0>上放置一个计时指示物。<eos> \t[probability: 0.00162]\n",
      "每当任一对手使用咒语时，若<0>已进行攻击，则该牌手可以在<0>上放置一个计时指示物。<eos> \t[probability: 0.00162]\n",
      "每当任一对手施放咒语时，若<0>已进行攻击，则该牌手可以在其上放置一个计时指示物。<eos> \t[probability: 0.00099]\n",
      "\n",
      "src: [when < 0 > enters the battlefield , each player on your team may discard a card , then each player who discarded a card this way draws a card . ] trg = [当<0>进战场时，你队伍的每位牌手各可以弃一张牌，然后每位以此法弃牌的牌手各抓一张牌。]\n",
      "当<0>进战场时，每位你的维持中搜寻一张牌，然后每位以此法抓牌的牌各抓一张牌。<eos> \t[probability: 0.00003]\n",
      "当<0>进战场时，每位你的牌库中搜寻一张牌，然后每位以此法抓牌的牌各抓一张牌。<eos> \t[probability: 0.00003]\n",
      "当<0>进战场时，每位对手的抓牌步骤中搜寻一张牌，然后每位以此法抓牌的牌手各抓一张牌。<eos> \t[probability: 0.00002]\n",
      "\n",
      "src: [{ 2 0 } : cast any number of eldrazi spells from among cards you own outside the game without paying their mana costs . ] trg = [{20}：从游戏外施放任意数量由你拥有的奥札奇牌，且不需支付其法术力费用。]\n",
      "{20}：任意数量等同于由你拥有之咒语的咒语，且不需支付其法术力费用，且不需支付其法术力费用。<eos> \t[probability: 0.00000]\n",
      "{20}：任意数量等同于由你拥有之咒语的咒语的咒语，且不需支付其法术力费用。<eos> \t[probability: 0.00000]\n",
      "{20}：任意数量等同于由你拥有之咒语的咒语的咒语，且不需支付其法术力费用，且不需支付其法术力费用。<eos> \t[probability: 0.00000]\n",
      "\n",
      "src: [if you do , create x 2 / 2 green wolf creature tokens , where x is the sacrificed creature 's toughness . ] trg = [若你如此作，将x个2/2绿色狼衍生生物放进战场，x为所牺牲之生物的防御力。]\n",
      "若你如此作，则派出x个2/2绿色的衍生生物放进战场，x为所牺牲之生物的防御力。<eos> \t[probability: 0.01474]\n",
      "若你如此作，则派出x个2/2绿色流浆衍衍生生物放进战场，x为所牺牲之生物的防御力。<eos> \t[probability: 0.01379]\n",
      "若你如此作，则将x个2/2绿色的衍生生物放进战场，x为所牺牲之生物的防御力。<eos> \t[probability: 0.00790]\n",
      "\n",
      "src: [when < 4 > enters the battlefield , if it was kicked , create eight 2 / 2 black zombie knight creature tokens with menace . ] trg = [当<4>进战场时，若它已增幅，则派出八个2/2黑色，具威慑异能的灵俑／骑士衍生生物。]\n",
      "当<4>进战场时，若它已增幅，则派出派出一个2/2黑色，具威慑异能的灵俑衍生生物。<eos> \t[probability: 0.04036]\n",
      "当<4>进战场时，若它已增幅，则派出派出一个2/2黑色，具威慑异能的骑士衍生生物。<eos> \t[probability: 0.03679]\n",
      "当<4>进战场时，若它已增幅，则派出派出一个2/2黑色，具威慑异能的灵俑／骑士衍生生物。<eos> \t[probability: 0.01545]\n",
      "\n",
      "src: [{ t } , remove a - 1 / - 1 counter from < 3 > : add one mana of any color . ] trg = [{t}，从<3>上移去一个-1/-1指示物：加一点任意颜色的法术力到你的法术力池中。]\n",
      "{t}，从<3>上移去一个-1/-1指示物：加一点任意颜色的法术力到你的法术力池中。<eos> \t[probability: 0.15254]\n",
      "{t}，从<3>上移去一个-1/-1指示物：加一点任意颜色的法术力到你的法术力池中。<eos> \t[probability: 0.12694]\n",
      "{t}，从<3>上移去一个-1/-1指示物：加一点任意颜色的法术力。<eos> \t[probability: 0.10807]\n",
      "\n",
      "src: [at the beginning of your upkeep , if you have the city 's blessing , reveal the top card of your library and put it into your hand . ] trg = [在你的维持开始时，若你有黄金城祝福，则展示你的牌库顶牌，并将它置于你手上。]\n",
      "在你的维持开始时，若你有黄金城祝福，则展示你的牌库顶牌，并将它置于你手上。<eos> \t[probability: 0.09108]\n",
      "在你的维持开始时，若你有黄金城祝福，则展示你的牌库顶牌，将它置于你手上。<eos> \t[probability: 0.01203]\n",
      "在你的维持开始时，若你有黄金城祝福，则展示你的牌库顶牌，并将它放入你手上。<eos> \t[probability: 0.00765]\n",
      "\n",
      "src: [{ 2 } { b } , { t } , discard a card : each other player loses 2 life . ] trg = [{2}{b}，{t}，弃一张牌：每位其它牌手各失去2点生命。]\n",
      "{2}{b}，{t}，弃一张牌：每位牌手各失去2点生命。<eos> \t[probability: 0.67214]\n",
      "{2}{b}，{t}，弃一张牌：目标牌手各失去2点生命。<eos> \t[probability: 0.02077]\n",
      "{2}{b}，{t}，弃一张牌：每位牌手各2点生命。<eos> \t[probability: 0.01772]\n",
      "\n",
      "src: [at the beginning of your draw step , draw an additional card and remove two hour counters from < 7 > . ] trg = [在你的抓牌步骤开始时，额外抓一张牌，并从<7>上移去两个时刻指示物。]\n",
      "在你的抓牌步骤开始时，抓一张，然后<7>上放置两个探索指示物。<eos> \t[probability: 0.00294]\n",
      "在你的抓牌步骤开始时，抓一张牌，并从<7>上放置两个探索指示物。<eos> \t[probability: 0.00200]\n",
      "在你的抓牌步骤开始时，抓一张牌，并从<7>上移去两个探索指示物。<eos> \t[probability: 0.00117]\n",
      "\n",
      "src: [at the beginning of combat on your turn , if you both own and control < 3 > and a creature named midnight scavengers , exile them , then meld them into chittering host . ] trg = [在你回合的战斗开始时，若由你拥有且由你操控的永久物中同时有<3>与一个名称为午夜拾荒客的生物，则放逐它们，然后将它们融合为吱响寄主。]\n",
      "在你回合的战斗开始时，若你未操控由你操控且同时为同时为<3>异能的永久物，名称为<unk><unk><unk><unk><unk><unk><unk><unk><unk><unk><unk>，将它们，然后将它们<unk><unk><unk> \t[probability: 0.00000]\n",
      "在你回合的战斗开始时，若你未操控由你操控且同时为同时为<3>异能的永久物，名称为<unk><unk><unk><unk><unk><unk><unk><unk><unk><unk><unk><unk>，将它们，然后将它们<unk><unk> \t[probability: 0.00000]\n",
      "在你回合的战斗开始时，若你未操控由你操控且同时为同时为<3>异能的永久物，名称为<unk><unk><unk><unk><unk><unk><unk><unk><unk><unk><unk><unk>，将它们，然后将它们<unk>融合 \t[probability: 0.00000]\n",
      "\n",
      "src: [the same is true for creature spells you control and creature cards you own that are n't on the battlefield . ] trg = [由你操控的生物咒语和由你拥有且不在战场上的生物牌也是如此。]\n",
      "由你操控的生物生物和由你拥有且不在战场上也不在战场上的生物牌。<eos> \t[probability: 0.00000]\n",
      "由你操控的生物咒语和由你拥有且不在战场上也不在战场上的生物牌。<eos> \t[probability: 0.00000]\n",
      "由你操控的生物生物和由你拥有且不在战场上也不也不在战场上的生物牌。<eos> \t[probability: 0.00000]\n",
      "\n",
      "src: [as long as you control one or more creatures with a name you noted for cards named < 0 > , < 0 > and those creatures get + 1 / + 1 and have lifelink . ] trg = [对你替名称为<0>之牌记下的各名称而言，只要你操控一个或多个与任一前述名称同名的生物，<0>及这些生物便得+1/+1且具有系命异能。]\n",
      "只要你操控两个具具名称的名称为最大的生物之名称为<0>之名称为<0>便得+0/+1且具有系命异能。<eos> \t[probability: 0.00000]\n",
      "只要你操控两个具具名称的名称为最大的生物之名称为<0>之名称为<0>的生物，<0>便得+1/+1且具有系命异能。<eos> \t[probability: 0.00000]\n",
      "只要你操控两个具具名称的名称为最大的生物之名称为<0>之名称为<0>便得+1/+1且具有系命异能。<eos> \t[probability: 0.00000]\n",
      "\n",
      "src: [whenever another creature you control dies , if you have the city 's blessing , put a + 1 / + 1 counter on < 1 > . ] trg = [每当另一个由你操控的生物死去时，若你有黄金城祝福，则在<1>上放置一个+1/+1指示物。]\n",
      "每当另一个由你操控的生物死去时，若你有黄金城祝福，则在<1>上放置一个+1/+1指示物。<eos> \t[probability: 0.42052]\n",
      "每当另一个由你操控的生物死去时，若有黄金城祝福，则在<1>上放置一个+1/+1指示物。<eos> \t[probability: 0.07266]\n",
      "每当另一个由你操控的生物死去时，若你未有黄金城祝福，则在<1>上放置一个+1/+1指示物。<eos> \t[probability: 0.03108]\n",
      "\n",
      "src: [this spell costs { 7 } less to cast if it targets a spell or ability that targets a creature you control with power 7 or greater . ] trg = [如果<8>的目标是以由你操控、且力量为7或更大的生物为目标的咒语或异能，则它便减少{7}来施放。]\n",
      "如果目标咒语或异能以目标由你操控之生物或异能的目标，则此咒语，则此咒语减少{r}来施放。<eos> \t[probability: 0.00000]\n",
      "如果目标咒语或异能以目标由你操控之生物或异能的目标，则此咒语，则此咒语减少{5}来施放。<eos> \t[probability: 0.00000]\n",
      "如果目标咒语或异能以目标由你操控之生物或异能的目标，则此咒语，则此咒语减少{7>来施放。<eos> \t[probability: 0.00000]\n",
      "\n",
      "src: [look at the top two cards of your library , then put any number of them on the bottom of your library and the rest on top in any order . ] trg = [检视你牌库顶的两张牌，然后将其中任意数量的牌以任意顺序置于你牌库底，其余则以任意顺序置于你牌库顶。]\n",
      "检视你牌库顶的两张牌，然后将其中任意数量的牌以任意顺序置于你牌库底，其余则以任意顺序置于你牌库顶。<eos> \t[probability: 0.10621]\n",
      "检视你牌库顶的两张牌，然后将其中任意数量的牌以任意顺序置于你牌库底，其余则以任意顺序置于牌库顶。<eos> \t[probability: 0.03182]\n",
      "检视你牌库顶的两张牌，然后将其中任意数量的牌以任意顺序置于你牌库牌库底，其余则以任意顺序置于你牌库顶。<eos> \t[probability: 0.01892]\n",
      "\n",
      "src: [as long as it 's your turn , this spell costs { 2 } { u } { u } less to cast . ] trg = [只要是在你的回合中，此咒语便减少{2}{u}{u}来施放。]\n",
      "只要是在你的回合中，<2}，{2}{u}{u}{u}。<eos> \t[probability: 0.00133]\n",
      "只要是在你的回合中，<2>便减少{2}{u}{u}{u}。<eos> \t[probability: 0.00080]\n",
      "只要是在你的回合中，<3>便减少{2}{u}{u}{u}。<eos> \t[probability: 0.00070]\n",
      "\n",
      "src: [this creature deals damage to creatures in the form of - 1 / - 1 counters and to players in the form of poison counters . ] trg = [此生物会以-1/-1指示物的方式对生物造成伤害，并以中毒指示物的方式对牌手造成伤害。]\n",
      "此生物会以-1/-1指示物的方式对生物造成伤害，并以中毒指示物的方式对牌手造成伤害。<eos> \t[probability: 0.63685]\n",
      "此生物会以-1/-1指示物的方式造成伤害，并以中毒指示物的方式对牌手造成伤害。<eos> \t[probability: 0.01256]\n",
      "此生物会以-1/-1指示物的方式对生物造成伤害，并以中毒指示物的方式对牌手造成伤害。伤害。<eos> \t[probability: 0.01071]\n",
      "\n",
      "src: [{ 3 } { r } , remove a + 1 / + 1 counter from < 3 > : destroy target artifact or land . ] trg = [{3}{r}，从<3>上移去一个+1/+1指示物：消灭目标神器或地。]\n",
      "{3}{r}，从<3>上移去一个+1/+1指示物：消灭目标神器或地。<eos> \t[probability: 0.56434]\n",
      "{3}{r}，从<3>上移去一个+1/+1指示物：消灭目标神器或地。<eos> \t[probability: 0.13185]\n",
      "{3}{r}，从<3>上移去一个+1/+1指示物：消灭目标神器或结界。<eos> \t[probability: 0.04596]\n",
      "\n",
      "src: [when < 3 > enters the battlefield , each creature gets - x / - x until end of turn . ] trg = [当<3>进战场时，每个生物各得-x/-x直到回合结束。]\n",
      "当<3>进战场时，每个生物各得-x/-x直到回合结束。<eos> \t[probability: 0.31623]\n",
      "当<3>进战场时，所有生物各得-x/-x直到回合结束。<eos> \t[probability: 0.23180]\n",
      "当<3>进战场时，每个生物得-x/-x直到回合结束。<eos> \t[probability: 0.06194]\n",
      "\n",
      "src: [{ 1 } , { t } : create a 1 / 1 colorless construct artifact creature token with defender . ] trg = [{1}，{t}：将一个1/1无色，具守军异能的组构体衍生神器生物放进战场。]\n",
      "{1}，{t}：将一个1/1无色，具守军异能的组构体衍生神器生物放进战场。<eos> \t[probability: 0.32693]\n",
      "{1}，{t}：派出一个1/1无色，具守军异能的组构体衍生神器生物放进战场。<eos> \t[probability: 0.08295]\n",
      "{1}，{t}：将一个1/1无色，具守军异能的组构体衍生神器生物。<eos> \t[probability: 0.07592]\n",
      "\n",
      "src: [{ 1 } { u } { b } : whenever a card is put into an opponent 's graveyard from anywhere this turn , that player loses 1 life . ] trg = [{1}{u}{b}：本回合中，每当一张牌从任何地方置入对手的坟墓场时，该牌手失去1点生命。]\n",
      "{1}{u}{b}：本回合中，如果本回合中有一对手的坟墓场，则该牌手失去1点生命。<eos> \t[probability: 0.00001]\n",
      "{1}{u}{b}{b}：本回合中，如果本回合中有一对手的坟墓场，则该牌手失去1点生命。<eos> \t[probability: 0.00000]\n",
      "{1}{u}{b}{b}：本回合中，如果本回合中有一对手的坟墓场，该牌手失去1点生命。<eos> \t[probability: 0.00000]\n",
      "\n",
      "src: [channel — { x } { x } { g } { g } , discard shigeki : return x target non legendary cards from your graveyard to your hand . ] trg = [魂力～{x}{x}{g}{g}，弃掉茂树：将x张目标非传奇的牌从你坟墓场移回你手上。]\n",
      "魂力～{x}{x}{g}{g}，弃掉茂树：将x张目标非传奇牌从你的坟墓场移回你手上。<eos> \t[probability: 0.02929]\n",
      "魂力～{x}{x}{g}{g}，弃掉茂树：将x张目标非传奇永久物牌从你的坟墓场移回你手上。<eos> \t[probability: 0.02464]\n",
      "魂力～{x}{x}{g}{g}，弃掉茂树：将x个目标非传奇牌从你的坟墓场移回你手上。<eos> \t[probability: 0.00961]\n",
      "\n",
      "src: [whenever < 7 > attacks or dies , choose a card at random exiled with gorex and put that card into its owner 's hand . ] trg = [每当<7>攻击或死去时，随机选择一张以高雷兹放逐的牌，并将该牌置于其拥有者手上。]\n",
      "每当<7>攻击或死去时，随机将所放逐一张或与他的牌放逐该牌。<eos> \t[probability: 0.00000]\n",
      "每当<7>攻击或死去时，随机将所放逐一张与一张与该牌的牌置于其拥有者手上。<eos> \t[probability: 0.00000]\n",
      "每当<7>攻击或死去时，随机将所放逐一张与一张与该牌的牌，并将该牌置于其拥有者手上。<eos> \t[probability: 0.00000]\n",
      "\n",
      "src: [at the beginning of your upkeep , create x 2 / 2 green wolf creature tokens , where x is the number of your opponents with four or more cards in hand . ] trg = [在你的维持开始时，将x个2/2绿色的狼衍生生物放进战场，x为有四张或更多手牌之对手的数量。]\n",
      "在你的维持开始时，派出x个2/2绿色的衍生生物放进战场，x为你手牌数量的手牌数量。<eos> \t[probability: 0.00014]\n",
      "在你的维持开始时，将x个2/2绿色的衍生生物放进战场，x为你手牌数量的手牌数量。<eos> \t[probability: 0.00013]\n",
      "在你的维持开始时，x个x个2/2绿色的衍生生物放进战场，x为你手牌数量的手牌数量。<eos> \t[probability: 0.00010]\n",
      "\n",
      "src: [if it 's not your turn , you may exile a red card from your hand rather than pay this spell 's mana cost . ] trg = [如果当前不是你的回合，则你可以从你手上放逐一张红色牌，而不支付此咒语的法术力费用。]\n",
      "如果当前不是你的回合，则你可以从你手上放逐一张黑色牌，而不支付此咒语的法术力费用。<eos> \t[probability: 0.01597]\n",
      "如果当前不是你的回合，则你可以从你手上放逐一张红色牌，而不支付此咒语的法术力费用。<eos> \t[probability: 0.01278]\n",
      "如果当前不是你的回合，则你可以从你手上放逐一张黑色牌，而不支付<0>的法术力费用。<eos> \t[probability: 0.00550]\n",
      "\n",
      "src: [when < 9 > enters the battlefield , exile up to one target non land permanent an opponent controls until < 9 > leaves the battlefield . ] trg = [当<9>进战场时，放逐至多一个目标由对手操控的非地永久物，直到<9>离开战场为止。]\n",
      "当<9>进战场时，放逐至多一个目标由对手操控的非地永久物，直到<9>离开战场为止。<eos> \t[probability: 0.42328]\n",
      "当<9>进战场时，放逐至多一个目标非地永久物，目标<9>离开战场为止。<eos> \t[probability: 0.01619]\n",
      "当<9>进战场时，放逐至多一个目标由对手操控的非地永久物，<9>离开战场为止。<eos> \t[probability: 0.00924]\n",
      "\n",
      "src: [{ 1 } { w } , { t } : put a + 1 / + 1 counter on this creature . ] trg = [{1}{w}，{t}：在此生物上放置一个+1/+1指示物。]\n",
      "{1}{w}，{t}：在此生物上放置一个+1/+1指示物。<eos> \t[probability: 0.89263]\n",
      "{1}{w}，{t}：在生物上放置一个+1/+1指示物。<eos> \t[probability: 0.01271]\n",
      "{1}{w}，{t}：在此生物上放置一个++1/+1指示物。<eos> \t[probability: 0.00771]\n",
      "\n",
      "src: [when this creature enters the battlefield , put a + 1 / + 1 counter on it or create a 1 / 1 colorless servo artifact creature token . ] trg = [当此生物进战场时，在其上放置一个+1/+1指示物或派出一个1/1无色自动机衍生神器生物。]\n",
      "当此生物进战场时，在其上放置一个+1/+1指示物或派出一个1/1无色自动机衍生神器生物。<eos> \t[probability: 0.58709]\n",
      "当此生物进战场时，在其上放置一个+1/+1指示物或派出派出一个1/1无色自动机衍生神器生物。<eos> \t[probability: 0.02393]\n",
      "当此生物进战场时，在其上放置一个+1/+1指示物或派出一个派出一个1/1无色自动机衍生神器生物。<eos> \t[probability: 0.02040]\n",
      "\n",
      "src: [when this creature dies , create a 1 / 1 white and black spirit creature token with < 4 > . ] trg = [当此生物死去时，派出一个1/1，白黑双色，具<4>异能的精怪衍生生物。]\n",
      "当此生物死去时，派出一个1/1，白黑双色，具<4>异能的精怪衍生生物。<eos> \t[probability: 0.43411]\n",
      "当此生物死去时，派出一个1/1，白黑双色，具<4>异能的精怪衍生生物放进战场。<eos> \t[probability: 0.07991]\n",
      "当此生物死去时，派出一个1/1，白黑双色，具有<4>异能的精怪衍生生物。<eos> \t[probability: 0.02016]\n",
      "\n",
      "src: [for each of them , put your choice of a vigilance counter , a reach counter , or a trample counter on it . ] trg = [为它们各进行以下流程～在其上依你的选择放置一个警戒指示物，一个延势指示物或一个践踏指示物。]\n",
      "对它们各进行以下流程～依你的选择依你的选择一个警戒指示物，一个延势指示物或一个延势指示物。<eos> \t[probability: 0.00000]\n",
      "对它们各进行以下流程～依你的选择依你的选择一个警戒指示物，一个延势指示物或一个延势指示物。一个指示物。<eos> \t[probability: 0.00000]\n",
      "对它们各进行以下流程～依你的选择依你的选择一个警戒指示物，一个延势指示物或一个延势指示物或一个指示物。<eos> \t[probability: 0.00000]\n",
      "\n",
      "src: [tap five untapped merfolk you control : put a + 1 / + 1 counter on each merfolk you control . ] trg = [横置五个由你操控且未横置的人鱼：在每个由你操控的人鱼上各放置一个+1/+1指示物。]\n",
      "横置五个由你操控且未横置人鱼：在每个由你操控的人鱼上各放置一个+1/+1指示物。<eos> \t[probability: 0.04401]\n",
      "横置五个由你操控且未横置人鱼：在每个由你操控的人鱼上各放置一个+1/+1指示物。<eos> \t[probability: 0.02673]\n",
      "横置五个由你操控且未横置人鱼：在每个由你操控的人鱼各放置一个+1/+1指示物。<eos> \t[probability: 0.02039]\n",
      "\n",
      "src: [you may activate loyalty abilities of < 7 > on any player 's turn any time you could cast an instant . ] trg = [你可以在任意牌手的回合中，于你能够施放瞬间的时机下，起动<7>的忠诚异能。]\n",
      "你可以于你能够使用的时机视同任意使用<7>异能的忠诚异能。<eos> \t[probability: 0.00000]\n",
      "你可以于你能够使用的时机视同任意使用<7>异能的忠诚异能忠诚异能。<eos> \t[probability: 0.00000]\n",
      "你可以于你能够使用的时机视同任意使用<7>异能的忠诚异能来使用忠诚异能。<eos> \t[probability: 0.00000]\n",
      "\n",
      "src: [{ 5 } { u } { b } { r } , discard this card : draw a card . ] trg = [{5}{u}{b}{r}，弃掉此牌：抓一张牌。]\n",
      "{5}{u}{b}{r}，弃掉此牌：抓一张牌。<eos> \t[probability: 0.72775]\n",
      "{5}{u}{b}{b}，弃掉此牌：抓一张牌。<eos> \t[probability: 0.04283]\n",
      "{5}{u}{b}{r}，弃一张牌：抓一张牌。<eos> \t[probability: 0.03458]\n",
      "\n",
      "src: [at the beginning of combat on your turn , creatures you control get + 3 / + 3 and gain trample until end of turn . ] trg = [在你回合的战斗开始时，直到回合结束，由你操控的生物得+3/+3且获得践踏异能。]\n",
      "在你回合的战斗开始时，直到回合结束，由你操控的生物得+3/+3且获得践踏异能。<eos> \t[probability: 0.54951]\n",
      "在你回合的回合开始时，直到回合结束，由你操控的生物得+3/+3且获得践踏异能。<eos> \t[probability: 0.02550]\n",
      "在你回合的战斗开始时，直到回合结束，直到你操控的生物得+3/+3且获得践踏异能。<eos> \t[probability: 0.02423]\n",
      "\n",
      "src: [each clashing player reveals the top card of their library , then puts that card on the top or bottom . ] trg = [参与比点的牌手各展示其牌库顶牌，然后将该牌置于牌库顶部或底部。]\n",
      "参与比点的牌手各展示其牌库顶牌，然后将该牌置于牌库顶部或底部。<eos> \t[probability: 0.84165]\n",
      "参与比点的牌手各展示其牌库牌库顶牌，然后将该牌置于牌库顶部或底部。<eos> \t[probability: 0.00623]\n",
      "参与比点的牌手各展示其牌库顶牌，然后该牌置于牌库顶部或底部。<eos> \t[probability: 0.00386]\n",
      "\n",
      "src: [when < 2 > enters the battlefield , look at the top four cards of your library , then put them back in any order . ] trg = [当<2>进场时，检视你牌库顶的四张牌，然后将它们以任意顺序放回。]\n",
      "当<2>进战场时，检视你牌库顶的四张牌，然后将它们以任意顺序放回。<eos> \t[probability: 0.35343]\n",
      "当<2>进战场时，检视你牌库顶的四张牌，然后将它们以以任意顺序放回。<eos> \t[probability: 0.02071]\n",
      "当<2>进战场时，检视你牌库顶的四张牌，然后将它们以任意顺序放回以任意顺序放回。<eos> \t[probability: 0.01991]\n",
      "\n",
      "src: [{ u } , { t } : until your next turn , target creature an opponent controls ca n't be blocked . ] trg = [{u}，{t}：直到你的下一个回合，目标由对手操控的生物不能被阻挡。]\n",
      "{u}，{t}：直到你的下一个回合，目标由对手操控的生物不能被阻挡。<eos> \t[probability: 0.11234]\n",
      "{u}，{t}：直到你的下一个回合，目标由对手操控的生物，不能被阻挡。<eos> \t[probability: 0.05652]\n",
      "{u}，{t}：直到你的下一个回合，目标由对手操控的生物本回合不能被阻挡。<eos> \t[probability: 0.04230]\n",
      "\n",
      "src: [when a spell or ability an opponent controls causes you to discard this card , create a token that 's a copy of target permanent . ] trg = [当由对手操控的咒语或异能使得你弃掉此牌时，派出一个衍生物，此衍生物为目标永久物的复制品。]\n",
      "每当由对手操控的咒语或异能使得你弃掉此牌时，将一个衍生物，此衍生物为该永久物之复制品。<eos> \t[probability: 0.00001]\n",
      "当由对手操控的咒语或异能使得你弃掉此牌时，将一个衍生物，此衍生物为该永久物之复制品。<eos> \t[probability: 0.00001]\n",
      "当由对手所操控的咒语或异能使得你弃掉此牌时，将一个衍生物，此衍生物为该永久物之复制品。<eos> \t[probability: 0.00001]\n",
      "\n",
      "src: [put a + 1 / + 1 counter on < 2 > for each strength vote and create a 1 / 1 white soldier creature token for each numbers vote . ] trg = [在<2>上放置若干+1/+1指示物，其数量等同于投票选择\"力量\"的总票数；将若干1/1白色士兵衍生物放进战场，其数量等同于投票选择\"数量\"的总票数。]\n",
      "其上放置若干2/+1指示物，其数量等同于投票等同于投票等同于投票选择若干1/1指示物的数量等同于投票选择等同于投票选择等同于投票选择等同于投票选择等同于投票选择一个1/1指示物。<eos> \t[probability: 0.00000]\n",
      "其上放置若干2/+1指示物，其数量等同于投票等同于投票等同于投票选择若干1/1指示物的数量等同于投票选择等同于投票选择等同于投票选择等同于投票选择等同于投票选择一个1/1/1/1/ \t[probability: 0.00000]\n",
      "其上放置若干2/+1指示物，其数量等同于投票等同于投票等同于投票选择若干1/1指示物的数量等同于投票选择等同于投票选择等同于投票选择等同于投票选择等同于投票选择一个1/1/1/1。 \t[probability: 0.00000]\n",
      "\n",
      "src: [1 5 + | you may cast the exiled card without paying its mana cost for as long as it remains exiled . ] trg = [15+|于该牌持续被放逐期间，你可以施放之，且不需支付其法术力费用。]\n",
      "于<5>持续放逐的时段内，放逐该牌，你可以施放它且不需支付其法术力费用。<eos> \t[probability: 0.00002]\n",
      "于<5>持续放逐的时段内，放逐该牌，你可以施放它放逐且不需支付其法术力费用。<eos> \t[probability: 0.00001]\n",
      "于<5>持续放逐的时段内，放逐该牌，你可以施放它且不需需支付其法术力费用。<eos> \t[probability: 0.00001]\n",
      "\n",
      "src: [at the beginning of your upkeep , put a + 1 / + 1 counter on each other creature you control . ] trg = [在你的维持开始时，在每个由你操控的其他生物上各放置一个+1/+1指示物。]\n",
      "在你的维持开始时，在每个由你操控的其他生物上各放置一个+1/+1指示物。<eos> \t[probability: 0.71393]\n",
      "在你的维持开始时，在每个由你操控的其他上各放置一个+1/+1指示物。<eos> \t[probability: 0.01939]\n",
      "在你的维持开始时，在每个由你操控的生物上各放置一个+1/+1指示物。<eos> \t[probability: 0.01423]\n",
      "\n",
      "src: [when < 0 > enters the battlefield or is turned face up , create three 1 / 1 red goblin creature tokens . ] trg = [当<0>进战场或者翻回正面时，将三个1/1红色鬼怪衍生生物放进战场。]\n",
      "当<0>进战场或翻回正面时，将三个1/1红色鬼怪衍生生物。<eos> \t[probability: 0.12368]\n",
      "当<0>进场或翻回正面时，将三个1/1红色鬼怪衍生生物。<eos> \t[probability: 0.06565]\n",
      "当<0>进或翻回正面时，将三个1/1红色鬼怪衍生生物。<eos> \t[probability: 0.05245]\n",
      "\n",
      "src: [equipped creature gets + x / + x , where x is the number of creature cards in all graveyards . ] trg = [佩带此武具的生物得+x/+x，x为所有坟墓场中生物牌的数量。]\n",
      "佩带此武具的生物得+x/+x，x为所有坟墓场中生物牌的数量。<eos> \t[probability: 0.13596]\n",
      "佩带此武具的生物得+x/+x，x为所有坟墓场中生物牌数量。<eos> \t[probability: 0.09327]\n",
      "佩带此武具的生物得+x/+x，x为所有坟墓场中生物牌数量数量。<eos> \t[probability: 0.04759]\n",
      "\n",
      "src: [look at the top two cards of your library , then put any number of them into your graveyard and the rest on top of your library in any order . ] trg = [检视你牌库顶的两张牌，然后将其中任意数量的牌置入你的坟墓场，其余则以任意顺序置于你牌库顶。]\n",
      "检视你牌库顶的两张牌，然后将其中任意数量的牌置入你的坟墓场，其余则以任意顺序置于你牌库顶。<eos> \t[probability: 0.17718]\n",
      "检视你牌库顶的两张牌两张牌，然后将其中任意数量的牌置入你的坟墓场，其余则以任意顺序置于你牌库顶。<eos> \t[probability: 0.01891]\n",
      "检视你牌库顶的两张牌，然后将其中任意数量的牌置入你坟墓场，其余则以任意顺序置于你牌库顶。<eos> \t[probability: 0.01698]\n",
      "\n",
      "src: [raid — when < 2 > enters the battlefield , if you attacked this turn , < 2 > deals 2 damage to any target . ] trg = [突击～当<2>进战场时，若你于本回合中曾以生物攻击，则<2>对目标生物或牌手造成2点伤害。]\n",
      "突击～当<2>进战场时，若你于本回合中曾以生物攻击，则<2>对目标生物或牌手造成2点伤害。<eos> \t[probability: 0.21884]\n",
      "突击～当<2>进战场时，若你于本回合中以生物攻击，则<2>对目标生物或牌手造成2点伤害。<eos> \t[probability: 0.02576]\n",
      "突击～当<2>进战场时，若你于本回合中曾以生物攻击，则<2>对任意一个目标造成2点伤害。<eos> \t[probability: 0.01904]\n",
      "\n",
      "src: [{ w } , { t } : prevent the next 2 damage that would be dealt to target legendary creature this turn . ] trg = [{w}，{t}：防止本回合中接下来将对目标传奇生物造成的2点伤害。]\n",
      "{w}，{t}：于本回合中，防止接下来将对目标传奇生物造成2点伤害。<eos> \t[probability: 0.02117]\n",
      "{w}，{t}：于本回合中，防止接下来将目标传奇生物造成2点伤害。<eos> \t[probability: 0.01609]\n",
      "{w}，{t}：于本回合中，防止接下来将对目标传奇生物造成的2点伤害。<eos> \t[probability: 0.00697]\n",
      "\n",
      "src: [tap any number of creatures you control with total power 2 or more : this vehicle becomes an artifact creature until end of turn . ] trg = [横置任意数量由你操控且力量总和等于或大于2的生物：此载具成为神器生物直到回合结束。]\n",
      "横置任意数量由你操控且力量总和等于或大于2的生物：此载具成为神器生物直到回合结束。<eos> \t[probability: 0.69645]\n",
      "横置任意数量由你操控、力量总和等于或大于2的生物：此载具成为神器生物直到回合结束。<eos> \t[probability: 0.01963]\n",
      "横置任意数量由你操控且力量总和等于或大于2的生物生物：此载具成为神器生物直到回合结束。<eos> \t[probability: 0.01910]\n",
      "\n",
      "src: [whenever a creature you control attacks alone , that creature gets + 1 / + 1 until end of turn . ] trg = [每当一个由你操控的生物单独攻击时，该生物得+1/+1直到回合结束。]\n",
      "每当一个由你操控的生物单独攻击时，该生物得+1/+1直到回合结束。<eos> \t[probability: 0.87603]\n",
      "每当一个由你操控的生物单独攻击时时该生物得+1/+1直到回合结束。<eos> \t[probability: 0.02016]\n",
      "每当一个由你操控的生物攻击时，该生物得+1/+1直到回合结束。<eos> \t[probability: 0.01155]\n",
      "\n",
      "src: [as long as you control a creature with power 4 or greater , < 7 > can attack as though it did n't have defender . ] trg = [只要你操控力量等于或大于4的生物，<7>便能视同不具守军异能地进行攻击。]\n",
      "只要你操控力量等于或大于4的生物，<7>便能视同不具守军异能地进行攻击。<eos> \t[probability: 0.04212]\n",
      "只要你操控操控力量等于或大于4的生物，<7>便能视同不具守军异能地进行攻击。<eos> \t[probability: 0.00957]\n",
      "只要你操控力量等于或大于4的生物，<7>便能视同具守军异能地进行攻击。<eos> \t[probability: 0.00676]\n",
      "\n",
      "src: [the next time one or more creatures or planeswalkers enter the battlefield this turn , they enter as copies of the chosen creature . ] trg = [本回合中，下一次有一个或数个生物或鹏洛客进战场时，它们作为所选生物之复制品来进入战场。]\n",
      "本回合中，或或或数个或更多生物攻击或牌手，则须为所选的生物选。<eos> \t[probability: 0.00000]\n",
      "本回合中，或或或数个或更多生物攻击或牌手，则须为所选之生物的复制。<eos> \t[probability: 0.00000]\n",
      "本回合中，或或或数个或更多生物攻击或牌手，则须为所选之生物的复制一次。<eos> \t[probability: 0.00000]\n",
      "\n",
      "src: [tap any number of creatures you control with total power 1 or more : this vehicle becomes an artifact creature until end of turn . ] trg = [横置任意数量由你操控且力量总和等于或大于1的生物：此载具成为神器生物直到回合结束。]\n",
      "横置任意数量由你操控且力量总和等于或大于1的生物：此载具成为神器生物直到回合结束。<eos> \t[probability: 0.65102]\n",
      "横置任意数量由你操控、力量总和等于或大于1的生物：此载具成为神器生物直到回合结束。<eos> \t[probability: 0.02699]\n",
      "横置任意数量由你操控且力量总和等于或大于1的生物生物：此载具成为神器生物直到回合结束。<eos> \t[probability: 0.01384]\n",
      "\n",
      "src: [constellation — whenever an enchantment enters the battlefield under your control , < 6 > gains < 8 > until end of turn . ] trg = [星彩～每当一个结界在你的操控下进战场时，<6>获得<8>异能直到回合结束。]\n",
      "星彩～每当一个结界在你的操控下进战场时，<6>获得<8>异能直到回合结束。<eos> \t[probability: 0.84629]\n",
      "星彩～每当一个结界在你的操控下进进场时，<6>获得<8>异能直到回合结束。<eos> \t[probability: 0.01113]\n",
      "星彩～每当一个地在你的操控下进战场时，<6>获得<8>异能直到回合结束。<eos> \t[probability: 0.00966]\n",
      "\n",
      "src: [at the beginning of each end step , if there are three or more quest counters on < 8 > , you may put a kraken , leviathan , octopus , or serpent creature card from your hand onto the battlefield . ] trg = [在每个结束步骤开始时，若<8>上有三个或更多探索指示物，则你可以将一张生物牌从你手上放进战场，且必须为巨海兽，海怪，章鱼，或巨蛇。]\n",
      "在每个结束步骤开始时，若<8>上有三个或更多，则你可以将一张由你操控的生物和／或物牌从你手上放进战场。<eos> \t[probability: 0.00000]\n",
      "在每个结束步骤开始时，若<8>上有三个或更多，则你可以将一张由你操控的生物和／或物牌物牌从你手上放进战场。<eos> \t[probability: 0.00000]\n",
      "在每个结束步骤开始时，若<8>上有三个或更多，则你可以将一张由你操控的生物和／或物牌从你手上放置进场。<eos> \t[probability: 0.00000]\n",
      "\n",
      "src: [strive — this spell costs { 1 } { u } more to cast for each target beyond the first . ] trg = [积力～<6>在第一个目标之外每有一个目标，便增加{1}{u}来施放。]\n",
      "积力～<0>在第一个目标之外每有一个目标，便增加{1}{u}来施放。<eos> \t[probability: 0.11639]\n",
      "积力～<8>在第一个目标之外每有一个目标，便增加{1}{u}来施放。<eos> \t[probability: 0.09378]\n",
      "积力～<2>在第一个目标之外每有一个目标，便增加{1}{u}来施放。<eos> \t[probability: 0.06379]\n",
      "\n",
      "src: [ultima founding — { t } , tap two untapped artifacts you control : create a 2 / 2 white astartes warrior creature token with vigilance . ] trg = [极限建军～{t}，横置两个由你操控且未横置的神器：派出一个2/2白色，具警戒异能的阿斯塔特／战士衍生生物。]\n",
      "<unk><unk>～{t}，横置两个由你操控且未横置的神器：派出一个2/2白色，具警戒异能的阿斯塔特／战士衍生生物。<eos> \t[probability: 0.11164]\n",
      "<unk><unk>～{t}，横置两个由你操控且未横置的神器：派出一个2/2白色，具警戒异能的战士衍生生物。<eos> \t[probability: 0.03820]\n",
      "<unk><unk>～{t}，横置两个由你操控、未横置的神器：派出一个2/2白色，具警戒异能的阿斯塔特／战士衍生生物。<eos> \t[probability: 0.02203]\n",
      "\n",
      "src: [legendary creatures you control get + x / + x , where x is the number of legendary creatures you control . ] trg = [由你操控的传奇生物得+x/+x，x为由你操控的传奇生物数量。]\n",
      "由你操控的传奇生物得+x/+x，x为由你操控的传奇生物数量。<eos> \t[probability: 0.24211]\n",
      "由你操控的传奇生物得+x/+x，x为由你操控的传奇生物数量数量。<eos> \t[probability: 0.03057]\n",
      "由你操控的传奇生物得+x/+x，x为由你操控的传奇生物生物数量。<eos> \t[probability: 0.02972]\n",
      "\n",
      "src: [until the end of your next turn , you may cast that card and you may spend mana as though it were mana of any color to cast that spell . ] trg = [直到你下一个回合的回合结束，你可以施放该牌，且你可以将法术力视同任意颜色的法术力来支付施放该咒语的费用。]\n",
      "直到你下一个回合的回合，你可以施放该牌，且你可以将法术力视同任意颜色的法术力来支付施放该咒语的费用。<eos> \t[probability: 0.00457]\n",
      "直到你下一个回合的回合结束，你可以施放该牌，且你可以将法术力视同任意颜色的法术力来支付施放该咒语的费用。<eos> \t[probability: 0.00452]\n",
      "直到你下一个回合的回合结束，你可以施放该牌，且你可以将法术力视同任意颜色的法术力来施放施放该咒语的费用。<eos> \t[probability: 0.00079]\n",
      "\n",
      "src: [whenever another creature with < 8 > enters the battlefield under your control , < 4 > gets + 1 / + 1 until end of turn . ] trg = [每当另一个具<8>异能的生物在你的操控下进战场时，<4>得+1/+1直到回合结束。]\n",
      "每当另一个具<8>异能的生物在你的操控下进战场时，<4>得+1/+1直到回合结束。<eos> \t[probability: 0.38539]\n",
      "每当另一个具<88>异能的生物在你的操控下进战场时，<4>得+1/+1直到回合结束。<eos> \t[probability: 0.04504]\n",
      "每当另一个具<8>异能>异能的生物在你的操控下进战场时，<4>得+1/+1直到回合结束。<eos> \t[probability: 0.02654]\n",
      "\n",
      "src: [landfall — whenever a land enters the battlefield under your control , create a 1 / 1 white human warrior creature token . ] trg = [每当一个地在你的操控下进战场时，派出一个1/1白色人类／战士衍生生物。]\n",
      "每当落～每当一个地在你的操控下进战场时，派出一个1/1白色人类／战士衍生生物。<eos> \t[probability: 0.26387]\n",
      "每当落～每当一个地在你的操控下进战场时，派出一个1/1白色人类／战士衍生生物放进战场。<eos> \t[probability: 0.12457]\n",
      "地落～每当一个地在你的操控下进战场时，派出一个1/1白色人类／战士衍生生物。<eos> \t[probability: 0.06189]\n",
      "\n",
      "src: [that player puts all non creature cards revealed this way into their graveyard , then you put the creature card onto the battlefield under your control . ] trg = [该牌手将所有以此法展示的非生物牌置入其坟墓场，然后你将该生物牌在你的操控下放置进场。]\n",
      "该牌手将所有以此法展示的所有非地永久物牌，然后将你将你的操控下放进战场。<eos> \t[probability: 0.00000]\n",
      "该牌手将所有以此法展示的所有非地永久物牌，然后将你将你的操控下放进放进战场。<eos> \t[probability: 0.00000]\n",
      "该牌手将所有以此法展示的所有非地永久物牌，然后将你将你你操控下放进战场。<eos> \t[probability: 0.00000]\n",
      "\n",
      "src: [then create a 2 / 2 red rebel creature token that 's tapped and attacking for each experience counter you have . ] trg = [然后你每有一个经验指示物，便派出一个2/2红色反抗军衍生生物，其为横置且正进行攻击。]\n",
      "然后你每有一个经验指示物，便派出一个2/2红色反抗军衍生生物。<eos> \t[probability: 0.04304]\n",
      "然后你每有一个经验指示物，便派出一个2/2红色反抗军衍生生物放进战场且正进行攻击。<eos> \t[probability: 0.02071]\n",
      "然后你每有一个经验指示物，便派出一个2/2红色反抗军衍生生物放进战场且正进行攻击且进行攻击。<eos> \t[probability: 0.00132]\n",
      "\n",
      "src: [{ 2 } , { t } , remove all charge counters from < 4 > : it deals that much damage to target creature . ] trg = [{2}，{t}，从<4>上移去所有充电指示物：它对目标生物造成等量的伤害。]\n",
      "{2}，{t}，从<4>上移去八个充电指示物：它对目标生物造成等量的伤害。<eos> \t[probability: 0.02407]\n",
      "{2}，{t}，从<4>上移去六个充电指示物：它对目标生物造成等量的伤害。<eos> \t[probability: 0.01637]\n",
      "{2}，{t}，从<4>上移去八个充电指示物：<对目标生物造成等量的伤害。<eos> \t[probability: 0.00328]\n",
      "\n",
      "src: [whenever equipped creature deals combat damage to a player , that player discards a card and you untap all lands you control . ] trg = [每当佩带此武具的生物向一位牌手造成战斗伤害时，该牌手弃一张牌且你重置所有由你操控的地。]\n",
      "每当佩带此武具的生物对任一牌手造成战斗伤害时，该牌手弃一张牌，你你操控的由你操控的地。<eos> \t[probability: 0.00024]\n",
      "每当佩带此武具的生物对任一牌手造成战斗伤害时，该牌手弃一张牌，你你操控的由你操控的地中。<eos> \t[probability: 0.00013]\n",
      "每当佩带此武具的生物对任一牌手造成战斗伤害时，该牌手弃一张牌，你你操控的由你操控的地移。<eos> \t[probability: 0.00009]\n",
      "\n",
      "src: [{ 1 } , { t } , sacrifice another artifact : reveal the top eight cards of your library . ] trg = [{1}，{t}，牺牲另一个神器：展示你牌库顶的八张牌。]\n",
      "{1}，{t}，牺牲另一个神器：展示你牌库顶的六张牌。<eos> \t[probability: 0.19261]\n",
      "{1}，{t}，牺牲另一个神器：展示你牌库顶的八张牌。<eos> \t[probability: 0.15539]\n",
      "{1}，{t}，牺牲另一个神器：展示你牌库顶的牌。<eos> \t[probability: 0.06733]\n",
      "\n",
      "src: [+ 1 : until end of turn , < 6 > becomes a legendary 4 / 4 red dragon creature with < 5 > , indestructible , and haste . ] trg = [+1：直到回合结束，<6>成为传奇的4/4红色龙生物，且具有<5>，不灭与敏捷异能。]\n",
      "+1：直到回合结束，<6>成为4/4红色，具<5>与警戒与敏捷与敏捷异能。<eos> \t[probability: 0.00353]\n",
      "+1：直到回合结束，<6>成为4/4红色，具<5>与不灭与敏捷与敏捷异能。<eos> \t[probability: 0.00255]\n",
      "+1：直到回合结束，<6>成为4/4红色，具<5>与不灭与敏捷与敏捷异能的元素生物。<eos> \t[probability: 0.00029]\n",
      "\n",
      "src: [whenever a dinosaur enters the battlefield under your control , you may have < 1 > deal 1 damage to each creature . ] trg = [每当一个恐龙在你的操控下进战场时，你可以令<1>对每个生物各造成1点伤害。]\n",
      "每当一个恐龙在你的操控下进战场时，你可以让<1>对每个生物各造成1点伤害。<eos> \t[probability: 0.22854]\n",
      "每当一个<unk>在你的操控下进战场时，你可以让<1>对每个生物各造成1点伤害。<eos> \t[probability: 0.05468]\n",
      "每当一个恐龙在你的操控下进战场时，你可以令<1>对每个生物各造成1点伤害。<eos> \t[probability: 0.03784]\n",
      "\n",
      "src: [when < 7 > enters the battlefield , if you control another snow permanent , exile target permanent other than < 7 > . ] trg = [当<7>进战场时，若你操控另一个雪境永久物，则放逐目标<7>以外的永久物。]\n",
      "当<7>进战场时，若你操控另一个雪境永久物，则放逐<7>以外的永久物。<eos> \t[probability: 0.05425]\n",
      "当<7>进战场时，若你操控另一个雪境永久物，则放逐目标<7>以外的永久物。<eos> \t[probability: 0.01558]\n",
      "当<7>进战场时，若你操控另一个雪境永久物，则放逐<7>以外的永久物。。<eos> \t[probability: 0.00616]\n",
      "\n",
      "src: [this spell costs { 3 } less to cast if there are ten or more non land permanents on the battlefield . ] trg = [如果战场上有十个或更多的非地永久物，则<5>减少{3}来施放。]\n",
      "如果此咒语上有或更多雪境永久物，则此咒语减少{3}来施放。<eos> \t[probability: 0.00036]\n",
      "如果此咒语或更多或更多雪境永久物，则此咒语减少{3}来施放。<eos> \t[probability: 0.00019]\n",
      "如果此咒语或更多或更多，则此咒语减少{3}来施放。<eos> \t[probability: 0.00011]\n",
      "\n",
      "src: [as long as the top card of your library is a goblin card , < 5 > has all activated abilities of that card . ] trg = [只要你的牌库顶牌是鬼怪牌，<5>便具有该牌的所有起动式异能。]\n",
      "只要你的牌库顶牌是精灵牌，<5>便具有所有该牌的所有起动式异能。<eos> \t[probability: 0.00311]\n",
      "只要你的牌库顶牌是<unk>，<5>便具有所有该牌的所有起动式异能。<eos> \t[probability: 0.00212]\n",
      "只要你的牌库顶牌是精灵牌，<5>便具有所有该牌之所有起动式异能。<eos> \t[probability: 0.00076]\n",
      "\n",
      "src: [whenever another creature enters the battlefield under your control , target creature gets + 2 / + 0 until end of turn . ] trg = [每当另一个生物在你的操控下进战场时，目标生物得+2/+0直到回合结束。]\n",
      "每当另一个生物在你的操控下进战场时，目标生物得+2/+0直到回合结束。<eos> \t[probability: 0.86625]\n",
      "每当另一个生物在你的操控下进进场时，目标生物得+2/+0直到回合结束。<eos> \t[probability: 0.03202]\n",
      "每当另一个生物在你的操控下进场时，目标生物得+2/+0直到回合结束。<eos> \t[probability: 0.01808]\n",
      "\n",
      "src: [{ 3 } , { t } : tap target creature and put a + 1 / + 1 counter on it . ] trg = [{3}，{t}：横置目标生物，并在上面放置一个+1/+1指示物。]\n",
      "{3}，{t}：横置目标生物并在其上放置一个+1/+1指示物。<eos> \t[probability: 0.36799]\n",
      "{3}，{t}：横置目标生物，并在其上放置一个+1/+1指示物。<eos> \t[probability: 0.14558]\n",
      "{3}，{t}：横置目标生物，在其上放置一个+1/+1指示物。<eos> \t[probability: 0.12555]\n",
      "\n",
      "src: [{ 2 } { r } : < 5 > deals 1 damage to target creature token , player , or planeswalker . ] trg = [{2}{r}：<5>对目标衍生生物，牌手或鹏洛客造成1点伤害。]\n",
      "{2}{r}：<5>对目标生物衍生生物造成1点伤害。<eos> \t[probability: 0.09291]\n",
      "{2}{r}：<5>对目标生物造成1点伤害，目标生物或鹏洛客造成1点伤害。<eos> \t[probability: 0.00443]\n",
      "{2}{r}：<5>对目标生物造成1点伤害，目标生物或1点伤害。<eos> \t[probability: 0.00401]\n",
      "\n",
      "src: [whenever < 0 > attacks , it gets + x / + 0 until end of turn , where x is the number of other attacking creatures . ] trg = [每当<0>攻击时，它得+x/+0直到回合结束，x为其他进行攻击的生物数量。]\n",
      "每当<0>攻击时，它得+x/+0直到回合结束，x为其他进行攻击的其他数量。<eos> \t[probability: 0.01573]\n",
      "每当<0>攻击时，它得+x/+0直到回合结束，x为由其他进行攻击的其他数量。<eos> \t[probability: 0.00673]\n",
      "每当<0>攻击时，它得+x/+0直到回合结束，x为其他进行攻击的其他数量数量。<eos> \t[probability: 0.00467]\n",
      "\n",
      "src: [put x + 1 / + 1 counters on it , where x is the number of basic land types among lands you control . ] trg = [在该衍生物上放置x个+1/+1指示物，x为由你操控之地中基本地类别的数量。]\n",
      "在其上放置x个+1/+1指示物，x为由你操控之地中基本地类别的数量。<eos> \t[probability: 0.22522]\n",
      "在其上放置x个+1/+1指示物，x为由你操控的地中基本地类别的数量。<eos> \t[probability: 0.05504]\n",
      "在其上放置x个+1/+1指示物，x为由你操控之地中基本地类别的数量。。<eos> \t[probability: 0.00719]\n",
      "\n",
      "src: [when < 7 > enters the battlefield , exile up to one target artifact or creature until < 7 > leaves the battlefield . ] trg = [当<7>进战场时，放逐至多一个目标神器或生物，直到<7>离开战场为止。]\n",
      "当<7>进战场时，放逐至多一个目标神器或生物，直到<7>离开战场为止。<eos> \t[probability: 0.40705]\n",
      "当<7>进战场时，放逐至多一个目标神器或生物直到<7>离开战场为止。<eos> \t[probability: 0.03298]\n",
      "当<7>进战场时，放逐至多一个目标神器生物，直到<7>离开战场为止。<eos> \t[probability: 0.01970]\n",
      "\n",
      "src: [{ b } , sacrifice a goblin : < 2 > gets + 2 / + 2 until end of turn . ] trg = [{b}，牺牲一个精灵：<2>得+2/+2直到回合结束。]\n",
      "{b}，牺牲一个精灵：<2>得+2/+2直到回合结束。<eos> \t[probability: 0.87938]\n",
      "{b}，牺牲一个鬼怪：<2>得+2/+2直到回合结束。<eos> \t[probability: 0.02600]\n",
      "{b}，牺牲一个地：<2>得+2/+2直到回合结束。<eos> \t[probability: 0.01749]\n",
      "\n",
      "src: [whenever equipped creature deals combat damage to a player , exile up to one target creature you own , then search your library for a basic land card . ] trg = [每当佩带此武具的生物对任一牌手造成战斗伤害时，放逐至多一个目标由你拥有的生物，然后从你的牌库中搜寻一张基本地牌。]\n",
      "每当佩带此武具的生物对任一牌手造成战斗伤害时，放逐至多一个目标由你拥有的生物，然后从你的牌库中搜寻一张基本地牌。<eos> \t[probability: 0.18089]\n",
      "每当佩带此武具的生物对任一牌手造成战斗伤害时，放逐至多一个目标由你拥有的生物，然后从你牌库中搜寻一张基本地牌。<eos> \t[probability: 0.03799]\n",
      "每当佩带此武具的生物对任一牌手造成战斗伤害时，放逐至多一个目标由拥有的生物，然后从你的牌库中搜寻一张基本地牌。<eos> \t[probability: 0.01890]\n",
      "\n",
      "src: [if this creature has no + 1 / + 1 counters on it , put three + 1 / + 1 counters on it . ] trg = [如果此生物上没有+1/+1指示物，则在其上放置三个+1/+1指示物。]\n",
      "如果此生物上没有+1/+1指示物，则在其上放置三个+1/+1指示物。<eos> \t[probability: 0.70545]\n",
      "如果此生物上没有+1/+1指示物，则则在其上放置三个+1/+1指示物。<eos> \t[probability: 0.01650]\n",
      "如果此生物上没有+1/+1指示物，则改为在其上放置三个+1/+1指示物。<eos> \t[probability: 0.01373]\n",
      "\n",
      "src: [when you cast the spell , exile cards from the top of your library until you exile a non land card that costs less . ] trg = [当你施放该咒语时，从你的牌库顶开始放逐牌，直到放逐一张费用比其低的非地牌为止。]\n",
      "当你施放时，从你的牌库顶开始放逐牌，直到放逐一张费用比此咒语低的非地牌为止。<eos> \t[probability: 0.08354]\n",
      "当你施放此咒语时，从你的牌库顶开始放逐牌，直到放逐一张费用比此咒语低的非地牌为止。<eos> \t[probability: 0.08216]\n",
      "当你施放咒语时，从你的牌库顶开始放逐牌，直到放逐一张费用比此咒语低的非地牌为止。<eos> \t[probability: 0.07402]\n",
      "\n",
      "src: [if this spell 's madness cost was paid , instead create x of those tokens and you gain x life . ] trg = [如果曾支付<6>的疯魔费用，则改为将x个上述的衍生物横置放进战场，且你获得x点生命。]\n",
      "如果曾支付此咒语的费用费用，则改为将两个衍生生物，则你x点生命且你获得x点生命。<eos> \t[probability: 0.00001]\n",
      "如果曾支付此咒语的疯魔费用，则改为将两个衍生生物，则你x点生命且你获得x点生命。<eos> \t[probability: 0.00000]\n",
      "如果曾支付此咒语的费用费用，则改为将两个衍生生物，则你x点生命，且你获得x点生命。<eos> \t[probability: 0.00000]\n",
      "\n",
      "src: [whenever you cast a non creature spell , this creature gets + 1 / + 1 until end of turn . ] trg = [每当你施放非生物咒语时，此生物得+1/+1直到回合结束。]\n",
      "每当你施放非生物咒语时，此生物得+1/+1直到回合结束。<eos> \t[probability: 0.91859]\n",
      "每当你使用非生物咒语时，此生物得+1/+1直到回合结束。<eos> \t[probability: 0.01259]\n",
      "每当你施放非生物咒语时，此生物生物得+1/+1直到回合结束。<eos> \t[probability: 0.00458]\n",
      "\n",
      "src: [{ 2 } { r } : you may put a red creature card or an artifact creature card from your hand onto the battlefield . ] trg = [{2}{r}：你可以将一张红色生物牌或神器生物牌从你手上放进战场。]\n",
      "{2}{r}：你可以将一张物牌物牌物牌物牌从你手上放置进场放置进场。<eos> \t[probability: 0.00084]\n",
      "{2}{r}：你可以将一张物牌物牌或生物牌物牌从你手上放置进场放置进场。<eos> \t[probability: 0.00074]\n",
      "{2}{r}：你可以将一张物牌物牌或生物牌从你手上放置进场放置进场。<eos> \t[probability: 0.00072]\n",
      "\n",
      "src: [domain — { 3 } { g } : until end of turn , < 0 > gets + 1 / + 1 for each basic land type among lands you control . ] trg = [领土～{3}{g}：直到回合结束，由你操控的地中每有一种基本地类别，<0>便得+1/+1。]\n",
      "领土～{3}{g}：直到你操控的地之中每有一种基本地类别，<0>便得+1/+1。<eos> \t[probability: 0.03628]\n",
      "领土～{3}：直到你操控的地之中每有一种基本地类别，<0>便得+1/+1。<eos> \t[probability: 0.00951]\n",
      "领土～{3}{g}：直到你操控的地之中每有一种基本地类别，<0>便得+1/+1直到回合结束。<eos> \t[probability: 0.00877]\n",
      "\n",
      "src: [forecast — { 2 } { u } , reveal < 1 > from your hand : each player draws a card . ] trg = [预报～{2}{u}，从你手上展示<1>：每位牌手各抓一张牌。]\n",
      "预报～{2}{u}，从你手上展示<1>：每位牌手各抓一张牌。<eos> \t[probability: 0.41123]\n",
      "预报～{2}{u}，从你手上展示<1}：每位牌手各抓一张牌。<eos> \t[probability: 0.01761]\n",
      "预报～{2}{u}，从你的手上展示<1>：每位牌手各抓一张牌。<eos> \t[probability: 0.01206]\n",
      "\n",
      "src: [choose any number of permanents and / or players , then give each another counter of each kind already there . ] trg = [你选择任意数量其上有指示物的永久物和／或牌手，然后在其上放置一个它已有之类别的指示物。]\n",
      "选择任意数量的永久物和／或牌手，然后为其已有之每种指示物各多放置一个同类的指示物。<eos> \t[probability: 0.00896]\n",
      "你选择任意数量其上有指示物的永久物和／或牌手，然后在其已有之每种指示物各多放置一个同类的指示物。<eos> \t[probability: 0.00086]\n",
      "你选择任意数量其上有指示物的永久物和／或牌手，然后在其上放置一个它已有之类别的指示物。<eos> \t[probability: 0.00078]\n",
      "\n",
      "src: [as you cast an arcane spell , you may reveal this card from your hand and pay its splice cost . ] trg = [当你使用古咒咒语时，你可以从你的手上展示此牌，并支付其通联费用。]\n",
      "当你使用古咒咒语时，你可以从你的手上展示此牌，并支付其通联费用。<eos> \t[probability: 0.42643]\n",
      "于你使用古咒咒语时，你可以从你的手上展示此牌，并支付其通联费用。<eos> \t[probability: 0.18394]\n",
      "当你使用古咒咒语时，你可以从你手上展示此牌，并支付其通联费用。<eos> \t[probability: 0.05049]\n",
      "\n",
      "src: [equipped creature has \" { 1 } , { t } , sacrifice < 7 > : < 7 > deals 3 damage to any target . \" ] trg = [佩带此武具的生物具有\"{1}，{t}，牺牲<7>：<7>对任意一个目标造成3点伤害。\"]\n",
      "佩带此武具的生物具有\"{1}，{t}，牺牲<7>：目标7>对目标生物或牌手造成3点伤害。\"<eos> \t[probability: 0.06734]\n",
      "佩带此武具的生物具有\"{1}，{t}，牺牲<7>：<7>对目标生物或牌手造成3点伤害。\"<eos> \t[probability: 0.05160]\n",
      "佩带此武具的生物具有\"{1}，{t}，牺牲<7>：目标7>对目标生物或牌手造成3点伤害。<eos> \t[probability: 0.05107]\n",
      "\n"
     ]
    }
   ],
   "source": [
    "from utils import show_samples\n",
    "long_data = [x for x in test_data.examples if len(x.src) > 20]\n",
    "print(f'Number of samples: {len(long_data)}')\n",
    "show_samples(long_data, T, n=100, beam_size=3)"
   ]
  },
  {
   "cell_type": "code",
   "execution_count": 31,
   "metadata": {},
   "outputs": [
    {
     "name": "stdout",
     "output_type": "stream",
     "text": [
      "path: d:\\Desktop\\mtg-cards-translation\\models\\card_name_detector\n"
     ]
    }
   ],
   "source": [
    "from dataset.mtgcards import TestSets\n",
    "from utils import calculate_bleu\n",
    "from torchtext.legacy.data import Field\n",
    "from models.card_name_detector.definition import TrainedDetector\n",
    "from utils.translate import sentencize, CardTranslator\n",
    "\n",
    "fields = {'src-rule': ('src', Field(tokenize=lambda x: x.split(' '))), 'trg-rule': ('trg', Field())}\n",
    "test_data = TestSets.load(fields)\n",
    "\n",
    "D = TrainedDetector()"
   ]
  },
  {
   "cell_type": "code",
   "execution_count": 36,
   "metadata": {},
   "outputs": [
    {
     "name": "stdout",
     "output_type": "stream",
     "text": [
      "{'src': ['Flying\\nNecrosquito', 'enters', 'the', 'battlefield', 'with', 'two', 'oil', 'counters', 'on', 'it.\\nNecrosquito', 'gets', '+1/+1', 'for', 'each', 'oil', 'counter', 'on', 'it.\\nWhenever', 'another', 'creature', 'or', 'artifact', 'you', 'control', 'is', 'put', 'into', 'a', 'graveyard', 'from', 'the', 'battlefield,', 'put', 'an', 'oil', 'counter', 'on', 'Necrosquito.'], 'trg': ['飞行', '化尸蚊进战场时上面有两个烁油指示物。', '化尸蚊上每有一个烁油指示物，便得+1/+1。', '每当另一个由你操控的生物或神器从战场进入坟墓场时，在化尸蚊上放置一个烁油指示物。']}\n",
      "[after preprocess]:flying\n",
      "[before postprocess]:飞行\n",
      "[after preprocess]:<0> enters the battlefield with two <1> counters on it .\n",
      "[before postprocess]:<0>进战场时上面有两个+1指示物。\n",
      "[after preprocess]:<0> gets + 1 / + 1 for each <1> counter on it .\n",
      "[before postprocess]:<1>上每有一个1指示物，<0>便得+1/+1。\n",
      "[after preprocess]:whenever another creature or artifact you control is put into a graveyard from the battlefield , put an <1> counter on <0> .\n",
      "[before postprocess]:每当另一个由你操控的生物或鹏洛客从战场进入坟墓场时，在<0>上放置一个<1>。\n"
     ]
    },
    {
     "data": {
      "text/plain": [
       "'飞行 <necrosquito>进战场时上面有两个+1指示物。 烁油上每有一个1指示物，<necrosquito>便得+1/+1。 每当另一个由你操控的生物或鹏洛客从战场进入坟墓场时，在<necrosquito>上放置一个烁油。'"
      ]
     },
     "execution_count": 36,
     "metadata": {},
     "output_type": "execute_result"
    }
   ],
   "source": [
    "def sentencize(text: str):\n",
    "    ignore = {' ', '(', ')', '\\n'}\n",
    "    while len(text) and text[0] in ignore:\n",
    "        text = text[1:]\n",
    "    if len(text) == 0:\n",
    "        return []\n",
    "    \n",
    "    r = 0\n",
    "    delims = {'.', '\\n', '('}\n",
    "    ignore = False\n",
    "    while r < len(text):\n",
    "        if text[r] == '\\\"':\n",
    "            ignore = not ignore\n",
    "        if not ignore and text[r] in delims:\n",
    "            break\n",
    "        r += 1\n",
    "    \n",
    "    if r < len(text) and text[r] == '.':\n",
    "        return [text[:r + 1]] + sentencize(text[r + 1:])\n",
    "    return [text[:r]] + sentencize(text[r:])\n",
    "def preprocess(x:str):\n",
    "    x = D.annotate(x).removeprefix(' ')\n",
    "    print(f'[after preprocess]:{x}')\n",
    "    return x\n",
    "def postprocess(x:str):\n",
    "    return x.replace('<', '').replace('>', '')\n",
    "\n",
    "import re\n",
    "class CTHelper:\n",
    "    def __init__(self, name_detector, dictionary={}) -> None:\n",
    "        self.D = name_detector\n",
    "        self.dictionary = dictionary\n",
    "    \n",
    "    def preprocess(self, x:str):\n",
    "        self.tag2str = {}\n",
    "        x = D.annotate(x).removeprefix(' ') # x become lowercase after go through detector\n",
    "        m = re.search('<[^0-9>]+>', x)\n",
    "        id = 0\n",
    "        while m:\n",
    "            l, r = m.span()\n",
    "            tag = '<' + str(id) + '>'\n",
    "            self.tag2str[tag] = x[l:r]\n",
    "            x = x[:l] + tag + x[r:]\n",
    "            id += 1\n",
    "            m = re.search('<[^0-9>]+>', x)\n",
    "\n",
    "        for s in self.dictionary.keys():\n",
    "            m = re.search(s, x)\n",
    "            if m:\n",
    "                tag = '<' + str(id) + '>'\n",
    "                self.tag2str[tag] = s\n",
    "                x = x.replace(s, tag)\n",
    "                id += 1\n",
    "\n",
    "        print(f'[after preprocess]:{x}')\n",
    "        return x\n",
    "\n",
    "    def postprocess(self, x:str):\n",
    "        print(f'[before postprocess]:{x}')\n",
    "        for tag, s in self.tag2str.items():\n",
    "            x = x.replace(tag, self.dictionary[s] if s in self.dictionary else s)\n",
    "        return x\n",
    "\n",
    "dic = {}\n",
    "dic = {'oil':'烁油', 'rebel':'反抗军','compleated':'完化'}\n",
    "helper = CTHelper(D, dic)\n",
    "CT = CardTranslator(sentencize, T, preprocess=lambda x: helper.preprocess(x), postprocess=lambda x:helper.postprocess(x))\n",
    "\n",
    "# example = random.sample(list(test_data), 1)[0]\n",
    "example = list(test_data)[15]\n",
    "print(vars(example))\n",
    "CT.translate(' '.join(example.src))\n",
    "# for example in random.sample(list(test_data), 10):\n",
    "#     print(vars(example))\n",
    "#     CT.translate(' '.join(example.src))"
   ]
  },
  {
   "cell_type": "code",
   "execution_count": 13,
   "metadata": {},
   "outputs": [
    {
     "name": "stderr",
     "output_type": "stream",
     "text": [
      "  0%|          | 0/100 [00:00<?, ?it/s]"
     ]
    },
    {
     "name": "stdout",
     "output_type": "stream",
     "text": [
      "[after preprocess]:whenever another artifact or creature you control is put into a graveyard from the battlefield , put an <1> counter on <0> .\n",
      "[after preprocess]:{2} {b} , {t} , remove four <1> counters from <0> : return target creature card from your graveyard to the battlefield .\n"
     ]
    },
    {
     "name": "stderr",
     "output_type": "stream",
     "text": [
      "  1%|          | 1/100 [00:00<00:55,  1.77it/s]"
     ]
    },
    {
     "name": "stdout",
     "output_type": "stream",
     "text": [
      "[after preprocess]:activate only as a sorcery .\n",
      "[after preprocess]:vigilance\n",
      "[after preprocess]:<0> enters the battlefield with an <1> counter on it .\n",
      "[after preprocess]:remove an <1> counter from <0> : it becomes an artifact creature until end of turn .\n",
      "[after preprocess]:crew 3\n",
      "[after preprocess]:tap any number of creatures you control with total power 3 or more : this vehicle becomes an artifact creature until end of turn .\n"
     ]
    },
    {
     "name": "stderr",
     "output_type": "stream",
     "text": [
      "  2%|▏         | 2/100 [00:01<00:51,  1.91it/s]"
     ]
    },
    {
     "name": "stdout",
     "output_type": "stream",
     "text": [
      "[after preprocess]:menace , reach\n",
      "[after preprocess]:{t} : add {c} .\n",
      "[after preprocess]:{t} : add one mana of any color .\n",
      "[after preprocess]:spend this mana only to cast phyrexian creature spells .\n",
      "[after preprocess]:corrupted — {t} : target 1 / 1 creature gets + 2 / + 1 until end of turn .\n",
      "[after preprocess]:activate only if an opponent has three or more poison counters .\n"
     ]
    },
    {
     "name": "stderr",
     "output_type": "stream",
     "text": [
      "  4%|▍         | 4/100 [00:01<00:34,  2.80it/s]"
     ]
    },
    {
     "name": "stdout",
     "output_type": "stream",
     "text": [
      "[after preprocess]:{t} , pay 1 life : destroy target permanent you own .\n",
      "[after preprocess]:{t} , pay 2 life : add one mana of any color .\n",
      "[after preprocess]:{t} , pay 3 life : proliferate .\n",
      "[after preprocess]:{t} , pay 4 life : draw a card .\n",
      "[after preprocess]:{5} : untap <0> .\n"
     ]
    },
    {
     "name": "stderr",
     "output_type": "stream",
     "text": [
      "  5%|▌         | 5/100 [00:02<00:38,  2.48it/s]"
     ]
    },
    {
     "name": "stdout",
     "output_type": "stream",
     "text": [
      "[after preprocess]:<0> ca n't be blocked .\n",
      "[after preprocess]:whenever you cast a non creature spell , put an <1> counter on <0> .\n",
      "[after preprocess]:whenever <0> deals combat damage to a player , you may remove two <1> counters from it .\n",
      "[after preprocess]:if you do , when you cast your next instant or sorcery spell this turn , copy that spell .\n"
     ]
    },
    {
     "name": "stderr",
     "output_type": "stream",
     "text": [
      "  6%|▌         | 6/100 [00:02<00:45,  2.07it/s]"
     ]
    },
    {
     "name": "stdout",
     "output_type": "stream",
     "text": [
      "[after preprocess]:you may choose new targets for the copy .\n",
      "[after preprocess]:whenever one or more other creatures you control die , each opponent loses 2 life and you gain 2 life .\n"
     ]
    },
    {
     "name": "stderr",
     "output_type": "stream",
     "text": [
      "  7%|▋         | 7/100 [00:03<00:40,  2.32it/s]"
     ]
    },
    {
     "name": "stdout",
     "output_type": "stream",
     "text": [
      "[after preprocess]:this ability triggers only once each turn .\n",
      "[after preprocess]:{t} , sacrifice an artifact : add an amount of {r} equal to the sacrificed artifact 's mana value .\n"
     ]
    },
    {
     "name": "stderr",
     "output_type": "stream",
     "text": [
      "  8%|▊         | 8/100 [00:03<00:35,  2.56it/s]"
     ]
    },
    {
     "name": "stdout",
     "output_type": "stream",
     "text": [
      "[after preprocess]:spend this mana only to cast artifact spells or activate abilities of artifacts .\n",
      "[after preprocess]:flying\n",
      "[after preprocess]:whenever you cast a non creature spell , put an <1> counter on <0> .\n"
     ]
    },
    {
     "name": "stderr",
     "output_type": "stream",
     "text": [
      "  9%|▉         | 9/100 [00:03<00:35,  2.60it/s]"
     ]
    },
    {
     "name": "stdout",
     "output_type": "stream",
     "text": [
      "[after preprocess]:{u} , remove an <1> counter from <0> : draw a card , then scry 2 .\n",
      "[after preprocess]:when <0> enters the battlefield , create a 3 / 3 colorless phyrexian golem artifact creature token .\n",
      "[after preprocess]:at the beginning of your end step , if three or more artifacts entered the battlefield under your control this turn , create a 3 / 3 colorless phyrexian golem artifact creature token .\n"
     ]
    },
    {
     "name": "stderr",
     "output_type": "stream",
     "text": [
      " 10%|█         | 10/100 [00:04<00:36,  2.46it/s]"
     ]
    },
    {
     "name": "stdout",
     "output_type": "stream",
     "text": [
      "[after preprocess]:{t} , sacrifice an artifact : add an amount of {r} equal to the sacrificed artifact 's mana value .\n",
      "[after preprocess]:spend this mana only to cast artifact spells or activate abilities of artifacts .\n"
     ]
    },
    {
     "name": "stderr",
     "output_type": "stream",
     "text": [
      " 12%|█▏        | 12/100 [00:04<00:27,  3.25it/s]"
     ]
    },
    {
     "name": "stdout",
     "output_type": "stream",
     "text": [
      "[after preprocess]:menace\n",
      "[after preprocess]:toxic 2\n",
      "[after preprocess]:players dealt combat damage by this creature also gets two poison counter .\n",
      "[after preprocess]:trample\n",
      "[after preprocess]:whenever <0> attacks , it gets + x / + x until end of turn , where x is the number of equipped creatures you control .\n"
     ]
    },
    {
     "name": "stderr",
     "output_type": "stream",
     "text": [
      " 13%|█▎        | 13/100 [00:05<00:28,  3.05it/s]"
     ]
    },
    {
     "name": "stdout",
     "output_type": "stream",
     "text": [
      "[after preprocess]:then if <0> 's power is 4 or greater , draw a card .\n",
      "[after preprocess]:for <mirrodin !\n",
      "[after preprocess]:when this equipment enters the battlefield , create a 2 / 2 red <0> creature token , then attach this to it .\n",
      "[after preprocess]:equipped creature gets + 0 / + 1 .\n",
      "[after preprocess]:equip {1} {w}\n",
      "[after preprocess]:{1} {w} : attach to target creature you control .\n"
     ]
    },
    {
     "name": "stderr",
     "output_type": "stream",
     "text": [
      " 14%|█▍        | 14/100 [00:05<00:34,  2.50it/s]"
     ]
    },
    {
     "name": "stdout",
     "output_type": "stream",
     "text": [
      "[after preprocess]:equip only as a sorcery .\n",
      "[after preprocess]:target creature gains deathtouch and indestructible until end of turn .\n",
      "[after preprocess]:damage and effects that say \" destroy \" do n't destroy it .\n"
     ]
    },
    {
     "name": "stderr",
     "output_type": "stream",
     "text": [
      " 15%|█▌        | 15/100 [00:05<00:28,  2.99it/s]"
     ]
    },
    {
     "name": "stdout",
     "output_type": "stream",
     "text": [
      "[after preprocess]:flying\n",
      "[after preprocess]:<0> enters the battlefield with two <1> counters on it .\n",
      "[after preprocess]:<0> gets + 1 / + 1 for each <1> counter on it .\n",
      "[after preprocess]:whenever another creature or artifact you control is put into a graveyard from the battlefield , put an <1> counter on <0> .\n"
     ]
    },
    {
     "name": "stderr",
     "output_type": "stream",
     "text": [
      " 17%|█▋        | 17/100 [00:06<00:26,  3.12it/s]"
     ]
    },
    {
     "name": "stdout",
     "output_type": "stream",
     "text": [
      "[after preprocess]:flying\n",
      "[after preprocess]:<0> 's power is equal to the number of artifacts you control .\n",
      "[after preprocess]:{1} , sacrifice <0> : draw a card .\n",
      "[after preprocess]:{2} {b} , sacrifice <0> : return target creature card from your graveyard to your hand .\n",
      "[after preprocess]:draw a card .\n"
     ]
    },
    {
     "name": "stderr",
     "output_type": "stream",
     "text": [
      " 18%|█▊        | 18/100 [00:06<00:27,  2.93it/s]"
     ]
    },
    {
     "name": "stdout",
     "output_type": "stream",
     "text": [
      "[after preprocess]:activate only as a sorcery .\n",
      "[after preprocess]:this spell costs {1} less to cast for each permanent you control with <0> counters on it .\n"
     ]
    },
    {
     "name": "stderr",
     "output_type": "stream",
     "text": [
      " 19%|█▉        | 19/100 [00:07<00:29,  2.79it/s]"
     ]
    },
    {
     "name": "stdout",
     "output_type": "stream",
     "text": [
      "[after preprocess]:vigilance\n",
      "[after preprocess]:when <0> enters the battlefield , it deals 1 damage to each creature your opponents control .\n"
     ]
    },
    {
     "name": "stderr",
     "output_type": "stream",
     "text": [
      " 20%|██        | 20/100 [00:07<00:23,  3.38it/s]"
     ]
    },
    {
     "name": "stdout",
     "output_type": "stream",
     "text": [
      "[after preprocess]:deathtouch\n",
      "[after preprocess]:toxic 1\n",
      "[after preprocess]:players dealt combat damage by this creature also get a poison counter .\n",
      "[after preprocess]:<0> enters the battlefield with two <1> counters on it .\n"
     ]
    },
    {
     "name": "stderr",
     "output_type": "stream",
     "text": [
      " 21%|██        | 21/100 [00:07<00:23,  3.30it/s]"
     ]
    },
    {
     "name": "stdout",
     "output_type": "stream",
     "text": [
      "[after preprocess]:remove an <1> counter from <0> : target creature you control gains haste until end of turn .\n",
      "[after preprocess]:lifelink\n",
      "[after preprocess]:whenever another artifact enters the battlefield under your control , <0> gets + 1 / + 1 until end of turn .\n"
     ]
    },
    {
     "name": "stderr",
     "output_type": "stream",
     "text": [
      " 22%|██▏       | 22/100 [00:07<00:21,  3.58it/s]"
     ]
    },
    {
     "name": "stdout",
     "output_type": "stream",
     "text": [
      "[after preprocess]:<0> enters the battlefield with four <1> counters on it .\n",
      "[after preprocess]:<0> has trample as long as it has two or fewer <1> counters on it .\n",
      "[after preprocess]:otherwise , it has hexproof .\n",
      "[after preprocess]:at the beginning of your upkeep , remove an <1> counter from <0> .\n",
      "[after preprocess]:then if it has no <0> counters on it , sacrifice it .\n"
     ]
    },
    {
     "name": "stderr",
     "output_type": "stream",
     "text": [
      " 23%|██▎       | 23/100 [00:08<00:28,  2.68it/s]"
     ]
    },
    {
     "name": "stdout",
     "output_type": "stream",
     "text": [
      "[after preprocess]:return target non land permanent to its owner 's hand .\n",
      "[after preprocess]:if that permanent had mana value 3 or less , proliferate .\n"
     ]
    },
    {
     "name": "stderr",
     "output_type": "stream",
     "text": [
      " 24%|██▍       | 24/100 [00:08<00:28,  2.65it/s]"
     ]
    },
    {
     "name": "stdout",
     "output_type": "stream",
     "text": [
      "[after preprocess]:choose any number of permanents and / or players , then give each another counter of each kind already there .\n",
      "[after preprocess]:other creatures you control get - 1 / - 1 .\n",
      "[after preprocess]:{1} {b} {b} , {t} : return target creature card from your graveyard to the battlefield .\n",
      "[after preprocess]:it gains \" if this creature would leave the battlefield , exile it instead of putting it anywhere else . \" activate only as a sorcery .\n"
     ]
    },
    {
     "name": "stderr",
     "output_type": "stream",
     "text": [
      " 25%|██▌       | 25/100 [00:09<00:29,  2.50it/s]"
     ]
    },
    {
     "name": "stdout",
     "output_type": "stream",
     "text": [
      "[after preprocess]:when <0> enters the battlefield , create two 3 / 3 green phyrexian beast creature tokens with toxic 1 .\n",
      "[after preprocess]:players dealt combat damage by them also get a poison counter .\n",
      "[after preprocess]:corrupted — at the beginning of your upkeep , if an opponent has three or more poison counters , choose a creature you control , then draw cards equal to its total toxic value .\n"
     ]
    },
    {
     "name": "stderr",
     "output_type": "stream",
     "text": [
      " 27%|██▋       | 27/100 [00:10<00:26,  2.74it/s]"
     ]
    },
    {
     "name": "stdout",
     "output_type": "stream",
     "text": [
      "[after preprocess]:target creature gets + 2 / + 2 until end of turn .\n",
      "[after preprocess]:put two <0> counters on it .\n",
      "[after preprocess]:flying\n",
      "[after preprocess]:when <0> enters the battlefield , draw a card , then discard a card .\n"
     ]
    },
    {
     "name": "stderr",
     "output_type": "stream",
     "text": [
      " 28%|██▊       | 28/100 [00:10<00:21,  3.37it/s]"
     ]
    },
    {
     "name": "stdout",
     "output_type": "stream",
     "text": [
      "[after preprocess]:for <mirrodin !\n",
      "[after preprocess]:when this equipment enters the battlefield , create a 2 / 2 red <0> creature token , then attach this to it .\n",
      "[after preprocess]:equipped creature gets + 1 / - 1 .\n",
      "[after preprocess]:equip {1}\n",
      "[after preprocess]:{1} : attach to target creature you control .\n"
     ]
    },
    {
     "name": "stderr",
     "output_type": "stream",
     "text": [
      " 29%|██▉       | 29/100 [00:10<00:24,  2.85it/s]"
     ]
    },
    {
     "name": "stdout",
     "output_type": "stream",
     "text": [
      "[after preprocess]:equip only as a sorcery .\n",
      "[after preprocess]:whenever one or more creatures you control deal combat damage to a player , you may return one of them to its owner 's hand .\n",
      "[after preprocess]:if you do , you may activate loyalty abilities of kaito twice this turn rather than only once .\n",
      "[after preprocess]:+ 1 : up to one target creature ca n't attack or block until your next turn .\n",
      "[after preprocess]:0 : draw a card .\n",
      "[after preprocess]:− 2 : create a 2 / 2 colorless drone artifact creature token with deathtouch and \" when this creature leaves the battlefield , each opponent loses 2 life and you gain 2 life . \"\n"
     ]
    },
    {
     "name": "stderr",
     "output_type": "stream",
     "text": [
      " 30%|███       | 30/100 [00:11<00:36,  1.94it/s]"
     ]
    },
    {
     "name": "stdout",
     "output_type": "stream",
     "text": [
      "[after preprocess]:toxic 1\n",
      "[after preprocess]:players dealt combat damage by this creature also get a poison counter .\n",
      "[after preprocess]:when <0> enters the battlefield , up to one target artifact you control becomes an artifact creature with base power and toughness 4 / 4 for as long as <1> remains on the battlefield .\n"
     ]
    },
    {
     "name": "stderr",
     "output_type": "stream",
     "text": [
      " 31%|███       | 31/100 [00:12<00:34,  1.99it/s]"
     ]
    },
    {
     "name": "stdout",
     "output_type": "stream",
     "text": [
      "[after preprocess]:for <mirrodin !\n",
      "[after preprocess]:when this equipment enters the battlefield , create a 2 / 2 red <0> creature token , then attach this to it .\n",
      "[after preprocess]:equipped creature gets + 2 / + 2 and has flying and haste .\n"
     ]
    },
    {
     "name": "stderr",
     "output_type": "stream",
     "text": [
      " 32%|███▏      | 32/100 [00:12<00:32,  2.12it/s]"
     ]
    },
    {
     "name": "stdout",
     "output_type": "stream",
     "text": [
      "[after preprocess]:equip {3} {r} {r}\n",
      "[after preprocess]:whenever a creature enters the battlefield under your control , if it has one or more <0> counters on it , put an <0> counter on it .\n"
     ]
    },
    {
     "name": "stderr",
     "output_type": "stream",
     "text": [
      " 33%|███▎      | 33/100 [00:12<00:29,  2.25it/s]"
     ]
    },
    {
     "name": "stdout",
     "output_type": "stream",
     "text": [
      "[after preprocess]:creatures you control with <0> counters on them get + 1 / + 1 .\n",
      "[after preprocess]:this spell costs {3} less to cast if you have nine or more cards in your graveyard .\n",
      "[after preprocess]:flying\n",
      "[after preprocess]:when <0> enters the battlefield , exile three cards at random from your graveyard .\n",
      "[after preprocess]:choose a non creature , non land card from among them and copy it .\n"
     ]
    },
    {
     "name": "stderr",
     "output_type": "stream",
     "text": [
      " 34%|███▍      | 34/100 [00:13<00:31,  2.08it/s]"
     ]
    },
    {
     "name": "stdout",
     "output_type": "stream",
     "text": [
      "[after preprocess]:you may cast the copy without paying its mana cost .\n",
      "[after preprocess]:<0> enters the battlefield with four <1> counters on it .\n",
      "[after preprocess]:<0> has trample as long as it has two or fewer <1> counters on it .\n",
      "[after preprocess]:otherwise , it has hexproof .\n",
      "[after preprocess]:at the beginning of your upkeep , remove an <1> counter from <0> .\n",
      "[after preprocess]:then if it has no <0> counters on it , sacrifice it .\n"
     ]
    },
    {
     "name": "stderr",
     "output_type": "stream",
     "text": [
      " 35%|███▌      | 35/100 [00:14<00:32,  1.97it/s]"
     ]
    },
    {
     "name": "stdout",
     "output_type": "stream",
     "text": [
      "[after preprocess]:whenever <0> or another cat enters the battlefield under your control , attach up to one target equipment you control to that creature .\n",
      "[after preprocess]:equipped creatures you control get + 1 / + 1 .\n",
      "[after preprocess]:{3} {w} {w} : create a 2 / 2 white cat creature token .\n"
     ]
    },
    {
     "name": "stderr",
     "output_type": "stream",
     "text": [
      " 36%|███▌      | 36/100 [00:14<00:32,  1.98it/s]"
     ]
    },
    {
     "name": "stdout",
     "output_type": "stream",
     "text": [
      "[after preprocess]:choose one —\n",
      "[after preprocess]:• <0> deals damage equal to the number of creatures you control to target creature or planeswalker .\n",
      "[after preprocess]:• create two 1 / 1 colorless phyrexian mite artifact creature tokens with toxic 1 and \" this creature ca n't block . \"\n"
     ]
    },
    {
     "name": "stderr",
     "output_type": "stream",
     "text": [
      " 37%|███▋      | 37/100 [00:14<00:31,  2.03it/s]"
     ]
    },
    {
     "name": "stdout",
     "output_type": "stream",
     "text": [
      "[after preprocess]:players dealt combat damage by them also get a poison counter .\n",
      "[after preprocess]:equipped creature gets + 2 / + 0 .\n",
      "[after preprocess]:whenever equipped creature attacks , create a 1 / 1 colorless phyrexian mite artifact creature token with toxic 1 and \" this creature ca n't block . \"\n"
     ]
    },
    {
     "name": "stderr",
     "output_type": "stream",
     "text": [
      " 38%|███▊      | 38/100 [00:15<00:30,  2.02it/s]"
     ]
    },
    {
     "name": "stdout",
     "output_type": "stream",
     "text": [
      "[after preprocess]:players dealt combat damage by it also get a poison counter .\n",
      "[after preprocess]:equip {2} {w}\n",
      "[after preprocess]:creatures you control get + 2 / + 2 until end of turn .\n"
     ]
    },
    {
     "name": "stderr",
     "output_type": "stream",
     "text": [
      " 39%|███▉      | 39/100 [00:15<00:25,  2.39it/s]"
     ]
    },
    {
     "name": "stdout",
     "output_type": "stream",
     "text": [
      "[after preprocess]:whenever a creature blocks this turn , its controller gets a poison counter .\n",
      "[after preprocess]:toxic 2\n",
      "[after preprocess]:players dealt combat damage by this creature also get two poison counters .\n"
     ]
    },
    {
     "name": "stderr",
     "output_type": "stream",
     "text": [
      " 40%|████      | 40/100 [00:15<00:19,  3.02it/s]"
     ]
    },
    {
     "name": "stdout",
     "output_type": "stream",
     "text": [
      "[after preprocess]:return target permanent card from your graveyard to your hand .\n",
      "[after preprocess]:proliferate .\n",
      "[after preprocess]:choose any number of permanents and / or players , then give each another counter of each kind already there .\n"
     ]
    },
    {
     "name": "stderr",
     "output_type": "stream",
     "text": [
      " 41%|████      | 41/100 [00:16<00:19,  3.03it/s]"
     ]
    },
    {
     "name": "stdout",
     "output_type": "stream",
     "text": [
      "[after preprocess]:destroy target artifact , enchantment , or creature with flying .\n",
      "[after preprocess]:if that permanent 's mana value was 3 or less , proliferate .\n",
      "[after preprocess]:choose any number of permanents and / or players , then give each another counter of each kind already there .\n"
     ]
    },
    {
     "name": "stderr",
     "output_type": "stream",
     "text": [
      " 42%|████▏     | 42/100 [00:16<00:20,  2.84it/s]"
     ]
    },
    {
     "name": "stdout",
     "output_type": "stream",
     "text": [
      "[after preprocess]:hexproof\n",
      "[after preprocess]:+ 2 : each opponent loses 3 life and you gain 3 life .\n",
      "[after preprocess]:0 : you draw two cards .\n",
      "[after preprocess]:then each opponent may scry 1 .\n",
      "[after preprocess]:− 3 : exile target creature or enchantment .\n",
      "[after preprocess]:if it was n't an aura , create a token that 's a copy of it , except it 's a 1 / 1 white spirit creature with flying in addition to its other types .\n"
     ]
    },
    {
     "name": "stderr",
     "output_type": "stream",
     "text": [
      " 43%|████▎     | 43/100 [00:17<00:23,  2.41it/s]"
     ]
    },
    {
     "name": "stdout",
     "output_type": "stream",
     "text": [
      "[after preprocess]:you gain x life .\n",
      "[after preprocess]:create x 1 / 1 colorless phyrexian mite artifact creature tokens with toxic 1 and \" this creature ca n't block . \" if x is 5 or more , destroy all other creatures .\n"
     ]
    },
    {
     "name": "stderr",
     "output_type": "stream",
     "text": [
      " 44%|████▍     | 44/100 [00:17<00:23,  2.36it/s]"
     ]
    },
    {
     "name": "stdout",
     "output_type": "stream",
     "text": [
      "[after preprocess]:players dealt combat damage by a creature with toxic 1 also get a poison counter .\n",
      "[after preprocess]:this spell costs {3} more to cast if it targets a creature .\n"
     ]
    },
    {
     "name": "stderr",
     "output_type": "stream",
     "text": [
      " 45%|████▌     | 45/100 [00:17<00:19,  2.80it/s]"
     ]
    },
    {
     "name": "stdout",
     "output_type": "stream",
     "text": [
      "[after preprocess]:exile target non land permanent .\n",
      "[after preprocess]:compleated\n",
      "[after preprocess]:{u/p} can be paid with {u} or 2 life .\n",
      "[after preprocess]:if life was paid , this planeswalker enters with two fewer loyalty counters .\n",
      "[after preprocess]:+ 1 : until your next turn , up to one target creature gets - 3 / - 0 .\n",
      "[after preprocess]:− 2 : target player mills three cards .\n",
      "[after preprocess]:then if a graveyard has twenty or more cards in it , you draw three cards .\n",
      "[after preprocess]:otherwise , you draw a card .\n",
      "[after preprocess]:− x : target player mills three times x cards .\n"
     ]
    },
    {
     "name": "stderr",
     "output_type": "stream",
     "text": [
      " 46%|████▌     | 46/100 [00:18<00:26,  2.05it/s]"
     ]
    },
    {
     "name": "stdout",
     "output_type": "stream",
     "text": [
      "[after preprocess]:{1} , sacrifice <0> : draw a card .\n",
      "[after preprocess]:{2} {g} , sacrifice <0> : target creature you control gets + 3 / + 3 and gains trample until end of turn .\n"
     ]
    },
    {
     "name": "stderr",
     "output_type": "stream",
     "text": [
      " 46%|████▌     | 46/100 [00:18<00:22,  2.45it/s]\n"
     ]
    },
    {
     "ename": "KeyboardInterrupt",
     "evalue": "",
     "output_type": "error",
     "traceback": [
      "\u001b[1;31m---------------------------------------------------------------------------\u001b[0m",
      "\u001b[1;31mKeyboardInterrupt\u001b[0m                         Traceback (most recent call last)",
      "Cell \u001b[1;32mIn[13], line 2\u001b[0m\n\u001b[0;32m      1\u001b[0m \u001b[39mfrom\u001b[39;00m \u001b[39mutils\u001b[39;00m \u001b[39mimport\u001b[39;00m calculate_testset_bleu\n\u001b[1;32m----> 2\u001b[0m calculate_testset_bleu(\u001b[39mlist\u001b[39;49m(test_data)[:\u001b[39m100\u001b[39;49m], CT)\n",
      "File \u001b[1;32md:\\Desktop\\mtg-cards-translation\\utils\\__init__.py:126\u001b[0m, in \u001b[0;36mcalculate_testset_bleu\u001b[1;34m(TestSet, CT)\u001b[0m\n\u001b[0;32m    124\u001b[0m \u001b[39mfor\u001b[39;00m t \u001b[39min\u001b[39;00m tqdm(TestSet, total\u001b[39m=\u001b[39m\u001b[39mlen\u001b[39m(TestSet)):\n\u001b[0;32m    125\u001b[0m     trgs\u001b[39m.\u001b[39mappend([tokenize_for_bleu(\u001b[39m'\u001b[39m\u001b[39m'\u001b[39m\u001b[39m.\u001b[39mjoin(t\u001b[39m.\u001b[39mtrg))])\n\u001b[1;32m--> 126\u001b[0m     pred \u001b[39m=\u001b[39m CT\u001b[39m.\u001b[39;49mtranslate(\u001b[39m'\u001b[39;49m\u001b[39m \u001b[39;49m\u001b[39m'\u001b[39;49m\u001b[39m.\u001b[39;49mjoin(t\u001b[39m.\u001b[39;49msrc))\n\u001b[0;32m    127\u001b[0m     pred \u001b[39m=\u001b[39m [x\u001b[39m.\u001b[39mreplace(\u001b[39m'\u001b[39m\u001b[39m \u001b[39m\u001b[39m'\u001b[39m, \u001b[39m'\u001b[39m\u001b[39m_\u001b[39m\u001b[39m'\u001b[39m) \u001b[39mfor\u001b[39;00m x \u001b[39min\u001b[39;00m tokenize_for_bleu(pred)]\n\u001b[0;32m    128\u001b[0m     pred_trgs\u001b[39m.\u001b[39mappend(pred)\n",
      "File \u001b[1;32md:\\Desktop\\mtg-cards-translation\\utils\\translate.py:63\u001b[0m, in \u001b[0;36mCardTranslator.translate\u001b[1;34m(self, text)\u001b[0m\n\u001b[0;32m     61\u001b[0m \u001b[39mif\u001b[39;00m \u001b[39mself\u001b[39m\u001b[39m.\u001b[39mpreprocess:\n\u001b[0;32m     62\u001b[0m     sent \u001b[39m=\u001b[39m \u001b[39mself\u001b[39m\u001b[39m.\u001b[39mpreprocess(sent)\n\u001b[1;32m---> 63\u001b[0m sent, _ \u001b[39m=\u001b[39m \u001b[39mself\u001b[39;49m\u001b[39m.\u001b[39;49msent_translator\u001b[39m.\u001b[39;49mtranslate(sent)\n\u001b[0;32m     64\u001b[0m sent \u001b[39m=\u001b[39m \u001b[39m'\u001b[39m\u001b[39m'\u001b[39m\u001b[39m.\u001b[39mjoin(sent[\u001b[39m0\u001b[39m][:\u001b[39m-\u001b[39m\u001b[39m1\u001b[39m])\n\u001b[0;32m     65\u001b[0m \u001b[39mif\u001b[39;00m \u001b[39mself\u001b[39m\u001b[39m.\u001b[39mpostprocess:\n",
      "File \u001b[1;32md:\\Desktop\\mtg-cards-translation\\utils\\translate.py:17\u001b[0m, in \u001b[0;36mTranslator.translate\u001b[1;34m(self, text, max_len, beam_size)\u001b[0m\n\u001b[0;32m     12\u001b[0m \u001b[39mdef\u001b[39;00m \u001b[39mtranslate\u001b[39m(\u001b[39mself\u001b[39m, text: \u001b[39mstr\u001b[39m, max_len: \u001b[39mint\u001b[39m \u001b[39m=\u001b[39m \u001b[39m50\u001b[39m, beam_size: \u001b[39mint\u001b[39m \u001b[39m=\u001b[39m \u001b[39m3\u001b[39m):\n\u001b[0;32m     13\u001b[0m \u001b[39m    \u001b[39m\u001b[39m\"\"\"\u001b[39;00m\n\u001b[0;32m     14\u001b[0m \u001b[39m    Returns a tuple[list[list[str]], list[float]], where the first\u001b[39;00m\n\u001b[0;32m     15\u001b[0m \u001b[39m    list is topk translations, the second is their corresponding probabilities.\u001b[39;00m\n\u001b[0;32m     16\u001b[0m \u001b[39m    \"\"\"\u001b[39;00m\n\u001b[1;32m---> 17\u001b[0m     \u001b[39mreturn\u001b[39;00m \u001b[39mself\u001b[39;49m\u001b[39m.\u001b[39;49mbeam_search(text, \u001b[39mself\u001b[39;49m\u001b[39m.\u001b[39;49msrc_field, \u001b[39mself\u001b[39;49m\u001b[39m.\u001b[39;49mtrg_field, \u001b[39mself\u001b[39;49m\u001b[39m.\u001b[39;49mmodel, \u001b[39mself\u001b[39;49m\u001b[39m.\u001b[39;49mdevice,\n\u001b[0;32m     18\u001b[0m                             max_len\u001b[39m=\u001b[39;49mmax_len, beam_size\u001b[39m=\u001b[39;49mbeam_size)[:\u001b[39m2\u001b[39m]\n",
      "File \u001b[1;32md:\\Desktop\\mtg-cards-translation\\models\\model4\\definition.py:289\u001b[0m, in \u001b[0;36mbeam_search\u001b[1;34m(sentence, src_field, trg_field, model, device, max_len, beam_size, print_per_step, branch_size)\u001b[0m\n\u001b[0;32m    286\u001b[0m trg_tensor \u001b[39m=\u001b[39m torch\u001b[39m.\u001b[39mLongTensor([cur_list[\u001b[39m-\u001b[39m\u001b[39m1\u001b[39m]])\u001b[39m.\u001b[39mto(device)\n\u001b[0;32m    288\u001b[0m \u001b[39mwith\u001b[39;00m torch\u001b[39m.\u001b[39mno_grad():\n\u001b[1;32m--> 289\u001b[0m     output, hidden, attention \u001b[39m=\u001b[39m model\u001b[39m.\u001b[39;49mdecoder(trg_tensor, cur_hid, encoder_outputs, mask)\n\u001b[0;32m    290\u001b[0m     output \u001b[39m=\u001b[39m F\u001b[39m.\u001b[39msoftmax(output, dim\u001b[39m=\u001b[39m\u001b[39m1\u001b[39m)\n\u001b[0;32m    291\u001b[0m cur_attentions \u001b[39m=\u001b[39m cur_att\u001b[39m.\u001b[39mclone()\n",
      "File \u001b[1;32md:\\Miniconda3\\envs\\seq2seq\\lib\\site-packages\\torch\\nn\\modules\\module.py:1051\u001b[0m, in \u001b[0;36mModule._call_impl\u001b[1;34m(self, *input, **kwargs)\u001b[0m\n\u001b[0;32m   1047\u001b[0m \u001b[39m# If we don't have any hooks, we want to skip the rest of the logic in\u001b[39;00m\n\u001b[0;32m   1048\u001b[0m \u001b[39m# this function, and just call forward.\u001b[39;00m\n\u001b[0;32m   1049\u001b[0m \u001b[39mif\u001b[39;00m \u001b[39mnot\u001b[39;00m (\u001b[39mself\u001b[39m\u001b[39m.\u001b[39m_backward_hooks \u001b[39mor\u001b[39;00m \u001b[39mself\u001b[39m\u001b[39m.\u001b[39m_forward_hooks \u001b[39mor\u001b[39;00m \u001b[39mself\u001b[39m\u001b[39m.\u001b[39m_forward_pre_hooks \u001b[39mor\u001b[39;00m _global_backward_hooks\n\u001b[0;32m   1050\u001b[0m         \u001b[39mor\u001b[39;00m _global_forward_hooks \u001b[39mor\u001b[39;00m _global_forward_pre_hooks):\n\u001b[1;32m-> 1051\u001b[0m     \u001b[39mreturn\u001b[39;00m forward_call(\u001b[39m*\u001b[39m\u001b[39minput\u001b[39m, \u001b[39m*\u001b[39m\u001b[39m*\u001b[39mkwargs)\n\u001b[0;32m   1052\u001b[0m \u001b[39m# Do not call functions when jit is used\u001b[39;00m\n\u001b[0;32m   1053\u001b[0m full_backward_hooks, non_full_backward_hooks \u001b[39m=\u001b[39m [], []\n",
      "File \u001b[1;32md:\\Desktop\\mtg-cards-translation\\models\\model4\\definition.py:130\u001b[0m, in \u001b[0;36mDecoder.forward\u001b[1;34m(self, input, hidden, encoder_outputs, mask)\u001b[0m\n\u001b[0;32m    126\u001b[0m embedded \u001b[39m=\u001b[39m \u001b[39mself\u001b[39m\u001b[39m.\u001b[39mdropout(\u001b[39mself\u001b[39m\u001b[39m.\u001b[39membedding(\u001b[39minput\u001b[39m))\n\u001b[0;32m    128\u001b[0m \u001b[39m#embedded = [1, batch size, emb dim]\u001b[39;00m\n\u001b[1;32m--> 130\u001b[0m a \u001b[39m=\u001b[39m \u001b[39mself\u001b[39;49m\u001b[39m.\u001b[39;49mattention(hidden, encoder_outputs, mask)\n\u001b[0;32m    132\u001b[0m \u001b[39m#a = [batch size, src len]\u001b[39;00m\n\u001b[0;32m    134\u001b[0m a \u001b[39m=\u001b[39m a\u001b[39m.\u001b[39munsqueeze(\u001b[39m1\u001b[39m)\n",
      "File \u001b[1;32md:\\Miniconda3\\envs\\seq2seq\\lib\\site-packages\\torch\\nn\\modules\\module.py:1051\u001b[0m, in \u001b[0;36mModule._call_impl\u001b[1;34m(self, *input, **kwargs)\u001b[0m\n\u001b[0;32m   1047\u001b[0m \u001b[39m# If we don't have any hooks, we want to skip the rest of the logic in\u001b[39;00m\n\u001b[0;32m   1048\u001b[0m \u001b[39m# this function, and just call forward.\u001b[39;00m\n\u001b[0;32m   1049\u001b[0m \u001b[39mif\u001b[39;00m \u001b[39mnot\u001b[39;00m (\u001b[39mself\u001b[39m\u001b[39m.\u001b[39m_backward_hooks \u001b[39mor\u001b[39;00m \u001b[39mself\u001b[39m\u001b[39m.\u001b[39m_forward_hooks \u001b[39mor\u001b[39;00m \u001b[39mself\u001b[39m\u001b[39m.\u001b[39m_forward_pre_hooks \u001b[39mor\u001b[39;00m _global_backward_hooks\n\u001b[0;32m   1050\u001b[0m         \u001b[39mor\u001b[39;00m _global_forward_hooks \u001b[39mor\u001b[39;00m _global_forward_pre_hooks):\n\u001b[1;32m-> 1051\u001b[0m     \u001b[39mreturn\u001b[39;00m forward_call(\u001b[39m*\u001b[39m\u001b[39minput\u001b[39m, \u001b[39m*\u001b[39m\u001b[39m*\u001b[39mkwargs)\n\u001b[0;32m   1052\u001b[0m \u001b[39m# Do not call functions when jit is used\u001b[39;00m\n\u001b[0;32m   1053\u001b[0m full_backward_hooks, non_full_backward_hooks \u001b[39m=\u001b[39m [], []\n",
      "File \u001b[1;32md:\\Desktop\\mtg-cards-translation\\models\\model4\\definition.py:87\u001b[0m, in \u001b[0;36mAttention.forward\u001b[1;34m(self, hidden, encoder_outputs, mask)\u001b[0m\n\u001b[0;32m     82\u001b[0m encoder_outputs \u001b[39m=\u001b[39m encoder_outputs\u001b[39m.\u001b[39mpermute(\u001b[39m1\u001b[39m, \u001b[39m0\u001b[39m, \u001b[39m2\u001b[39m)\n\u001b[0;32m     84\u001b[0m \u001b[39m#hidden = [batch size, src len, dec hid dim]\u001b[39;00m\n\u001b[0;32m     85\u001b[0m \u001b[39m#encoder_outputs = [batch size, src len, enc hid dim * 2]\u001b[39;00m\n\u001b[1;32m---> 87\u001b[0m energy \u001b[39m=\u001b[39m torch\u001b[39m.\u001b[39mtanh(\u001b[39mself\u001b[39;49m\u001b[39m.\u001b[39;49mattn(torch\u001b[39m.\u001b[39;49mcat((hidden, encoder_outputs), dim \u001b[39m=\u001b[39;49m \u001b[39m2\u001b[39;49m))) \n\u001b[0;32m     89\u001b[0m \u001b[39m#energy = [batch size, src len, dec hid dim]\u001b[39;00m\n\u001b[0;32m     91\u001b[0m attention \u001b[39m=\u001b[39m \u001b[39mself\u001b[39m\u001b[39m.\u001b[39mv(energy)\u001b[39m.\u001b[39msqueeze(\u001b[39m2\u001b[39m)\n",
      "File \u001b[1;32md:\\Miniconda3\\envs\\seq2seq\\lib\\site-packages\\torch\\nn\\modules\\module.py:1051\u001b[0m, in \u001b[0;36mModule._call_impl\u001b[1;34m(self, *input, **kwargs)\u001b[0m\n\u001b[0;32m   1047\u001b[0m \u001b[39m# If we don't have any hooks, we want to skip the rest of the logic in\u001b[39;00m\n\u001b[0;32m   1048\u001b[0m \u001b[39m# this function, and just call forward.\u001b[39;00m\n\u001b[0;32m   1049\u001b[0m \u001b[39mif\u001b[39;00m \u001b[39mnot\u001b[39;00m (\u001b[39mself\u001b[39m\u001b[39m.\u001b[39m_backward_hooks \u001b[39mor\u001b[39;00m \u001b[39mself\u001b[39m\u001b[39m.\u001b[39m_forward_hooks \u001b[39mor\u001b[39;00m \u001b[39mself\u001b[39m\u001b[39m.\u001b[39m_forward_pre_hooks \u001b[39mor\u001b[39;00m _global_backward_hooks\n\u001b[0;32m   1050\u001b[0m         \u001b[39mor\u001b[39;00m _global_forward_hooks \u001b[39mor\u001b[39;00m _global_forward_pre_hooks):\n\u001b[1;32m-> 1051\u001b[0m     \u001b[39mreturn\u001b[39;00m forward_call(\u001b[39m*\u001b[39m\u001b[39minput\u001b[39m, \u001b[39m*\u001b[39m\u001b[39m*\u001b[39mkwargs)\n\u001b[0;32m   1052\u001b[0m \u001b[39m# Do not call functions when jit is used\u001b[39;00m\n\u001b[0;32m   1053\u001b[0m full_backward_hooks, non_full_backward_hooks \u001b[39m=\u001b[39m [], []\n",
      "File \u001b[1;32md:\\Miniconda3\\envs\\seq2seq\\lib\\site-packages\\torch\\nn\\modules\\linear.py:96\u001b[0m, in \u001b[0;36mLinear.forward\u001b[1;34m(self, input)\u001b[0m\n\u001b[0;32m     95\u001b[0m \u001b[39mdef\u001b[39;00m \u001b[39mforward\u001b[39m(\u001b[39mself\u001b[39m, \u001b[39minput\u001b[39m: Tensor) \u001b[39m-\u001b[39m\u001b[39m>\u001b[39m Tensor:\n\u001b[1;32m---> 96\u001b[0m     \u001b[39mreturn\u001b[39;00m F\u001b[39m.\u001b[39;49mlinear(\u001b[39minput\u001b[39;49m, \u001b[39mself\u001b[39;49m\u001b[39m.\u001b[39;49mweight, \u001b[39mself\u001b[39;49m\u001b[39m.\u001b[39;49mbias)\n",
      "File \u001b[1;32md:\\Miniconda3\\envs\\seq2seq\\lib\\site-packages\\torch\\nn\\functional.py:1847\u001b[0m, in \u001b[0;36mlinear\u001b[1;34m(input, weight, bias)\u001b[0m\n\u001b[0;32m   1845\u001b[0m \u001b[39mif\u001b[39;00m has_torch_function_variadic(\u001b[39minput\u001b[39m, weight):\n\u001b[0;32m   1846\u001b[0m     \u001b[39mreturn\u001b[39;00m handle_torch_function(linear, (\u001b[39minput\u001b[39m, weight), \u001b[39minput\u001b[39m, weight, bias\u001b[39m=\u001b[39mbias)\n\u001b[1;32m-> 1847\u001b[0m \u001b[39mreturn\u001b[39;00m torch\u001b[39m.\u001b[39;49m_C\u001b[39m.\u001b[39;49m_nn\u001b[39m.\u001b[39;49mlinear(\u001b[39minput\u001b[39;49m, weight, bias)\n",
      "\u001b[1;31mKeyboardInterrupt\u001b[0m: "
     ]
    }
   ],
   "source": [
    "from utils import calculate_testset_bleu\n",
    "calculate_testset_bleu(list(test_data)[:100], CT)"
   ]
  }
 ],
 "metadata": {
  "kernelspec": {
   "display_name": "seq2seq",
   "language": "python",
   "name": "python3"
  },
  "language_info": {
   "codemirror_mode": {
    "name": "ipython",
    "version": 3
   },
   "file_extension": ".py",
   "mimetype": "text/x-python",
   "name": "python",
   "nbconvert_exporter": "python",
   "pygments_lexer": "ipython3",
   "version": "3.9.16"
  },
  "orig_nbformat": 4
 },
 "nbformat": 4,
 "nbformat_minor": 2
}
