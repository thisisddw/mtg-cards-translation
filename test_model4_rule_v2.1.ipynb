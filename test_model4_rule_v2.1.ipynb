{
 "cells": [
  {
   "cell_type": "code",
   "execution_count": 1,
   "metadata": {},
   "outputs": [
    {
     "name": "stderr",
     "output_type": "stream",
     "text": [
      "d:\\Miniconda3\\envs\\seq2seq\\lib\\site-packages\\tqdm\\auto.py:21: TqdmWarning: IProgress not found. Please update jupyter and ipywidgets. See https://ipywidgets.readthedocs.io/en/stable/user_install.html\n",
      "  from .autonotebook import tqdm as notebook_tqdm\n"
     ]
    }
   ],
   "source": [
    "import torch\n",
    "import torch.nn as nn\n",
    "import torch.optim as optim\n",
    "import torch.nn.functional as F\n",
    "\n",
    "from torchtext.legacy.data import Field, TabularDataset, BucketIterator\n",
    "\n",
    "from dataset.mtgcards import RuleText\n",
    "from utils.preprocess import fields_for_rule_text\n",
    "\n",
    "import random\n",
    "import math\n",
    "import time\n",
    "import os"
   ]
  },
  {
   "cell_type": "code",
   "execution_count": 2,
   "metadata": {},
   "outputs": [],
   "source": [
    "SRC, TRG = fields_for_rule_text()\n",
    "fields = {'src': ('src', SRC), 'trg': ('trg', TRG)}\n",
    "\n",
    "train_data, valid_data, test_data = RuleText.splits(fields=fields, version='v2.1')"
   ]
  },
  {
   "cell_type": "code",
   "execution_count": 3,
   "metadata": {},
   "outputs": [
    {
     "name": "stdout",
     "output_type": "stream",
     "text": [
      "Unique tokens in source (en) vocabulary: 1475\n",
      "Unique tokens in target (zh) vocabulary: 2306\n",
      "['this', 'effect', 'reduces', 'only', 'the', 'amount', 'of', 'white', 'mana', 'you', 'pay', '.'] ['此', '效应', '仅', '减少', '你', '支付', '的', '白色', '法术力', '数量', '。']\n",
      "['{', '2', '}', '{', 'r', '}', ':', '<', '8', '>', 'gets', '+', '2', '/', '+', '0', 'until', 'end', 'of', 'turn', '.'] ['{', '2', '}', '{', 'r', '}', '：', '<', '8', '>', '得', '+', '2', '/', '+', '0', '直到', '回合', '结束', '。']\n",
      "['then', 'that', 'player', 'shuffles', '.'] ['然后', '该', '牌手', '将', '其', '牌库', '洗牌', '。']\n"
     ]
    }
   ],
   "source": [
    "SRC.build_vocab(train_data, min_freq = 2)\n",
    "TRG.build_vocab(train_data, min_freq = 2)\n",
    "print(f\"Unique tokens in source (en) vocabulary: {len(SRC.vocab)}\")\n",
    "print(f\"Unique tokens in target (zh) vocabulary: {len(TRG.vocab)}\")\n",
    "\n",
    "for x in random.sample(list(train_data), 3):\n",
    "    print(x.src, x.trg)"
   ]
  },
  {
   "cell_type": "code",
   "execution_count": 4,
   "metadata": {},
   "outputs": [
    {
     "name": "stdout",
     "output_type": "stream",
     "text": [
      "cpu\n",
      "\n",
      "[torchtext.legacy.data.batch.Batch of size 128]\n",
      "\t[.src]:('[torch.LongTensor of size 6x128]', '[torch.LongTensor of size 128]')\n",
      "\t[.trg]:[torch.LongTensor of size 8x128]\n"
     ]
    }
   ],
   "source": [
    "device = torch.device('cuda' if torch.cuda.is_available() else 'cpu')\n",
    "print(device)\n",
    "BATCH_SIZE = 128\n",
    "\n",
    "train_iterator, valid_iterator, test_iterator = BucketIterator.splits(\n",
    "    (train_data, valid_data, test_data), \n",
    "    batch_size = BATCH_SIZE, \n",
    "    sort_within_batch = True,\n",
    "    sort_key = lambda x: len(x.src),\n",
    "    device = device)\n",
    "\n",
    "tmp = next(iter(train_iterator))\n",
    "print(tmp)"
   ]
  },
  {
   "cell_type": "code",
   "execution_count": 5,
   "metadata": {},
   "outputs": [],
   "source": [
    "from models.model4.definition import Encoder, Attention, Decoder, Seq2Seq\n",
    "from models.model4.train import init_weights, train, evaluate\n",
    "from utils import count_parameters, train_loop"
   ]
  },
  {
   "cell_type": "code",
   "execution_count": 6,
   "metadata": {},
   "outputs": [
    {
     "name": "stdout",
     "output_type": "stream",
     "text": [
      "The model has 11,535,874 trainable parameters\n"
     ]
    }
   ],
   "source": [
    "INPUT_DIM = len(SRC.vocab)\n",
    "OUTPUT_DIM = len(TRG.vocab)\n",
    "ENC_EMB_DIM = 256\n",
    "DEC_EMB_DIM = 256\n",
    "ENC_HID_DIM = 512\n",
    "DEC_HID_DIM = 512\n",
    "ENC_DROPOUT = 0.5\n",
    "DEC_DROPOUT = 0.5\n",
    "SRC_PAD_IDX = SRC.vocab.stoi[SRC.pad_token]\n",
    "\n",
    "attn = Attention(ENC_HID_DIM, DEC_HID_DIM)\n",
    "enc = Encoder(INPUT_DIM, ENC_EMB_DIM, ENC_HID_DIM, DEC_HID_DIM, ENC_DROPOUT)\n",
    "dec = Decoder(OUTPUT_DIM, DEC_EMB_DIM, ENC_HID_DIM, DEC_HID_DIM, DEC_DROPOUT, attn)\n",
    "\n",
    "model = Seq2Seq(enc, dec, SRC_PAD_IDX, device).to(device)\n",
    "\n",
    "model.apply(init_weights)\n",
    "\n",
    "print(f'The model has {count_parameters(model):,} trainable parameters')"
   ]
  },
  {
   "cell_type": "code",
   "execution_count": 7,
   "metadata": {},
   "outputs": [
    {
     "name": "stdout",
     "output_type": "stream",
     "text": [
      "model will be saved to result/model4-rule-v2.1.pt\n",
      "load model parameters from result/model4-rule-v2.1.pt\n",
      "Val. Loss: 1.203 |  Val. PPL:   3.331\n"
     ]
    },
    {
     "name": "stderr",
     "output_type": "stream",
     "text": [
      "  0%|          | 0/291 [00:00<?, ?it/s]\n"
     ]
    },
    {
     "ename": "KeyboardInterrupt",
     "evalue": "",
     "output_type": "error",
     "traceback": [
      "\u001b[1;31m---------------------------------------------------------------------------\u001b[0m",
      "\u001b[1;31mKeyboardInterrupt\u001b[0m                         Traceback (most recent call last)",
      "Cell \u001b[1;32mIn[7], line 5\u001b[0m\n\u001b[0;32m      2\u001b[0m TRG_PAD_IDX \u001b[39m=\u001b[39m TRG\u001b[39m.\u001b[39mvocab\u001b[39m.\u001b[39mstoi[TRG\u001b[39m.\u001b[39mpad_token]\n\u001b[0;32m      3\u001b[0m criterion \u001b[39m=\u001b[39m nn\u001b[39m.\u001b[39mCrossEntropyLoss(ignore_index \u001b[39m=\u001b[39m TRG_PAD_IDX)\n\u001b[1;32m----> 5\u001b[0m train_loop(model, optimizer, criterion, train, evaluate,\n\u001b[0;32m      6\u001b[0m            train_iterator, valid_iterator, \n\u001b[0;32m      7\u001b[0m            save_path\u001b[39m=\u001b[39;49m\u001b[39m'\u001b[39;49m\u001b[39mresult/\u001b[39;49m\u001b[39m'\u001b[39;49m, file_name\u001b[39m=\u001b[39;49m\u001b[39m'\u001b[39;49m\u001b[39mmodel4-rule-v2.1.pt\u001b[39;49m\u001b[39m'\u001b[39;49m, load_before_train\u001b[39m=\u001b[39;49m\u001b[39mTrue\u001b[39;49;00m)\n",
      "File \u001b[1;32md:\\Desktop\\mtg-cards-translation\\utils\\__init__.py:39\u001b[0m, in \u001b[0;36mtrain_loop\u001b[1;34m(model, optimizer, criterion, train, evaluate, train_iterator, valid_iterator, N_EPOCHS, CLIP, save_path, file_name, load_before_train)\u001b[0m\n\u001b[0;32m     35\u001b[0m \u001b[39mfor\u001b[39;00m epoch \u001b[39min\u001b[39;00m \u001b[39mrange\u001b[39m(N_EPOCHS):\n\u001b[0;32m     37\u001b[0m     start_time \u001b[39m=\u001b[39m time\u001b[39m.\u001b[39mtime()\n\u001b[1;32m---> 39\u001b[0m     train_loss \u001b[39m=\u001b[39m train(model, train_iterator, optimizer, criterion, CLIP)\n\u001b[0;32m     40\u001b[0m     valid_loss \u001b[39m=\u001b[39m evaluate(model, valid_iterator, criterion)\n\u001b[0;32m     42\u001b[0m     end_time \u001b[39m=\u001b[39m time\u001b[39m.\u001b[39mtime()\n",
      "File \u001b[1;32md:\\Desktop\\mtg-cards-translation\\models\\model4\\train.py:46\u001b[0m, in \u001b[0;36mtrain\u001b[1;34m(model, iterator, optimizer, criterion, clip)\u001b[0m\n\u001b[0;32m     42\u001b[0m trg \u001b[39m=\u001b[39m batch\u001b[39m.\u001b[39mtrg\n\u001b[0;32m     44\u001b[0m optimizer\u001b[39m.\u001b[39mzero_grad()\n\u001b[1;32m---> 46\u001b[0m output \u001b[39m=\u001b[39m model(src, src_len, trg)\n\u001b[0;32m     48\u001b[0m \u001b[39m#trg = [trg len, batch size]\u001b[39;00m\n\u001b[0;32m     49\u001b[0m \u001b[39m#output = [trg len, batch size, output dim]\u001b[39;00m\n\u001b[0;32m     51\u001b[0m output_dim \u001b[39m=\u001b[39m output\u001b[39m.\u001b[39mshape[\u001b[39m-\u001b[39m\u001b[39m1\u001b[39m]\n",
      "File \u001b[1;32md:\\Miniconda3\\envs\\seq2seq\\lib\\site-packages\\torch\\nn\\modules\\module.py:1051\u001b[0m, in \u001b[0;36mModule._call_impl\u001b[1;34m(self, *input, **kwargs)\u001b[0m\n\u001b[0;32m   1047\u001b[0m \u001b[39m# If we don't have any hooks, we want to skip the rest of the logic in\u001b[39;00m\n\u001b[0;32m   1048\u001b[0m \u001b[39m# this function, and just call forward.\u001b[39;00m\n\u001b[0;32m   1049\u001b[0m \u001b[39mif\u001b[39;00m \u001b[39mnot\u001b[39;00m (\u001b[39mself\u001b[39m\u001b[39m.\u001b[39m_backward_hooks \u001b[39mor\u001b[39;00m \u001b[39mself\u001b[39m\u001b[39m.\u001b[39m_forward_hooks \u001b[39mor\u001b[39;00m \u001b[39mself\u001b[39m\u001b[39m.\u001b[39m_forward_pre_hooks \u001b[39mor\u001b[39;00m _global_backward_hooks\n\u001b[0;32m   1050\u001b[0m         \u001b[39mor\u001b[39;00m _global_forward_hooks \u001b[39mor\u001b[39;00m _global_forward_pre_hooks):\n\u001b[1;32m-> 1051\u001b[0m     \u001b[39mreturn\u001b[39;00m forward_call(\u001b[39m*\u001b[39m\u001b[39minput\u001b[39m, \u001b[39m*\u001b[39m\u001b[39m*\u001b[39mkwargs)\n\u001b[0;32m   1052\u001b[0m \u001b[39m# Do not call functions when jit is used\u001b[39;00m\n\u001b[0;32m   1053\u001b[0m full_backward_hooks, non_full_backward_hooks \u001b[39m=\u001b[39m [], []\n",
      "File \u001b[1;32md:\\Desktop\\mtg-cards-translation\\models\\model4\\definition.py:220\u001b[0m, in \u001b[0;36mSeq2Seq.forward\u001b[1;34m(self, src, src_len, trg, teacher_forcing_ratio)\u001b[0m\n\u001b[0;32m    213\u001b[0m \u001b[39m#mask = [batch size, src len]\u001b[39;00m\n\u001b[0;32m    215\u001b[0m \u001b[39mfor\u001b[39;00m t \u001b[39min\u001b[39;00m \u001b[39mrange\u001b[39m(\u001b[39m1\u001b[39m, trg_len):\n\u001b[0;32m    216\u001b[0m     \n\u001b[0;32m    217\u001b[0m     \u001b[39m#insert input token embedding, previous hidden state, all encoder hidden states \u001b[39;00m\n\u001b[0;32m    218\u001b[0m     \u001b[39m#  and mask\u001b[39;00m\n\u001b[0;32m    219\u001b[0m     \u001b[39m#receive output tensor (predictions) and new hidden state\u001b[39;00m\n\u001b[1;32m--> 220\u001b[0m     output, hidden, _ \u001b[39m=\u001b[39m \u001b[39mself\u001b[39;49m\u001b[39m.\u001b[39;49mdecoder(\u001b[39minput\u001b[39;49m, hidden, encoder_outputs, mask)\n\u001b[0;32m    222\u001b[0m     \u001b[39m#place predictions in a tensor holding predictions for each token\u001b[39;00m\n\u001b[0;32m    223\u001b[0m     outputs[t] \u001b[39m=\u001b[39m output\n",
      "File \u001b[1;32md:\\Miniconda3\\envs\\seq2seq\\lib\\site-packages\\torch\\nn\\modules\\module.py:1051\u001b[0m, in \u001b[0;36mModule._call_impl\u001b[1;34m(self, *input, **kwargs)\u001b[0m\n\u001b[0;32m   1047\u001b[0m \u001b[39m# If we don't have any hooks, we want to skip the rest of the logic in\u001b[39;00m\n\u001b[0;32m   1048\u001b[0m \u001b[39m# this function, and just call forward.\u001b[39;00m\n\u001b[0;32m   1049\u001b[0m \u001b[39mif\u001b[39;00m \u001b[39mnot\u001b[39;00m (\u001b[39mself\u001b[39m\u001b[39m.\u001b[39m_backward_hooks \u001b[39mor\u001b[39;00m \u001b[39mself\u001b[39m\u001b[39m.\u001b[39m_forward_hooks \u001b[39mor\u001b[39;00m \u001b[39mself\u001b[39m\u001b[39m.\u001b[39m_forward_pre_hooks \u001b[39mor\u001b[39;00m _global_backward_hooks\n\u001b[0;32m   1050\u001b[0m         \u001b[39mor\u001b[39;00m _global_forward_hooks \u001b[39mor\u001b[39;00m _global_forward_pre_hooks):\n\u001b[1;32m-> 1051\u001b[0m     \u001b[39mreturn\u001b[39;00m forward_call(\u001b[39m*\u001b[39m\u001b[39minput\u001b[39m, \u001b[39m*\u001b[39m\u001b[39m*\u001b[39mkwargs)\n\u001b[0;32m   1052\u001b[0m \u001b[39m# Do not call functions when jit is used\u001b[39;00m\n\u001b[0;32m   1053\u001b[0m full_backward_hooks, non_full_backward_hooks \u001b[39m=\u001b[39m [], []\n",
      "File \u001b[1;32md:\\Desktop\\mtg-cards-translation\\models\\model4\\definition.py:130\u001b[0m, in \u001b[0;36mDecoder.forward\u001b[1;34m(self, input, hidden, encoder_outputs, mask)\u001b[0m\n\u001b[0;32m    126\u001b[0m embedded \u001b[39m=\u001b[39m \u001b[39mself\u001b[39m\u001b[39m.\u001b[39mdropout(\u001b[39mself\u001b[39m\u001b[39m.\u001b[39membedding(\u001b[39minput\u001b[39m))\n\u001b[0;32m    128\u001b[0m \u001b[39m#embedded = [1, batch size, emb dim]\u001b[39;00m\n\u001b[1;32m--> 130\u001b[0m a \u001b[39m=\u001b[39m \u001b[39mself\u001b[39;49m\u001b[39m.\u001b[39;49mattention(hidden, encoder_outputs, mask)\n\u001b[0;32m    132\u001b[0m \u001b[39m#a = [batch size, src len]\u001b[39;00m\n\u001b[0;32m    134\u001b[0m a \u001b[39m=\u001b[39m a\u001b[39m.\u001b[39munsqueeze(\u001b[39m1\u001b[39m)\n",
      "File \u001b[1;32md:\\Miniconda3\\envs\\seq2seq\\lib\\site-packages\\torch\\nn\\modules\\module.py:1051\u001b[0m, in \u001b[0;36mModule._call_impl\u001b[1;34m(self, *input, **kwargs)\u001b[0m\n\u001b[0;32m   1047\u001b[0m \u001b[39m# If we don't have any hooks, we want to skip the rest of the logic in\u001b[39;00m\n\u001b[0;32m   1048\u001b[0m \u001b[39m# this function, and just call forward.\u001b[39;00m\n\u001b[0;32m   1049\u001b[0m \u001b[39mif\u001b[39;00m \u001b[39mnot\u001b[39;00m (\u001b[39mself\u001b[39m\u001b[39m.\u001b[39m_backward_hooks \u001b[39mor\u001b[39;00m \u001b[39mself\u001b[39m\u001b[39m.\u001b[39m_forward_hooks \u001b[39mor\u001b[39;00m \u001b[39mself\u001b[39m\u001b[39m.\u001b[39m_forward_pre_hooks \u001b[39mor\u001b[39;00m _global_backward_hooks\n\u001b[0;32m   1050\u001b[0m         \u001b[39mor\u001b[39;00m _global_forward_hooks \u001b[39mor\u001b[39;00m _global_forward_pre_hooks):\n\u001b[1;32m-> 1051\u001b[0m     \u001b[39mreturn\u001b[39;00m forward_call(\u001b[39m*\u001b[39m\u001b[39minput\u001b[39m, \u001b[39m*\u001b[39m\u001b[39m*\u001b[39mkwargs)\n\u001b[0;32m   1052\u001b[0m \u001b[39m# Do not call functions when jit is used\u001b[39;00m\n\u001b[0;32m   1053\u001b[0m full_backward_hooks, non_full_backward_hooks \u001b[39m=\u001b[39m [], []\n",
      "File \u001b[1;32md:\\Desktop\\mtg-cards-translation\\models\\model4\\definition.py:87\u001b[0m, in \u001b[0;36mAttention.forward\u001b[1;34m(self, hidden, encoder_outputs, mask)\u001b[0m\n\u001b[0;32m     82\u001b[0m encoder_outputs \u001b[39m=\u001b[39m encoder_outputs\u001b[39m.\u001b[39mpermute(\u001b[39m1\u001b[39m, \u001b[39m0\u001b[39m, \u001b[39m2\u001b[39m)\n\u001b[0;32m     84\u001b[0m \u001b[39m#hidden = [batch size, src len, dec hid dim]\u001b[39;00m\n\u001b[0;32m     85\u001b[0m \u001b[39m#encoder_outputs = [batch size, src len, enc hid dim * 2]\u001b[39;00m\n\u001b[1;32m---> 87\u001b[0m energy \u001b[39m=\u001b[39m torch\u001b[39m.\u001b[39mtanh(\u001b[39mself\u001b[39;49m\u001b[39m.\u001b[39;49mattn(torch\u001b[39m.\u001b[39;49mcat((hidden, encoder_outputs), dim \u001b[39m=\u001b[39;49m \u001b[39m2\u001b[39;49m))) \n\u001b[0;32m     89\u001b[0m \u001b[39m#energy = [batch size, src len, dec hid dim]\u001b[39;00m\n\u001b[0;32m     91\u001b[0m attention \u001b[39m=\u001b[39m \u001b[39mself\u001b[39m\u001b[39m.\u001b[39mv(energy)\u001b[39m.\u001b[39msqueeze(\u001b[39m2\u001b[39m)\n",
      "File \u001b[1;32md:\\Miniconda3\\envs\\seq2seq\\lib\\site-packages\\torch\\nn\\modules\\module.py:1051\u001b[0m, in \u001b[0;36mModule._call_impl\u001b[1;34m(self, *input, **kwargs)\u001b[0m\n\u001b[0;32m   1047\u001b[0m \u001b[39m# If we don't have any hooks, we want to skip the rest of the logic in\u001b[39;00m\n\u001b[0;32m   1048\u001b[0m \u001b[39m# this function, and just call forward.\u001b[39;00m\n\u001b[0;32m   1049\u001b[0m \u001b[39mif\u001b[39;00m \u001b[39mnot\u001b[39;00m (\u001b[39mself\u001b[39m\u001b[39m.\u001b[39m_backward_hooks \u001b[39mor\u001b[39;00m \u001b[39mself\u001b[39m\u001b[39m.\u001b[39m_forward_hooks \u001b[39mor\u001b[39;00m \u001b[39mself\u001b[39m\u001b[39m.\u001b[39m_forward_pre_hooks \u001b[39mor\u001b[39;00m _global_backward_hooks\n\u001b[0;32m   1050\u001b[0m         \u001b[39mor\u001b[39;00m _global_forward_hooks \u001b[39mor\u001b[39;00m _global_forward_pre_hooks):\n\u001b[1;32m-> 1051\u001b[0m     \u001b[39mreturn\u001b[39;00m forward_call(\u001b[39m*\u001b[39m\u001b[39minput\u001b[39m, \u001b[39m*\u001b[39m\u001b[39m*\u001b[39mkwargs)\n\u001b[0;32m   1052\u001b[0m \u001b[39m# Do not call functions when jit is used\u001b[39;00m\n\u001b[0;32m   1053\u001b[0m full_backward_hooks, non_full_backward_hooks \u001b[39m=\u001b[39m [], []\n",
      "File \u001b[1;32md:\\Miniconda3\\envs\\seq2seq\\lib\\site-packages\\torch\\nn\\modules\\linear.py:96\u001b[0m, in \u001b[0;36mLinear.forward\u001b[1;34m(self, input)\u001b[0m\n\u001b[0;32m     95\u001b[0m \u001b[39mdef\u001b[39;00m \u001b[39mforward\u001b[39m(\u001b[39mself\u001b[39m, \u001b[39minput\u001b[39m: Tensor) \u001b[39m-\u001b[39m\u001b[39m>\u001b[39m Tensor:\n\u001b[1;32m---> 96\u001b[0m     \u001b[39mreturn\u001b[39;00m F\u001b[39m.\u001b[39;49mlinear(\u001b[39minput\u001b[39;49m, \u001b[39mself\u001b[39;49m\u001b[39m.\u001b[39;49mweight, \u001b[39mself\u001b[39;49m\u001b[39m.\u001b[39;49mbias)\n",
      "File \u001b[1;32md:\\Miniconda3\\envs\\seq2seq\\lib\\site-packages\\torch\\nn\\functional.py:1847\u001b[0m, in \u001b[0;36mlinear\u001b[1;34m(input, weight, bias)\u001b[0m\n\u001b[0;32m   1845\u001b[0m \u001b[39mif\u001b[39;00m has_torch_function_variadic(\u001b[39minput\u001b[39m, weight):\n\u001b[0;32m   1846\u001b[0m     \u001b[39mreturn\u001b[39;00m handle_torch_function(linear, (\u001b[39minput\u001b[39m, weight), \u001b[39minput\u001b[39m, weight, bias\u001b[39m=\u001b[39mbias)\n\u001b[1;32m-> 1847\u001b[0m \u001b[39mreturn\u001b[39;00m torch\u001b[39m.\u001b[39;49m_C\u001b[39m.\u001b[39;49m_nn\u001b[39m.\u001b[39;49mlinear(\u001b[39minput\u001b[39;49m, weight, bias)\n",
      "\u001b[1;31mKeyboardInterrupt\u001b[0m: "
     ]
    }
   ],
   "source": [
    "optimizer = optim.Adam(model.parameters())\n",
    "TRG_PAD_IDX = TRG.vocab.stoi[TRG.pad_token]\n",
    "criterion = nn.CrossEntropyLoss(ignore_index = TRG_PAD_IDX)\n",
    "\n",
    "train_loop(model, optimizer, criterion, train, evaluate,\n",
    "           train_iterator, valid_iterator, \n",
    "           save_path='result/', file_name='model4-rule-v2.1.pt', load_before_train=True)"
   ]
  },
  {
   "cell_type": "code",
   "execution_count": 7,
   "metadata": {},
   "outputs": [],
   "source": [
    "from utils.translate import Translator\n",
    "from models.model4.definition import beam_search\n",
    "model.load_state_dict(torch.load('result/model4-rule-v2.1.pt', map_location=torch.device(device)))\n",
    "T = Translator(SRC, TRG, model, device, beam_search)\n",
    "torch.save(T,'result/model4-T-v2.1.pt')"
   ]
  },
  {
   "cell_type": "code",
   "execution_count": 8,
   "metadata": {},
   "outputs": [
    {
     "name": "stdout",
     "output_type": "stream",
     "text": [
      "['目标', '生物', '得', '-', '1', '/', '-', '1', '直到', '回合', '结束', '。', '<eos>']\n",
      "['目标', '生物', '得', '得', '-', '1', '/', '-', '1', '直到', '回合', '结束', '。', '<eos>']\n",
      "['目标', '生物', '得', '1', '/', '-', '1', '直到', '回合', '结束', '。', '<eos>']\n"
     ]
    }
   ],
   "source": [
    "data = 'Whenever <1> becomes attached to a creature, for as long as <1> remains attached to it, you may have that creature become a copy of another target creature you control.'\n",
    "data = 'target creature gets - 1 / - 1 until end of turn .'\n",
    "ret, prob = T.translate(data, max_len=100)\n",
    "print(*ret[:3], sep='\\n')"
   ]
  },
  {
   "cell_type": "code",
   "execution_count": 9,
   "metadata": {},
   "outputs": [
    {
     "name": "stdout",
     "output_type": "stream",
     "text": [
      "Number of samples: 212\n",
      "src: [whenever < 1 > attacks , other humans you control get + 1 / + 0 until end of turn . ] trg = [每当<1>攻击时，由你操控的其他人类得+1/+0直到回合结束。]\n",
      "每当<1>攻击时，由你操控的其他人类得+1/+0直到回合结束。<eos> \t[probability: 0.60869]\n",
      "每当<1>攻击时，由你操控的其他人类生物得+1/+0直到回合结束。<eos> \t[probability: 0.06468]\n",
      "每当<1>攻击时，其他由你操控的其他人类得+1/+0直到回合结束。<eos> \t[probability: 0.03871]\n",
      "\n",
      "src: [channel — { x } { x } { g } { g } , discard shigeki : return x target non legendary cards from your graveyard to your hand . ] trg = [魂力～{x}{x}{g}{g}，弃掉茂树：将x张目标非传奇的牌从你坟墓场移回你手上。]\n",
      "魂力～{x}{x}{g}{g}，弃掉茂树：将x张目标非传奇牌从你的坟墓场移回你手上。<eos> \t[probability: 0.02929]\n",
      "魂力～{x}{x}{g}{g}，弃掉茂树：将x张目标非传奇永久物牌从你的坟墓场移回你手上。<eos> \t[probability: 0.02464]\n",
      "魂力～{x}{x}{g}{g}，弃掉茂树：将x个目标非传奇牌从你的坟墓场移回你手上。<eos> \t[probability: 0.00961]\n",
      "\n",
      "src: [{ 1 } , { t } , sacrifice < 7 > : return target instant or sorcery card from your graveyard to your hand . ] trg = [{1}，{t}，牺牲<7>：将目标瞬间或法术牌从你的坟墓场移回你手上。]\n",
      "{1}，{t}，牺牲<7>：将目标瞬间或法术牌从你的坟墓场移回你手上。<eos> \t[probability: 0.74368]\n",
      "{1}，{t}，牺牲<7>：将目标瞬间或从你的坟墓场移回你手上。<eos> \t[probability: 0.09301]\n",
      "{1}，{t}，牺牲<7>：将目标瞬间或法术牌从你的坟墓场移回你的坟墓场移回你手上。<eos> \t[probability: 0.00598]\n",
      "\n",
      "src: [if this creature has no + 1 / + 1 counters on it , put three + 1 / + 1 counters on it . ] trg = [如果此生物上没有+1/+1指示物，则在其上放置三个+1/+1指示物。]\n",
      "如果此生物上没有+1/+1指示物，则在其上放置三个+1/+1指示物。<eos> \t[probability: 0.70545]\n",
      "如果此生物上没有+1/+1指示物，则则在其上放置三个+1/+1指示物。<eos> \t[probability: 0.01650]\n",
      "如果此生物上没有+1/+1指示物，则改为在其上放置三个+1/+1指示物。<eos> \t[probability: 0.01373]\n",
      "\n",
      "src: [{ 5 } { u } { b } { r } , discard this card : draw a card . ] trg = [{5}{u}{b}{r}，弃掉此牌：抓一张牌。]\n",
      "{5}{u}{b}{r}，弃掉此牌：抓一张牌。<eos> \t[probability: 0.72775]\n",
      "{5}{u}{b}{b}，弃掉此牌：抓一张牌。<eos> \t[probability: 0.04283]\n",
      "{5}{u}{b}{r}，弃一张牌：抓一张牌。<eos> \t[probability: 0.03458]\n",
      "\n",
      "src: [whenever an opponent casts a spell , if < 0 > is suspended , that player may put a time counter on < 0 > . ] trg = [每当对手使用咒语时，若<0>已延缓，则该牌手可以在<0>上放置一个计时指示物。]\n",
      "每当任一对手施放咒语时，若<0>已进行攻击，则该牌手可以在<0>上放置一个计时指示物。<eos> \t[probability: 0.00162]\n",
      "每当任一对手使用咒语时，若<0>已进行攻击，则该牌手可以在<0>上放置一个计时指示物。<eos> \t[probability: 0.00162]\n",
      "每当任一对手施放咒语时，若<0>已进行攻击，则该牌手可以在其上放置一个计时指示物。<eos> \t[probability: 0.00099]\n",
      "\n",
      "src: [whenever this creature becomes the target of a spell or ability an opponent controls , counter it unless that player pays { 2 } . ] trg = [每当它成为由对手操控之咒语或异能的目标时，除非该牌手支付{2}，否则反击之。]\n",
      "每当此生物成为由对手操控之咒语或异能的目标时，除非该牌手支付{2}，否则反击之。<eos> \t[probability: 0.49089]\n",
      "每当此生物成为由对手操控之咒语或异能异能的目标时，除非该牌手支付{2}，否则反击之。<eos> \t[probability: 0.02445]\n",
      "每当此生物成为由对手操控之异能或异能的目标时，除非该牌手支付{2}，否则反击之。<eos> \t[probability: 0.01840]\n",
      "\n",
      "src: [return a creature card from your graveyard to the battlefield , then that player returns a creature card from their graveyard to the battlefield . ] trg = [将一张生物牌从你的坟墓场移回战场，然后该牌手将一张生物牌从他的坟墓场移回战场。]\n",
      "将一张生物牌从你的坟墓场移回战场，然后该牌手将其坟墓场移回其坟墓场移回战场。<eos> \t[probability: 0.01759]\n",
      "将一张生物牌从你的坟墓场移回战场，然后该牌手将其坟墓场中的生物牌移回战场。<eos> \t[probability: 0.00298]\n",
      "将一张生物牌从你的坟墓场移回战场，然后该牌手将其坟墓场中的生物牌从其坟墓场移回战场。<eos> \t[probability: 0.00269]\n",
      "\n",
      "src: [{ 3 } , { t } : tap target creature and put a + 1 / + 1 counter on it . ] trg = [{3}，{t}：横置目标生物，并在上面放置一个+1/+1指示物。]\n",
      "{3}，{t}：横置目标生物并在其上放置一个+1/+1指示物。<eos> \t[probability: 0.36799]\n",
      "{3}，{t}：横置目标生物，并在其上放置一个+1/+1指示物。<eos> \t[probability: 0.14558]\n",
      "{3}，{t}：横置目标生物，在其上放置一个+1/+1指示物。<eos> \t[probability: 0.12555]\n",
      "\n",
      "src: [put x + 1 / + 1 counters on it , where x is the number of basic land types among lands you control . ] trg = [在该衍生物上放置x个+1/+1指示物，x为由你操控之地中基本地类别的数量。]\n",
      "在其上放置x个+1/+1指示物，x为由你操控之地中基本地类别的数量。<eos> \t[probability: 0.22522]\n",
      "在其上放置x个+1/+1指示物，x为由你操控的地中基本地类别的数量。<eos> \t[probability: 0.05504]\n",
      "在其上放置x个+1/+1指示物，x为由你操控之地中基本地类别的数量。。<eos> \t[probability: 0.00719]\n",
      "\n",
      "src: [tap five untapped merfolk you control : put a + 1 / + 1 counter on each merfolk you control . ] trg = [横置五个由你操控且未横置的人鱼：在每个由你操控的人鱼上各放置一个+1/+1指示物。]\n",
      "横置五个由你操控且未横置人鱼：在每个由你操控的人鱼上各放置一个+1/+1指示物。<eos> \t[probability: 0.04401]\n",
      "横置五个由你操控且未横置人鱼：在每个由你操控的人鱼上各放置一个+1/+1指示物。<eos> \t[probability: 0.02673]\n",
      "横置五个由你操控且未横置人鱼：在每个由你操控的人鱼各放置一个+1/+1指示物。<eos> \t[probability: 0.02039]\n",
      "\n",
      "src: [this spell costs { 3 } less to cast if there are ten or more non land permanents on the battlefield . ] trg = [如果战场上有十个或更多的非地永久物，则<5>减少{3}来施放。]\n",
      "如果此咒语上有或更多雪境永久物，则此咒语减少{3}来施放。<eos> \t[probability: 0.00036]\n",
      "如果此咒语或更多或更多雪境永久物，则此咒语减少{3}来施放。<eos> \t[probability: 0.00019]\n",
      "如果此咒语或更多或更多，则此咒语减少{3}来施放。<eos> \t[probability: 0.00011]\n",
      "\n",
      "src: [spend this mana only to cast a creature spell of the chosen type or activate an ability of a creature or creature card of the chosen type . ] trg = [此法术力只能用来施放该类别的生物咒语，或是起动为该类别之生物或生物牌的异能。]\n",
      "此法术力只能用来施放该类别的生物咒语，且不能被该生物类别。<eos> \t[probability: 0.00001]\n",
      "此法术力只能用来施放该类别的生物咒语，且不能被该生物之生物。<eos> \t[probability: 0.00000]\n",
      "此法术力只能用来施放该类别的生物咒语，且不能是该生物之生物。<eos> \t[probability: 0.00000]\n",
      "\n",
      "src: [whenever a creature you control with the chosen name deals combat damage to a player , you may pay { u } . ] trg = [每当一个由你操控且具该名称的生物对任一牌手造成战斗伤害时，你可以支付{u}。]\n",
      "每当一个由你操控且具该名称的生物对任一牌手造成战斗伤害时，你可以支付{u}。<eos> \t[probability: 0.21700]\n",
      "每当一个由你操控且名称该名称的生物对任一牌手造成战斗伤害时，你可以支付{u}。<eos> \t[probability: 0.03546]\n",
      "每当一个由你操控且该名称的生物对任一牌手造成战斗伤害时，你可以支付{u}。<eos> \t[probability: 0.02836]\n",
      "\n",
      "src: [when < 5 > enters the battlefield , if you control two or more forests , you may gain 3 life . ] trg = [当<5>进场时，若你操控两个或更多树林，你可以获得3点生命。]\n",
      "当<5>进战场时，若你操控两个或更多树林，你可以获得3点生命。<eos> \t[probability: 0.16708]\n",
      "当<5>进战场时，若你操控两个或树林，则你可以获得3点生命。<eos> \t[probability: 0.09213]\n",
      "当<5>进战场时，若你操控两个或更多树林，则你可以获得3点生命。<eos> \t[probability: 0.05618]\n",
      "\n",
      "src: [domain — { 7 } { g } : return < 6 > from your graveyard to the battlefield tapped . ] trg = [领土～{7}{g}：将<6>从你的坟墓场横置移回战场。]\n",
      "领土～{7}{g}：将<6>从你的坟墓场横置移回战场。<eos> \t[probability: 0.70777]\n",
      "领土～{7}{g}：将<6>从你的坟墓场横置放进战场。<eos> \t[probability: 0.02741]\n",
      "领土～{7}{g}：将<6>从你的坟墓场横置战场。<eos> \t[probability: 0.02078]\n",
      "\n",
      "src: [this creature deals damage to creatures in the form of - 1 / - 1 counters and to players in the form of poison counters . ] trg = [此生物会以-1/-1指示物的方式对生物造成伤害，并以中毒指示物的方式对牌手造成伤害。]\n",
      "此生物会以-1/-1指示物的方式对生物造成伤害，并以中毒指示物的方式对牌手造成伤害。<eos> \t[probability: 0.63685]\n",
      "此生物会以-1/-1指示物的方式造成伤害，并以中毒指示物的方式对牌手造成伤害。<eos> \t[probability: 0.01256]\n",
      "此生物会以-1/-1指示物的方式对生物造成伤害，并以中毒指示物的方式对牌手造成伤害。伤害。<eos> \t[probability: 0.01071]\n",
      "\n",
      "src: [when you cast the spell , exile cards from the top of your library until you exile a non land card that costs less . ] trg = [当你施放该咒语时，从你的牌库顶开始放逐牌，直到放逐一张费用比其低的非地牌为止。]\n",
      "当你施放时，从你的牌库顶开始放逐牌，直到放逐一张费用比此咒语低的非地牌为止。<eos> \t[probability: 0.08354]\n",
      "当你施放此咒语时，从你的牌库顶开始放逐牌，直到放逐一张费用比此咒语低的非地牌为止。<eos> \t[probability: 0.08216]\n",
      "当你施放咒语时，从你的牌库顶开始放逐牌，直到放逐一张费用比此咒语低的非地牌为止。<eos> \t[probability: 0.07402]\n",
      "\n",
      "src: [this creature deals damage to creatures in the form of - 1 / - 1 counters and to players in the form of poison counters . ] trg = [此生物会以-1/-1指示物的方式对生物造成伤害，并以中毒指示物的方式对牌手造成伤害。]\n",
      "此生物会以-1/-1指示物的方式对生物造成伤害，并以中毒指示物的方式对牌手造成伤害。<eos> \t[probability: 0.63685]\n",
      "此生物会以-1/-1指示物的方式造成伤害，并以中毒指示物的方式对牌手造成伤害。<eos> \t[probability: 0.01256]\n",
      "此生物会以-1/-1指示物的方式对生物造成伤害，并以中毒指示物的方式对牌手造成伤害。伤害。<eos> \t[probability: 0.01071]\n",
      "\n",
      "src: [you may reveal an aura , creature , or planeswalker card from among them and put it into your hand . ] trg = [你可以展示其中一张灵气、生物或鹏洛客牌，并将其置于你手上。]\n",
      "你可以展示其中的一张灵气、生物或鹏洛客牌，并将它置于你手上。<eos> \t[probability: 0.01172]\n",
      "你可以展示其中的一张灵气，或或鹏洛客牌，并将它置于你手上。<eos> \t[probability: 0.00741]\n",
      "你可以展示其中的一张灵气，或泰瓦牌或鹏洛客牌，并将它置于你手上。<eos> \t[probability: 0.00198]\n",
      "\n",
      "src: [whenever you or a permanent you control becomes the target of a spell or ability an opponent controls , counter that spell or ability unless its controller pays { 1 } . ] trg = [每当你或一个由你操控的永久物成为由对手操控之咒语或异能的目标时，除非该咒语或异能的操控者支付{1}，否则反击之。]\n",
      "每当你或一个由你操控的永久物成为由对手操控之咒语或异能的目标时，除非该咒语支付{1}，否则反击之。<eos> \t[probability: 0.01783]\n",
      "每当你或一个由你操控的永久物成为由对手操控之咒语或异能的目标时，除非该咒语时支付{1}，否则反击之。<eos> \t[probability: 0.01089]\n",
      "每当你或一个由你操控的永久物成为由对手操控之咒语或异能的目标时，除非该咒语或支付{1}，否则反击之。<eos> \t[probability: 0.00433]\n",
      "\n",
      "src: [at the beginning of your upkeep , create x 2 / 2 green wolf creature tokens , where x is the number of your opponents with four or more cards in hand . ] trg = [在你的维持开始时，将x个2/2绿色的狼衍生生物放进战场，x为有四张或更多手牌之对手的数量。]\n",
      "在你的维持开始时，派出x个2/2绿色的衍生生物放进战场，x为你手牌数量的手牌数量。<eos> \t[probability: 0.00014]\n",
      "在你的维持开始时，将x个2/2绿色的衍生生物放进战场，x为你手牌数量的手牌数量。<eos> \t[probability: 0.00013]\n",
      "在你的维持开始时，x个x个2/2绿色的衍生生物放进战场，x为你手牌数量的手牌数量。<eos> \t[probability: 0.00010]\n",
      "\n",
      "src: [delirium — < 5 > gets + 1 / + 1 and has trample as long as there are four or more card types among cards in your graveyard . ] trg = [躁狂～只要你坟墓场中牌的类别有四种或更多，<5>便得+1/+1且具有践踏异能。]\n",
      "躁狂～只要你坟墓场中牌的类别有四种或更多，<5>便得+1/+1且具有践踏异能。<eos> \t[probability: 0.38238]\n",
      "躁狂～只要你坟墓场中牌的类别张类别有四种或更多，<5>便得+1/+1且具有践踏异能。<eos> \t[probability: 0.02908]\n",
      "躁狂～只要你坟墓场中牌的类别有四种或更多，<5>便得+1/+1。<eos> \t[probability: 0.01377]\n",
      "\n",
      "src: [hellbent — < 9 > gets + 2 / + 2 as long as you have no cards in hand . ] trg = [背水战～若你没有手牌，则<9>得+2/+2。]\n",
      "背水战～只要你没有手牌，<9>便得+2/+2。<eos> \t[probability: 0.53486]\n",
      "背水战～只要你没有手牌，<9>得+2/+2。<eos> \t[probability: 0.12476]\n",
      "背水战～只要你没有手牌，<99>得+2/+2。<eos> \t[probability: 0.05036]\n",
      "\n",
      "src: [{ 2 } { b } , { t } , discard a card : each other player loses 2 life . ] trg = [{2}{b}，{t}，弃一张牌：每位其它牌手各失去2点生命。]\n",
      "{2}{b}，{t}，弃一张牌：每位牌手各失去2点生命。<eos> \t[probability: 0.67214]\n",
      "{2}{b}，{t}，弃一张牌：目标牌手各失去2点生命。<eos> \t[probability: 0.02077]\n",
      "{2}{b}，{t}，弃一张牌：每位牌手各2点生命。<eos> \t[probability: 0.01772]\n",
      "\n",
      "src: [when < 5 > enters the battlefield , if it was kicked , creatures you control gain menace until end of turn . ] trg = [当<5>进战场时，若它已增幅，则由你操控的生物获得威慑异能直到回合结束。]\n",
      "当<5>进战场时，若它已增幅，则由你操控的生物获得威慑异能直到回合结束。<eos> \t[probability: 0.23976]\n",
      "当<5>进战场时，若它已增幅，由你操控的生物获得威慑异能直到回合结束。<eos> \t[probability: 0.19911]\n",
      "当<5>进战场时，若它已增幅，由由你操控的生物获得威慑异能直到回合结束。<eos> \t[probability: 0.02855]\n",
      "\n",
      "src: [whenever you become the target of a spell or ability an opponent controls , counter that spell or ability unless its controller pays { 1 } . ] trg = [每当你成为由对手操控之咒语或异能的目标时，除非该咒语或异能的操控者支付{1}，否则反击之。]\n",
      "每当你成为由对手操控之咒语或异能的目标时，除非该咒语或支付{1}，否则反击之。<eos> \t[probability: 0.03190]\n",
      "每当你成为由对手操控之咒语或异能的目标时，除非该咒语的操控者支付{1}，否则反击之。<eos> \t[probability: 0.02968]\n",
      "每当你成为由对手操控之咒语或异能的目标时，除非该咒语时支付{1}，否则反击之。<eos> \t[probability: 0.00822]\n",
      "\n",
      "src: [{ 1 } { u } { b } : whenever a card is put into an opponent 's graveyard from anywhere this turn , that player loses 1 life . ] trg = [{1}{u}{b}：本回合中，每当一张牌从任何地方置入对手的坟墓场时，该牌手失去1点生命。]\n",
      "{1}{u}{b}：本回合中，如果本回合中有一对手的坟墓场，则该牌手失去1点生命。<eos> \t[probability: 0.00001]\n",
      "{1}{u}{b}{b}：本回合中，如果本回合中有一对手的坟墓场，则该牌手失去1点生命。<eos> \t[probability: 0.00000]\n",
      "{1}{u}{b}{b}：本回合中，如果本回合中有一对手的坟墓场，该牌手失去1点生命。<eos> \t[probability: 0.00000]\n",
      "\n",
      "src: [if { u } was spent to cast this spell , return up to one target creature to its owner 's hand . ] trg = [如果使用<3>时支付了{u}，则将至多一个目标生物移回其拥有者手上。]\n",
      "若用<8>时支付了{u}，则将至多一个目标生物移回其拥有者手上。<eos> \t[probability: 0.00420]\n",
      "若你支付<8>时支付了{u}，则将至多一个目标生物移回其拥有者手上。<eos> \t[probability: 0.00325]\n",
      "若你支付<4>时支付了{u}，则将至多一个目标生物移回其拥有者手上。<eos> \t[probability: 0.00323]\n",
      "\n",
      "src: [whenever another non token dragon enters the battlefield under your control , create a token that 's a copy of it , except the token is n't legendary . ] trg = [每当另一个非衍生物的龙在你操控下进战场时，派出一个衍生物，此衍生物为前者的复制品，但如果该龙是传奇，则此衍生物不是传奇。]\n",
      "每当另一个非衍生物的龙在你的操控下进战场时，派出一个衍生物，此衍生物为该衍生物的复制品，但它不是传奇生物之复制品。<eos> \t[probability: 0.00003]\n",
      "每当另一个非衍生物的龙在你的操控下进战场时，派出一个衍生物，此衍生物为该衍生物的复制品，但它不是传奇生物。<eos> \t[probability: 0.00003]\n",
      "每当另一个非衍生物的龙在你的操控下进战场时，派出一个衍生物，此衍生物为该衍生物的复制品，但它不是传奇生物不是传奇。<eos> \t[probability: 0.00002]\n",
      "\n",
      "src: [{ 2 0 } : cast any number of eldrazi spells from among cards you own outside the game without paying their mana costs . ] trg = [{20}：从游戏外施放任意数量由你拥有的奥札奇牌，且不需支付其法术力费用。]\n",
      "{20}：任意数量等同于由你拥有之咒语的咒语，且不需支付其法术力费用，且不需支付其法术力费用。<eos> \t[probability: 0.00000]\n",
      "{20}：任意数量等同于由你拥有之咒语的咒语的咒语，且不需支付其法术力费用。<eos> \t[probability: 0.00000]\n",
      "{20}：任意数量等同于由你拥有之咒语的咒语的咒语，且不需支付其法术力费用，且不需支付其法术力费用。<eos> \t[probability: 0.00000]\n",
      "\n",
      "src: [enchanted creature gets + 2 / + 1 and has \" { s } : this creature ca n't be blocked this turn except by snow creatures . \" ] trg = [受此结界的生物得+2/+1并具有\"{s}：此生物本回合中只能被雪境生物阻挡。\"]\n",
      "所结附的生物得+2/+1且具有\"{t}：此生物本回合中不能被阻挡。\"<eos> \t[probability: 0.00063]\n",
      "所结附的生物得+2/+1且具有\"{t}：此生物本回合中不能被阻挡生物\"<eos> \t[probability: 0.00039]\n",
      "所结附的生物得+2/+1且具有\"{t}：此生物本回合中不能被阻挡\"生物。\"<eos> \t[probability: 0.00015]\n",
      "\n",
      "src: [when < 0 > enters the battlefield or is turned face up , create three 1 / 1 red goblin creature tokens . ] trg = [当<0>进战场或者翻回正面时，将三个1/1红色鬼怪衍生生物放进战场。]\n",
      "当<0>进战场或翻回正面时，将三个1/1红色鬼怪衍生生物。<eos> \t[probability: 0.12368]\n",
      "当<0>进场或翻回正面时，将三个1/1红色鬼怪衍生生物。<eos> \t[probability: 0.06565]\n",
      "当<0>进或翻回正面时，将三个1/1红色鬼怪衍生生物。<eos> \t[probability: 0.05245]\n",
      "\n",
      "src: [it 's an artifact with \" { 2 } , { t } , sacrifice this artifact : you gain 3 life . \" ] trg = [食品衍生物是具有\"{2}，{t}，牺牲此神器：你获得3点生命\"的神器。]\n",
      "食品衍生物是具有\"{2}，{t}，牺牲此神器：你获得3点生命\"的神器。<eos> \t[probability: 0.32756]\n",
      "食品衍生物是具有\"{2}，{t}，牺牲此神器：你获得3点生命。的神器。<eos> \t[probability: 0.11910]\n",
      "食品衍生物是具有\"{2}，{t}，牺牲此神器：你获得3点生命的神器。<eos> \t[probability: 0.05786]\n",
      "\n",
      "src: [at the beginning of combat on your turn , creatures you control get + 3 / + 3 and gain trample until end of turn . ] trg = [在你回合的战斗开始时，直到回合结束，由你操控的生物得+3/+3且获得践踏异能。]\n",
      "在你回合的战斗开始时，直到回合结束，由你操控的生物得+3/+3且获得践踏异能。<eos> \t[probability: 0.54951]\n",
      "在你回合的回合开始时，直到回合结束，由你操控的生物得+3/+3且获得践踏异能。<eos> \t[probability: 0.02550]\n",
      "在你回合的战斗开始时，直到回合结束，直到你操控的生物得+3/+3且获得践踏异能。<eos> \t[probability: 0.02423]\n",
      "\n",
      "src: [this creature deals damage to creatures in the form of - 1 / - 1 counters and to players in the form of poison counters . ] trg = [此生物会以-1/-1指示物的方式对生物造成伤害，并以中毒指示物的方式对牌手造成伤害。]\n",
      "此生物会以-1/-1指示物的方式对生物造成伤害，并以中毒指示物的方式对牌手造成伤害。<eos> \t[probability: 0.63685]\n",
      "此生物会以-1/-1指示物的方式造成伤害，并以中毒指示物的方式对牌手造成伤害。<eos> \t[probability: 0.01256]\n",
      "此生物会以-1/-1指示物的方式对生物造成伤害，并以中毒指示物的方式对牌手造成伤害。伤害。<eos> \t[probability: 0.01071]\n",
      "\n",
      "src: [when this creature dies , if it had no - 1 / - 1 counters on it , return it to the battlefield under its owner 's control with a - 1 / - 1 counter on it . ] trg = [当此生物从场上置入坟墓场时，若其上没有-1/-1指示物，则将它在其拥有者的操控下返回场上，且其上有一个-1/-1指示物。]\n",
      "当此生物从场上置入坟墓场时，若其上没有-1/-1指示物，则将它在其拥有者的操控下返回场上，且其上有一个-1/-1指示物。<eos> \t[probability: 0.21447]\n",
      "当此生物死去时，若其上没有-1/-1指示物，则将它在其拥有者的操控下返回场上，且其上有一个-1/-1指示物。<eos> \t[probability: 0.05699]\n",
      "当此生物从场上置入坟墓场时，若其上没有-1/-1指示物，则将它在其拥有者的操控下返回场上有一个-1/-1指示物。<eos> \t[probability: 0.04474]\n",
      "\n",
      "src: [when < 4 > enters the battlefield , counter target activated or triggered ability from an artifact or enchantment source . ] trg = [当<4>进战场时，反击目标来源为神器或结界的起动式或触发式异能。]\n",
      "当<4>进战场时，反击目标起动式或触发式异能的神器。<eos> \t[probability: 0.00096]\n",
      "当<4>进战场时，反击目标起动式或触发式异能的神器或触发式异能。<eos> \t[probability: 0.00074]\n",
      "当<4>进战场时，反击目标起动式或动式异能的神器或触发式异能。<eos> \t[probability: 0.00065]\n",
      "\n",
      "src: [when < 9 > enters the battlefield , exile up to one target non land permanent an opponent controls until < 9 > leaves the battlefield . ] trg = [当<9>进战场时，放逐至多一个目标由对手操控的非地永久物，直到<9>离开战场为止。]\n",
      "当<9>进战场时，放逐至多一个目标由对手操控的非地永久物，直到<9>离开战场为止。<eos> \t[probability: 0.42328]\n",
      "当<9>进战场时，放逐至多一个目标非地永久物，目标<9>离开战场为止。<eos> \t[probability: 0.01619]\n",
      "当<9>进战场时，放逐至多一个目标由对手操控的非地永久物，<9>离开战场为止。<eos> \t[probability: 0.00924]\n",
      "\n",
      "src: [{ r } { w } : < 6 > becomes a 1 / 1 red and white soldier artifact creature with double strike until end of turn . ] trg = [{r}{w}：<6>成为1/1，红白双色，具有连击异能的士兵神器生物直到回合结束。]\n",
      "{r}{w}：<6>成为1/1，红白双色，具连击异能直到回合结束。<eos> \t[probability: 0.00066]\n",
      "{r}{w}：直到回合结束，<6>成为1/1，红白双色，具连击异能的士兵生物生物直到回合结束。<eos> \t[probability: 0.00005]\n",
      "{r}{w}：直到回合结束，<6>成为1/1，红白双色，具连击异能的士兵生物生物。<eos> \t[probability: 0.00005]\n",
      "\n",
      "src: [when < 7 > enters the battlefield , exile up to one target artifact or creature until < 7 > leaves the battlefield . ] trg = [当<7>进战场时，放逐至多一个目标神器或生物，直到<7>离开战场为止。]\n",
      "当<7>进战场时，放逐至多一个目标神器或生物，直到<7>离开战场为止。<eos> \t[probability: 0.40705]\n",
      "当<7>进战场时，放逐至多一个目标神器或生物直到<7>离开战场为止。<eos> \t[probability: 0.03298]\n",
      "当<7>进战场时，放逐至多一个目标神器生物，直到<7>离开战场为止。<eos> \t[probability: 0.01970]\n",
      "\n",
      "src: [delirium — < 1 > has < 2 > as long as there are four or more card types among cards in your graveyard . ] trg = [躁狂～只要你坟墓场中牌的类别有四种或更多，<1>便具有<2>异能。]\n",
      "躁狂～只要你坟墓场中牌的类别有四种或更多，<1>便具有<2>异能。<eos> \t[probability: 0.29103]\n",
      "躁狂～只要你坟墓场中牌的类别有四种或更多，<1>便具有<2>。<eos> \t[probability: 0.07405]\n",
      "躁狂～只要你坟墓场中牌的类别张类别有四种或更多，<1>便具有<2>异能。<eos> \t[probability: 0.03408]\n",
      "\n",
      "src: [creatures you control with the chosen name have \" { t } : add one mana of any color . \" ] trg = [由你操控且具有该名称的生物具有\"{t}：加一点任意颜色的法术力到你的法术力池中。\"]\n",
      "由你操控且具该名称的生物具有\"{t}：加一点任意颜色的法术力到你的法术力池中。\"<eos> \t[probability: 0.05238]\n",
      "由你操控且具该名称的生物具有\"{t}：加一点任意颜色的法术力。\"<eos> \t[probability: 0.05060]\n",
      "由你操控且具该名称的生物具有\"{t}：加一点任意颜色的法术力。<eos> \t[probability: 0.03301]\n",
      "\n",
      "src: [{ 2 } , { t } , remove all charge counters from < 4 > : it deals that much damage to target creature . ] trg = [{2}，{t}，从<4>上移去所有充电指示物：它对目标生物造成等量的伤害。]\n",
      "{2}，{t}，从<4>上移去八个充电指示物：它对目标生物造成等量的伤害。<eos> \t[probability: 0.02407]\n",
      "{2}，{t}，从<4>上移去六个充电指示物：它对目标生物造成等量的伤害。<eos> \t[probability: 0.01637]\n",
      "{2}，{t}，从<4>上移去八个充电指示物：<对目标生物造成等量的伤害。<eos> \t[probability: 0.00328]\n",
      "\n",
      "src: [equipped creature gets + 1 / + 0 and has \" whenever this creature attacks , you may sacrifice < 4 > . when you do , this creature deals 1 damage to any target . \" ] trg = [佩带此武具的生物得+1/+0且具有\"每当此生物攻击时，你可以牺牲<4>。当你如此作时，此生物对任意一个目标造成1点伤害。\"]\n",
      "佩带此武具的生物得+1/+0且具有\"每当此生物攻击时，你可以牺牲<4>对目标生物或牌手造成1点伤害。\"<eos> \t[probability: 0.01122]\n",
      "佩带此武具的生物得+1/+0且具有\"当此生物攻击时，你可以牺牲<4>对目标生物或牌手造成1点伤害。\"<eos> \t[probability: 0.00265]\n",
      "佩带此武具的生物得+1/+0且具有\"每当此生物攻击时，你可以牺牲<4>对目标生物或牌手造成1点伤害，且对目标生物或牌手造成1点伤害。\"<eos> \t[probability: 0.00019]\n",
      "\n",
      "src: [whenever < 7 > attacks or dies , choose a card at random exiled with gorex and put that card into its owner 's hand . ] trg = [每当<7>攻击或死去时，随机选择一张以高雷兹放逐的牌，并将该牌置于其拥有者手上。]\n",
      "每当<7>攻击或死去时，随机将所放逐一张或与他的牌放逐该牌。<eos> \t[probability: 0.00000]\n",
      "每当<7>攻击或死去时，随机将所放逐一张与一张与该牌的牌置于其拥有者手上。<eos> \t[probability: 0.00000]\n",
      "每当<7>攻击或死去时，随机将所放逐一张与一张与该牌的牌，并将该牌置于其拥有者手上。<eos> \t[probability: 0.00000]\n",
      "\n",
      "src: [the next time one or more creatures or planeswalkers enter the battlefield this turn , they enter as copies of the chosen creature . ] trg = [本回合中，下一次有一个或数个生物或鹏洛客进战场时，它们作为所选生物之复制品来进入战场。]\n",
      "本回合中，或或或数个或更多生物攻击或牌手，则须为所选的生物选。<eos> \t[probability: 0.00000]\n",
      "本回合中，或或或数个或更多生物攻击或牌手，则须为所选之生物的复制。<eos> \t[probability: 0.00000]\n",
      "本回合中，或或或数个或更多生物攻击或牌手，则须为所选之生物的复制一次。<eos> \t[probability: 0.00000]\n",
      "\n",
      "src: [whenever < 4 > deals combat damage to a player , remove all - 1 / - 1 counters from it . ] trg = [每当<4>对任一牌手造成战斗伤害时，移去其上所有的-1/-1指示物。]\n",
      "每当<4>对任一牌手造成战斗伤害时，移去其上的-1/-1指示物。<eos> \t[probability: 0.04519]\n",
      "每当<4>对任一牌手造成战斗伤害时，移去其上的所有-1/-1指示物。<eos> \t[probability: 0.04404]\n",
      "每当<4>对任一牌手造成战斗伤害时，移去所有的-1/-1指示物。<eos> \t[probability: 0.04069]\n",
      "\n",
      "src: [when < 3 > enters the battlefield or an opponent loses the game , exile the top card of each player 's library . ] trg = [当<3>进战场或任一对手输掉这盘游戏时，放逐每位牌手的牌库顶牌。]\n",
      "当<3>进战场或对手对手输掉这位牌手各的牌库顶牌。<eos> \t[probability: 0.00265]\n",
      "当<3>进战场或对手对手输掉这位牌手的牌库顶牌。<eos> \t[probability: 0.00230]\n",
      "当<3>进战场或对手对手输掉这位牌手各放逐牌库顶牌。<eos> \t[probability: 0.00075]\n",
      "\n",
      "src: [{ 3 } { g } { g } , exile < 7 > from your graveyard : create a 3 / 3 green beast creature token . ] trg = [{3}{g}{g}，从你的坟墓场放逐<7>：将一个3/3绿色野兽衍生生物放进战场。]\n",
      "{3}{g}{g}，从你的坟墓场放逐<7>：派出一个3/3绿色野兽衍生生物。<eos> \t[probability: 0.14533]\n",
      "{3}{g}{g}，从你的坟墓场放逐<7>：将一个3/3绿色野兽衍生生物。<eos> \t[probability: 0.09515]\n",
      "{3}{g}{g}，从你的坟墓场放逐<7>：派出一个3/3绿色野兽衍生生物放进战场。<eos> \t[probability: 0.04418]\n",
      "\n",
      "src: [you may reveal a lesson card you own from outside the game and put it into your hand , or discard a card to draw a card . ] trg = [你可以从游戏外展示一张由你拥有的课程牌并置于你手上，或弃一张牌来抓一张牌。]\n",
      "你可以从游戏外展示一张由你拥有的课程牌并置于你手上，或弃一张牌来抓一张牌。<eos> \t[probability: 0.25376]\n",
      "你可以从游戏外展示一张由你拥有的课程牌并置于你手上，或弃一张牌来抓一张牌。<eos> \t[probability: 0.03409]\n",
      "你可以从游戏外展示一张由你拥有的课程牌并置于你手上，或弃一张牌来抓抓一张牌。<eos> \t[probability: 0.02369]\n",
      "\n",
      "src: [< 4 > enters the battlefield with a number of loyalty counters on him equal to the number of lands you control . ] trg = [<4>进战场时上面有数个忠诚指示物，其数量等同于由你操控的地数量。]\n",
      "<4>进战场时上面有数个忠诚指示物，其数量等同于由你操控的地数量。<eos> \t[probability: 0.25307]\n",
      "<4>进战场时上面有数个忠诚指示物，其数量等同于由你操控的地数量之数量。<eos> \t[probability: 0.03991]\n",
      "<4>进战场时上面有数个忠诚指示物，其数量等同于由你操控的地数量之。<eos> \t[probability: 0.03299]\n",
      "\n",
      "src: [target player draws x cards and loses x life , where x is the number of creatures they control of the chosen type . ] trg = [目标牌手抓x张牌且失去x点生命，x为由其操控的该类别生物数量。]\n",
      "目标牌手抓x张牌且失去x点生命，x为由你操控的生物之生物类别。<eos> \t[probability: 0.00040]\n",
      "目标牌手抓x张牌且失去x点生命，x为由你操控的生物之生物的生物数量。<eos> \t[probability: 0.00025]\n",
      "目标牌手抓x张牌且失去x点生命，x为由你操控的生物中的生物之数量。<eos> \t[probability: 0.00011]\n",
      "\n",
      "src: [{ t } , remove a - 1 / - 1 counter from < 3 > : add one mana of any color . ] trg = [{t}，从<3>上移去一个-1/-1指示物：加一点任意颜色的法术力到你的法术力池中。]\n",
      "{t}，从<3>上移去一个-1/-1指示物：加一点任意颜色的法术力到你的法术力池中。<eos> \t[probability: 0.15254]\n",
      "{t}，从<3>上移去一个-1/-1指示物：加一点任意颜色的法术力到你的法术力池中。<eos> \t[probability: 0.12694]\n",
      "{t}，从<3>上移去一个-1/-1指示物：加一点任意颜色的法术力。<eos> \t[probability: 0.10807]\n",
      "\n",
      "src: [when < 3 > enters the battlefield , each creature gets - x / - x until end of turn . ] trg = [当<3>进战场时，每个生物各得-x/-x直到回合结束。]\n",
      "当<3>进战场时，每个生物各得-x/-x直到回合结束。<eos> \t[probability: 0.31623]\n",
      "当<3>进战场时，所有生物各得-x/-x直到回合结束。<eos> \t[probability: 0.23180]\n",
      "当<3>进战场时，每个生物得-x/-x直到回合结束。<eos> \t[probability: 0.06194]\n",
      "\n",
      "src: [until end of turn , target creature gains \" when this creature dies , return it to the battlefield tapped under its owner 's control with a + 1 / + 1 counter on it . \" ] trg = [直到回合结束，目标生物获得\"当此生物死去时，将它在其拥有者的操控下横置移回战场，且上面有一个+1/+1指示物。\"]\n",
      "直到回合结束，目标生物获得\"当此生物死去时，将它在其拥有者的操控下移回战场，且上面有+1/+1指示物。\"<eos> \t[probability: 0.01683]\n",
      "直到回合结束，目标生物获得\"当此生物死去时，将它在其拥有者的操控下移回战场，且上面有一个+1/+1指示物。\"<eos> \t[probability: 0.01641]\n",
      "直到回合结束，目标生物获得\"当此生物死去时，将它在其拥有者的操控下移回战场，且上面有+1/+1指示物。<eos> \t[probability: 0.01122]\n",
      "\n",
      "src: [whenever a creature enters the battlefield under an opponent 's control , you may attach < 1 > to that creature . ] trg = [每当一个生物在对手的操控下进场时，你可以将<1>结附在该生物上。]\n",
      "每当一个生物在对手的操控下进战场时，你可以将<1>装备在该生物上。<eos> \t[probability: 0.16116]\n",
      "每当一个生物在对手的操控下进战场时，你可以将<1>结附在该生物上。<eos> \t[probability: 0.06342]\n",
      "每当一个生物在对手的操控下进战场时，你可以将<1>装备在该生物上的生物上。<eos> \t[probability: 0.00829]\n",
      "\n",
      "src: [when < 1 > enters the battlefield or the creature it haunts dies , each other creature has base power and toughness 1 / 1 until end of turn . ] trg = [当<1>进场或它所缠身的生物置入坟墓场时，所有其它生物成为1/1直到回合结束。]\n",
      "当<1>进战场或所缠身的生物置入坟墓场时，每个其他生物各力量与防御力各得1/1直到回合结束。<eos> \t[probability: 0.00003]\n",
      "当<1>进战场或它所缠身的生物置入坟墓场时，每个其他生物各力量与防御力各1/1直到回合结束。<eos> \t[probability: 0.00002]\n",
      "当<1>进战场或它所缠身的生物置入坟墓场时，每个其他生物各得力量与防御力各1/1直到回合结束。<eos> \t[probability: 0.00001]\n",
      "\n",
      "src: [ultima founding — { t } , tap two untapped artifacts you control : create a 2 / 2 white astartes warrior creature token with vigilance . ] trg = [极限建军～{t}，横置两个由你操控且未横置的神器：派出一个2/2白色，具警戒异能的阿斯塔特／战士衍生生物。]\n",
      "<unk><unk>～{t}，横置两个由你操控且未横置的神器：派出一个2/2白色，具警戒异能的阿斯塔特／战士衍生生物。<eos> \t[probability: 0.11164]\n",
      "<unk><unk>～{t}，横置两个由你操控且未横置的神器：派出一个2/2白色，具警戒异能的战士衍生生物。<eos> \t[probability: 0.03820]\n",
      "<unk><unk>～{t}，横置两个由你操控、未横置的神器：派出一个2/2白色，具警戒异能的阿斯塔特／战士衍生生物。<eos> \t[probability: 0.02203]\n",
      "\n",
      "src: [you may cast that card for as long as it remains exiled , and you may spend mana as though it were mana of any color to cast that spell . ] trg = [只要该牌持续被放逐，你便可以施放它，且你可以将法术力视同任意颜色的法术力来支付施放该咒语的费用。]\n",
      "于该牌持续放逐的时段内，你可以施放该牌，且你可以将法术力视同任意颜色的法术力来支付施放该咒语的费用。<eos> \t[probability: 0.00152]\n",
      "于该牌持续放逐的时段内，你可以施放该，且你可以将法术力视同任意颜色的法术力来支付施放该咒语的费用。<eos> \t[probability: 0.00114]\n",
      "于该牌持续放逐的时段内，你可以施放该牌，且你可以将法术力视同任意颜色的法术力来施放施放该咒语的费用。<eos> \t[probability: 0.00064]\n",
      "\n",
      "src: [choose any number of permanents and / or players , then give each another counter of each kind already there . ] trg = [你选择任意数量其上有指示物的永久物和／或牌手，然后在其上放置一个它已有之类别的指示物。]\n",
      "选择任意数量的永久物和／或牌手，然后为其已有之每种指示物各多放置一个同类的指示物。<eos> \t[probability: 0.00896]\n",
      "你选择任意数量其上有指示物的永久物和／或牌手，然后在其已有之每种指示物各多放置一个同类的指示物。<eos> \t[probability: 0.00086]\n",
      "你选择任意数量其上有指示物的永久物和／或牌手，然后在其上放置一个它已有之类别的指示物。<eos> \t[probability: 0.00078]\n",
      "\n",
      "src: [{ g } , { t } : copy target activated or triggered ability you control from an enchantment source . ] trg = [{g}，{t}：复制目标由你操控且来源为结界的起动式或触发式异能。]\n",
      "{g}，{t}：复制目标由你操控的起动式或触发式异能。<eos> \t[probability: 0.01269]\n",
      "{g}，{t}：复制目标由你操控的来源或触发式异能。<eos> \t[probability: 0.01091]\n",
      "{g}，{t}：复制目标由你操控的来源或触发式异能的触发式异能。<eos> \t[probability: 0.00267]\n",
      "\n",
      "src: [for each of those creatures , its controller reveals cards from the top of their library until they reveal a creature card , puts that card onto the battlefield , then shuffles the rest into their library . ] trg = [为每个这类生物各进行以下流程～其操控者从其牌库顶开始展示牌，直到展示出一张生物牌为止，将该牌放进战场，然后将其余的牌洗回牌库。]\n",
      "对每个这类生物各进行以下流程～其操控者各从其牌库顶的展示牌，直到展示出一张生物牌为止，然后将该牌放进战场，然后将其余的牌库洗牌。<eos> \t[probability: 0.00000]\n",
      "对每个这类生物各进行以下流程～其操控者各从其牌库顶的展示牌，直到展示出一张生物牌为止，将该牌放进战场，然后将其余的牌库洗牌。<eos> \t[probability: 0.00000]\n",
      "对每个这类生物各进行以下流程～其操控者各从其牌库顶的展示牌，直到展示出一张生物牌为止，将该牌放进战场，然后将其余的牌洗入其牌库牌库洗牌。<eos> \t[probability: 0.00000]\n",
      "\n",
      "src: [{ 1 } , sacrifice another creature : < 4 > gets + x / + 0 until end of turn , where x is the sacrificed creature 's power . ] trg = [{1}，牺牲另一个生物：<4>得+x/+0直到回合结束，x为所牺牲生物的力量。]\n",
      "{1}，牺牲另一个生物：<4>得+x/+0直到回合结束，x为所牺牲之生物的力量。<eos> \t[probability: 0.28855]\n",
      "{1}，牺牲另一个生物：<4>得+x/+0直到回合结束，x为所牺牲生物的力量。<eos> \t[probability: 0.18539]\n",
      "{1}，牺牲另一个生物：<4>得+x/+0直到回合结束，x为所牺牲生物之力量。<eos> \t[probability: 0.02066]\n",
      "\n",
      "src: [whenever this creature becomes the target of a spell or ability an opponent controls , counter it unless that player pays 3 life . ] trg = [每当此生物成为由对手操控之咒语或异能的目标时，除非该牌手支付3点生命，否则反击之。]\n",
      "每当此生物成为由对手操控之咒语或异能的目标时，除非该牌手支付3点生命，否则反击之。<eos> \t[probability: 0.22323]\n",
      "每当此生物成为由对手操控之咒语或异能的目标时，除非该牌手支付3点生命。<eos> \t[probability: 0.03034]\n",
      "每当此生物成为由对手操控之咒语或异能的目标时，除非该牌手支付支付3点生命，否则反击之。<eos> \t[probability: 0.01775]\n",
      "\n",
      "src: [when < 6 > enters the battlefield , you may put a commander you own from the command zone onto the battlefield . ] trg = [当<6>进战场时，你可以将一个由你拥有的指挥官从统帅区放进战场。]\n",
      "当<6>进战场时，你可以将由你拥有的指挥官从统帅区放进战场。<eos> \t[probability: 0.00086]\n",
      "当<6>进战场时，你可以将由你拥有的指挥官从统帅区放进战场为止。<eos> \t[probability: 0.00076]\n",
      "当<6>进战场时，你可以将由你拥有拥有、指挥官从统帅区放进战场。<eos> \t[probability: 0.00014]\n",
      "\n",
      "src: [+ 1 : target creature without first strike , double strike , or vigilance ca n't attack or block until your next turn . ] trg = [+1：直到你的下一个回合，目标不具先攻，连击或警戒异能的生物不能进行攻击或阻挡。]\n",
      "+1：目标不能的生物，连击异能的生物不能直到回合不能攻击或阻挡。<eos> \t[probability: 0.00000]\n",
      "+1：目标不能的生物，连击异能的生物不能直到回合不能进行攻击或阻挡。<eos> \t[probability: 0.00000]\n",
      "+1：目标不能的生物，连击异能的生物不能直到回合不能攻击或或阻挡。<eos> \t[probability: 0.00000]\n",
      "\n",
      "src: [when < 0 > enters the battlefield , each player on your team may discard a card , then each player who discarded a card this way draws a card . ] trg = [当<0>进战场时，你队伍的每位牌手各可以弃一张牌，然后每位以此法弃牌的牌手各抓一张牌。]\n",
      "当<0>进战场时，每位你的维持中搜寻一张牌，然后每位以此法抓牌的牌各抓一张牌。<eos> \t[probability: 0.00003]\n",
      "当<0>进战场时，每位你的牌库中搜寻一张牌，然后每位以此法抓牌的牌各抓一张牌。<eos> \t[probability: 0.00003]\n",
      "当<0>进战场时，每位对手的抓牌步骤中搜寻一张牌，然后每位以此法抓牌的牌手各抓一张牌。<eos> \t[probability: 0.00002]\n",
      "\n",
      "src: [{ 2 } { r } : you may put a red creature card or an artifact creature card from your hand onto the battlefield . ] trg = [{2}{r}：你可以将一张红色生物牌或神器生物牌从你手上放进战场。]\n",
      "{2}{r}：你可以将一张物牌物牌物牌物牌从你手上放置进场放置进场。<eos> \t[probability: 0.00084]\n",
      "{2}{r}：你可以将一张物牌物牌或生物牌物牌从你手上放置进场放置进场。<eos> \t[probability: 0.00074]\n",
      "{2}{r}：你可以将一张物牌物牌或生物牌从你手上放置进场放置进场。<eos> \t[probability: 0.00072]\n",
      "\n",
      "src: [at the beginning of your upkeep , put a + 1 / + 1 counter on < 5 > for each card in your hand , then remove a + 1 / + 1 counter from < 5 > for each card in target opponent 's hand . ] trg = [在你的维持开始时，你每有一张手牌，便在<5>上放置一个+1/+1指示物，然后目标对手每有一张手牌，便从<5>上移去一个+1/+1指示物。]\n",
      "在你的维持开始时，从你的一张手牌数量等同于<5>上各放置一个+1/+1指示物，然后在<5>上各放置一个+1/+1指示物。<eos> \t[probability: 0.00000]\n",
      "在你的维持开始时，从你的一张手牌数量等同于<5>上各放置一个+1/+1指示物，然后将<5>上各放置一个+1/+1指示物。<eos> \t[probability: 0.00000]\n",
      "在你的维持开始时，从你的一张手牌数量等同于<5>上各放置一个+1/+1指示物，然后在<5>上各放置一个+1/+1指示物。然后在<5> \t[probability: 0.00000]\n",
      "\n",
      "src: [when you do , < 9 > deals damage to any target equal to the number of cards in your hand . ] trg = [当你如此作时，<9>对任意一个目标造成等同于你手牌数量的伤害。]\n",
      "当你如此作时，<9>对目标生物或牌手造成等同于你手牌数量的伤害。<eos> \t[probability: 0.07675]\n",
      "当你如此作时，<9>对目标生物或牌手造成伤害，其数量等同于你的手牌数量。<eos> \t[probability: 0.07161]\n",
      "当你如此作时，<9>对目标生物或牌手造成伤害，其数量等同于你手牌数量的伤害。<eos> \t[probability: 0.00885]\n",
      "\n",
      "src: [whenever you cast a creature spell , if { s } of any of that spell 's colors was spent to cast it , that creature enters the battlefield with an additional + 1 / + 1 counter on it . ] trg = [每当你施放生物咒语，若施放它时支付过该咒语所具有之任一颜色的{s}，则该生物进战场时上面额外有一个+1/+1指示物。]\n",
      "每当你施放生物咒语时，若支付{支付其法术力费用来支付其咒语时，则该生物进战场时上面有一个+1/+1指示物。<eos> \t[probability: 0.00000]\n",
      "每当你施放生物咒语时，若支付{支付其法术力费用来支付其法术力费用来施放，则该生物进战场时上面有一个+1/+1指示物。<eos> \t[probability: 0.00000]\n",
      "每当你施放生物咒语时，若支付{支付其法术力费用来支付其法术力费用来施放，则该生物进时上面有一个+1/+1指示物。<eos> \t[probability: 0.00000]\n",
      "\n",
      "src: [then create a 2 / 2 red rebel creature token that 's tapped and attacking for each experience counter you have . ] trg = [然后你每有一个经验指示物，便派出一个2/2红色反抗军衍生生物，其为横置且正进行攻击。]\n",
      "然后你每有一个经验指示物，便派出一个2/2红色反抗军衍生生物。<eos> \t[probability: 0.04304]\n",
      "然后你每有一个经验指示物，便派出一个2/2红色反抗军衍生生物放进战场且正进行攻击。<eos> \t[probability: 0.02071]\n",
      "然后你每有一个经验指示物，便派出一个2/2红色反抗军衍生生物放进战场且正进行攻击且进行攻击。<eos> \t[probability: 0.00132]\n",
      "\n",
      "src: [when linvala enters the battlefield , if an opponent controls more creatures than you , create a 3 / 3 white angel creature token with < 4 > . ] trg = [当琳法拉进战场时，若某对手操控的生物比你多，则将一个3/3白色，具<4>异能的天使衍生生物放进战场。]\n",
      "<unk><unk>进战场时，若某对手操控的生物比你多，则派出一个3/3白色，具<4>异能的天使衍生生物放进战场。<eos> \t[probability: 0.00467]\n",
      "当<unk>战场时，若某对手操控的生物比你多，则派出一个3/3白色，具<4>异能的天使衍生生物放进战场。<eos> \t[probability: 0.00333]\n",
      "<unk><unk>进战场时，若某对手操控的生物比你多，则派出一个3/3白色，具<4>异能的天使衍生生物。<eos> \t[probability: 0.00285]\n",
      "\n",
      "src: [when < 6 > enters the battlefield , target creature you control gets + 1 / + 0 and gains indestructible until end of turn . ] trg = [当<6>进战场时，直到回合结束，目标由你操控的生物得+1/+0且获得不灭异能。]\n",
      "当<6>进战场时，直到回合结束，目标由你操控的生物得+1/+0且获得不灭异能。<eos> \t[probability: 0.56774]\n",
      "当<6>进战场时，目标由你操控的生物得+1/+0且获得不灭异能。<eos> \t[probability: 0.05205]\n",
      "当<6>进时，直到回合结束，目标由你操控的生物得+1/+0且获得不灭异能。<eos> \t[probability: 0.02583]\n",
      "\n",
      "src: [whenever one or more pirates you control deal combat damage to a player , exile the top card of that player 's library . ] trg = [每当由你操控的一个或数个海盗对任一牌手造成战斗伤害时，放逐该牌手的牌库顶牌。]\n",
      "每当由你操控的一个或数个对任一牌手造成战斗伤害时，放逐该牌手的牌库顶牌。<eos> \t[probability: 0.10420]\n",
      "每当由你操控的一个或数个海盗对任一牌手造成战斗伤害时，放逐该牌手的牌库顶牌。<eos> \t[probability: 0.04261]\n",
      "每当由你操控的一个或数个珍宝对任一牌手造成战斗伤害时，放逐该牌手的牌库顶牌。<eos> \t[probability: 0.02431]\n",
      "\n",
      "src: [when < 6 > enters the battlefield , you may put a - 1 / - 1 counter on target creature . ] trg = [当<6>进战场时，你可以在目标生物上放置一个-1/-1指示物。]\n",
      "当<6>进战场时，你可以在目标生物上放置一个-1/-1指示物。<eos> \t[probability: 0.86302]\n",
      "当<6>进战场，你可以在目标生物上放置一个-1/-1指示物。<eos> \t[probability: 0.00984]\n",
      "当<6>进战场时，你可以<unk>目标生物上放置一个-1/-1指示物。<eos> \t[probability: 0.00932]\n",
      "\n",
      "src: [whenever another creature you control dies , if you have the city 's blessing , put a + 1 / + 1 counter on < 1 > . ] trg = [每当另一个由你操控的生物死去时，若你有黄金城祝福，则在<1>上放置一个+1/+1指示物。]\n",
      "每当另一个由你操控的生物死去时，若你有黄金城祝福，则在<1>上放置一个+1/+1指示物。<eos> \t[probability: 0.42052]\n",
      "每当另一个由你操控的生物死去时，若有黄金城祝福，则在<1>上放置一个+1/+1指示物。<eos> \t[probability: 0.07266]\n",
      "每当另一个由你操控的生物死去时，若你未有黄金城祝福，则在<1>上放置一个+1/+1指示物。<eos> \t[probability: 0.03108]\n",
      "\n",
      "src: [{ u } , { t } : until your next turn , target creature an opponent controls ca n't be blocked . ] trg = [{u}，{t}：直到你的下一个回合，目标由对手操控的生物不能被阻挡。]\n",
      "{u}，{t}：直到你的下一个回合，目标由对手操控的生物不能被阻挡。<eos> \t[probability: 0.11234]\n",
      "{u}，{t}：直到你的下一个回合，目标由对手操控的生物，不能被阻挡。<eos> \t[probability: 0.05652]\n",
      "{u}，{t}：直到你的下一个回合，目标由对手操控的生物本回合不能被阻挡。<eos> \t[probability: 0.04230]\n",
      "\n",
      "src: [landfall — whenever a land enters the battlefield under your control , put a + 1 / + 1 counter on < 6 > . ] trg = [每当一个地在你的操控下进场时，在<6>上放置一个+1/+1指示物。]\n",
      "地落～每当一个地在你的操控下进战场时，在<6>上放置一个+1/+1指示物。<eos> \t[probability: 0.85878]\n",
      "每当落～每当一个地在你的操控下进战场时，在<6>上放置一个+1/+1指示物。<eos> \t[probability: 0.01803]\n",
      "地落～每当地在你的操控下进战场时，在<6>上放置一个+1/+1指示物。<eos> \t[probability: 0.01101]\n",
      "\n",
      "src: [as long as the top card of your library is a goblin card , < 5 > has all activated abilities of that card . ] trg = [只要你的牌库顶牌是鬼怪牌，<5>便具有该牌的所有起动式异能。]\n",
      "只要你的牌库顶牌是精灵牌，<5>便具有所有该牌的所有起动式异能。<eos> \t[probability: 0.00311]\n",
      "只要你的牌库顶牌是<unk>，<5>便具有所有该牌的所有起动式异能。<eos> \t[probability: 0.00212]\n",
      "只要你的牌库顶牌是精灵牌，<5>便具有所有该牌之所有起动式异能。<eos> \t[probability: 0.00076]\n",
      "\n"
     ]
    },
    {
     "ename": "KeyboardInterrupt",
     "evalue": "",
     "output_type": "error",
     "traceback": [
      "\u001b[1;31m---------------------------------------------------------------------------\u001b[0m",
      "\u001b[1;31mKeyboardInterrupt\u001b[0m                         Traceback (most recent call last)",
      "Cell \u001b[1;32mIn[9], line 4\u001b[0m\n\u001b[0;32m      2\u001b[0m long_data \u001b[39m=\u001b[39m [x \u001b[39mfor\u001b[39;00m x \u001b[39min\u001b[39;00m test_data\u001b[39m.\u001b[39mexamples \u001b[39mif\u001b[39;00m \u001b[39mlen\u001b[39m(x\u001b[39m.\u001b[39msrc) \u001b[39m>\u001b[39m \u001b[39m20\u001b[39m]\n\u001b[0;32m      3\u001b[0m \u001b[39mprint\u001b[39m(\u001b[39mf\u001b[39m\u001b[39m'\u001b[39m\u001b[39mNumber of samples: \u001b[39m\u001b[39m{\u001b[39;00m\u001b[39mlen\u001b[39m(long_data)\u001b[39m}\u001b[39;00m\u001b[39m'\u001b[39m)\n\u001b[1;32m----> 4\u001b[0m show_samples(long_data, T, n\u001b[39m=\u001b[39;49m\u001b[39m100\u001b[39;49m, beam_size\u001b[39m=\u001b[39;49m\u001b[39m3\u001b[39;49m)\n",
      "File \u001b[1;32md:\\Desktop\\mtg-cards-translation\\utils\\__init__.py:63\u001b[0m, in \u001b[0;36mshow_samples\u001b[1;34m(dataset, translator, n, beam_size)\u001b[0m\n\u001b[0;32m     61\u001b[0m \u001b[39mdef\u001b[39;00m \u001b[39mshow_samples\u001b[39m(dataset, translator, n\u001b[39m=\u001b[39m\u001b[39m5\u001b[39m, beam_size\u001b[39m=\u001b[39m\u001b[39m10\u001b[39m):\n\u001b[0;32m     62\u001b[0m     \u001b[39mfor\u001b[39;00m s \u001b[39min\u001b[39;00m random\u001b[39m.\u001b[39msample(\u001b[39mlist\u001b[39m(dataset), n):\n\u001b[1;32m---> 63\u001b[0m         toks,probs \u001b[39m=\u001b[39m translator\u001b[39m.\u001b[39;49mtranslate(s\u001b[39m.\u001b[39;49msrc, max_len \u001b[39m=\u001b[39;49m \u001b[39m50\u001b[39;49m, beam_size\u001b[39m=\u001b[39;49mbeam_size)\n\u001b[0;32m     64\u001b[0m         tmp \u001b[39m=\u001b[39m tok_cat(s\u001b[39m.\u001b[39msrc, \u001b[39m'\u001b[39m\u001b[39m \u001b[39m\u001b[39m'\u001b[39m)\n\u001b[0;32m     65\u001b[0m         \u001b[39mprint\u001b[39m(\u001b[39mf\u001b[39m\u001b[39m'\u001b[39m\u001b[39msrc: [\u001b[39m\u001b[39m{\u001b[39;00mtmp\u001b[39m}\u001b[39;00m\u001b[39m] trg = [\u001b[39m\u001b[39m{\u001b[39;00mtok_cat(s\u001b[39m.\u001b[39mtrg)\u001b[39m}\u001b[39;00m\u001b[39m]\u001b[39m\u001b[39m'\u001b[39m)\n",
      "File \u001b[1;32md:\\Desktop\\mtg-cards-translation\\utils\\translate.py:17\u001b[0m, in \u001b[0;36mTranslator.translate\u001b[1;34m(self, text, max_len, beam_size)\u001b[0m\n\u001b[0;32m     12\u001b[0m \u001b[39mdef\u001b[39;00m \u001b[39mtranslate\u001b[39m(\u001b[39mself\u001b[39m, text: \u001b[39mstr\u001b[39m, max_len: \u001b[39mint\u001b[39m \u001b[39m=\u001b[39m \u001b[39m50\u001b[39m, beam_size: \u001b[39mint\u001b[39m \u001b[39m=\u001b[39m \u001b[39m3\u001b[39m):\n\u001b[0;32m     13\u001b[0m \u001b[39m    \u001b[39m\u001b[39m\"\"\"\u001b[39;00m\n\u001b[0;32m     14\u001b[0m \u001b[39m    Returns a tuple[list[list[str]], list[float]], where the first\u001b[39;00m\n\u001b[0;32m     15\u001b[0m \u001b[39m    list is topk translations, the second is their corresponding probabilities.\u001b[39;00m\n\u001b[0;32m     16\u001b[0m \u001b[39m    \"\"\"\u001b[39;00m\n\u001b[1;32m---> 17\u001b[0m     \u001b[39mreturn\u001b[39;00m \u001b[39mself\u001b[39;49m\u001b[39m.\u001b[39;49mbeam_search(text, \u001b[39mself\u001b[39;49m\u001b[39m.\u001b[39;49msrc_field, \u001b[39mself\u001b[39;49m\u001b[39m.\u001b[39;49mtrg_field, \u001b[39mself\u001b[39;49m\u001b[39m.\u001b[39;49mmodel, \u001b[39mself\u001b[39;49m\u001b[39m.\u001b[39;49mdevice,\n\u001b[0;32m     18\u001b[0m                             max_len\u001b[39m=\u001b[39;49mmax_len, beam_size\u001b[39m=\u001b[39;49mbeam_size)[:\u001b[39m2\u001b[39m]\n",
      "File \u001b[1;32md:\\Desktop\\mtg-cards-translation\\models\\model4\\definition.py:280\u001b[0m, in \u001b[0;36mbeam_search\u001b[1;34m(sentence, src_field, trg_field, model, device, max_len, beam_size, print_per_step, branch_size)\u001b[0m\n\u001b[0;32m    277\u001b[0m \u001b[39mfor\u001b[39;00m j \u001b[39min\u001b[39;00m \u001b[39mrange\u001b[39m(\u001b[39mlen\u001b[39m(trg_indexes)):\n\u001b[0;32m    279\u001b[0m     cur_prob, cur_list, cur_hid, cur_att \u001b[39m=\u001b[39m trg_indexes[j]\n\u001b[1;32m--> 280\u001b[0m     \u001b[39mif\u001b[39;00m cur_list[\u001b[39m-\u001b[39;49m\u001b[39m1\u001b[39;49m] \u001b[39m==\u001b[39;49m trg_field\u001b[39m.\u001b[39;49mvocab\u001b[39m.\u001b[39;49mstoi[trg_field\u001b[39m.\u001b[39;49meos_token]:\n\u001b[0;32m    281\u001b[0m         candidates\u001b[39m.\u001b[39mappend(trg_indexes[j])\n\u001b[0;32m    282\u001b[0m         \u001b[39mcontinue\u001b[39;00m\n",
      "\u001b[1;31mKeyboardInterrupt\u001b[0m: "
     ]
    }
   ],
   "source": [
    "from utils import show_samples\n",
    "long_data = [x for x in test_data.examples if len(x.src) > 20]\n",
    "print(f'Number of samples: {len(long_data)}')\n",
    "show_samples(long_data, T, n=100, beam_size=3)"
   ]
  },
  {
   "cell_type": "code",
   "execution_count": 10,
   "metadata": {},
   "outputs": [
    {
     "name": "stdout",
     "output_type": "stream",
     "text": [
      "path: d:\\Desktop\\mtg-cards-translation\\models\\card_name_detector\n"
     ]
    }
   ],
   "source": [
    "from dataset.mtgcards import TestSets\n",
    "from utils import calculate_bleu\n",
    "from torchtext.legacy.data import Field\n",
    "from models.card_name_detector.definition import TrainedDetector\n",
    "from utils.translate import sentencize, CardTranslator\n",
    "\n",
    "fields = {'src-rule': ('src', Field(tokenize=lambda x: x.split(' '))), 'trg-rule': ('trg', Field())}\n",
    "test_data = TestSets.load(fields)\n",
    "\n",
    "D = TrainedDetector()"
   ]
  },
  {
   "cell_type": "code",
   "execution_count": 11,
   "metadata": {},
   "outputs": [
    {
     "name": "stdout",
     "output_type": "stream",
     "text": [
      "{'src': ['Whenever', 'another', 'artifact', 'or', 'creature', 'you', 'control', 'is', 'put', 'into', 'a', 'graveyard', 'from', 'the', 'battlefield,', 'put', 'an', 'oil', 'counter', 'on', 'Vat', 'of', 'Rebirth.\\n{2}{B},', '{T},', 'Remove', 'four', 'oil', 'counters', 'from', 'Vat', 'of', 'Rebirth:', 'Return', 'target', 'creature', 'card', 'from', 'your', 'graveyard', 'to', 'the', 'battlefield.', 'Activate', 'only', 'as', 'a', 'sorcery.'], 'trg': ['每当另一个由你操控的神器或生物从战场进入坟墓场时，在再生缸上放置一个烁油指示物。', '{2}{B}，{T}，从再生缸上移去四个烁油指示物：将目标生物牌从你的坟墓场移回战场。只能于法术时机起动。']}\n",
      "[after preprocess]:whenever another artifact or creature you control is put into a graveyard from the battlefield , put an <1> counter on <0> .\n",
      "[before postprocess]:每当另一个由你操控的神器或生物从场上进入坟墓场时，在<0>上放置一个<1>。\n",
      "[after preprocess]:{2} {b} , {t} , remove four <1> counters from <0> : return target creature card from your graveyard to the battlefield .\n",
      "[before postprocess]:{2}{b}，{t}，从<0>上移去四个充电指示物物：将目标生物牌从你的坟墓场移回战场。\n",
      "[after preprocess]:activate only as a sorcery .\n",
      "[before postprocess]:只能于法术时机起动。\n",
      "{'src': ['Vigilance\\nMeldweb', 'Strider', 'enters', 'the', 'battlefield', 'with', 'an', 'oil', 'counter', 'on', 'it.\\nRemove', 'an', 'oil', 'counter', 'from', 'Meldweb', 'Strider:', 'It', 'becomes', 'an', 'artifact', 'creature', 'until', 'end', 'of', 'turn.\\nCrew', '3', '(Tap', 'any', 'number', 'of', 'creatures', 'you', 'control', 'with', 'total', 'power', '3', 'or', 'more:', 'This', 'Vehicle', 'becomes', 'an', 'artifact', 'creature', 'until', 'end', 'of', 'turn.)'], 'trg': ['警戒', '融思网神行械进战场时上面有一个烁油指示物。', '从融思网神行械上移去一个烁油指示物：它成为神器生物直到回合结束。', '搭载3（横置任意数量由你操控且力量总和等于或大于3的生物：此载具成为神器生物直到回合结束。）']}\n",
      "[after preprocess]:vigilance\n",
      "[before postprocess]:警戒\n",
      "[after preprocess]:<0> enters the battlefield with an <1> counter on it .\n",
      "[before postprocess]:<0>进战场时上面有一个1>指示物。\n",
      "[after preprocess]:remove an <1> counter from <0> : it becomes an artifact creature until end of turn .\n",
      "[before postprocess]:从<0>上移去一个<9>指示物：<3>成为神器生物直到回合结束。\n",
      "[after preprocess]:crew 3\n",
      "[before postprocess]:搭载3\n",
      "[after preprocess]:tap any number of creatures you control with total power 3 or more : this vehicle becomes an artifact creature until end of turn .\n",
      "[before postprocess]:横置任意数量由你操控且力量总和等于或大于3的生物：此载具成为神器生物直到回合结束。\n",
      "{'src': ['Menace,', 'reach'], 'trg': ['威慑，延势']}\n",
      "[after preprocess]:menace , reach\n",
      "[before postprocess]:威慑，延势\n",
      "{'src': ['{T}:', 'Add', '{C}.\\n{T}:', 'Add', 'one', 'mana', 'of', 'any', 'color.', 'Spend', 'this', 'mana', 'only', 'to', 'cast', 'Phyrexian', 'creature', 'spells.\\nCorrupted', '—', '{T}:', 'Target', '1/1', 'creature', 'gets', '+2/+1', 'until', 'end', 'of', 'turn.', 'Activate', 'only', 'if', 'an', 'opponent', 'has', 'three', 'or', 'more', 'poison', 'counters.'], 'trg': ['{T}：加{C}。', '{T}：加一点任意颜色的法术力。此法术力只能用来施放非瑞人生物咒语。', '腐化～{T}：目标1/1生物得+2/+1直到回合结束。只能于某对手具有三个或更多中毒指示物时起动。']}\n",
      "[after preprocess]:{t} : add {c} .\n",
      "[before postprocess]:{t}：加{c}。\n",
      "[after preprocess]:{t} : add one mana of any color .\n",
      "[before postprocess]:{t}：加一点任意颜色的法术力。\n",
      "[after preprocess]:spend this mana only to cast phyrexian creature spells .\n",
      "[before postprocess]:此法术力只能用来施放生物咒语。\n",
      "[after preprocess]:corrupted — {t} : target 1 / 1 creature gets + 2 / + 1 until end of turn .\n",
      "[before postprocess]:<unk>～{t}：目标1/+1/+1直到回合结束。\n",
      "[after preprocess]:activate only if an opponent has three or more poison counters .\n",
      "[before postprocess]:只能于某对手具有三个或更多中毒指示物时起动此异能。\n",
      "{'src': ['{T},', 'Pay', '1', 'life:', 'Destroy', 'target', 'permanent', 'you', 'own.\\n{T},', 'Pay', '2', 'life:', 'Add', 'one', 'mana', 'of', 'any', 'color.\\n{T},', 'Pay', '3', 'life:', 'Proliferate.\\n{T},', 'Pay', '4', 'life:', 'Draw', 'a', 'card.\\n{5}:', 'Untap', 'Staff', 'of', 'Compleation.'], 'trg': ['{T}，支付1点生命：消灭目标由你拥有的永久物。', '{T}，支付2点生命：加一点任意颜色的法术力。', '{T}，支付3点生命：增殖。', '{T}，支付4点生命：抓一张牌。', '{5}：重置完化法杖。']}\n",
      "[after preprocess]:{t} , pay 1 life : destroy target permanent you own .\n",
      "[before postprocess]:{t}，支付1点生命：消灭目标由你拥有的永久物。\n",
      "[after preprocess]:{t} , pay 2 life : add one mana of any color .\n",
      "[before postprocess]:{t}，支付2点生命：加一点任意颜色的法术力。\n",
      "[after preprocess]:{t} , pay 3 life : proliferate .\n",
      "[before postprocess]:{t}，支付3点生命：增殖。\n",
      "[after preprocess]:{t} , pay 4 life : draw a card .\n",
      "[before postprocess]:{t}，支付4点生命：抓一张牌。\n",
      "[after preprocess]:{5} : untap <0> .\n",
      "[before postprocess]:{5}：重置<0>。\n",
      "{'src': ['Mercurial', 'Spelldancer', \"can't\", 'be', 'blocked.\\nWhenever', 'you', 'cast', 'a', 'noncreature', 'spell,', 'put', 'an', 'oil', 'counter', 'on', 'Mercurial', 'Spelldancer.\\nWhenever', 'Mercurial', 'Spelldancer', 'deals', 'combat', 'damage', 'to', 'a', 'player,', 'you', 'may', 'remove', 'two', 'oil', 'counters', 'from', 'it.', 'If', 'you', 'do,', 'when', 'you', 'cast', 'your', 'next', 'instant', 'or', 'sorcery', 'spell', 'this', 'turn,', 'copy', 'that', 'spell.', 'You', 'may', 'choose', 'new', 'targets', 'for', 'the', 'copy.'], 'trg': ['善变舞咒客不能被阻挡。', '每当你施放非生物咒语时，在善变舞咒客上放置一个烁油指示物。', '每当善变舞咒客对任一牌手造成战斗伤害时，你可以从其上移去两个烁油指示物。若你如此作，则本回合中，当你施放你的下一个瞬间或法术咒语时，复制该咒语。你可以为该复制品选择新的目标。']}\n",
      "[after preprocess]:<0> ca n't be blocked .\n",
      "[before postprocess]:<0>不能被阻挡。\n",
      "[after preprocess]:whenever you cast a non creature spell , put an <1> counter on <0> .\n",
      "[before postprocess]:每当你施放非生物咒语时，在<0>上放置一个<1>指示物。\n",
      "[after preprocess]:whenever <0> deals combat damage to a player , you may remove two <1> counters from it .\n",
      "[before postprocess]:每当<0>对任一牌手造成战斗伤害时，你可以从其上放置两个<1>指示物。\n",
      "[after preprocess]:if you do , when you cast your next instant or sorcery spell this turn , copy that spell .\n",
      "[before postprocess]:若你如此作，则本回合中，当你施放你的下一个瞬间或法术咒语时，复制该咒语。\n",
      "[after preprocess]:you may choose new targets for the copy .\n",
      "[before postprocess]:你可以为该复制品选择新的目标。\n",
      "{'src': ['Whenever', 'one', 'or', 'more', 'other', 'creatures', 'you', 'control', 'die,', 'each', 'opponent', 'loses', '2', 'life', 'and', 'you', 'gain', '2', 'life.', 'This', 'ability', 'triggers', 'only', 'once', 'each', 'turn.'], 'trg': ['每当一个或数个由你操控的其他生物死去时，每位对手各失去2点生命且你获得2点生命。此异能每回合只会触发一次。']}\n",
      "[after preprocess]:whenever one or more other creatures you control die , each opponent loses 2 life and you gain 2 life .\n",
      "[before postprocess]:每当一个或数个或数个其他生物死去时，每位对手各失去2点生命，且你获得2点生命。\n",
      "[after preprocess]:this ability triggers only once each turn .\n",
      "[before postprocess]:此异能每回合只会触发一次。\n",
      "{'src': ['{T},', 'Sacrifice', 'an', 'artifact:', 'Add', 'an', 'amount', 'of', '{R}', 'equal', 'to', 'the', 'sacrificed', \"artifact's\", 'mana', 'value.', 'Spend', 'this', 'mana', 'only', 'to', 'cast', 'artifact', 'spells', 'or', 'activate', 'abilities', 'of', 'artifacts.'], 'trg': ['{T}，牺牲一个神器：加若干{R}，其数量等同于所牺牲神器的法术力值。此法术力只能用来施放神器咒语，或是起动神器的异能。']}\n",
      "[after preprocess]:{t} , sacrifice an artifact : add an amount of {r} equal to the sacrificed artifact 's mana value .\n",
      "[before postprocess]:{t}，牺牲一个神器：加若干{r}，其数量等同于所牺牲之神器的法术力值。\n",
      "[after preprocess]:spend this mana only to cast artifact spells or activate abilities of artifacts .\n",
      "[before postprocess]:此法术力只能用来施放神器咒语，或是神器神器的费用。\n",
      "{'src': ['Flying\\nWhenever', 'you', 'cast', 'a', 'noncreature', 'spell,', 'put', 'an', 'oil', 'counter', 'on', 'Serum', 'Sovereign.\\n{U},', 'Remove', 'an', 'oil', 'counter', 'from', 'Serum', 'Sovereign:', 'Draw', 'a', 'card,', 'then', 'scry', '2.'], 'trg': ['飞行', '每当你施放非生物咒语时，在浆液君王上放置一个烁油指示物。', '{U}，从浆液君王上移去一个烁油指示物：抓一张牌，然后占卜2。']}\n",
      "[after preprocess]:flying\n",
      "[before postprocess]:飞行\n",
      "[after preprocess]:whenever you cast a non creature spell , put an <1> counter on <0> .\n",
      "[before postprocess]:每当你施放非生物咒语时，在<0>上放置一个<1>指示物。\n",
      "[after preprocess]:{u} , remove an <1> counter from <0> : draw a card , then scry 2 .\n",
      "[before postprocess]:{u}，从<0>上移去一个<9>：抓一张牌，然后占卜2。\n",
      "{'src': ['When', 'Malcator,', 'Purity', 'Overseer', 'enters', 'the', 'battlefield,', 'create', 'a', '3/3', 'colorless', 'Phyrexian', 'Golem', 'artifact', 'creature', 'token.\\nAt', 'the', 'beginning', 'of', 'your', 'end', 'step,', 'if', 'three', 'or', 'more', 'artifacts', 'entered', 'the', 'battlefield', 'under', 'your', 'control', 'this', 'turn,', 'create', 'a', '3/3', 'colorless', 'Phyrexian', 'Golem', 'artifact', 'creature', 'token.'], 'trg': ['当纯净督理麻卡特进战场时，派出一个3/3无色非瑞人／魔像衍生神器生物。', '在你的结束步骤开始时，若本回合中有三个或更多神器在你的操控下进战场，则派出一个3/3无色非瑞人／魔像衍生神器生物。']}\n",
      "[after preprocess]:when <0> enters the battlefield , create a 3 / 3 colorless phyrexian golem artifact creature token .\n",
      "[before postprocess]:当<0>进战场时，派出一个3/3无色魔像衍生神器生物。\n",
      "[after preprocess]:at the beginning of your end step , if three or more artifacts entered the battlefield under your control this turn , create a 3 / 3 colorless phyrexian golem artifact creature token .\n",
      "[before postprocess]:在你的结束步骤开始时，若有三个或更多神器在你的操控下进战场，则派出一个3/3无色魔像衍生神器生物。\n",
      "{'src': ['{T},', 'Sacrifice', 'an', 'artifact:', 'Add', 'an', 'amount', 'of', '{R}', 'equal', 'to', 'the', 'sacrificed', \"artifact's\", 'mana', 'value.', 'Spend', 'this', 'mana', 'only', 'to', 'cast', 'artifact', 'spells', 'or', 'activate', 'abilities', 'of', 'artifacts.'], 'trg': ['{T}，牺牲一个神器：加若干{R}，其数量等同于所牺牲神器的法术力值。此法术力只能用来施放神器咒语，或是起动神器的异能。']}\n",
      "[after preprocess]:{t} , sacrifice an artifact : add an amount of {r} equal to the sacrificed artifact 's mana value .\n",
      "[before postprocess]:{t}，牺牲一个神器：加若干{r}，其数量等同于所牺牲之神器的法术力值。\n",
      "[after preprocess]:spend this mana only to cast artifact spells or activate abilities of artifacts .\n",
      "[before postprocess]:此法术力只能用来施放神器咒语，或是神器神器的费用。\n",
      "{'src': ['Menace\\nToxic', '2', '(Players', 'dealt', 'combat', 'damage', 'by', 'this', 'creature', 'also', 'gets', 'two', 'poison', 'counter.)'], 'trg': ['威慑', '下毒2（受此生物战斗伤害的牌手还会得到两个中毒指示物。）']}\n",
      "[after preprocess]:menace\n",
      "[before postprocess]:威慑\n",
      "[after preprocess]:toxic 2\n",
      "[before postprocess]:铭勇2\n",
      "[after preprocess]:players dealt combat damage by this creature also gets two poison counter .\n",
      "[before postprocess]:此生物所造成的伤害会得到两个中毒指示物。\n",
      "{'src': ['Trample\\nWhenever', 'Jor', 'Kadeen,', 'First', 'Goldwarden', 'attacks,', 'it', 'gets', '+X/+X', 'until', 'end', 'of', 'turn,', 'where', 'X', 'is', 'the', 'number', 'of', 'equipped', 'creatures', 'you', 'control.', 'Then', 'if', 'Jor', \"Kadeen's\", 'power', 'is', '4', 'or', 'greater,', 'draw', 'a', 'card.'], 'trg': ['践踏', '每当金坚卫之首尤克定攻击时，它得+X/+X直到回合结束，X为由你操控且佩带武具的生物数量。然后如果尤克定的力量等于或大于4，则抓一张牌。']}\n",
      "[after preprocess]:trample\n",
      "[before postprocess]:践踏\n",
      "[after preprocess]:whenever <0> attacks , it gets + x / + x until end of turn , where x is the number of equipped creatures you control .\n",
      "[before postprocess]:每当<0>攻击时，它得+x/+x直到回合结束，x为由你操控且进行攻击的生物数量。\n",
      "[after preprocess]:then if <0> 's power is 4 or greater , draw a card .\n",
      "[before postprocess]:然后如果<0>的力量等于或大于4，则抓一张牌。\n",
      "{'src': ['For', 'Mirrodin!', '(When', 'this', 'Equipment', 'enters', 'the', 'battlefield,', 'create', 'a', '2/2', 'red', 'Rebel', 'creature', 'token,', 'then', 'attach', 'this', 'to', 'it.)\\nEquipped', 'creature', 'gets', '+0/+1.\\nEquip', '{1}{W}', '({1}{W}:', 'Attach', 'to', 'target', 'creature', 'you', 'control.', 'Equip', 'only', 'as', 'a', 'sorcery.)'], 'trg': ['秘罗万岁！（当此武具进战场时，派出一个2/2红色反抗军衍生生物，然后将它贴附于其上。）', '佩带此武具的生物得+0/+1。', '佩带{1}{W}（{1}{W}：贴附在目标由你操控的生物上。只能于法术时机佩带。）']}\n",
      "[after preprocess]:for <mirrodin !\n",
      "[before postprocess]:<unk><unk><unk><unk><unk>\n",
      "[after preprocess]:when this equipment enters the battlefield , create a 2 / 2 red <0> creature token , then attach this to it .\n",
      "[before postprocess]:当此武具进战场时，派出一个2/2红色，然后将它装备上去。\n",
      "[after preprocess]:equipped creature gets + 0 / + 1 .\n",
      "[before postprocess]:佩带此武具的生物得+0/+1。\n",
      "[after preprocess]:equip {1} {w}\n",
      "[before postprocess]:佩带{1}{w}\n",
      "[after preprocess]:{1} {w} : attach to target creature you control .\n",
      "[before postprocess]:{1}{w}：贴附在目标由你操控的生物上。\n",
      "[after preprocess]:equip only as a sorcery .\n",
      "[before postprocess]:只能于法术时机佩带。\n",
      "{'src': ['Target', 'creature', 'gains', 'deathtouch', 'and', 'indestructible', 'until', 'end', 'of', 'turn.', '(Damage', 'and', 'effects', 'that', 'say', '\"destroy\"', \"don't\", 'destroy', 'it.)'], 'trg': ['目标生物获得死触与不灭异能直到回合结束。（伤害与注明「消灭」的效应不会将它消灭。）']}\n",
      "[after preprocess]:target creature gains deathtouch and indestructible until end of turn .\n",
      "[before postprocess]:目标生物获得死触与不灭异能直到回合结束。\n",
      "[after preprocess]:damage and effects that say \" destroy \" do n't destroy it .\n",
      "[before postprocess]:伤害与注明\"消灭\"的效应不会将它消灭。\n",
      "{'src': ['Flying\\nNecrosquito', 'enters', 'the', 'battlefield', 'with', 'two', 'oil', 'counters', 'on', 'it.\\nNecrosquito', 'gets', '+1/+1', 'for', 'each', 'oil', 'counter', 'on', 'it.\\nWhenever', 'another', 'creature', 'or', 'artifact', 'you', 'control', 'is', 'put', 'into', 'a', 'graveyard', 'from', 'the', 'battlefield,', 'put', 'an', 'oil', 'counter', 'on', 'Necrosquito.'], 'trg': ['飞行', '化尸蚊进战场时上面有两个烁油指示物。', '化尸蚊上每有一个烁油指示物，便得+1/+1。', '每当另一个由你操控的生物或神器从战场进入坟墓场时，在化尸蚊上放置一个烁油指示物。']}\n",
      "[after preprocess]:flying\n",
      "[before postprocess]:飞行\n",
      "[after preprocess]:<0> enters the battlefield with two <1> counters on it .\n",
      "[before postprocess]:<0>进战场时上面有两个+1指示物。\n",
      "[after preprocess]:<0> gets + 1 / + 1 for each <1> counter on it .\n",
      "[before postprocess]:<1>上每有一个1指示物，<0>便得+1/+1。\n",
      "[after preprocess]:whenever another creature or artifact you control is put into a graveyard from the battlefield , put an <1> counter on <0> .\n",
      "[before postprocess]:每当另一个由你操控的生物或鹏洛客从战场进入坟墓场时，在<0>上放置一个<1>。\n",
      "{'src': ['Flying\\nCephalopod', \"Sentry's\", 'power', 'is', 'equal', 'to', 'the', 'number', 'of', 'artifacts', 'you', 'control.'], 'trg': ['飞行', '头足哨卫的力量等同于由你操控的神器数量。']}\n",
      "[after preprocess]:flying\n",
      "[before postprocess]:飞行\n",
      "[after preprocess]:<0> 's power is equal to the number of artifacts you control .\n",
      "[before postprocess]:<0>的力量等同于由你操控的神器数量。\n",
      "{'src': ['{1},', 'Sacrifice', 'Dross', 'Skullbomb:', 'Draw', 'a', 'card.\\n{2}{B},', 'Sacrifice', 'Dross', 'Skullbomb:', 'Return', 'target', 'creature', 'card', 'from', 'your', 'graveyard', 'to', 'your', 'hand.', 'Draw', 'a', 'card.', 'Activate', 'only', 'as', 'a', 'sorcery.'], 'trg': ['{1}，牺牲深沼骨击弹：抓一张牌。', '{2}{B}，牺牲深沼骨击弹：将目标生物牌从你的坟墓场移回你手上。抓一张牌。只能于法术时机起动。']}\n",
      "[after preprocess]:{1} , sacrifice <0> : draw a card .\n",
      "[before postprocess]:{1}，牺牲<0>：抓一张牌。\n",
      "[after preprocess]:{2} {b} , sacrifice <0> : return target creature card from your graveyard to your hand .\n",
      "[before postprocess]:{2}{b}，牺牲<0>：将目标生物牌从你的坟墓场移回你手上。\n",
      "[after preprocess]:draw a card .\n",
      "[before postprocess]:抓一张牌。\n",
      "[after preprocess]:activate only as a sorcery .\n",
      "[before postprocess]:只能于法术时机起动。\n",
      "{'src': ['This', 'spell', 'costs', '{1}', 'less', 'to', 'cast', 'for', 'each', 'permanent', 'you', 'control', 'with', 'oil', 'counters', 'on', 'it.\\nVigilance\\nWhen', 'Cinderslash', 'Ravager', 'enters', 'the', 'battlefield,', 'it', 'deals', '1', 'damage', 'to', 'each', 'creature', 'your', 'opponents', 'control.'], 'trg': ['你每操控一个其上有烁油指示物的永久物，此咒语便减少{1}来施放。', '警戒', '当烬斩吞噬兽进战场时，它向每个由对手操控的生物各造成1点伤害。']}\n",
      "[after preprocess]:this spell costs {1} less to cast for each permanent you control with <0> counters on it .\n",
      "[before postprocess]:你每操控一个具<0>异能的其他生物而言，<2>便减少{1}来施放。\n",
      "[after preprocess]:vigilance\n",
      "[before postprocess]:警戒\n",
      "[after preprocess]:when <0> enters the battlefield , it deals 1 damage to each creature your opponents control .\n",
      "[before postprocess]:当<0>进战场时，它向由对手操控的每个生物各造成1点伤害。\n",
      "{'src': ['Deathtouch\\nToxic', '1', '(Players', 'dealt', 'combat', 'damage', 'by', 'this', 'creature', 'also', 'get', 'a', 'poison', 'counter.)'], 'trg': ['死触', '下毒1（受此生物战斗伤害的牌手还会得到一个中毒指示物。）']}\n",
      "[after preprocess]:deathtouch\n",
      "[before postprocess]:死触\n",
      "[after preprocess]:toxic 1\n",
      "[before postprocess]:铭勇1\n",
      "[after preprocess]:players dealt combat damage by this creature also get a poison counter .\n",
      "[before postprocess]:受此生物造成战斗伤害的还会得到一个中毒指示物。\n",
      "{'src': ['Furnace', 'Strider', 'enters', 'the', 'battlefield', 'with', 'two', 'oil', 'counters', 'on', 'it.\\nRemove', 'an', 'oil', 'counter', 'from', 'Furnace', 'Strider:', 'Target', 'creature', 'you', 'control', 'gains', 'haste', 'until', 'end', 'of', 'turn.'], 'trg': ['熔炉神行兽进战场时上面有两个烁油指示物。', '从熔炉神行兽上移去一个烁油指示物：目标由你操控的生物获得敏捷异能直到回合结束。']}\n",
      "[after preprocess]:<0> enters the battlefield with two <1> counters on it .\n",
      "[before postprocess]:<0>进战场时上面有两个+1指示物。\n",
      "[after preprocess]:remove an <1> counter from <0> : target creature you control gains haste until end of turn .\n",
      "[before postprocess]:从<0>上移去一个<9>：目标由你操控的生物获得敏捷异能直到回合结束。\n",
      "{'src': ['Lifelink\\nWhenever', 'another', 'artifact', 'enters', 'the', 'battlefield', 'under', 'your', 'control,', 'Mandible', 'Justiciar', 'gets', '+1/+1', 'until', 'end', 'of', 'turn.'], 'trg': ['系命', '每当另一个神器在你的操控下进战场时，强颚裁断僧得+1/+1直到回合结束。']}\n",
      "[after preprocess]:lifelink\n",
      "[before postprocess]:系命\n",
      "[after preprocess]:whenever another artifact enters the battlefield under your control , <0> gets + 1 / + 1 until end of turn .\n",
      "[before postprocess]:每当另一个神器在你的操控下进战场时，<0>得+1/+1直到回合结束。\n",
      "{'src': ['Evolved', 'Spinoderm', 'enters', 'the', 'battlefield', 'with', 'four', 'oil', 'counters', 'on', 'it.\\nEvolved', 'Spinoderm', 'has', 'trample', 'as', 'long', 'as', 'it', 'has', 'two', 'or', 'fewer', 'oil', 'counters', 'on', 'it.', 'Otherwise,', 'it', 'has', 'hexproof.\\nAt', 'the', 'beginning', 'of', 'your', 'upkeep,', 'remove', 'an', 'oil', 'counter', 'from', 'Evolved', 'Spinoderm.', 'Then', 'if', 'it', 'has', 'no', 'oil', 'counters', 'on', 'it,', 'sacrifice', 'it.'], 'trg': ['蜕变斯宾驼登进战场时上面有四个烁油指示物。', '只要蜕变斯宾驼登上有两个或更少烁油指示物，它便具有践踏异能。若否，则它具有辟邪异能。', '在你的维持开始时，从蜕变斯宾驼登上移去一个烁油指示物。然后若其上没有烁油指示物，则将它牺牲。']}\n",
      "[after preprocess]:<0> enters the battlefield with four <1> counters on it .\n",
      "[before postprocess]:<0>进战场时上面有四个充电指示物。\n",
      "[after preprocess]:<0> has trample as long as it has two or fewer <1> counters on it .\n",
      "[before postprocess]:只要<0>上面有两个或更多石砖指示物，<0>便具有践踏异能。\n",
      "[after preprocess]:otherwise , it has hexproof .\n",
      "[before postprocess]:若否，则它具有辟邪。\n",
      "[after preprocess]:at the beginning of your upkeep , remove an <1> counter from <0> .\n",
      "[before postprocess]:在你的维持开始时，从<0>上放置一个<1>指示物。\n",
      "[after preprocess]:then if it has no <0> counters on it , sacrifice it .\n",
      "[before postprocess]:然后如果其上有<0>指示物，则牺牲之。\n",
      "{'src': ['Return', 'target', 'nonland', 'permanent', 'to', 'its', \"owner's\", 'hand.', 'If', 'that', 'permanent', 'had', 'mana', 'value', '3', 'or', 'less,', 'proliferate.', '(Choose', 'any', 'number', 'of', 'permanents', 'and/or', 'players,', 'then', 'give', 'each', 'another', 'counter', 'of', 'each', 'kind', 'already', 'there.)'], 'trg': ['将目标非地永久物移回其拥有者手上。如果该永久物的法术力值等于或小于3，则增殖。（选择任意数量的永久物和／或牌手，然后为其已有之每种指示物各多放置一个同类的指示物。）']}\n",
      "[after preprocess]:return target non land permanent to its owner 's hand .\n",
      "[before postprocess]:将目标非地永久物移回其拥有者手上。\n",
      "[after preprocess]:if that permanent had mana value 3 or less , proliferate .\n",
      "[before postprocess]:若该总法术力费用等于或小于3，则增殖。\n",
      "[after preprocess]:choose any number of permanents and / or players , then give each another counter of each kind already there .\n",
      "[before postprocess]:选择任意数量的永久物和／或牌手，然后为其已有之每种指示物各多放置一个同类的指示物。\n",
      "{'src': ['Other', 'creatures', 'you', 'control', 'get', '-1/-1.\\n{1}{B}{B},', '{T}:', 'Return', 'target', 'creature', 'card', 'from', 'your', 'graveyard', 'to', 'the', 'battlefield.', 'It', 'gains', '\"If', 'this', 'creature', 'would', 'leave', 'the', 'battlefield,', 'exile', 'it', 'instead', 'of', 'putting', 'it', 'anywhere', 'else.\"', 'Activate', 'only', 'as', 'a', 'sorcery.'], 'trg': ['由你操控的其他生物得-1/-1。', '{1}{B}{B}，{T}：将目标生物牌从你的坟墓场移回战场。它获得「如果此生物将离开战场，则改为将它放逐，而非置入其他区域。」只能于法术时机起动。']}\n",
      "[after preprocess]:other creatures you control get - 1 / - 1 .\n",
      "[before postprocess]:由你操控的其他生物得-1/-1。\n",
      "[after preprocess]:{1} {b} {b} , {t} : return target creature card from your graveyard to the battlefield .\n",
      "[before postprocess]:{1}{b}{b}，{t}：将目标生物牌从你的坟墓场移回战场。\n",
      "[after preprocess]:it gains \" if this creature would leave the battlefield , exile it instead of putting it anywhere else . \" activate only as a sorcery .\n",
      "[before postprocess]:它获得\"当此生物将离开战场，则改为将它放逐，而非地，而非地。\n",
      "{'src': ['When', 'Goliath', 'Hatchery', 'enters', 'the', 'battlefield,', 'create', 'two', '3/3', 'green', 'Phyrexian', 'Beast', 'creature', 'tokens', 'with', 'toxic', '1.', '(Players', 'dealt', 'combat', 'damage', 'by', 'them', 'also', 'get', 'a', 'poison', 'counter.)\\nCorrupted', '—', 'At', 'the', 'beginning', 'of', 'your', 'upkeep,', 'if', 'an', 'opponent', 'has', 'three', 'or', 'more', 'poison', 'counters,', 'choose', 'a', 'creature', 'you', 'control,', 'then', 'draw', 'cards', 'equal', 'to', 'its', 'total', 'toxic', 'value.'], 'trg': ['当巨身兽孵化场进战场时，派出两个3/3绿色，具下毒1的非瑞人／野兽衍生生物。（受到其战斗伤害的牌手还会得到一个中毒指示物。）', '腐化～在你的维持开始时，若某对手具有三个或更多中毒指示物，则你选择一个由你操控的生物，然后抓等同于其总下毒值的牌。']}\n",
      "[after preprocess]:when <0> enters the battlefield , create two 3 / 3 green phyrexian beast creature tokens with toxic 1 .\n",
      "[before postprocess]:当<0>进战场时，将两个3/3绿色，具死触异能。\n",
      "[after preprocess]:players dealt combat damage by them also get a poison counter .\n",
      "[before postprocess]:受位牌手造成战斗伤害，还得到一个中毒指示物。\n",
      "[after preprocess]:corrupted — at the beginning of your upkeep , if an opponent has three or more poison counters , choose a creature you control , then draw cards equal to its total toxic value .\n",
      "[before postprocess]:腐化～在你的维持开始时，若某对手操控三个或更多中毒指示物，则选择一个由你操控的生物，然后各等同于其力量的力量。\n",
      "{'src': ['Target', 'creature', 'gets', '+2/+2', 'until', 'end', 'of', 'turn.', 'Put', 'two', 'oil', 'counters', 'on', 'it.'], 'trg': ['目标生物得+2/+2直到回合结束。在其上放置两个烁油指示物。']}\n",
      "[after preprocess]:target creature gets + 2 / + 2 until end of turn .\n",
      "[before postprocess]:目标生物得+2/+2直到回合结束。\n",
      "[after preprocess]:put two <0> counters on it .\n",
      "[before postprocess]:在其上放置两个石砖指示物。\n",
      "{'src': ['Flying\\nWhen', 'Quicksilver', 'Fisher', 'enters', 'the', 'battlefield,', 'draw', 'a', 'card,', 'then', 'discard', 'a', 'card.'], 'trg': ['飞行', '当水银海渔龙进战场时，抓一张牌，然后弃一张牌。']}\n",
      "[after preprocess]:flying\n",
      "[before postprocess]:飞行\n",
      "[after preprocess]:when <0> enters the battlefield , draw a card , then discard a card .\n",
      "[before postprocess]:当<0>进战场时，抓一张牌，然后弃一张牌。\n",
      "{'src': ['For', 'Mirrodin!', '(When', 'this', 'Equipment', 'enters', 'the', 'battlefield,', 'create', 'a', '2/2', 'red', 'Rebel', 'creature', 'token,', 'then', 'attach', 'this', 'to', 'it.)\\nEquipped', 'creature', 'gets', '+1/-1.\\nEquip', '{1}', '({1}:', 'Attach', 'to', 'target', 'creature', 'you', 'control.', 'Equip', 'only', 'as', 'a', 'sorcery.)'], 'trg': ['秘罗万岁！（当此武具进战场时，派出一个2/2红色反抗军衍生生物，然后将它贴附于其上。）', '佩带此武具的生物得+1/-1。', '佩带{1}（{1}：贴附在目标由你操控的生物上。只能于法术时机佩带。）']}\n",
      "[after preprocess]:for <mirrodin !\n",
      "[before postprocess]:<unk><unk><unk><unk><unk>\n",
      "[after preprocess]:when this equipment enters the battlefield , create a 2 / 2 red <0> creature token , then attach this to it .\n",
      "[before postprocess]:当此武具进战场时，派出一个2/2红色，然后将它装备上去。\n",
      "[after preprocess]:equipped creature gets + 1 / - 1 .\n",
      "[before postprocess]:佩带此武具的生物得+1/-1。\n",
      "[after preprocess]:equip {1}\n",
      "[before postprocess]:佩带{1}\n",
      "[after preprocess]:{1} : attach to target creature you control .\n",
      "[before postprocess]:{1}：贴附在目标由你操控的生物上。\n",
      "[after preprocess]:equip only as a sorcery .\n",
      "[before postprocess]:只能于法术时机佩带。\n",
      "{'src': ['Whenever', 'one', 'or', 'more', 'creatures', 'you', 'control', 'deal', 'combat', 'damage', 'to', 'a', 'player,', 'you', 'may', 'return', 'one', 'of', 'them', 'to', 'its', \"owner's\", 'hand.', 'If', 'you', 'do,', 'you', 'may', 'activate', 'loyalty', 'abilities', 'of', 'Kaito', 'twice', 'this', 'turn', 'rather', 'than', 'only', 'once.\\n+1:', 'Up', 'to', 'one', 'target', 'creature', \"can't\", 'attack', 'or', 'block', 'until', 'your', 'next', 'turn.\\n0:', 'Draw', 'a', 'card.\\n−2:', 'Create', 'a', '2/2', 'colorless', 'Drone', 'artifact', 'creature', 'token', 'with', 'deathtouch', 'and', '\"When', 'this', 'creature', 'leaves', 'the', 'battlefield,', 'each', 'opponent', 'loses', '2', 'life', 'and', 'you', 'gain', '2', 'life.\"'], 'trg': ['每当由你操控的一个或数个生物对任一牌手造成战斗伤害时，你可以将其中一个移回其拥有者手上。若你如此作，则你本回合中可以起动魁渡的忠诚异能两次，而不是只能起动一次。', '+1：直到你的下一个回合，至多一个目标生物不能进行攻击或阻挡。', '0：抓一张牌。', '−2：派出一个2/2无色奴兽衍生神器生物，且具有死触与「当此生物离开战场时，每位对手各失去2点生命且你获得2点生命。」']}\n",
      "[after preprocess]:whenever one or more creatures you control deal combat damage to a player , you may return one of them to its owner 's hand .\n",
      "[before postprocess]:每当由你操控的一个或数个生物对任一牌手造成战斗伤害时，你可以将其中一张移回其拥有者手上。\n",
      "[after preprocess]:if you do , you may activate loyalty abilities of kaito twice this turn rather than only once .\n",
      "[before postprocess]:若你如此作，则本回合中，且本回合中使用两个忠诚异能，且不能使用一次。\n",
      "[after preprocess]:+ 1 : up to one target creature ca n't attack or block until your next turn .\n",
      "[before postprocess]:+1：至多一个目标生物本回合不能进行攻击或阻挡。\n",
      "[after preprocess]:0 : draw a card .\n",
      "[before postprocess]:0：抓一张牌。\n",
      "[after preprocess]:− 2 : create a 2 / 2 colorless drone artifact creature token with deathtouch and \" when this creature leaves the battlefield , each opponent loses 2 life and you gain 2 life . \"\n",
      "[before postprocess]:−2：派出一个2/2无色，具<unk>生物<unk><unk><unk>生物，且具有\"当此生物死去时，每位对手各失去2点生命，且你获得2点生命。\n",
      "{'src': ['Toxic', '1', '(Players', 'dealt', 'combat', 'damage', 'by', 'this', 'creature', 'also', 'get', 'a', 'poison', 'counter.)\\nWhen', \"Unctus's\", 'Retrofitter', 'enters', 'the', 'battlefield,', 'up', 'to', 'one', 'target', 'artifact', 'you', 'control', 'becomes', 'an', 'artifact', 'creature', 'with', 'base', 'power', 'and', 'toughness', '4/4', 'for', 'as', 'long', 'as', \"Unctus's\", 'Retrofitter', 'remains', 'on', 'the', 'battlefield.'], 'trg': ['下毒1（受此生物战斗伤害的牌手还会得到一个中毒指示物。）', '当安塔斯的翻新师进战场时，于其仍在战场上的时段内，至多一个目标由你操控的神器成为基础力量与防御力为4/4的神器生物。']}\n",
      "[after preprocess]:toxic 1\n",
      "[before postprocess]:铭勇1\n",
      "[after preprocess]:players dealt combat damage by this creature also get a poison counter .\n",
      "[before postprocess]:受此生物造成战斗伤害的还会得到一个中毒指示物。\n",
      "[after preprocess]:when <0> enters the battlefield , up to one target artifact you control becomes an artifact creature with base power and toughness 4 / 4 for as long as <1> remains on the battlefield .\n",
      "[before postprocess]:当<0>进战场时，只要<1>仍在战场上的时段内，至多一个目标由你操控的神器生物和防御力为4/4的神器生物。\n",
      "{'src': ['For', 'Mirrodin!', '(When', 'this', 'Equipment', 'enters', 'the', 'battlefield,', 'create', 'a', '2/2', 'red', 'Rebel', 'creature', 'token,', 'then', 'attach', 'this', 'to', 'it.)\\nEquipped', 'creature', 'gets', '+2/+2', 'and', 'has', 'flying', 'and', 'haste.\\nEquip', '{3}{R}{R}'], 'trg': ['秘罗万岁！（当此武具进战场时，派出一个2/2红色反抗军衍生生物，然后将它贴附于其上。）', '佩带此武具的生物得+2/+2且具有飞行与敏捷异能。', '佩带{3}{R}{R}']}\n",
      "[after preprocess]:for <mirrodin !\n",
      "[before postprocess]:<unk><unk><unk><unk><unk>\n",
      "[after preprocess]:when this equipment enters the battlefield , create a 2 / 2 red <0> creature token , then attach this to it .\n",
      "[before postprocess]:当此武具进战场时，派出一个2/2红色，然后将它装备上去。\n",
      "[after preprocess]:equipped creature gets + 2 / + 2 and has flying and haste .\n",
      "[before postprocess]:佩带此武具的生物得+2/+2且具有飞行与敏捷异能。\n",
      "[after preprocess]:equip {3} {r} {r}\n",
      "[before postprocess]:佩带{3}{r}{r}\n",
      "{'src': ['Whenever', 'a', 'creature', 'enters', 'the', 'battlefield', 'under', 'your', 'control,', 'if', 'it', 'has', 'one', 'or', 'more', 'oil', 'counters', 'on', 'it,', 'put', 'an', 'oil', 'counter', 'on', 'it.\\nCreatures', 'you', 'control', 'with', 'oil', 'counters', 'on', 'them', 'get', '+1/+1.'], 'trg': ['每当一个生物在你的操控下进战场时，若其上有一个或数个烁油指示物，则在其上放置一个烁油指示物。', '由你操控且其上有烁油指示物的生物得+1/+1.']}\n",
      "[after preprocess]:whenever a creature enters the battlefield under your control , if it has one or more <0> counters on it , put an <0> counter on it .\n",
      "[before postprocess]:每当一个生物在你的操控下进战场时，若其上有七个或更多，则在<0>上放置一个<0>指示物。\n",
      "[after preprocess]:creatures you control with <0> counters on them get + 1 / + 1 .\n",
      "[before postprocess]:由你操控且具<0>异能的生物得+1/+1。\n",
      "{'src': ['This', 'spell', 'costs', '{3}', 'less', 'to', 'cast', 'if', 'you', 'have', 'nine', 'or', 'more', 'cards', 'in', 'your', 'graveyard.\\nFlying\\nWhen', 'Capricious', 'Hellraiser', 'enters', 'the', 'battlefield,', 'exile', 'three', 'cards', 'at', 'random', 'from', 'your', 'graveyard.', 'Choose', 'a', 'noncreature,', 'nonland', 'card', 'from', 'among', 'them', 'and', 'copy', 'it.', 'You', 'may', 'cast', 'the', 'copy', 'without', 'paying', 'its', 'mana', 'cost.'], 'trg': ['如果你坟墓场中有九张或更多牌，则此咒语减少{3}来施放。', '飞行', '当任性龙煞进战场时，随机从你的坟墓场放逐三张牌。选择其中一张非生物且非地的牌并将它复制。你可以施放该复制品，且不需支付其法术力费用。']}\n",
      "[after preprocess]:this spell costs {3} less to cast if you have nine or more cards in your graveyard .\n",
      "[before postprocess]:如果你坟墓场中有有七张或更多，则此咒语减少{3}来施放。\n",
      "[after preprocess]:flying\n",
      "[before postprocess]:飞行\n",
      "[after preprocess]:when <0> enters the battlefield , exile three cards at random from your graveyard .\n",
      "[before postprocess]:当<0>进战场时，从你的坟墓场放逐三张牌。\n",
      "[after preprocess]:choose a non creature , non land card from among them and copy it .\n",
      "[before postprocess]:选择其中一张非生物且非地的牌，且不将之。\n",
      "[after preprocess]:you may cast the copy without paying its mana cost .\n",
      "[before postprocess]:你可以施放该复制品，且不需支付其法术力费用。\n",
      "{'src': ['Evolved', 'Spinoderm', 'enters', 'the', 'battlefield', 'with', 'four', 'oil', 'counters', 'on', 'it.\\nEvolved', 'Spinoderm', 'has', 'trample', 'as', 'long', 'as', 'it', 'has', 'two', 'or', 'fewer', 'oil', 'counters', 'on', 'it.', 'Otherwise,', 'it', 'has', 'hexproof.\\nAt', 'the', 'beginning', 'of', 'your', 'upkeep,', 'remove', 'an', 'oil', 'counter', 'from', 'Evolved', 'Spinoderm.', 'Then', 'if', 'it', 'has', 'no', 'oil', 'counters', 'on', 'it,', 'sacrifice', 'it.'], 'trg': ['蜕变斯宾驼登进战场时上面有四个烁油指示物。', '只要蜕变斯宾驼登上有两个或更少烁油指示物，它便具有践踏异能。若否，则它具有辟邪异能。', '在你的维持开始时，从蜕变斯宾驼登上移去一个烁油指示物。然后若其上没有烁油指示物，则将它牺牲。']}\n",
      "[after preprocess]:<0> enters the battlefield with four <1> counters on it .\n",
      "[before postprocess]:<0>进战场时上面有四个充电指示物。\n",
      "[after preprocess]:<0> has trample as long as it has two or fewer <1> counters on it .\n",
      "[before postprocess]:只要<0>上面有两个或更多石砖指示物，<0>便具有践踏异能。\n",
      "[after preprocess]:otherwise , it has hexproof .\n",
      "[before postprocess]:若否，则它具有辟邪。\n",
      "[after preprocess]:at the beginning of your upkeep , remove an <1> counter from <0> .\n",
      "[before postprocess]:在你的维持开始时，从<0>上放置一个<1>指示物。\n",
      "[after preprocess]:then if it has no <0> counters on it , sacrifice it .\n",
      "[before postprocess]:然后如果其上有<0>指示物，则牺牲之。\n",
      "{'src': ['Whenever', 'Kemba,', 'Kha', 'Enduring', 'or', 'another', 'Cat', 'enters', 'the', 'battlefield', 'under', 'your', 'control,', 'attach', 'up', 'to', 'one', 'target', 'Equipment', 'you', 'control', 'to', 'that', 'creature.\\nEquipped', 'creatures', 'you', 'control', 'get', '+1/+1.\\n{3}{W}{W}:', 'Create', 'a', '2/2', 'white', 'Cat', 'creature', 'token.'], 'trg': ['每当坚忍狮王肯芭或另一个猫在你的操控下进战场时，将至多一个目标由你操控的武具贴附在该生物上。', '由你操控且佩带武具的生物得+1/+1。', '{3}{W}{W}：派出一个2/2白色的猫衍生生物。']}\n",
      "[after preprocess]:whenever <0> or another cat enters the battlefield under your control , attach up to one target equipment you control to that creature .\n",
      "[before postprocess]:每当<0>或另一个灵俑在你的操控下进战场时，将至多一个目标由你操控的衍武具的武具。\n",
      "[after preprocess]:equipped creatures you control get + 1 / + 1 .\n",
      "[before postprocess]:由你操控且佩带武具的生物得+1/+1。\n",
      "[after preprocess]:{3} {w} {w} : create a 2 / 2 white cat creature token .\n",
      "[before postprocess]:{3}{w}{w}：将一个2/2白色的猫衍生生物放进战场。\n",
      "{'src': ['Choose', 'one', '—\\n•', 'Charge', 'of', 'the', 'Mites', 'deals', 'damage', 'equal', 'to', 'the', 'number', 'of', 'creatures', 'you', 'control', 'to', 'target', 'creature', 'or', 'planeswalker.\\n•', 'Create', 'two', '1/1', 'colorless', 'Phyrexian', 'Mite', 'artifact', 'creature', 'tokens', 'with', 'toxic', '1', 'and', '\"This', 'creature', \"can't\", 'block.\"', '(Players', 'dealt', 'combat', 'damage', 'by', 'them', 'also', 'get', 'a', 'poison', 'counter.)'], 'trg': ['选择一项～', '•虫械冲锋对目标生物或鹏洛客造成伤害，其数量等同于由你操控的生物数量。', '•派出两个1/1无色非瑞人／虫械衍生神器生物，且具有下毒1与「此生物不能进行阻挡。」（受到其战斗伤害的牌手还会得到一个中毒指示物。）']}\n",
      "[after preprocess]:choose one —\n",
      "[before postprocess]:选择一项～\n",
      "[after preprocess]:• <0> deals damage equal to the number of creatures you control to target creature or planeswalker .\n",
      "[before postprocess]:•<0>对目标生物或鹏洛客造成伤害，其数量等同于由你操控的生物数量。\n",
      "[after preprocess]:• create two 1 / 1 colorless phyrexian mite artifact creature tokens with toxic 1 and \" this creature ca n't block . \"\n",
      "[before postprocess]:•派出两个1/1无色，衍生生物的害虫衍生生物，且具有\"此生物不能进行阻挡。\"\n",
      "[after preprocess]:players dealt combat damage by them also get a poison counter .\n",
      "[before postprocess]:受位牌手造成战斗伤害，还得到一个中毒指示物。\n",
      "{'src': ['Equipped', 'creature', 'gets', '+2/+0.\\nWhenever', 'equipped', 'creature', 'attacks,', 'create', 'a', '1/1', 'colorless', 'Phyrexian', 'Mite', 'artifact', 'creature', 'token', 'with', 'toxic', '1', 'and', '\"This', 'creature', \"can't\", 'block.\"', '(Players', 'dealt', 'combat', 'damage', 'by', 'it', 'also', 'get', 'a', 'poison', 'counter.)\\nEquip', '{2}{W}'], 'trg': ['佩带此武具的生物得+2/+0。', '每当佩带此武具的生物攻击时，派出一个1/1无色非瑞人／虫械衍生神器生物，且具有下毒1与「此生物不能进行阻挡。」（受到其战斗伤害的牌手还会得到一个中毒指示物。）', '佩带{2}{W}']}\n",
      "[after preprocess]:equipped creature gets + 2 / + 0 .\n",
      "[before postprocess]:佩带此武具的生物得+2/+0。\n",
      "[after preprocess]:whenever equipped creature attacks , create a 1 / 1 colorless phyrexian mite artifact creature token with toxic 1 and \" this creature ca n't block . \"\n",
      "[before postprocess]:每当佩带此武具的生物攻击时，将一个1/1无色，具<unk>与此生物与防御力与\"此生物不能进行阻挡。\"\n",
      "[after preprocess]:players dealt combat damage by it also get a poison counter .\n",
      "[before postprocess]:受牌手造成战斗伤害的牌手得到一个中毒指示物。\n",
      "[after preprocess]:equip {2} {w}\n",
      "[before postprocess]:佩带{2}{w}\n",
      "{'src': ['Creatures', 'you', 'control', 'get', '+2/+2', 'until', 'end', 'of', 'turn.', 'Whenever', 'a', 'creature', 'blocks', 'this', 'turn,', 'its', 'controller', 'gets', 'a', 'poison', 'counter.'], 'trg': ['由你操控的生物得+2/+2直到回合结束。本回合中，每当一个生物进行阻挡时，其操控者得到一个中毒指示物。']}\n",
      "[after preprocess]:creatures you control get + 2 / + 2 until end of turn .\n",
      "[before postprocess]:由你操控的生物得+2/+2直到回合结束。\n",
      "[after preprocess]:whenever a creature blocks this turn , its controller gets a poison counter .\n",
      "[before postprocess]:每当本回合中，每当一个生物进行阻挡时，其操控者得到一个中毒指示物。\n",
      "{'src': ['Toxic', '2', '(Players', 'dealt', 'combat', 'damage', 'by', 'this', 'creature', 'also', 'get', 'two', 'poison', 'counters.)'], 'trg': ['下毒2（受此生物战斗伤害的牌手还会得到两个中毒指示物。）']}\n",
      "[after preprocess]:toxic 2\n",
      "[before postprocess]:铭勇2\n",
      "[after preprocess]:players dealt combat damage by this creature also get two poison counters .\n",
      "[before postprocess]:此生物所造成的伤害会得到两个中毒指示物。\n",
      "{'src': ['Return', 'target', 'permanent', 'card', 'from', 'your', 'graveyard', 'to', 'your', 'hand.', 'Proliferate.', '(Choose', 'any', 'number', 'of', 'permanents', 'and/or', 'players,', 'then', 'give', 'each', 'another', 'counter', 'of', 'each', 'kind', 'already', 'there.)'], 'trg': ['将目标永久物牌从你的坟墓场移回你手上。增殖。（选择任意数量的永久物和／或牌手，然后为其已有之每种指示物各多放置一个同类的指示物。）']}\n",
      "[after preprocess]:return target permanent card from your graveyard to your hand .\n",
      "[before postprocess]:将目标永久物牌从你的坟墓场移回你手上。\n",
      "[after preprocess]:proliferate .\n",
      "[before postprocess]:增殖。\n",
      "[after preprocess]:choose any number of permanents and / or players , then give each another counter of each kind already there .\n",
      "[before postprocess]:选择任意数量的永久物和／或牌手，然后为其已有之每种指示物各多放置一个同类的指示物。\n",
      "{'src': ['Destroy', 'target', 'artifact,', 'enchantment,', 'or', 'creature', 'with', 'flying.', 'If', 'that', \"permanent's\", 'mana', 'value', 'was', '3', 'or', 'less,', 'proliferate.', '(Choose', 'any', 'number', 'of', 'permanents', 'and/or', 'players,', 'then', 'give', 'each', 'another', 'counter', 'of', 'each', 'kind', 'already', 'there.)'], 'trg': ['消灭目标神器，结界或具飞行异能的生物。如果该永久物的法术力值等于或小于3，则增殖。（选择任意数量的永久物和／或牌手，然后为其已有之每种指示物各多放置一个同类的指示物。）']}\n",
      "[after preprocess]:destroy target artifact , enchantment , or creature with flying .\n",
      "[before postprocess]:消灭目标神器，结界或具飞行异能的生物。\n",
      "[after preprocess]:if that permanent 's mana value was 3 or less , proliferate .\n",
      "[before postprocess]:若该总法术力费用等于或小于3，则则增殖。\n",
      "[after preprocess]:choose any number of permanents and / or players , then give each another counter of each kind already there .\n",
      "[before postprocess]:选择任意数量的永久物和／或牌手，然后为其已有之每种指示物各多放置一个同类的指示物。\n",
      "{'src': ['Hexproof\\n+2:', 'Each', 'opponent', 'loses', '3', 'life', 'and', 'you', 'gain', '3', 'life.\\n0:', 'You', 'draw', 'two', 'cards.', 'Then', 'each', 'opponent', 'may', 'scry', '1.\\n−3:', 'Exile', 'target', 'creature', 'or', 'enchantment.', 'If', 'it', \"wasn't\", 'an', 'Aura,', 'create', 'a', 'token', \"that's\", 'a', 'copy', 'of', 'it,', 'except', \"it's\", 'a', '1/1', 'white', 'Spirit', 'creature', 'with', 'flying', 'in', 'addition', 'to', 'its', 'other', 'types.'], 'trg': ['辟邪', '+2：每位对手各失去3点生命且你获得3点生命。', '0：你抓两张牌。然后每位对手各可以占卜1。', '−3：放逐目标生物或结界。如果它不是灵气，则派出一个为其复制品的衍生物，但它是1/1白色，具飞行异能的精怪生物，且仍具有原本类别。']}\n",
      "[after preprocess]:hexproof\n",
      "[before postprocess]:辟邪\n",
      "[after preprocess]:+ 2 : each opponent loses 3 life and you gain 3 life .\n",
      "[before postprocess]:+2：每位对手各失去3点生命，且你获得3点生命。\n",
      "[after preprocess]:0 : you draw two cards .\n",
      "[before postprocess]:0：你抓两张牌。\n",
      "[after preprocess]:then each opponent may scry 1 .\n",
      "[before postprocess]:然后每位对手各可以占卜1。\n",
      "[after preprocess]:− 3 : exile target creature or enchantment .\n",
      "[before postprocess]:−3：放逐目标生物或结界。\n",
      "[after preprocess]:if it was n't an aura , create a token that 's a copy of it , except it 's a 1 / 1 white spirit creature with flying in addition to its other types .\n",
      "[before postprocess]:若它不是灵气，则派出一个衍生物放进战场，但它是1/1白色，具飞行异能的精怪衍生生物。\n",
      "{'src': ['You', 'gain', 'X', 'life.', 'Create', 'X', '1/1', 'colorless', 'Phyrexian', 'Mite', 'artifact', 'creature', 'tokens', 'with', 'toxic', '1', 'and', '\"This', 'creature', \"can't\", 'block.\"', 'If', 'X', 'is', '5', 'or', 'more,', 'destroy', 'all', 'other', 'creatures.', '(Players', 'dealt', 'combat', 'damage', 'by', 'a', 'creature', 'with', 'toxic', '1', 'also', 'get', 'a', 'poison', 'counter.)'], 'trg': ['你获得X点生命。派出X个1/1无色非瑞人／虫械衍生神器生物，且具有下毒1与「此生物不能进行阻挡。」如果X等于或大于5，则消灭所有其他生物。']}\n",
      "[after preprocess]:you gain x life .\n",
      "[before postprocess]:你获得x点生命。\n",
      "[after preprocess]:create x 1 / 1 colorless phyrexian mite artifact creature tokens with toxic 1 and \" this creature ca n't block . \" if x is 5 or more , destroy all other creatures .\n",
      "[before postprocess]:派出x个1/1无色，衍生生物，且具有\"当此异能的生物，x为x为载具攻击的生物，x为所有其他生物阻挡。\n",
      "[after preprocess]:players dealt combat damage by a creature with toxic 1 also get a poison counter .\n",
      "[before postprocess]:其生物具有死触异能的还具有以下异能的生物均得到一个中毒指示物。\n",
      "{'src': ['This', 'spell', 'costs', '{3}', 'more', 'to', 'cast', 'if', 'it', 'targets', 'a', 'creature.\\nExile', 'target', 'nonland', 'permanent.'], 'trg': ['如果此咒语以生物为目标，则它增加{3}来施放。', '放逐目标非地永久物。']}\n",
      "[after preprocess]:this spell costs {3} more to cast if it targets a creature .\n",
      "[before postprocess]:如果此咒语以生物为目标生物为目标，则此3}来施放。\n",
      "[after preprocess]:exile target non land permanent .\n",
      "[before postprocess]:放逐目标非地永久物。\n",
      "{'src': ['Compleated', '({U/P}', 'can', 'be', 'paid', 'with', '{U}', 'or', '2', 'life.', 'If', 'life', 'was', 'paid,', 'this', 'planeswalker', 'enters', 'with', 'two', 'fewer', 'loyalty', 'counters.)\\n+1:', 'Until', 'your', 'next', 'turn,', 'up', 'to', 'one', 'target', 'creature', 'gets', '-3/-0.\\n−2:', 'Target', 'player', 'mills', 'three', 'cards.', 'Then', 'if', 'a', 'graveyard', 'has', 'twenty', 'or', 'more', 'cards', 'in', 'it,', 'you', 'draw', 'three', 'cards.', 'Otherwise,', 'you', 'draw', 'a', 'card.\\n−X:', 'Target', 'player', 'mills', 'three', 'times', 'X', 'cards.'], 'trg': ['完化', '+1：直到你的下一个回合，至多一个目标生物得-3/-0。', '−2：目标牌手磨三张牌。然后如果某坟墓场中有二十张或更多牌，则你抓三张牌。若否，则你抓一张牌。', '−X：目标牌手磨三倍于X数量的牌。']}\n",
      "[after preprocess]:<0>\n",
      "[before postprocess]:<0>\n",
      "[after preprocess]:{u/p} can be paid with {u} or 2 life .\n",
      "[before postprocess]:{u/p}可用{u}或2点生命来支付。\n",
      "[after preprocess]:if life was paid , this planeswalker enters with two fewer loyalty counters .\n",
      "[before postprocess]:如果生命生命支付生命，则此鹏洛客进时上面有两个忠诚指示物。\n",
      "[after preprocess]:+ 1 : until your next turn , up to one target creature gets - 3 / - 0 .\n",
      "[before postprocess]:+1：直到你的下一个回合，至多一个目标生物得-3/-0。\n",
      "[after preprocess]:− 2 : target player mills three cards .\n",
      "[before postprocess]:−2：目标牌手将其牌库顶的三张牌置入其坟墓场。\n",
      "[after preprocess]:then if a graveyard has twenty or more cards in it , you draw three cards .\n",
      "[before postprocess]:然后若任一张牌有二十或多牌，则你抓三张牌。\n",
      "[after preprocess]:otherwise , you draw a card .\n",
      "[before postprocess]:若否，则抓一张牌。\n",
      "[after preprocess]:− x : target player mills three times x cards .\n",
      "[before postprocess]:−x：目标牌手将其牌库顶的三张牌置入其坟墓场。\n",
      "{'src': ['{1},', 'Sacrifice', 'Maze', 'Skullbomb:', 'Draw', 'a', 'card.\\n{2}{G},', 'Sacrifice', 'Maze', 'Skullbomb:', 'Target', 'creature', 'you', 'control', 'gets', '+3/+3', 'and', 'gains', 'trample', 'until', 'end', 'of', 'turn.', 'Draw', 'a', 'card.', 'Activate', 'only', 'as', 'a', 'sorcery.'], 'trg': ['{1}，牺牲迷林骨击弹：抓一张牌。', '{2}{G}，牺牲迷林骨击弹：直到回合结束，目标由你操控的生物得+3/+3且获得践踏异能。抓一张牌。只能于法术时机起动。']}\n",
      "[after preprocess]:{1} , sacrifice <0> : draw a card .\n",
      "[before postprocess]:{1}，牺牲<0>：抓一张牌。\n",
      "[after preprocess]:{2} {g} , sacrifice <0> : target creature you control gets + 3 / + 3 and gains trample until end of turn .\n",
      "[before postprocess]:{2}{g}，牺牲<0>：目标回合结束，目标由你操控的生物得+3/+3且获得践踏异能。\n",
      "[after preprocess]:draw a card .\n",
      "[before postprocess]:抓一张牌。\n",
      "[after preprocess]:activate only as a sorcery .\n",
      "[before postprocess]:只能于法术时机起动。\n",
      "{'src': ['This', 'spell', \"can't\", 'be', 'countered.\\nTrample\\nThrun,', 'Breaker', 'of', 'Silence', \"can't\", 'be', 'the', 'target', 'of', 'nongreen', 'spells', 'your', 'opponents', 'control', 'or', 'abilities', 'from', 'nongreen', 'sources', 'your', 'opponents', 'control.\\nAs', 'long', 'as', \"it's\", 'your', 'turn,', 'Thrun', 'has', 'indestructible.'], 'trg': ['此咒语不能被反击。', '践踏', '对由对手操控之非绿色咒语或由对手操控之非绿色来源的异能而言，破诫巨魔图伦不能成为其目标。', '只要是在你的回合中，图伦便具有不灭异能。']}\n",
      "[after preprocess]:this spell ca n't be countered .\n",
      "[before postprocess]:此咒语不能被反击。\n",
      "[after preprocess]:trample\n",
      "[before postprocess]:践踏\n",
      "[after preprocess]:<0> ca n't be the target of non green spells your opponents control or abilities from non green sources your opponents control .\n",
      "[before postprocess]:<0>不能成为由对手操控对手操控之咒语或异能的目标。\n",
      "[after preprocess]:as long as it 's your turn , <0> has indestructible .\n",
      "[before postprocess]:只要是在你的回合中，<0>便不会毁坏。\n",
      "{'src': ['The', 'Monumental', 'Facade', 'enters', 'the', 'battlefield', 'with', 'two', 'oil', 'counters', 'on', 'it.\\n{T}:', 'Add', '{C}.\\n{T},', 'Remove', 'an', 'oil', 'counter', 'from', 'The', 'Monumental', 'Facade:', 'Put', 'an', 'oil', 'counter', 'on', 'target', 'artifact', 'or', 'creature', 'you', 'control.', 'Activate', 'only', 'as', 'a', 'sorcery.'], 'trg': ['丰碑外壳进战场时上面有两个烁油指示物。', '{T}：加{C}。', '{T}，从丰碑外壳上移去一个烁油指示物：在目标由你操控的神器或生物上放置一个烁油指示物。只能于法术时机起动。']}\n",
      "[after preprocess]:<0> enters the battlefield with two <1> counters on it .\n",
      "[before postprocess]:<0>进战场时上面有两个+1指示物。\n",
      "[after preprocess]:{t} : add {c} .\n",
      "[before postprocess]:{t}：加{c}。\n",
      "[after preprocess]:{t} , remove an <1> counter from <0> : put an <1> counter on target artifact or creature you control .\n",
      "[before postprocess]:{t}，从<0>上移去一个<1>：在目标由你操控的神器或生物上放置一个1指示物。\n",
      "[after preprocess]:activate only as a sorcery .\n",
      "[before postprocess]:只能于法术时机起动。\n",
      "{'src': ['For', 'Mirrodin!', '(When', 'this', 'Equipment', 'enters', 'the', 'battlefield,', 'create', 'a', '2/2', 'red', 'Rebel', 'creature', 'token,', 'then', 'attach', 'this', 'to', 'it.)\\nWhenever', 'Blade', 'of', 'Shared', 'Souls', 'becomes', 'attached', 'to', 'a', 'creature,', 'for', 'as', 'long', 'as', 'Blade', 'of', 'Shared', 'Souls', 'remains', 'attached', 'to', 'it,', 'you', 'may', 'have', 'that', 'creature', 'become', 'a', 'copy', 'of', 'another', 'target', 'creature', 'you', 'control.\\nEquip', '{2}'], 'trg': ['秘罗万岁！', '每当共魂利刃新贴附在任一生物上时，于共魂利刃持续贴附于其上期间，你可以使该生物成为另一个目标由你操控之生物的复制品。', '佩带{2}']}\n",
      "[after preprocess]:for <mirrodin !\n",
      "[before postprocess]:<unk><unk><unk><unk><unk>\n",
      "[after preprocess]:when this equipment enters the battlefield , create a 2 / 2 red <0> creature token , then attach this to it .\n",
      "[before postprocess]:当此武具进战场时，派出一个2/2红色，然后将它装备上去。\n",
      "[after preprocess]:whenever <0> becomes attached to a creature , for as long as blade of <1> remains attached to it , you may have that creature become a copy of another target creature you control .\n",
      "[before postprocess]:每当<0>上贴附只要贴附只要上上上上上的时段内，只要你上上上，你可以可以让该生物成为另一个目标由你操控之衍的生物。\n",
      "[after preprocess]:equip {2}\n",
      "[before postprocess]:佩带{2}\n",
      "{'src': ['Flying\\nNecrosquito', 'enters', 'the', 'battlefield', 'with', 'two', 'oil', 'counters', 'on', 'it.\\nNecrosquito', 'gets', '+1/+1', 'for', 'each', 'oil', 'counter', 'on', 'it.\\nWhenever', 'another', 'creature', 'or', 'artifact', 'you', 'control', 'is', 'put', 'into', 'a', 'graveyard', 'from', 'the', 'battlefield,', 'put', 'an', 'oil', 'counter', 'on', 'Necrosquito.'], 'trg': ['飞行', '化尸蚊进战场时上面有两个烁油指示物。', '化尸蚊上每有一个烁油指示物，便得+1/+1。', '每当另一个由你操控的生物或神器从战场进入坟墓场时，在化尸蚊上放置一个烁油指示物。']}\n",
      "[after preprocess]:flying\n",
      "[before postprocess]:飞行\n",
      "[after preprocess]:<0> enters the battlefield with two <1> counters on it .\n",
      "[before postprocess]:<0>进战场时上面有两个+1指示物。\n",
      "[after preprocess]:<0> gets + 1 / + 1 for each <1> counter on it .\n",
      "[before postprocess]:<1>上每有一个1指示物，<0>便得+1/+1。\n",
      "[after preprocess]:whenever another creature or artifact you control is put into a graveyard from the battlefield , put an <1> counter on <0> .\n",
      "[before postprocess]:每当另一个由你操控的生物或鹏洛客从战场进入坟墓场时，在<0>上放置一个<1>。\n"
     ]
    },
    {
     "data": {
      "text/plain": [
       "'飞行 <necrosquito>进战场时上面有两个+1指示物。 烁油上每有一个1指示物，<necrosquito>便得+1/+1。 每当另一个由你操控的生物或鹏洛客从战场进入坟墓场时，在<necrosquito>上放置一个烁油。'"
      ]
     },
     "execution_count": 11,
     "metadata": {},
     "output_type": "execute_result"
    }
   ],
   "source": [
    "def sentencize(text: str):\n",
    "    ignore = {' ', '(', ')', '\\n'}\n",
    "    while len(text) and text[0] in ignore:\n",
    "        text = text[1:]\n",
    "    if len(text) == 0:\n",
    "        return []\n",
    "    \n",
    "    r = 0\n",
    "    delims = {'.', '\\n', '('}\n",
    "    ignore = False\n",
    "    while r < len(text):\n",
    "        if text[r] == '\\\"':\n",
    "            ignore = not ignore\n",
    "        if not ignore and text[r] in delims:\n",
    "            break\n",
    "        r += 1\n",
    "    \n",
    "    if r < len(text) and text[r] == '.':\n",
    "        return [text[:r + 1]] + sentencize(text[r + 1:])\n",
    "    return [text[:r]] + sentencize(text[r:])\n",
    "def preprocess(x:str):\n",
    "    x = D.annotate(x).removeprefix(' ')\n",
    "    print(f'[after preprocess]:{x}')\n",
    "    return x\n",
    "def postprocess(x:str):\n",
    "    return x.replace('<', '').replace('>', '')\n",
    "\n",
    "import re\n",
    "class CTHelper:\n",
    "    def __init__(self, name_detector, dictionary={}) -> None:\n",
    "        self.D = name_detector\n",
    "        self.dictionary = dictionary\n",
    "    \n",
    "    def preprocess(self, x:str):\n",
    "        self.tag2str = {}\n",
    "        x = D.annotate(x).removeprefix(' ') # x become lowercase after go through detector\n",
    "        m = re.search('<[^0-9>]+>', x)\n",
    "        id = 0\n",
    "        while m:\n",
    "            l, r = m.span()\n",
    "            tag = '<' + str(id) + '>'\n",
    "            self.tag2str[tag] = x[l:r]\n",
    "            x = x[:l] + tag + x[r:]\n",
    "            id += 1\n",
    "            m = re.search('<[^0-9>]+>', x)\n",
    "\n",
    "        for s in self.dictionary.keys():\n",
    "            m = re.search(s, x)\n",
    "            if m:\n",
    "                tag = '<' + str(id) + '>'\n",
    "                self.tag2str[tag] = s\n",
    "                x = x.replace(s, tag)\n",
    "                id += 1\n",
    "\n",
    "        print(f'[after preprocess]:{x}')\n",
    "        return x\n",
    "\n",
    "    def postprocess(self, x:str):\n",
    "        print(f'[before postprocess]:{x}')\n",
    "        for tag, s in self.tag2str.items():\n",
    "            x = x.replace(tag, self.dictionary[s] if s in self.dictionary else s)\n",
    "        return x\n",
    "\n",
    "dic = {}\n",
    "dic = {'oil':'烁油', 'rebel':'反抗军','compleated':'完化'}\n",
    "helper = CTHelper(D, dic)\n",
    "CT = CardTranslator(sentencize, T, preprocess=lambda x: helper.preprocess(x), postprocess=lambda x:helper.postprocess(x))\n",
    "\n",
    "# example = random.sample(list(test_data), 1)[0]\n",
    "T=0\n",
    "for example in list(test_data)[T:T+50]:\n",
    "    print(vars(example))\n",
    "    CT.translate(' '.join(example.src))\n",
    "\n",
    "\n",
    "example = list(test_data)[15]\n",
    "print(vars(example))\n",
    "CT.translate(' '.join(example.src))\n",
    "# for example in random.sample(list(test_data), 10):\n",
    "#     print(vars(example))\n",
    "#     CT.translate(' '.join(example.src))"
   ]
  },
  {
   "cell_type": "code",
   "execution_count": 12,
   "metadata": {},
   "outputs": [
    {
     "name": "stderr",
     "output_type": "stream",
     "text": [
      "  0%|          | 0/100 [00:00<?, ?it/s]"
     ]
    },
    {
     "name": "stdout",
     "output_type": "stream",
     "text": [
      "[after preprocess]:whenever another artifact or creature you control is put into a graveyard from the battlefield , put an <1> counter on <0> .\n",
      "[before postprocess]:每当另一个由你操控的神器或生物从场上进入坟墓场时，在<0>上放置一个<1>。\n",
      "[after preprocess]:{2} {b} , {t} , remove four <1> counters from <0> : return target creature card from your graveyard to the battlefield .\n"
     ]
    },
    {
     "name": "stderr",
     "output_type": "stream",
     "text": [
      "  1%|          | 1/100 [00:00<00:57,  1.71it/s]"
     ]
    },
    {
     "name": "stdout",
     "output_type": "stream",
     "text": [
      "[before postprocess]:{2}{b}，{t}，从<0>上移去四个充电指示物物：将目标生物牌从你的坟墓场移回战场。\n",
      "[after preprocess]:activate only as a sorcery .\n",
      "[before postprocess]:只能于法术时机起动。\n",
      "[after preprocess]:vigilance\n",
      "[before postprocess]:警戒\n",
      "[after preprocess]:<0> enters the battlefield with an <1> counter on it .\n",
      "[before postprocess]:<0>进战场时上面有一个1>指示物。\n",
      "[after preprocess]:remove an <1> counter from <0> : it becomes an artifact creature until end of turn .\n",
      "[before postprocess]:从<0>上移去一个<9>指示物：<3>成为神器生物直到回合结束。\n",
      "[after preprocess]:crew 3\n",
      "[before postprocess]:搭载3\n",
      "[after preprocess]:tap any number of creatures you control with total power 3 or more : this vehicle becomes an artifact creature until end of turn .\n"
     ]
    },
    {
     "name": "stderr",
     "output_type": "stream",
     "text": [
      "  2%|▏         | 2/100 [00:01<00:52,  1.86it/s]"
     ]
    },
    {
     "name": "stdout",
     "output_type": "stream",
     "text": [
      "[before postprocess]:横置任意数量由你操控且力量总和等于或大于3的生物：此载具成为神器生物直到回合结束。\n",
      "[after preprocess]:menace , reach\n",
      "[before postprocess]:威慑，延势\n",
      "[after preprocess]:{t} : add {c} .\n",
      "[before postprocess]:{t}：加{c}。\n",
      "[after preprocess]:{t} : add one mana of any color .\n",
      "[before postprocess]:{t}：加一点任意颜色的法术力。\n",
      "[after preprocess]:spend this mana only to cast phyrexian creature spells .\n",
      "[before postprocess]:此法术力只能用来施放生物咒语。\n",
      "[after preprocess]:corrupted — {t} : target 1 / 1 creature gets + 2 / + 1 until end of turn .\n",
      "[before postprocess]:<unk>～{t}：目标1/+1/+1直到回合结束。\n",
      "[after preprocess]:activate only if an opponent has three or more poison counters .\n"
     ]
    },
    {
     "name": "stderr",
     "output_type": "stream",
     "text": [
      "  4%|▍         | 4/100 [00:01<00:34,  2.77it/s]"
     ]
    },
    {
     "name": "stdout",
     "output_type": "stream",
     "text": [
      "[before postprocess]:只能于某对手具有三个或更多中毒指示物时起动此异能。\n",
      "[after preprocess]:{t} , pay 1 life : destroy target permanent you own .\n",
      "[before postprocess]:{t}，支付1点生命：消灭目标由你拥有的永久物。\n",
      "[after preprocess]:{t} , pay 2 life : add one mana of any color .\n",
      "[before postprocess]:{t}，支付2点生命：加一点任意颜色的法术力。\n",
      "[after preprocess]:{t} , pay 3 life : proliferate .\n",
      "[before postprocess]:{t}，支付3点生命：增殖。\n",
      "[after preprocess]:{t} , pay 4 life : draw a card .\n",
      "[before postprocess]:{t}，支付4点生命：抓一张牌。\n",
      "[after preprocess]:{5} : untap <0> .\n"
     ]
    },
    {
     "name": "stderr",
     "output_type": "stream",
     "text": [
      "  5%|▌         | 5/100 [00:02<00:39,  2.43it/s]"
     ]
    },
    {
     "name": "stdout",
     "output_type": "stream",
     "text": [
      "[before postprocess]:{5}：重置<0>。\n",
      "[after preprocess]:<0> ca n't be blocked .\n",
      "[before postprocess]:<0>不能被阻挡。\n",
      "[after preprocess]:whenever you cast a non creature spell , put an <1> counter on <0> .\n",
      "[before postprocess]:每当你施放非生物咒语时，在<0>上放置一个<1>指示物。\n",
      "[after preprocess]:whenever <0> deals combat damage to a player , you may remove two <1> counters from it .\n",
      "[before postprocess]:每当<0>对任一牌手造成战斗伤害时，你可以从其上放置两个<1>指示物。\n",
      "[after preprocess]:if you do , when you cast your next instant or sorcery spell this turn , copy that spell .\n"
     ]
    },
    {
     "name": "stderr",
     "output_type": "stream",
     "text": [
      "  6%|▌         | 6/100 [00:02<00:44,  2.12it/s]"
     ]
    },
    {
     "name": "stdout",
     "output_type": "stream",
     "text": [
      "[before postprocess]:若你如此作，则本回合中，当你施放你的下一个瞬间或法术咒语时，复制该咒语。\n",
      "[after preprocess]:you may choose new targets for the copy .\n",
      "[before postprocess]:你可以为该复制品选择新的目标。\n",
      "[after preprocess]:whenever one or more other creatures you control die , each opponent loses 2 life and you gain 2 life .\n"
     ]
    },
    {
     "name": "stderr",
     "output_type": "stream",
     "text": [
      "  7%|▋         | 7/100 [00:03<00:38,  2.41it/s]"
     ]
    },
    {
     "name": "stdout",
     "output_type": "stream",
     "text": [
      "[before postprocess]:每当一个或数个或数个其他生物死去时，每位对手各失去2点生命，且你获得2点生命。\n",
      "[after preprocess]:this ability triggers only once each turn .\n",
      "[before postprocess]:此异能每回合只会触发一次。\n",
      "[after preprocess]:{t} , sacrifice an artifact : add an amount of {r} equal to the sacrificed artifact 's mana value .\n"
     ]
    },
    {
     "name": "stderr",
     "output_type": "stream",
     "text": [
      "  8%|▊         | 8/100 [00:03<00:34,  2.67it/s]"
     ]
    },
    {
     "name": "stdout",
     "output_type": "stream",
     "text": [
      "[before postprocess]:{t}，牺牲一个神器：加若干{r}，其数量等同于所牺牲之神器的法术力值。\n",
      "[after preprocess]:spend this mana only to cast artifact spells or activate abilities of artifacts .\n",
      "[before postprocess]:此法术力只能用来施放神器咒语，或是神器神器的费用。\n",
      "[after preprocess]:flying\n",
      "[before postprocess]:飞行\n",
      "[after preprocess]:whenever you cast a non creature spell , put an <1> counter on <0> .\n"
     ]
    },
    {
     "name": "stderr",
     "output_type": "stream",
     "text": [
      "  9%|▉         | 9/100 [00:03<00:32,  2.77it/s]"
     ]
    },
    {
     "name": "stdout",
     "output_type": "stream",
     "text": [
      "[before postprocess]:每当你施放非生物咒语时，在<0>上放置一个<1>指示物。\n",
      "[after preprocess]:{u} , remove an <1> counter from <0> : draw a card , then scry 2 .\n",
      "[before postprocess]:{u}，从<0>上移去一个<9>：抓一张牌，然后占卜2。\n",
      "[after preprocess]:when <0> enters the battlefield , create a 3 / 3 colorless phyrexian golem artifact creature token .\n",
      "[before postprocess]:当<0>进战场时，派出一个3/3无色魔像衍生神器生物。\n",
      "[after preprocess]:at the beginning of your end step , if three or more artifacts entered the battlefield under your control this turn , create a 3 / 3 colorless phyrexian golem artifact creature token .\n"
     ]
    },
    {
     "name": "stderr",
     "output_type": "stream",
     "text": [
      " 10%|█         | 10/100 [00:04<00:33,  2.65it/s]"
     ]
    },
    {
     "name": "stdout",
     "output_type": "stream",
     "text": [
      "[before postprocess]:在你的结束步骤开始时，若有三个或更多神器在你的操控下进战场，则派出一个3/3无色魔像衍生神器生物。\n",
      "[after preprocess]:{t} , sacrifice an artifact : add an amount of {r} equal to the sacrificed artifact 's mana value .\n",
      "[before postprocess]:{t}，牺牲一个神器：加若干{r}，其数量等同于所牺牲之神器的法术力值。\n",
      "[after preprocess]:spend this mana only to cast artifact spells or activate abilities of artifacts .\n"
     ]
    },
    {
     "name": "stderr",
     "output_type": "stream",
     "text": [
      " 12%|█▏        | 12/100 [00:04<00:25,  3.48it/s]"
     ]
    },
    {
     "name": "stdout",
     "output_type": "stream",
     "text": [
      "[before postprocess]:此法术力只能用来施放神器咒语，或是神器神器的费用。\n",
      "[after preprocess]:menace\n",
      "[before postprocess]:威慑\n",
      "[after preprocess]:toxic 2\n",
      "[before postprocess]:铭勇2\n",
      "[after preprocess]:players dealt combat damage by this creature also gets two poison counter .\n",
      "[before postprocess]:此生物所造成的伤害会得到两个中毒指示物。\n",
      "[after preprocess]:trample\n",
      "[before postprocess]:践踏\n",
      "[after preprocess]:whenever <0> attacks , it gets + x / + x until end of turn , where x is the number of equipped creatures you control .\n"
     ]
    },
    {
     "name": "stderr",
     "output_type": "stream",
     "text": [
      " 13%|█▎        | 13/100 [00:04<00:26,  3.29it/s]"
     ]
    },
    {
     "name": "stdout",
     "output_type": "stream",
     "text": [
      "[before postprocess]:每当<0>攻击时，它得+x/+x直到回合结束，x为由你操控且进行攻击的生物数量。\n",
      "[after preprocess]:then if <0> 's power is 4 or greater , draw a card .\n",
      "[before postprocess]:然后如果<0>的力量等于或大于4，则抓一张牌。\n",
      "[after preprocess]:for <mirrodin !\n",
      "[before postprocess]:<unk><unk><unk><unk><unk>\n",
      "[after preprocess]:when this equipment enters the battlefield , create a 2 / 2 red <0> creature token , then attach this to it .\n",
      "[before postprocess]:当此武具进战场时，派出一个2/2红色，然后将它装备上去。\n",
      "[after preprocess]:equipped creature gets + 0 / + 1 .\n",
      "[before postprocess]:佩带此武具的生物得+0/+1。\n",
      "[after preprocess]:equip {1} {w}\n",
      "[before postprocess]:佩带{1}{w}\n",
      "[after preprocess]:{1} {w} : attach to target creature you control .\n"
     ]
    },
    {
     "name": "stderr",
     "output_type": "stream",
     "text": [
      " 14%|█▍        | 14/100 [00:05<00:31,  2.74it/s]"
     ]
    },
    {
     "name": "stdout",
     "output_type": "stream",
     "text": [
      "[before postprocess]:{1}{w}：贴附在目标由你操控的生物上。\n",
      "[after preprocess]:equip only as a sorcery .\n",
      "[before postprocess]:只能于法术时机佩带。\n",
      "[after preprocess]:target creature gains deathtouch and indestructible until end of turn .\n",
      "[before postprocess]:目标生物获得死触与不灭异能直到回合结束。\n",
      "[after preprocess]:damage and effects that say \" destroy \" do n't destroy it .\n"
     ]
    },
    {
     "name": "stderr",
     "output_type": "stream",
     "text": [
      " 15%|█▌        | 15/100 [00:05<00:26,  3.23it/s]"
     ]
    },
    {
     "name": "stdout",
     "output_type": "stream",
     "text": [
      "[before postprocess]:伤害与注明\"消灭\"的效应不会将它消灭。\n",
      "[after preprocess]:flying\n",
      "[before postprocess]:飞行\n",
      "[after preprocess]:<0> enters the battlefield with two <1> counters on it .\n",
      "[before postprocess]:<0>进战场时上面有两个+1指示物。\n",
      "[after preprocess]:<0> gets + 1 / + 1 for each <1> counter on it .\n",
      "[before postprocess]:<1>上每有一个1指示物，<0>便得+1/+1。\n",
      "[after preprocess]:whenever another creature or artifact you control is put into a graveyard from the battlefield , put an <1> counter on <0> .\n"
     ]
    },
    {
     "name": "stderr",
     "output_type": "stream",
     "text": [
      " 17%|█▋        | 17/100 [00:06<00:23,  3.47it/s]"
     ]
    },
    {
     "name": "stdout",
     "output_type": "stream",
     "text": [
      "[before postprocess]:每当另一个由你操控的生物或鹏洛客从战场进入坟墓场时，在<0>上放置一个<1>。\n",
      "[after preprocess]:flying\n",
      "[before postprocess]:飞行\n",
      "[after preprocess]:<0> 's power is equal to the number of artifacts you control .\n",
      "[before postprocess]:<0>的力量等同于由你操控的神器数量。\n",
      "[after preprocess]:{1} , sacrifice <0> : draw a card .\n",
      "[before postprocess]:{1}，牺牲<0>：抓一张牌。\n",
      "[after preprocess]:{2} {b} , sacrifice <0> : return target creature card from your graveyard to your hand .\n",
      "[before postprocess]:{2}{b}，牺牲<0>：将目标生物牌从你的坟墓场移回你手上。\n",
      "[after preprocess]:draw a card .\n",
      "[before postprocess]:抓一张牌。\n",
      "[after preprocess]:activate only as a sorcery .\n"
     ]
    },
    {
     "name": "stderr",
     "output_type": "stream",
     "text": [
      " 18%|█▊        | 18/100 [00:06<00:25,  3.21it/s]"
     ]
    },
    {
     "name": "stdout",
     "output_type": "stream",
     "text": [
      "[before postprocess]:只能于法术时机起动。\n",
      "[after preprocess]:this spell costs {1} less to cast for each permanent you control with <0> counters on it .\n",
      "[before postprocess]:你每操控一个具<0>异能的其他生物而言，<2>便减少{1}来施放。\n",
      "[after preprocess]:vigilance\n"
     ]
    },
    {
     "name": "stderr",
     "output_type": "stream",
     "text": [
      " 19%|█▉        | 19/100 [00:06<00:27,  3.00it/s]"
     ]
    },
    {
     "name": "stdout",
     "output_type": "stream",
     "text": [
      "[before postprocess]:警戒\n",
      "[after preprocess]:when <0> enters the battlefield , it deals 1 damage to each creature your opponents control .\n",
      "[before postprocess]:当<0>进战场时，它向由对手操控的每个生物各造成1点伤害。\n",
      "[after preprocess]:deathtouch\n",
      "[before postprocess]:死触\n",
      "[after preprocess]:toxic 1\n",
      "[before postprocess]:铭勇1\n",
      "[after preprocess]:players dealt combat damage by this creature also get a poison counter .\n"
     ]
    },
    {
     "name": "stderr",
     "output_type": "stream",
     "text": [
      " 20%|██        | 20/100 [00:06<00:21,  3.69it/s]"
     ]
    },
    {
     "name": "stdout",
     "output_type": "stream",
     "text": [
      "[before postprocess]:受此生物造成战斗伤害的还会得到一个中毒指示物。\n",
      "[after preprocess]:<0> enters the battlefield with two <1> counters on it .\n",
      "[before postprocess]:<0>进战场时上面有两个+1指示物。\n",
      "[after preprocess]:remove an <1> counter from <0> : target creature you control gains haste until end of turn .\n"
     ]
    },
    {
     "name": "stderr",
     "output_type": "stream",
     "text": [
      " 22%|██▏       | 22/100 [00:07<00:19,  3.98it/s]"
     ]
    },
    {
     "name": "stdout",
     "output_type": "stream",
     "text": [
      "[before postprocess]:从<0>上移去一个<9>：目标由你操控的生物获得敏捷异能直到回合结束。\n",
      "[after preprocess]:lifelink\n",
      "[before postprocess]:系命\n",
      "[after preprocess]:whenever another artifact enters the battlefield under your control , <0> gets + 1 / + 1 until end of turn .\n",
      "[before postprocess]:每当另一个神器在你的操控下进战场时，<0>得+1/+1直到回合结束。\n",
      "[after preprocess]:<0> enters the battlefield with four <1> counters on it .\n",
      "[before postprocess]:<0>进战场时上面有四个充电指示物。\n",
      "[after preprocess]:<0> has trample as long as it has two or fewer <1> counters on it .\n",
      "[before postprocess]:只要<0>上面有两个或更多石砖指示物，<0>便具有践踏异能。\n",
      "[after preprocess]:otherwise , it has hexproof .\n",
      "[before postprocess]:若否，则它具有辟邪。\n",
      "[after preprocess]:at the beginning of your upkeep , remove an <1> counter from <0> .\n",
      "[before postprocess]:在你的维持开始时，从<0>上放置一个<1>指示物。\n",
      "[after preprocess]:then if it has no <0> counters on it , sacrifice it .\n"
     ]
    },
    {
     "name": "stderr",
     "output_type": "stream",
     "text": [
      " 23%|██▎       | 23/100 [00:07<00:26,  2.96it/s]"
     ]
    },
    {
     "name": "stdout",
     "output_type": "stream",
     "text": [
      "[before postprocess]:然后如果其上有<0>指示物，则牺牲之。\n",
      "[after preprocess]:return target non land permanent to its owner 's hand .\n",
      "[before postprocess]:将目标非地永久物移回其拥有者手上。\n",
      "[after preprocess]:if that permanent had mana value 3 or less , proliferate .\n",
      "[before postprocess]:若该总法术力费用等于或小于3，则增殖。\n",
      "[after preprocess]:choose any number of permanents and / or players , then give each another counter of each kind already there .\n"
     ]
    },
    {
     "name": "stderr",
     "output_type": "stream",
     "text": [
      " 24%|██▍       | 24/100 [00:08<00:26,  2.88it/s]"
     ]
    },
    {
     "name": "stdout",
     "output_type": "stream",
     "text": [
      "[before postprocess]:选择任意数量的永久物和／或牌手，然后为其已有之每种指示物各多放置一个同类的指示物。\n",
      "[after preprocess]:other creatures you control get - 1 / - 1 .\n",
      "[before postprocess]:由你操控的其他生物得-1/-1。\n",
      "[after preprocess]:{1} {b} {b} , {t} : return target creature card from your graveyard to the battlefield .\n"
     ]
    },
    {
     "name": "stderr",
     "output_type": "stream",
     "text": [
      " 25%|██▌       | 25/100 [00:08<00:29,  2.58it/s]"
     ]
    },
    {
     "name": "stdout",
     "output_type": "stream",
     "text": [
      "[before postprocess]:{1}{b}{b}，{t}：将目标生物牌从你的坟墓场移回战场。\n",
      "[after preprocess]:it gains \" if this creature would leave the battlefield , exile it instead of putting it anywhere else . \" activate only as a sorcery .\n",
      "[before postprocess]:它获得\"当此生物将离开战场，则改为将它放逐，而非地，而非地。\n",
      "[after preprocess]:when <0> enters the battlefield , create two 3 / 3 green phyrexian beast creature tokens with toxic 1 .\n",
      "[before postprocess]:当<0>进战场时，将两个3/3绿色，具死触异能。\n",
      "[after preprocess]:players dealt combat damage by them also get a poison counter .\n",
      "[before postprocess]:受位牌手造成战斗伤害，还得到一个中毒指示物。\n",
      "[after preprocess]:corrupted — at the beginning of your upkeep , if an opponent has three or more poison counters , choose a creature you control , then draw cards equal to its total toxic value .\n"
     ]
    },
    {
     "name": "stderr",
     "output_type": "stream",
     "text": [
      " 27%|██▋       | 27/100 [00:09<00:26,  2.78it/s]"
     ]
    },
    {
     "name": "stdout",
     "output_type": "stream",
     "text": [
      "[before postprocess]:腐化～在你的维持开始时，若某对手操控三个或更多中毒指示物，则选择一个由你操控的生物，然后各等同于其力量的力量。\n",
      "[after preprocess]:target creature gets + 2 / + 2 until end of turn .\n",
      "[before postprocess]:目标生物得+2/+2直到回合结束。\n",
      "[after preprocess]:put two <0> counters on it .\n",
      "[before postprocess]:在其上放置两个石砖指示物。\n",
      "[after preprocess]:flying\n",
      "[before postprocess]:飞行\n",
      "[after preprocess]:when <0> enters the battlefield , draw a card , then discard a card .\n"
     ]
    },
    {
     "name": "stderr",
     "output_type": "stream",
     "text": [
      " 28%|██▊       | 28/100 [00:09<00:21,  3.40it/s]"
     ]
    },
    {
     "name": "stdout",
     "output_type": "stream",
     "text": [
      "[before postprocess]:当<0>进战场时，抓一张牌，然后弃一张牌。\n",
      "[after preprocess]:for <mirrodin !\n",
      "[before postprocess]:<unk><unk><unk><unk><unk>\n",
      "[after preprocess]:when this equipment enters the battlefield , create a 2 / 2 red <0> creature token , then attach this to it .\n",
      "[before postprocess]:当此武具进战场时，派出一个2/2红色，然后将它装备上去。\n",
      "[after preprocess]:equipped creature gets + 1 / - 1 .\n"
     ]
    },
    {
     "name": "stderr",
     "output_type": "stream",
     "text": [
      " 29%|██▉       | 29/100 [00:10<00:25,  2.83it/s]"
     ]
    },
    {
     "name": "stdout",
     "output_type": "stream",
     "text": [
      "[before postprocess]:佩带此武具的生物得+1/-1。\n",
      "[after preprocess]:equip {1}\n",
      "[before postprocess]:佩带{1}\n",
      "[after preprocess]:{1} : attach to target creature you control .\n",
      "[before postprocess]:{1}：贴附在目标由你操控的生物上。\n",
      "[after preprocess]:equip only as a sorcery .\n",
      "[before postprocess]:只能于法术时机佩带。\n",
      "[after preprocess]:whenever one or more creatures you control deal combat damage to a player , you may return one of them to its owner 's hand .\n",
      "[before postprocess]:每当由你操控的一个或数个生物对任一牌手造成战斗伤害时，你可以将其中一张移回其拥有者手上。\n",
      "[after preprocess]:if you do , you may activate loyalty abilities of kaito twice this turn rather than only once .\n",
      "[before postprocess]:若你如此作，则本回合中，且本回合中使用两个忠诚异能，且不能使用一次。\n",
      "[after preprocess]:+ 1 : up to one target creature ca n't attack or block until your next turn .\n",
      "[before postprocess]:+1：至多一个目标生物本回合不能进行攻击或阻挡。\n",
      "[after preprocess]:0 : draw a card .\n",
      "[before postprocess]:0：抓一张牌。\n",
      "[after preprocess]:− 2 : create a 2 / 2 colorless drone artifact creature token with deathtouch and \" when this creature leaves the battlefield , each opponent loses 2 life and you gain 2 life . \"\n"
     ]
    },
    {
     "name": "stderr",
     "output_type": "stream",
     "text": [
      " 30%|███       | 30/100 [00:11<00:36,  1.89it/s]"
     ]
    },
    {
     "name": "stdout",
     "output_type": "stream",
     "text": [
      "[before postprocess]:−2：派出一个2/2无色，具<unk>生物<unk><unk><unk>生物，且具有\"当此生物死去时，每位对手各失去2点生命，且你获得2点生命。\n",
      "[after preprocess]:toxic 1\n",
      "[before postprocess]:铭勇1\n",
      "[after preprocess]:players dealt combat damage by this creature also get a poison counter .\n",
      "[before postprocess]:受此生物造成战斗伤害的还会得到一个中毒指示物。\n",
      "[after preprocess]:when <0> enters the battlefield , up to one target artifact you control becomes an artifact creature with base power and toughness 4 / 4 for as long as <1> remains on the battlefield .\n"
     ]
    },
    {
     "name": "stderr",
     "output_type": "stream",
     "text": [
      " 31%|███       | 31/100 [00:11<00:34,  2.00it/s]"
     ]
    },
    {
     "name": "stdout",
     "output_type": "stream",
     "text": [
      "[before postprocess]:当<0>进战场时，只要<1>仍在战场上的时段内，至多一个目标由你操控的神器生物和防御力为4/4的神器生物。\n",
      "[after preprocess]:for <mirrodin !\n",
      "[before postprocess]:<unk><unk><unk><unk><unk>\n",
      "[after preprocess]:when this equipment enters the battlefield , create a 2 / 2 red <0> creature token , then attach this to it .\n",
      "[before postprocess]:当此武具进战场时，派出一个2/2红色，然后将它装备上去。\n"
     ]
    },
    {
     "name": "stderr",
     "output_type": "stream",
     "text": [
      " 32%|███▏      | 32/100 [00:12<00:32,  2.11it/s]"
     ]
    },
    {
     "name": "stdout",
     "output_type": "stream",
     "text": [
      "[after preprocess]:equipped creature gets + 2 / + 2 and has flying and haste .\n",
      "[before postprocess]:佩带此武具的生物得+2/+2且具有飞行与敏捷异能。\n",
      "[after preprocess]:equip {3} {r} {r}\n",
      "[before postprocess]:佩带{3}{r}{r}\n",
      "[after preprocess]:whenever a creature enters the battlefield under your control , if it has one or more <0> counters on it , put an <0> counter on it .\n"
     ]
    },
    {
     "name": "stderr",
     "output_type": "stream",
     "text": [
      " 33%|███▎      | 33/100 [00:12<00:30,  2.22it/s]"
     ]
    },
    {
     "name": "stdout",
     "output_type": "stream",
     "text": [
      "[before postprocess]:每当一个生物在你的操控下进战场时，若其上有七个或更多，则在<0>上放置一个<0>指示物。\n",
      "[after preprocess]:creatures you control with <0> counters on them get + 1 / + 1 .\n",
      "[before postprocess]:由你操控且具<0>异能的生物得+1/+1。\n",
      "[after preprocess]:this spell costs {3} less to cast if you have nine or more cards in your graveyard .\n",
      "[before postprocess]:如果你坟墓场中有有七张或更多，则此咒语减少{3}来施放。\n",
      "[after preprocess]:flying\n",
      "[before postprocess]:飞行\n",
      "[after preprocess]:when <0> enters the battlefield , exile three cards at random from your graveyard .\n",
      "[before postprocess]:当<0>进战场时，从你的坟墓场放逐三张牌。\n",
      "[after preprocess]:choose a non creature , non land card from among them and copy it .\n"
     ]
    },
    {
     "name": "stderr",
     "output_type": "stream",
     "text": [
      " 34%|███▍      | 34/100 [00:12<00:30,  2.14it/s]"
     ]
    },
    {
     "name": "stdout",
     "output_type": "stream",
     "text": [
      "[before postprocess]:选择其中一张非生物且非地的牌，且不将之。\n",
      "[after preprocess]:you may cast the copy without paying its mana cost .\n",
      "[before postprocess]:你可以施放该复制品，且不需支付其法术力费用。\n",
      "[after preprocess]:<0> enters the battlefield with four <1> counters on it .\n",
      "[before postprocess]:<0>进战场时上面有四个充电指示物。\n",
      "[after preprocess]:<0> has trample as long as it has two or fewer <1> counters on it .\n",
      "[before postprocess]:只要<0>上面有两个或更多石砖指示物，<0>便具有践踏异能。\n",
      "[after preprocess]:otherwise , it has hexproof .\n",
      "[before postprocess]:若否，则它具有辟邪。\n",
      "[after preprocess]:at the beginning of your upkeep , remove an <1> counter from <0> .\n",
      "[before postprocess]:在你的维持开始时，从<0>上放置一个<1>指示物。\n",
      "[after preprocess]:then if it has no <0> counters on it , sacrifice it .\n"
     ]
    },
    {
     "name": "stderr",
     "output_type": "stream",
     "text": [
      " 35%|███▌      | 35/100 [00:13<00:32,  1.98it/s]"
     ]
    },
    {
     "name": "stdout",
     "output_type": "stream",
     "text": [
      "[before postprocess]:然后如果其上有<0>指示物，则牺牲之。\n",
      "[after preprocess]:whenever <0> or another cat enters the battlefield under your control , attach up to one target equipment you control to that creature .\n",
      "[before postprocess]:每当<0>或另一个灵俑在你的操控下进战场时，将至多一个目标由你操控的衍武具的武具。\n",
      "[after preprocess]:equipped creatures you control get + 1 / + 1 .\n",
      "[before postprocess]:由你操控且佩带武具的生物得+1/+1。\n",
      "[after preprocess]:{3} {w} {w} : create a 2 / 2 white cat creature token .\n"
     ]
    },
    {
     "name": "stderr",
     "output_type": "stream",
     "text": [
      " 36%|███▌      | 36/100 [00:13<00:31,  2.02it/s]"
     ]
    },
    {
     "name": "stdout",
     "output_type": "stream",
     "text": [
      "[before postprocess]:{3}{w}{w}：将一个2/2白色的猫衍生生物放进战场。\n",
      "[after preprocess]:choose one —\n",
      "[before postprocess]:选择一项～\n",
      "[after preprocess]:• <0> deals damage equal to the number of creatures you control to target creature or planeswalker .\n",
      "[before postprocess]:•<0>对目标生物或鹏洛客造成伤害，其数量等同于由你操控的生物数量。\n",
      "[after preprocess]:• create two 1 / 1 colorless phyrexian mite artifact creature tokens with toxic 1 and \" this creature ca n't block . \"\n",
      "[before postprocess]:•派出两个1/1无色，衍生生物的害虫衍生生物，且具有\"此生物不能进行阻挡。\"\n",
      "[after preprocess]:players dealt combat damage by them also get a poison counter .\n"
     ]
    },
    {
     "name": "stderr",
     "output_type": "stream",
     "text": [
      " 37%|███▋      | 37/100 [00:14<00:31,  2.00it/s]"
     ]
    },
    {
     "name": "stdout",
     "output_type": "stream",
     "text": [
      "[before postprocess]:受位牌手造成战斗伤害，还得到一个中毒指示物。\n",
      "[after preprocess]:equipped creature gets + 2 / + 0 .\n",
      "[before postprocess]:佩带此武具的生物得+2/+0。\n",
      "[after preprocess]:whenever equipped creature attacks , create a 1 / 1 colorless phyrexian mite artifact creature token with toxic 1 and \" this creature ca n't block . \"\n"
     ]
    },
    {
     "name": "stderr",
     "output_type": "stream",
     "text": [
      " 38%|███▊      | 38/100 [00:14<00:30,  2.02it/s]"
     ]
    },
    {
     "name": "stdout",
     "output_type": "stream",
     "text": [
      "[before postprocess]:每当佩带此武具的生物攻击时，将一个1/1无色，具<unk>与此生物与防御力与\"此生物不能进行阻挡。\"\n",
      "[after preprocess]:players dealt combat damage by it also get a poison counter .\n",
      "[before postprocess]:受牌手造成战斗伤害的牌手得到一个中毒指示物。\n",
      "[after preprocess]:equip {2} {w}\n",
      "[before postprocess]:佩带{2}{w}\n",
      "[after preprocess]:creatures you control get + 2 / + 2 until end of turn .\n"
     ]
    },
    {
     "name": "stderr",
     "output_type": "stream",
     "text": [
      " 39%|███▉      | 39/100 [00:15<00:25,  2.38it/s]"
     ]
    },
    {
     "name": "stdout",
     "output_type": "stream",
     "text": [
      "[before postprocess]:由你操控的生物得+2/+2直到回合结束。\n",
      "[after preprocess]:whenever a creature blocks this turn , its controller gets a poison counter .\n",
      "[before postprocess]:每当本回合中，每当一个生物进行阻挡时，其操控者得到一个中毒指示物。\n",
      "[after preprocess]:toxic 2\n",
      "[before postprocess]:铭勇2\n",
      "[after preprocess]:players dealt combat damage by this creature also get two poison counters .\n"
     ]
    },
    {
     "name": "stderr",
     "output_type": "stream",
     "text": [
      " 40%|████      | 40/100 [00:15<00:20,  3.00it/s]"
     ]
    },
    {
     "name": "stdout",
     "output_type": "stream",
     "text": [
      "[before postprocess]:此生物所造成的伤害会得到两个中毒指示物。\n",
      "[after preprocess]:return target permanent card from your graveyard to your hand .\n",
      "[before postprocess]:将目标永久物牌从你的坟墓场移回你手上。\n",
      "[after preprocess]:proliferate .\n",
      "[before postprocess]:增殖。\n",
      "[after preprocess]:choose any number of permanents and / or players , then give each another counter of each kind already there .\n"
     ]
    },
    {
     "name": "stderr",
     "output_type": "stream",
     "text": [
      " 41%|████      | 41/100 [00:15<00:19,  3.02it/s]"
     ]
    },
    {
     "name": "stdout",
     "output_type": "stream",
     "text": [
      "[before postprocess]:选择任意数量的永久物和／或牌手，然后为其已有之每种指示物各多放置一个同类的指示物。\n",
      "[after preprocess]:destroy target artifact , enchantment , or creature with flying .\n",
      "[before postprocess]:消灭目标神器，结界或具飞行异能的生物。\n",
      "[after preprocess]:if that permanent 's mana value was 3 or less , proliferate .\n",
      "[before postprocess]:若该总法术力费用等于或小于3，则则增殖。\n"
     ]
    },
    {
     "name": "stderr",
     "output_type": "stream",
     "text": [
      " 42%|████▏     | 42/100 [00:16<00:20,  2.82it/s]"
     ]
    },
    {
     "name": "stdout",
     "output_type": "stream",
     "text": [
      "[after preprocess]:choose any number of permanents and / or players , then give each another counter of each kind already there .\n",
      "[before postprocess]:选择任意数量的永久物和／或牌手，然后为其已有之每种指示物各多放置一个同类的指示物。\n",
      "[after preprocess]:hexproof\n",
      "[before postprocess]:辟邪\n",
      "[after preprocess]:+ 2 : each opponent loses 3 life and you gain 3 life .\n",
      "[before postprocess]:+2：每位对手各失去3点生命，且你获得3点生命。\n",
      "[after preprocess]:0 : you draw two cards .\n",
      "[before postprocess]:0：你抓两张牌。\n",
      "[after preprocess]:then each opponent may scry 1 .\n",
      "[before postprocess]:然后每位对手各可以占卜1。\n",
      "[after preprocess]:− 3 : exile target creature or enchantment .\n",
      "[before postprocess]:−3：放逐目标生物或结界。\n",
      "[after preprocess]:if it was n't an aura , create a token that 's a copy of it , except it 's a 1 / 1 white spirit creature with flying in addition to its other types .\n"
     ]
    },
    {
     "name": "stderr",
     "output_type": "stream",
     "text": [
      " 43%|████▎     | 43/100 [00:16<00:23,  2.40it/s]"
     ]
    },
    {
     "name": "stdout",
     "output_type": "stream",
     "text": [
      "[before postprocess]:若它不是灵气，则派出一个衍生物放进战场，但它是1/1白色，具飞行异能的精怪衍生生物。\n",
      "[after preprocess]:you gain x life .\n",
      "[before postprocess]:你获得x点生命。\n",
      "[after preprocess]:create x 1 / 1 colorless phyrexian mite artifact creature tokens with toxic 1 and \" this creature ca n't block . \" if x is 5 or more , destroy all other creatures .\n"
     ]
    },
    {
     "name": "stderr",
     "output_type": "stream",
     "text": [
      " 44%|████▍     | 44/100 [00:17<00:24,  2.30it/s]"
     ]
    },
    {
     "name": "stdout",
     "output_type": "stream",
     "text": [
      "[before postprocess]:派出x个1/1无色，衍生生物，且具有\"当此异能的生物，x为x为载具攻击的生物，x为所有其他生物阻挡。\n",
      "[after preprocess]:players dealt combat damage by a creature with toxic 1 also get a poison counter .\n",
      "[before postprocess]:其生物具有死触异能的还具有以下异能的生物均得到一个中毒指示物。\n",
      "[after preprocess]:this spell costs {3} more to cast if it targets a creature .\n"
     ]
    },
    {
     "name": "stderr",
     "output_type": "stream",
     "text": [
      " 45%|████▌     | 45/100 [00:17<00:19,  2.79it/s]"
     ]
    },
    {
     "name": "stdout",
     "output_type": "stream",
     "text": [
      "[before postprocess]:如果此咒语以生物为目标生物为目标，则此3}来施放。\n",
      "[after preprocess]:exile target non land permanent .\n",
      "[before postprocess]:放逐目标非地永久物。\n",
      "[after preprocess]:<0>\n",
      "[before postprocess]:<0>\n",
      "[after preprocess]:{u/p} can be paid with {u} or 2 life .\n",
      "[before postprocess]:{u/p}可用{u}或2点生命来支付。\n",
      "[after preprocess]:if life was paid , this planeswalker enters with two fewer loyalty counters .\n",
      "[before postprocess]:如果生命生命支付生命，则此鹏洛客进时上面有两个忠诚指示物。\n",
      "[after preprocess]:+ 1 : until your next turn , up to one target creature gets - 3 / - 0 .\n",
      "[before postprocess]:+1：直到你的下一个回合，至多一个目标生物得-3/-0。\n",
      "[after preprocess]:− 2 : target player mills three cards .\n",
      "[before postprocess]:−2：目标牌手将其牌库顶的三张牌置入其坟墓场。\n",
      "[after preprocess]:then if a graveyard has twenty or more cards in it , you draw three cards .\n",
      "[before postprocess]:然后若任一张牌有二十或多牌，则你抓三张牌。\n",
      "[after preprocess]:otherwise , you draw a card .\n",
      "[before postprocess]:若否，则抓一张牌。\n",
      "[after preprocess]:− x : target player mills three times x cards .\n"
     ]
    },
    {
     "name": "stderr",
     "output_type": "stream",
     "text": [
      " 46%|████▌     | 46/100 [00:18<00:28,  1.93it/s]"
     ]
    },
    {
     "name": "stdout",
     "output_type": "stream",
     "text": [
      "[before postprocess]:−x：目标牌手将其牌库顶的三张牌置入其坟墓场。\n",
      "[after preprocess]:{1} , sacrifice <0> : draw a card .\n",
      "[before postprocess]:{1}，牺牲<0>：抓一张牌。\n",
      "[after preprocess]:{2} {g} , sacrifice <0> : target creature you control gets + 3 / + 3 and gains trample until end of turn .\n"
     ]
    },
    {
     "name": "stderr",
     "output_type": "stream",
     "text": [
      " 47%|████▋     | 47/100 [00:18<00:26,  2.03it/s]"
     ]
    },
    {
     "name": "stdout",
     "output_type": "stream",
     "text": [
      "[before postprocess]:{2}{g}，牺牲<0>：目标回合结束，目标由你操控的生物得+3/+3且获得践踏异能。\n",
      "[after preprocess]:draw a card .\n",
      "[before postprocess]:抓一张牌。\n",
      "[after preprocess]:activate only as a sorcery .\n",
      "[before postprocess]:只能于法术时机起动。\n",
      "[after preprocess]:this spell ca n't be countered .\n",
      "[before postprocess]:此咒语不能被反击。\n",
      "[after preprocess]:trample\n",
      "[before postprocess]:践踏\n",
      "[after preprocess]:<0> ca n't be the target of non green spells your opponents control or abilities from non green sources your opponents control .\n"
     ]
    },
    {
     "name": "stderr",
     "output_type": "stream",
     "text": [
      " 48%|████▊     | 48/100 [00:18<00:23,  2.20it/s]"
     ]
    },
    {
     "name": "stdout",
     "output_type": "stream",
     "text": [
      "[before postprocess]:<0>不能成为由对手操控对手操控之咒语或异能的目标。\n",
      "[after preprocess]:as long as it 's your turn , <0> has indestructible .\n",
      "[before postprocess]:只要是在你的回合中，<0>便不会毁坏。\n",
      "[after preprocess]:<0> enters the battlefield with two <1> counters on it .\n",
      "[before postprocess]:<0>进战场时上面有两个+1指示物。\n",
      "[after preprocess]:{t} : add {c} .\n",
      "[before postprocess]:{t}：加{c}。\n",
      "[after preprocess]:{t} , remove an <1> counter from <0> : put an <1> counter on target artifact or creature you control .\n"
     ]
    },
    {
     "name": "stderr",
     "output_type": "stream",
     "text": [
      " 49%|████▉     | 49/100 [00:19<00:24,  2.08it/s]"
     ]
    },
    {
     "name": "stdout",
     "output_type": "stream",
     "text": [
      "[before postprocess]:{t}，从<0>上移去一个<1>：在目标由你操控的神器或生物上放置一个1指示物。\n",
      "[after preprocess]:activate only as a sorcery .\n",
      "[before postprocess]:只能于法术时机起动。\n",
      "[after preprocess]:for <mirrodin !\n",
      "[before postprocess]:<unk><unk><unk><unk><unk>\n",
      "[after preprocess]:when this equipment enters the battlefield , create a 2 / 2 red <0> creature token , then attach this to it .\n",
      "[before postprocess]:当此武具进战场时，派出一个2/2红色，然后将它装备上去。\n",
      "[after preprocess]:whenever <0> becomes attached to a creature , for as long as blade of <1> remains attached to it , you may have that creature become a copy of another target creature you control .\n"
     ]
    },
    {
     "name": "stderr",
     "output_type": "stream",
     "text": [
      " 50%|█████     | 50/100 [00:20<00:26,  1.92it/s]"
     ]
    },
    {
     "name": "stdout",
     "output_type": "stream",
     "text": [
      "[before postprocess]:每当<0>上贴附只要贴附只要上上上上上的时段内，只要你上上上，你可以可以让该生物成为另一个目标由你操控之衍的生物。\n",
      "[after preprocess]:equip {2}\n",
      "[before postprocess]:佩带{2}\n",
      "[after preprocess]:lifelink , toxic 1\n",
      "[before postprocess]:系命，下毒1\n",
      "[after preprocess]:whenever you proliferate , choose one —\n",
      "[before postprocess]:每当你刺探时，选择一项～\n",
      "[after preprocess]:• if you do n't control a creature named <0> , create the hollow <1> , a legendary 3 / 3 colorless phyrexian golem artifact creature token .\n"
     ]
    },
    {
     "name": "stderr",
     "output_type": "stream",
     "text": [
      " 51%|█████     | 51/100 [00:20<00:25,  1.95it/s]"
     ]
    },
    {
     "name": "stdout",
     "output_type": "stream",
     "text": [
      "[before postprocess]:若你未操控名称为<0>异能的生物，则将<1>上的3/3无色魔像衍生神器生物。\n",
      "[after preprocess]:• target artifact creature you control gains flying and lifelink until end of turn .\n",
      "[before postprocess]:•目标由你操控的神器生物获得飞行与系命异能直到回合结束。\n",
      "[after preprocess]:<0> enters the battlefield with four <1> counters on it .\n"
     ]
    },
    {
     "name": "stderr",
     "output_type": "stream",
     "text": [
      " 52%|█████▏    | 52/100 [00:20<00:20,  2.30it/s]"
     ]
    },
    {
     "name": "stdout",
     "output_type": "stream",
     "text": [
      "[before postprocess]:<0>进战场时上面有四个充电指示物。\n",
      "[after preprocess]:{t} , remove an <1> counter from <0> : tap target artifact or creature .\n",
      "[before postprocess]:{t}，从<0>上移去一个<1>：横置目标神器或生物。\n",
      "[after preprocess]:for <mirrodin !\n",
      "[before postprocess]:<unk><unk><unk><unk><unk>\n",
      "[after preprocess]:when this equipment enters the battlefield , create a 2 / 2 red <0> creature token , then attach this to it .\n",
      "[before postprocess]:当此武具进战场时，派出一个2/2红色，然后将它装备上去。\n",
      "[after preprocess]:equip abilities you activate of other equipment cost {1} less to activate .\n"
     ]
    },
    {
     "name": "stderr",
     "output_type": "stream",
     "text": [
      " 53%|█████▎    | 53/100 [00:21<00:21,  2.21it/s]"
     ]
    },
    {
     "name": "stdout",
     "output_type": "stream",
     "text": [
      "[before postprocess]:你起动之的其他生物减少{1}来减少{1}来起动。\n",
      "[after preprocess]:equipped creature has double strike .\n",
      "[before postprocess]:佩带此武具的生物具有连击异能。\n",
      "[after preprocess]:equip {3} {r} {w}\n",
      "[before postprocess]:佩带{3}{r}{w}\n",
      "[after preprocess]:whenever one or more creatures you control deal combat damage to a player , you may return one of them to its owner 's hand .\n",
      "[before postprocess]:每当由你操控的一个或数个生物对任一牌手造成战斗伤害时，你可以将其中一张移回其拥有者手上。\n",
      "[after preprocess]:if you do , you may activate loyalty abilities of kaito twice this turn rather than only once .\n",
      "[before postprocess]:若你如此作，则本回合中，且本回合中使用两个忠诚异能，且不能使用一次。\n",
      "[after preprocess]:+ 1 : up to one target creature ca n't attack or block until your next turn .\n",
      "[before postprocess]:+1：至多一个目标生物本回合不能进行攻击或阻挡。\n",
      "[after preprocess]:0 : draw a card .\n",
      "[before postprocess]:0：抓一张牌。\n",
      "[after preprocess]:− 2 : create a 2 / 2 colorless drone artifact creature token with deathtouch and \" when this creature leaves the battlefield , each opponent loses 2 life and you gain 2 life . \"\n"
     ]
    },
    {
     "name": "stderr",
     "output_type": "stream",
     "text": [
      " 54%|█████▍    | 54/100 [00:22<00:27,  1.70it/s]"
     ]
    },
    {
     "name": "stdout",
     "output_type": "stream",
     "text": [
      "[before postprocess]:−2：派出一个2/2无色，具<unk>生物<unk><unk><unk>生物，且具有\"当此生物死去时，每位对手各失去2点生命，且你获得2点生命。\n",
      "[after preprocess]:{t} : put an <1> counter on <0> .\n",
      "[before postprocess]:{t}：在<0>上放置一个<1>。\n",
      "[after preprocess]:{t} , sacrifice <0> : destroy each non land permanent with mana value equal to the number of <2> counters on <1> .\n",
      "[before postprocess]:{t}，牺牲<0>：消灭所有总法术力费用等同于<1>的非地永久物\n",
      "[after preprocess]:{t} , remove ten <1> counters from among permanents you control and sacrifice <0> : it deals 1 0 damage to any target .\n"
     ]
    },
    {
     "name": "stderr",
     "output_type": "stream",
     "text": [
      " 55%|█████▌    | 55/100 [00:22<00:26,  1.68it/s]"
     ]
    },
    {
     "name": "stdout",
     "output_type": "stream",
     "text": [
      "[before postprocess]:{t}，从由你操控的永久物上移去五个+1指示物，牺牲<0>：<0>对目标生物或牌手造成10点伤害。\n",
      "[after preprocess]:trample\n",
      "[before postprocess]:践踏\n",
      "[after preprocess]:toxic 1\n",
      "[before postprocess]:铭勇1\n",
      "[after preprocess]:players dealt combat damage by this creature also get a poison counter .\n",
      "[before postprocess]:受此生物造成战斗伤害的还会得到一个中毒指示物。\n",
      "[after preprocess]:whenever <0> deals combat damage to a player , proliferate .\n",
      "[before postprocess]:每当<0>对任一牌手造成战斗伤害时，增殖。\n",
      "[after preprocess]:choose any number of permanents and / or players , then give each another counter of each kind already there .\n",
      "[before postprocess]:选择任意数量的永久物和／或牌手，然后为其已有之每种指示物各多放置一个同类的指示物。\n"
     ]
    },
    {
     "name": "stderr",
     "output_type": "stream",
     "text": [
      " 56%|█████▌    | 56/100 [00:23<00:23,  1.84it/s]"
     ]
    },
    {
     "name": "stdout",
     "output_type": "stream",
     "text": [
      "[after preprocess]:<0> enters the battlefield with five <1> counters on it .\n",
      "[before postprocess]:<0>进战场时上面有五个石砖指示物。\n",
      "[after preprocess]:{1} , remove an <1> counter from <0> : it gains vigilance and menace until end of turn .\n",
      "[before postprocess]:{1}，从<0>上移去一个<1>：<9>获得警戒与威慑异能直到回合结束。\n",
      "[after preprocess]:{2} , remove two <1> counters from <0> : it gets + 2 / + 2 until end of turn .\n",
      "[before postprocess]:{2}，从<0>上移去两个<1指示物：<0>得+2/+2直到回合结束。\n"
     ]
    },
    {
     "name": "stderr",
     "output_type": "stream",
     "text": [
      " 57%|█████▋    | 57/100 [00:24<00:25,  1.69it/s]"
     ]
    },
    {
     "name": "stdout",
     "output_type": "stream",
     "text": [
      "[after preprocess]:{3} , remove three <1> counters from <0> : destroy target artifact or enchantment .\n",
      "[before postprocess]:{3}，从<0>上移去三个鲜血指示物物：消灭目标神器或结界。\n",
      "[after preprocess]:+ 2 : search your library for a basic mountain card , reveal it , put it into your hand , then shuffle .\n",
      "[before postprocess]:+2：从你的牌库中搜寻一张基本的平原牌，展示该牌，将它置于你手上，然后洗牌。\n",
      "[after preprocess]:− 3 : <0> deals damage to target creature equal to the number of mountains you control .\n",
      "[before postprocess]:−3：<0>对目标生物造成伤害，其数量等同于由你操控的山脉数量。\n",
      "[after preprocess]:− 7 : you get an emblem with \" whenever a mountain enters the battlefield under your control , this emblem deals 4 damage to any target . \"\n"
     ]
    },
    {
     "name": "stderr",
     "output_type": "stream",
     "text": [
      " 58%|█████▊    | 58/100 [00:24<00:25,  1.68it/s]"
     ]
    },
    {
     "name": "stdout",
     "output_type": "stream",
     "text": [
      "[before postprocess]:−7：你获得具有\"每当一个山脉在你的操控下进战场时，此生物对目标生物或牌手造成4点伤害\"的徽记。\n",
      "[after preprocess]:choose one —\n",
      "[before postprocess]:选择一项～\n",
      "[after preprocess]:• each opponent sacrifices a non token creature .\n",
      "[before postprocess]:•每位对手各牺牲一个非衍生物的生物。\n",
      "[after preprocess]:• each opponent sacrifices a creature token .\n",
      "[before postprocess]:•每位对手各牺牲一个生物生物。\n",
      "[after preprocess]:• each opponent sacrifices a planeswalker .\n"
     ]
    },
    {
     "name": "stderr",
     "output_type": "stream",
     "text": [
      " 59%|█████▉    | 59/100 [00:24<00:20,  2.03it/s]"
     ]
    },
    {
     "name": "stdout",
     "output_type": "stream",
     "text": [
      "[before postprocess]:•每位对手各牺牲一个鹏洛客。\n",
      "[after preprocess]:choose one or both —\n",
      "[before postprocess]:选择一项或都选～\n",
      "[after preprocess]:• exile target artifact or creature you control , then return it to the battlefield under its owner 's control .\n",
      "[before postprocess]:•放逐目标由你操控的神器或生物，然后将它在其拥有者的操控下移回战场。\n"
     ]
    },
    {
     "name": "stderr",
     "output_type": "stream",
     "text": [
      " 60%|██████    | 60/100 [00:25<00:18,  2.22it/s]"
     ]
    },
    {
     "name": "stdout",
     "output_type": "stream",
     "text": [
      "[after preprocess]:• return target artifact or creature card with mana value 3 or less from your graveyard to the battlefield .\n",
      "[before postprocess]:•将目标法术力值等于或小于3的生物牌从你的坟墓场移回战场。\n",
      "[after preprocess]:{3} {w} , {t} : tap target creature .\n",
      "[before postprocess]:{3}{w}，{t}：横置目标生物。\n",
      "[after preprocess]:corrupted — {w} , {t} : tap target creature .\n",
      "[before postprocess]:腐化～{w}，{t}：横置目标生物。\n",
      "[after preprocess]:activate only if an opponent has three or more poison counters .\n"
     ]
    },
    {
     "name": "stderr",
     "output_type": "stream",
     "text": [
      " 61%|██████    | 61/100 [00:25<00:16,  2.42it/s]"
     ]
    },
    {
     "name": "stdout",
     "output_type": "stream",
     "text": [
      "[before postprocess]:只能于某对手具有三个或更多中毒指示物时起动此异能。\n",
      "[after preprocess]:vigilance\n",
      "[before postprocess]:警戒\n",
      "[after preprocess]:when <0> enters the battlefield , choose one —\n",
      "[before postprocess]:当<0>进战场时，选择一项～\n",
      "[after preprocess]:• target creature gets + 2 / + 2 and gains vigilance until end of turn .\n",
      "[before postprocess]:•直到回合结束，目标生物得+2/+2且获得警戒异能。\n",
      "[after preprocess]:• proliferate .\n",
      "[before postprocess]:•增殖。\n",
      "[after preprocess]:choose any number of permanents and / or players , then give each another counter of each kind already there .\n"
     ]
    },
    {
     "name": "stderr",
     "output_type": "stream",
     "text": [
      " 62%|██████▏   | 62/100 [00:26<00:16,  2.29it/s]"
     ]
    },
    {
     "name": "stdout",
     "output_type": "stream",
     "text": [
      "[before postprocess]:选择任意数量的永久物和／或牌手，然后为其已有之每种指示物各多放置一个同类的指示物。\n",
      "[after preprocess]:for <mirrodin !\n",
      "[before postprocess]:<unk><unk><unk><unk><unk>\n",
      "[after preprocess]:when this equipment enters the battlefield , create a 2 / 2 red <0> creature token , then attach this to it .\n",
      "[before postprocess]:当此武具进战场时，派出一个2/2红色，然后将它装备上去。\n",
      "[after preprocess]:equipped creature gets + 2 / + 1 and has vigilance .\n",
      "[before postprocess]:佩带此武具的生物得+2/+1且具有警戒异能。\n",
      "[after preprocess]:equip {3} {w}\n",
      "[before postprocess]:佩带{3}{w}\n",
      "[after preprocess]:{3} {w} : attach to target creature you control .\n"
     ]
    },
    {
     "name": "stderr",
     "output_type": "stream",
     "text": [
      " 63%|██████▎   | 63/100 [00:26<00:17,  2.14it/s]"
     ]
    },
    {
     "name": "stdout",
     "output_type": "stream",
     "text": [
      "[before postprocess]:{3}{w}：贴附在目标由你操控的生物上。\n",
      "[after preprocess]:equip only as a sorcery .\n",
      "[before postprocess]:只能于法术时机佩带。\n",
      "[after preprocess]:counter target spell .\n",
      "[before postprocess]:反击目标咒语。\n",
      "[after preprocess]:if that spell 's mana value was 3 or less , proliferate .\n",
      "[before postprocess]:若该咒语的总法术力费用等于或小于3，则则增殖。\n"
     ]
    },
    {
     "name": "stderr",
     "output_type": "stream",
     "text": [
      " 64%|██████▍   | 64/100 [00:26<00:15,  2.28it/s]"
     ]
    },
    {
     "name": "stdout",
     "output_type": "stream",
     "text": [
      "[after preprocess]:choose any number of permanents and / or players , then give each another counter of each kind already there .\n",
      "[before postprocess]:选择任意数量的永久物和／或牌手，然后为其已有之每种指示物各多放置一个同类的指示物。\n",
      "[after preprocess]:{t} : add {c} .\n",
      "[before postprocess]:{t}：加{c}。\n",
      "[after preprocess]:{1} , {t} : add one mana of any color .\n"
     ]
    },
    {
     "name": "stderr",
     "output_type": "stream",
     "text": [
      " 65%|██████▌   | 65/100 [00:27<00:15,  2.30it/s]"
     ]
    },
    {
     "name": "stdout",
     "output_type": "stream",
     "text": [
      "[before postprocess]:{1}，{t}：加一点任意颜色的法术力。\n",
      "[after preprocess]:{x} , {t} : <0> becomes a copy of target non token artifact you control with mana value x .\n",
      "[before postprocess]:{x}，{t}：<0>成为由你操控且总法术力费用为x的神器的复制品。\n",
      "[after preprocess]:counter target spell with mana value 1 or less .\n",
      "[before postprocess]:反击目标总法术力费用等于或小于1的咒语。\n",
      "[after preprocess]:target creature gets + 3 / + 1 until end of turn .\n",
      "[before postprocess]:目标生物得+3/+1直到回合结束。\n",
      "[after preprocess]:exile the top card of your library .\n"
     ]
    },
    {
     "name": "stderr",
     "output_type": "stream",
     "text": [
      " 67%|██████▋   | 67/100 [00:27<00:10,  3.23it/s]"
     ]
    },
    {
     "name": "stdout",
     "output_type": "stream",
     "text": [
      "[before postprocess]:放逐你的牌库顶牌。\n",
      "[after preprocess]:until the end of your next turn , you may play that card .\n",
      "[before postprocess]:直到你下一个回合的回合结束，你可以使用该牌。\n",
      "[after preprocess]:flying\n",
      "[before postprocess]:飞行\n",
      "[after preprocess]:ward — {3} , pay 3 life .\n",
      "[before postprocess]:守护{～{3}，支付3点生命。\n",
      "[after preprocess]:whenever you cast a non creature spell , create x 1 / 1 red phyrexian goblin creature tokens , where x is the mana value of that spell .\n"
     ]
    },
    {
     "name": "stderr",
     "output_type": "stream",
     "text": [
      " 68%|██████▊   | 68/100 [00:28<00:10,  3.07it/s]"
     ]
    },
    {
     "name": "stdout",
     "output_type": "stream",
     "text": [
      "[before postprocess]:每当你施放非生物咒语时，将x个1/1红色鬼怪衍生生物放进战场，x为该咒语的法术力值。\n",
      "[after preprocess]:they gain haste until end of turn .\n",
      "[before postprocess]:它们获得敏捷异能直到回合结束。\n",
      "[after preprocess]:as an additional cost to cast this spell , sacrifice an artifact or creature with mana value x .\n",
      "[before postprocess]:牺牲一个神器或法术力费用为x的生物，以作为施放此咒语的额外费用。\n"
     ]
    },
    {
     "name": "stderr",
     "output_type": "stream",
     "text": [
      " 69%|██████▉   | 69/100 [00:28<00:09,  3.15it/s]"
     ]
    },
    {
     "name": "stdout",
     "output_type": "stream",
     "text": [
      "[after preprocess]:<0> sacrifice deals x damage divided as you choose among any number of target creatures .\n",
      "[before postprocess]:<0>对任意数量的目标生物造成共x点伤害，你可以任意分配。\n",
      "[after preprocess]:flying\n",
      "[before postprocess]:飞行\n",
      "[after preprocess]:corrupted — whenever <0> attacks , if an opponent has three or more poison counters , creatures you control get + 1 / + 1 until end of turn .\n"
     ]
    },
    {
     "name": "stderr",
     "output_type": "stream",
     "text": [
      " 70%|███████   | 70/100 [00:28<00:09,  3.19it/s]"
     ]
    },
    {
     "name": "stdout",
     "output_type": "stream",
     "text": [
      "[before postprocess]:强横～每当<0>攻击时，若某对手有三个或更多中毒指示物，由你操控的生物得+1/+1直到回合结束。\n",
      "[after preprocess]:battle cry\n",
      "[before postprocess]:战嚎\n",
      "[after preprocess]:whenever this creature attacks , each other attacking creature gets + 1 / + 0 until end of turn .\n",
      "[before postprocess]:每当此生物攻击时，每个进行攻击的其他生物各得+1/+0直到回合结束。\n",
      "[after preprocess]:at the beginning of combat on your turn , the next time target creature would deal combat damage to one or more players this combat , prevent that damage .\n",
      "[before postprocess]:在你回合的战斗开始时，如果目标生物或牌手造成战斗伤害，则防止该牌手造成伤害。\n",
      "[after preprocess]:if damage is prevented this way , create that many 1 / 1 colorless phyrexian mite artifact creature tokens with toxic 1 and \" this creature ca n't block . \"\n"
     ]
    },
    {
     "name": "stderr",
     "output_type": "stream",
     "text": [
      " 71%|███████   | 71/100 [00:29<00:11,  2.49it/s]"
     ]
    },
    {
     "name": "stdout",
     "output_type": "stream",
     "text": [
      "[before postprocess]:如果以此法防止伤害，则派出等量的1/1无色，衍生生物具有\"此生物具有\"与\"此生物不能进行阻挡。\"\n",
      "[after preprocess]:toxic 6\n",
      "[before postprocess]:死触\n",
      "[after preprocess]:players dealt combat damage by\n",
      "[before postprocess]:它位牌手造成伤害。\n",
      "[after preprocess]:this creature also get six poison counters .\n",
      "[before postprocess]:此生物会得到六个中毒指示物。\n",
      "[after preprocess]:<0> ca n't be blocked by creatures with power 2 or less .\n"
     ]
    },
    {
     "name": "stderr",
     "output_type": "stream",
     "text": [
      " 73%|███████▎  | 73/100 [00:29<00:08,  3.21it/s]"
     ]
    },
    {
     "name": "stdout",
     "output_type": "stream",
     "text": [
      "[before postprocess]:<0>不能被力量等于或小于2的生物阻挡。\n",
      "[after preprocess]:<0> deals 2 damage to target creature .\n",
      "[before postprocess]:<0>对目标生物造成2点伤害。\n",
      "[after preprocess]:if that creature <0> deals 4 damage to that creature instead .\n",
      "[before postprocess]:如果该生物具有<0>对该生物造成4点伤害。\n",
      "[after preprocess]:equipped creature gets + 0 / + 2 and has toxic 1 .\n",
      "[before postprocess]:佩带此武具的生物得+0/+2且具有折磨1。\n",
      "[after preprocess]:players dealt damage by equipped creature also get a poison counter .\n"
     ]
    },
    {
     "name": "stderr",
     "output_type": "stream",
     "text": [
      " 74%|███████▍  | 74/100 [00:30<00:07,  3.39it/s]"
     ]
    },
    {
     "name": "stdout",
     "output_type": "stream",
     "text": [
      "[before postprocess]:佩带此武具的佩带此武具的牌手均得到一个中毒指示物。\n",
      "[after preprocess]:equip {1}\n",
      "[before postprocess]:佩带{1}\n",
      "[after preprocess]:look at the top three cards of your library .\n",
      "[before postprocess]:检视你牌库顶的三张牌。\n",
      "[after preprocess]:put one of them into your hand and the rest on the bottom of your library in any order .\n",
      "[before postprocess]:将其中一张置于你手上，其余的牌则以任意顺序置于你的牌库底。\n",
      "[after preprocess]:proliferate .\n",
      "[before postprocess]:增殖。\n",
      "[after preprocess]:choose any number of permanents and / or players , then give each another counter of each kind already there .\n"
     ]
    },
    {
     "name": "stderr",
     "output_type": "stream",
     "text": [
      " 75%|███████▌  | 75/100 [00:30<00:08,  2.88it/s]"
     ]
    },
    {
     "name": "stdout",
     "output_type": "stream",
     "text": [
      "[before postprocess]:选择任意数量的永久物和／或牌手，然后为其已有之每种指示物各多放置一个同类的指示物。\n",
      "[after preprocess]:toxic 1\n",
      "[before postprocess]:铭勇1\n",
      "[after preprocess]:players dealt combat damage by this creature also get a poison counter .\n",
      "[before postprocess]:受此生物造成战斗伤害的还会得到一个中毒指示物。\n",
      "[after preprocess]:as long as it 's your turn , <0> has first strike .\n"
     ]
    },
    {
     "name": "stderr",
     "output_type": "stream",
     "text": [
      " 76%|███████▌  | 76/100 [00:30<00:07,  3.19it/s]"
     ]
    },
    {
     "name": "stdout",
     "output_type": "stream",
     "text": [
      "[before postprocess]:只要是在你的回合中，<0>便具有先攻异能。\n",
      "[after preprocess]:at the beginning of combat on your turn , target creature you control gets + 1 / + 1 until end of turn .\n",
      "[before postprocess]:在你回合的战斗开始时，目标由你操控的生物得+1/+1直到回合结束。\n",
      "[after preprocess]:if that creature has toxic , instead it gets + 2 / + 2 until end of turn .\n"
     ]
    },
    {
     "name": "stderr",
     "output_type": "stream",
     "text": [
      " 78%|███████▊  | 78/100 [00:31<00:05,  3.86it/s]"
     ]
    },
    {
     "name": "stdout",
     "output_type": "stream",
     "text": [
      "[before postprocess]:如果该生物具有搭档，则改为它得+2/+2直到回合结束。\n",
      "[after preprocess]:deathtouch\n",
      "[before postprocess]:死触\n",
      "[after preprocess]:toxic 1\n",
      "[before postprocess]:铭勇1\n",
      "[after preprocess]:players dealt combat damage by this creature also get a poison counter .\n",
      "[before postprocess]:受此生物造成战斗伤害的还会得到一个中毒指示物。\n",
      "[after preprocess]:<0> ca n't be blocked .\n",
      "[before postprocess]:<0>不能被阻挡。\n",
      "[after preprocess]:whenever you cast a non creature spell , put an <1> counter on <0> .\n",
      "[before postprocess]:每当你施放非生物咒语时，在<0>上放置一个<1>指示物。\n",
      "[after preprocess]:whenever <0> deals combat damage to a player , you may remove two <1> counters from it .\n",
      "[before postprocess]:每当<0>对任一牌手造成战斗伤害时，你可以从其上放置两个<1>指示物。\n",
      "[after preprocess]:if you do , when you cast your next instant or sorcery spell this turn , copy that spell .\n"
     ]
    },
    {
     "name": "stderr",
     "output_type": "stream",
     "text": [
      " 79%|███████▉  | 79/100 [00:31<00:07,  2.66it/s]"
     ]
    },
    {
     "name": "stdout",
     "output_type": "stream",
     "text": [
      "[before postprocess]:若你如此作，则本回合中，当你施放你的下一个瞬间或法术咒语时，复制该咒语。\n",
      "[after preprocess]:you may choose new targets for the copy .\n",
      "[before postprocess]:你可以为该复制品选择新的目标。\n",
      "[after preprocess]:vigilance\n",
      "[before postprocess]:警戒\n",
      "[after preprocess]:if a permanent entering the battlefield causes a triggered ability of a permanent you control to trigger , that ability triggers an additional time .\n"
     ]
    },
    {
     "name": "stderr",
     "output_type": "stream",
     "text": [
      " 80%|████████  | 80/100 [00:32<00:07,  2.79it/s]"
     ]
    },
    {
     "name": "stdout",
     "output_type": "stream",
     "text": [
      "[before postprocess]:如果某个进战场的永久物进战场之永久物触发式异能，则该异能额外触发一次。\n",
      "[after preprocess]:permanents entering the battlefield do n't cause abilities of permanents your opponents control to trigger .\n",
      "[before postprocess]:永久物永久物进战场，但不会成为由对手操控的永久物。\n",
      "[after preprocess]:vigilance\n",
      "[before postprocess]:警戒\n",
      "[after preprocess]:if a permanent entering the battlefield causes a triggered ability of a permanent you control to trigger , that ability triggers an additional time .\n"
     ]
    },
    {
     "name": "stderr",
     "output_type": "stream",
     "text": [
      " 81%|████████  | 81/100 [00:32<00:06,  2.84it/s]"
     ]
    },
    {
     "name": "stdout",
     "output_type": "stream",
     "text": [
      "[before postprocess]:如果某个进战场的永久物进战场之永久物触发式异能，则该异能额外触发一次。\n",
      "[after preprocess]:permanents entering the battlefield do n't cause abilities of permanents your opponents control to trigger .\n",
      "[before postprocess]:永久物永久物进战场，但不会成为由对手操控的永久物。\n",
      "[after preprocess]:first strike , protection from multicolored\n",
      "[before postprocess]:先攻，反多色保护\n",
      "[after preprocess]:at the beginning of your upkeep , sacrifice <0> unless you discard a card .\n",
      "[before postprocess]:在你的维持开始时，除非你弃一张牌，否则牺牲<0>。\n",
      "[after preprocess]:when you discard a card this way , destroy target non land permanent an opponent controls with mana value less than or equal to the mana value of the discarded card .\n"
     ]
    },
    {
     "name": "stderr",
     "output_type": "stream",
     "text": [
      " 82%|████████▏ | 82/100 [00:32<00:07,  2.54it/s]"
     ]
    },
    {
     "name": "stdout",
     "output_type": "stream",
     "text": [
      "[before postprocess]:当你以此法展示一张牌时，消灭目标由对手操控且非地永久物且其总法术力费用等于或小于该牌的总法术力费用。\n",
      "[after preprocess]:corrupted — {2} {b} : return <0> from your graveyard to the battlefield tapped .\n",
      "[before postprocess]:腐化～{2}{b}：将<0>从你的坟墓场横置移回战场。\n",
      "[after preprocess]:you lose 1 life .\n"
     ]
    },
    {
     "name": "stderr",
     "output_type": "stream",
     "text": [
      " 83%|████████▎ | 83/100 [00:33<00:06,  2.65it/s]"
     ]
    },
    {
     "name": "stdout",
     "output_type": "stream",
     "text": [
      "[before postprocess]:你失去1点生命。\n",
      "[after preprocess]:activate only if an opponent has three or more poison counters .\n",
      "[before postprocess]:只能于某对手具有三个或更多中毒指示物时起动此异能。\n",
      "[after preprocess]:other blue creatures you control have \" whenever this creature becomes tapped , draw a card , then discard a card . \"\n",
      "[before postprocess]:由你操控的其他生物生物具有\"每当此生物攻击时，抓一张牌，然后弃一张牌。\"\n",
      "[after preprocess]:other artifact creatures you control get + 1 / + 1 .\n",
      "[before postprocess]:由你操控的其他神器生物得+1/+1。\n",
      "[after preprocess]:{u/p} : until end of turn , target creature you control becomes a blue artifact in addition to its other colors and types .\n"
     ]
    },
    {
     "name": "stderr",
     "output_type": "stream",
     "text": [
      " 84%|████████▍ | 84/100 [00:34<00:07,  2.05it/s]"
     ]
    },
    {
     "name": "stdout",
     "output_type": "stream",
     "text": [
      "[before postprocess]:{u/p}：直到回合结束，目标由你操控的生物成为神器，且仍具有神器此类别。\n",
      "[after preprocess]:activate only as a sorcery .\n",
      "[before postprocess]:只能于法术时机起动。\n",
      "[after preprocess]:{u/p} can be paid with either {u} or 2 life .\n",
      "[before postprocess]:{u/p}可用{u}或2点生命来支付。\n"
     ]
    },
    {
     "name": "stderr",
     "output_type": "stream",
     "text": [
      " 85%|████████▌ | 85/100 [00:34<00:05,  2.62it/s]"
     ]
    },
    {
     "name": "stdout",
     "output_type": "stream",
     "text": [
      "[after preprocess]:flying , vigilance\n",
      "[before postprocess]:飞行，警戒\n",
      "[after preprocess]:when <0> dies , draw a card .\n",
      "[before postprocess]:当<0>死去时，抓一张牌。\n",
      "[after preprocess]:vigilance\n",
      "[before postprocess]:警戒\n",
      "[after preprocess]:corrupted — when <0> enters the battlefield , if an opponent has three or more poison counters , destroy target creature or planeswalker an opponent controls .\n"
     ]
    },
    {
     "name": "stderr",
     "output_type": "stream",
     "text": [
      " 86%|████████▌ | 86/100 [00:34<00:04,  2.80it/s]"
     ]
    },
    {
     "name": "stdout",
     "output_type": "stream",
     "text": [
      "[before postprocess]:腐化～当<0>进战场时，若某对手有三个或更多中毒指示物，消灭目标由对手操控的生物或鹏洛客。\n",
      "[after preprocess]:at the beginning of your upkeep , you lose 1 life and create a 1 / 1 colorless phyrexian mite artifact creature token with toxic 1 and \" this creature ca n't block . \"\n"
     ]
    },
    {
     "name": "stderr",
     "output_type": "stream",
     "text": [
      " 87%|████████▋ | 87/100 [00:34<00:05,  2.49it/s]"
     ]
    },
    {
     "name": "stdout",
     "output_type": "stream",
     "text": [
      "[before postprocess]:在你的维持开始时，你失去1点生命并将一个1/1无色，<unk><unk>生物的生物生物，且具有\"此生物不能进行阻挡。\"\n",
      "[after preprocess]:corrupted — as long as an opponent has three or more poison counters , creatures you control with toxic have lifelink .\n",
      "[before postprocess]:腐化～只要任一对手的三个或更多更多中毒指示物，由你操控、具具系命异能的生物。\n",
      "[after preprocess]:whenever you cast a non creature spell , put an <1> counter on <0> .\n",
      "[before postprocess]:每当你施放非生物咒语时，在<0>上放置一个<1>指示物。\n",
      "[after preprocess]:{6} {r} , sacrifice <0> : discard your hand , then draw four cards .\n"
     ]
    },
    {
     "name": "stderr",
     "output_type": "stream",
     "text": [
      " 88%|████████▊ | 88/100 [00:35<00:05,  2.32it/s]"
     ]
    },
    {
     "name": "stdout",
     "output_type": "stream",
     "text": [
      "[before postprocess]:{6}{r}，牺牲<0>：弃掉你的手牌，然后抓四张牌。\n",
      "[after preprocess]:this ability costs {1} less to activate for each <1> counter on <0> .\n",
      "[before postprocess]:<0>上每有一个橡实指示物，此异能便减少{1}来起动。\n",
      "[after preprocess]:if one or more tokens would be created under your control , twice that many of those tokens are created instead .\n",
      "[before postprocess]:如果将将在你的操控下一个或数个或数个，则改为该数量数量数量的该类衍生物。\n",
      "[after preprocess]:{1} {w/p} {w/p} , sacrifice two other artifacts and / or creatures : put an indestructible counter on <0> .\n"
     ]
    },
    {
     "name": "stderr",
     "output_type": "stream",
     "text": [
      " 89%|████████▉ | 89/100 [00:36<00:05,  2.08it/s]"
     ]
    },
    {
     "name": "stdout",
     "output_type": "stream",
     "text": [
      "[before postprocess]:{1}{w/p}{w/w}，牺牲两个其他神器和／或生物：在<0>上不灭指示物。\n",
      "[after preprocess]:{w/p} can be paid with either {w} or 2 life .\n",
      "[before postprocess]:{w/p}可用{w}或2点生命来支付。\n",
      "[after preprocess]:if one or more tokens would be created under your control , twice that many of those tokens are created instead .\n",
      "[before postprocess]:如果将将在你的操控下一个或数个或数个，则改为该数量数量数量的该类衍生物。\n",
      "[after preprocess]:{1} {w/p} {w/p} , sacrifice two other artifacts and / or creatures : put an indestructible counter on <0> .\n"
     ]
    },
    {
     "name": "stderr",
     "output_type": "stream",
     "text": [
      " 90%|█████████ | 90/100 [00:36<00:05,  1.93it/s]"
     ]
    },
    {
     "name": "stdout",
     "output_type": "stream",
     "text": [
      "[before postprocess]:{1}{w/p}{w/w}，牺牲两个其他神器和／或生物：在<0>上不灭指示物。\n",
      "[after preprocess]:{w/p} can be paid with either {w} or 2 life .\n",
      "[before postprocess]:{w/p}可用{w}或2点生命来支付。\n",
      "[after preprocess]:<0> enters the battlefield with five <1> counters on it .\n",
      "[before postprocess]:<0>进战场时上面有五个石砖指示物。\n",
      "[after preprocess]:{1} , remove an <1> counter from <0> : it gains vigilance and menace until end of turn .\n",
      "[before postprocess]:{1}，从<0>上移去一个<1>：<9>获得警戒与威慑异能直到回合结束。\n",
      "[after preprocess]:{2} , remove two <1> counters from <0> : it gets + 2 / + 2 until end of turn .\n",
      "[before postprocess]:{2}，从<0>上移去两个<1指示物：<0>得+2/+2直到回合结束。\n"
     ]
    },
    {
     "name": "stderr",
     "output_type": "stream",
     "text": [
      " 91%|█████████ | 91/100 [00:37<00:05,  1.75it/s]"
     ]
    },
    {
     "name": "stdout",
     "output_type": "stream",
     "text": [
      "[after preprocess]:{3} , remove three <1> counters from <0> : destroy target artifact or enchantment .\n",
      "[before postprocess]:{3}，从<0>上移去三个鲜血指示物物：消灭目标神器或结界。\n",
      "[after preprocess]:flying\n",
      "[before postprocess]:飞行\n",
      "[after preprocess]:if you would proliferate , proliferate twice instead .\n",
      "[before postprocess]:如果你将占卜，则改为将两倍。\n",
      "[after preprocess]:{1} {u/p} {u/p} , remove three counters from among other artifacts , creatures , and planeswalkers you control : put an indestructible counter on <0> .\n"
     ]
    },
    {
     "name": "stderr",
     "output_type": "stream",
     "text": [
      " 92%|█████████▏| 92/100 [00:37<00:04,  1.75it/s]"
     ]
    },
    {
     "name": "stdout",
     "output_type": "stream",
     "text": [
      "[before postprocess]:{1}{u/p}{u/u}，从你操控的其他神器生物和／或指示物，然后在<0>上放置一个不灭指示物。\n",
      "[after preprocess]:{u/p} can be paid with either {u} or 2 life .\n",
      "[before postprocess]:{u/p}可用{u}或2点生命来支付。\n",
      "[after preprocess]:toxic 2\n",
      "[before postprocess]:铭勇2\n",
      "[after preprocess]:{2} {g} : each other creature you control with <0> gains toxic 1 until end of turn .\n",
      "[before postprocess]:{2}{g}：每个由你操控且具<0>异能的其他生物获得警戒异能直到回合结束。\n",
      "[after preprocess]:activate only once each turn .\n",
      "[before postprocess]:每回合只能起动一次。\n",
      "[after preprocess]:a player dealt combat damage by a creature with toxic also gets poison counters equal to that creature 's total toxic value .\n"
     ]
    },
    {
     "name": "stderr",
     "output_type": "stream",
     "text": [
      " 93%|█████████▎| 93/100 [00:38<00:03,  1.86it/s]"
     ]
    },
    {
     "name": "stdout",
     "output_type": "stream",
     "text": [
      "[before postprocess]:每位牌手各造成的的牌手各造成若干伤害，其数量等同于该生物的总伤害。\n",
      "[after preprocess]:whenever one or more other creatures you control die , each opponent loses 2 life and you gain 2 life .\n",
      "[before postprocess]:每当一个或数个或数个其他生物死去时，每位对手各失去2点生命，且你获得2点生命。\n"
     ]
    },
    {
     "name": "stderr",
     "output_type": "stream",
     "text": [
      " 94%|█████████▍| 94/100 [00:38<00:02,  2.17it/s]"
     ]
    },
    {
     "name": "stdout",
     "output_type": "stream",
     "text": [
      "[after preprocess]:this ability triggers only once each turn .\n",
      "[before postprocess]:此异能每回合只会触发一次。\n",
      "[after preprocess]:whenever you put one or more counters on a permanent or player , all will be one deals that much damage to target opponent , creature an opponent controls , or planeswalker an opponent controls .\n"
     ]
    },
    {
     "name": "stderr",
     "output_type": "stream",
     "text": [
      " 95%|█████████▌| 95/100 [00:38<00:02,  2.45it/s]"
     ]
    },
    {
     "name": "stdout",
     "output_type": "stream",
     "text": [
      "[before postprocess]:每当你在一个或永久物上放置一个或数个指示物时，至多两位对手各向至多一个目标由对手操控的生物造成等量的生物。\n",
      "[after preprocess]:<0> enters the battlefield with two <1> counters on it .\n",
      "[before postprocess]:<0>进战场时上面有两个+1指示物。\n",
      "[after preprocess]:{t} : add {c} .\n",
      "[before postprocess]:{t}：加{c}。\n",
      "[after preprocess]:{t} , remove an <1> counter from <0> : put an <1> counter on target artifact or creature you control .\n"
     ]
    },
    {
     "name": "stderr",
     "output_type": "stream",
     "text": [
      " 96%|█████████▌| 96/100 [00:39<00:01,  2.26it/s]"
     ]
    },
    {
     "name": "stdout",
     "output_type": "stream",
     "text": [
      "[before postprocess]:{t}，从<0>上移去一个<1>：在目标由你操控的神器或生物上放置一个1指示物。\n",
      "[after preprocess]:activate only as a sorcery .\n",
      "[before postprocess]:只能于法术时机起动。\n",
      "[after preprocess]:{1} , sacrifice <0> : draw a card .\n",
      "[before postprocess]:{1}，牺牲<0>：抓一张牌。\n",
      "[after preprocess]:{1} {r} , sacrifice <0> : put two <1> counters on target artifact or creature you control .\n"
     ]
    },
    {
     "name": "stderr",
     "output_type": "stream",
     "text": [
      " 97%|█████████▋| 97/100 [00:39<00:01,  2.28it/s]"
     ]
    },
    {
     "name": "stdout",
     "output_type": "stream",
     "text": [
      "[before postprocess]:{1}{r}，牺牲<0>：在目标由你操控的神器或生物上放置两个1指示物。\n",
      "[after preprocess]:draw a card .\n",
      "[before postprocess]:抓一张牌。\n",
      "[after preprocess]:activate only as a sorcery .\n",
      "[before postprocess]:只能于法术时机起动。\n",
      "[after preprocess]:<0> enters the battlefield with an <1> counter on it .\n",
      "[before postprocess]:<0>进战场时上面有一个1>指示物。\n",
      "[after preprocess]:{1} , remove an <2> counter from <0> : <1> gains indestructible until end of turn .\n"
     ]
    },
    {
     "name": "stderr",
     "output_type": "stream",
     "text": [
      " 98%|█████████▊| 98/100 [00:40<00:00,  2.49it/s]"
     ]
    },
    {
     "name": "stdout",
     "output_type": "stream",
     "text": [
      "[before postprocess]:{1}，从<0>上移去一个<9>：<1>获得不灭异能直到回合结束。\n",
      "[after preprocess]:<0> enters the battlefield tapped .\n",
      "[before postprocess]:<0>须横置进战场。\n",
      "[after preprocess]:{t} : add {g} .\n",
      "[before postprocess]:{t}：加{g}。\n",
      "[after preprocess]:{1} {g} , {t} , sacrifice <0> : draw a card .\n"
     ]
    },
    {
     "name": "stderr",
     "output_type": "stream",
     "text": [
      " 99%|█████████▉| 99/100 [00:40<00:00,  2.64it/s]"
     ]
    },
    {
     "name": "stdout",
     "output_type": "stream",
     "text": [
      "[before postprocess]:{1}{g}，{t}，牺牲<0>：抓一张牌。\n",
      "[after preprocess]:choose one —\n",
      "[before postprocess]:选择一项～\n",
      "[after preprocess]:• each opponent sacrifices a non token creature .\n",
      "[before postprocess]:•每位对手各牺牲一个非衍生物的生物。\n",
      "[after preprocess]:• each opponent sacrifices a creature token .\n",
      "[before postprocess]:•每位对手各牺牲一个生物生物。\n"
     ]
    },
    {
     "name": "stderr",
     "output_type": "stream",
     "text": [
      "100%|██████████| 100/100 [00:40<00:00,  2.45it/s]"
     ]
    },
    {
     "name": "stdout",
     "output_type": "stream",
     "text": [
      "[after preprocess]:• each opponent sacrifices a planeswalker .\n",
      "[before postprocess]:•每位对手各牺牲一个鹏洛客。\n"
     ]
    },
    {
     "name": "stderr",
     "output_type": "stream",
     "text": [
      "\n"
     ]
    },
    {
     "data": {
      "text/plain": [
       "0.6496684107267375"
      ]
     },
     "execution_count": 12,
     "metadata": {},
     "output_type": "execute_result"
    }
   ],
   "source": [
    "from utils import calculate_testset_bleu\n",
    "calculate_testset_bleu(list(test_data)[:100], CT)"
   ]
  }
 ],
 "metadata": {
  "kernelspec": {
   "display_name": "seq2seq",
   "language": "python",
   "name": "python3"
  },
  "language_info": {
   "codemirror_mode": {
    "name": "ipython",
    "version": 3
   },
   "file_extension": ".py",
   "mimetype": "text/x-python",
   "name": "python",
   "nbconvert_exporter": "python",
   "pygments_lexer": "ipython3",
   "version": "3.9.16"
  },
  "orig_nbformat": 4
 },
 "nbformat": 4,
 "nbformat_minor": 2
}
