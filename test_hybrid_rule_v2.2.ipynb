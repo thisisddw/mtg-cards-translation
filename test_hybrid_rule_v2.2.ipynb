{
 "cells": [
  {
   "attachments": {},
   "cell_type": "markdown",
   "metadata": {},
   "source": [
    "yahb - yet another hybrid bench"
   ]
  },
  {
   "cell_type": "code",
   "execution_count": 1,
   "metadata": {
    "tags": []
   },
   "outputs": [
    {
     "name": "stderr",
     "output_type": "stream",
     "text": [
      "d:\\Miniconda3\\envs\\seq2seq\\lib\\site-packages\\tqdm\\auto.py:21: TqdmWarning: IProgress not found. Please update jupyter and ipywidgets. See https://ipywidgets.readthedocs.io/en/stable/user_install.html\n",
      "  from .autonotebook import tqdm as notebook_tqdm\n"
     ]
    }
   ],
   "source": [
    "import torch\n",
    "import torch.nn as nn\n",
    "import torch.optim as optim\n",
    "import torch.nn.functional as F\n",
    "\n",
    "import numpy as np\n",
    "\n",
    "from torchtext.legacy.data import Field, TabularDataset, BucketIterator\n",
    "\n",
    "from dataset.mtgcards import RuleText\n",
    "from utils.preprocess import fields_for_rule_text\n",
    "\n",
    "import random\n",
    "from tqdm import tqdm\n"
   ]
  },
  {
   "cell_type": "code",
   "execution_count": 2,
   "metadata": {
    "tags": []
   },
   "outputs": [],
   "source": [
    "SRC, TRG = fields_for_rule_text(include_lengths=False, batch_first=True)\n",
    "fields = {'src': ('src', SRC), 'trg': ('trg', TRG)}\n",
    "\n",
    "train_data, valid_data, test_data = RuleText.splits(fields=fields, version='v2.2')"
   ]
  },
  {
   "cell_type": "code",
   "execution_count": 3,
   "metadata": {
    "tags": []
   },
   "outputs": [
    {
     "name": "stdout",
     "output_type": "stream",
     "text": [
      "Unique tokens in source (en) vocabulary: 1294\n",
      "Unique tokens in target (zh) vocabulary: 1949\n",
      "['{', '1', '}', '{', 'r', '}', ',', 'remove', 'a', 'time', 'counter', 'from', 'a', '<', '0', '>', 'you', 'control', 'or', 'suspended', 'card', 'you', 'own', ':', '<', '9', '>', 'gets', '+', '2', '/', '+', '0', 'until', 'end', 'of', 'turn', '.'] ['{', '1', '}', '{', 'r', '}', '，', '从', '由', '你', '操控', '的', '<', '0', '>', '或', '由', '你', '拥有', '且', '已', '延缓', '的', '牌上', '移', '去', '一个', '计时', '指示', '物', '：', '<', '9', '>', '得', '+', '2', '/', '+', '0', '直到', '回合', '结束', '。']\n"
     ]
    }
   ],
   "source": [
    "SRC.build_vocab(train_data, min_freq = 4)\n",
    "TRG.build_vocab(train_data, min_freq = 4)\n",
    "print(f\"Unique tokens in source (en) vocabulary: {len(SRC.vocab)}\")\n",
    "print(f\"Unique tokens in target (zh) vocabulary: {len(TRG.vocab)}\")\n",
    "\n",
    "for x in random.sample(list(train_data), 1):\n",
    "    print(x.src, x.trg)"
   ]
  },
  {
   "cell_type": "code",
   "execution_count": 4,
   "metadata": {
    "tags": []
   },
   "outputs": [
    {
     "name": "stdout",
     "output_type": "stream",
     "text": [
      "cpu\n",
      "\n",
      "[torchtext.legacy.data.batch.Batch of size 128]\n",
      "\t[.src]:[torch.LongTensor of size 128x4]\n",
      "\t[.trg]:[torch.LongTensor of size 128x11]\n"
     ]
    }
   ],
   "source": [
    "device = torch.device('cuda' if torch.cuda.is_available() else 'cpu')\n",
    "print(device)\n",
    "BATCH_SIZE = 128\n",
    "\n",
    "train_iterator, valid_iterator, test_iterator = BucketIterator.splits(\n",
    "    (train_data, valid_data, test_data), \n",
    "    batch_size = BATCH_SIZE, \n",
    "    sort_within_batch = True,\n",
    "    sort_key = lambda x: len(x.src),\n",
    "    device = device)\n",
    "\n",
    "print(next(iter(train_iterator)))"
   ]
  },
  {
   "cell_type": "code",
   "execution_count": 5,
   "metadata": {
    "tags": []
   },
   "outputs": [],
   "source": [
    "class Encoder(nn.Module):\n",
    "    def __init__(self, \n",
    "                 input_dim, \n",
    "                 hid_dim, \n",
    "                 n_layers, \n",
    "                 n_heads, \n",
    "                 pf_dim,\n",
    "                 dropout, \n",
    "                 device,\n",
    "                 max_length = 100):\n",
    "        super().__init__()\n",
    "\n",
    "        self.device = device\n",
    "        \n",
    "        self.tok_embedding = nn.Embedding(input_dim, hid_dim)\n",
    "        #self.pos_embedding = nn.Embedding(max_length, hid_dim)\n",
    "        self.pos_embedding = PositionalEncoding(hid_dim, max_length)\n",
    "        \n",
    "        self.layers = nn.ModuleList([EncoderLayer(hid_dim, \n",
    "                                                  n_heads, \n",
    "                                                  pf_dim,\n",
    "                                                  dropout, \n",
    "                                                  device) \n",
    "                                     for _ in range(n_layers)])\n",
    "        \n",
    "        self.dropout = nn.Dropout(dropout)\n",
    "        \n",
    "        self.scale = torch.sqrt(torch.FloatTensor([hid_dim])).to(device)\n",
    "        \n",
    "    def forward(self, src, src_mask):\n",
    "        \n",
    "        #src = [batch size, src len]\n",
    "        #src_mask = [batch size, 1, 1, src len]\n",
    "        \n",
    "        batch_size = src.shape[0]\n",
    "        src_len = src.shape[1]\n",
    "        \n",
    "        src = self.dropout(self.pos_embedding(self.tok_embedding(src) * self.scale))\n",
    "        \n",
    "        #src = [batch size, src len, hid dim]\n",
    "        \n",
    "        for layer in self.layers:\n",
    "            src = layer(src, src_mask)\n",
    "            \n",
    "        #src = [batch size, src len, hid dim]\n",
    "            \n",
    "        return src\n",
    "    \n",
    "\n",
    "class EncoderLayer(nn.Module):\n",
    "    def __init__(self, \n",
    "                 hid_dim, \n",
    "                 n_heads, \n",
    "                 pf_dim,  \n",
    "                 dropout, \n",
    "                 device):\n",
    "        super().__init__()\n",
    "        \n",
    "        self.self_attn_layer_norm = nn.LayerNorm(hid_dim)\n",
    "        self.ff_layer_norm = nn.LayerNorm(hid_dim)\n",
    "        self.self_attention = MultiHeadAttentionLayer(hid_dim, n_heads, dropout, device)\n",
    "        self.positionwise_feedforward = PositionwiseFeedforwardLayer(hid_dim, \n",
    "                                                                     pf_dim, \n",
    "                                                                     dropout)\n",
    "        self.dropout = nn.Dropout(dropout)\n",
    "        \n",
    "    def forward(self, src, src_mask):\n",
    "        \n",
    "        #src = [batch size, src len, hid dim]\n",
    "        #src_mask = [batch size, 1, 1, src len] \n",
    "                \n",
    "        #self attention\n",
    "        _src, _ = self.self_attention(src, src, src, src_mask)\n",
    "        \n",
    "        #dropout, residual connection and layer norm\n",
    "        src = self.self_attn_layer_norm(src + self.dropout(_src))\n",
    "        \n",
    "        #src = [batch size, src len, hid dim]\n",
    "        \n",
    "        #positionwise feedforward\n",
    "        _src = self.positionwise_feedforward(src)\n",
    "        \n",
    "        #dropout, residual and layer norm\n",
    "        src = self.ff_layer_norm(src + self.dropout(_src))\n",
    "        \n",
    "        #src = [batch size, src len, hid dim]\n",
    "        \n",
    "        return src\n",
    "    \n",
    "\n",
    "class PositionalEncoding(nn.Module):\n",
    "\n",
    "    def __init__(self, d_hid, n_position=200):\n",
    "        super(PositionalEncoding, self).__init__()\n",
    "\n",
    "        # Not a parameter\n",
    "        self.register_buffer('pos_table', self._get_sinusoid_encoding_table(n_position, d_hid))\n",
    "\n",
    "    def _get_sinusoid_encoding_table(self, n_position, d_hid):\n",
    "        ''' Sinusoid position encoding table '''\n",
    "        # TODO: make it with torch instead of numpy\n",
    "\n",
    "        def get_position_angle_vec(position):\n",
    "            return [position / np.power(10000, 2 * (hid_j // 2) / d_hid) for hid_j in range(d_hid)]\n",
    "\n",
    "        sinusoid_table = np.array([get_position_angle_vec(pos_i) for pos_i in range(n_position)])\n",
    "        sinusoid_table[:, 0::2] = np.sin(sinusoid_table[:, 0::2])  # dim 2i\n",
    "        sinusoid_table[:, 1::2] = np.cos(sinusoid_table[:, 1::2])  # dim 2i+1\n",
    "\n",
    "        return torch.FloatTensor(sinusoid_table).unsqueeze(0)\n",
    "\n",
    "    def forward(self, x):\n",
    "        return x + self.pos_table[:, :x.size(1)].clone().detach()\n",
    "    \n",
    "\n",
    "class MultiHeadAttentionLayer(nn.Module):\n",
    "    def __init__(self, hid_dim, n_heads, dropout, device):\n",
    "        super().__init__()\n",
    "        \n",
    "        assert hid_dim % n_heads == 0\n",
    "        \n",
    "        self.hid_dim = hid_dim\n",
    "        self.n_heads = n_heads\n",
    "        self.head_dim = hid_dim // n_heads\n",
    "        \n",
    "        self.fc_q = nn.Linear(hid_dim, hid_dim)\n",
    "        self.fc_k = nn.Linear(hid_dim, hid_dim)\n",
    "        self.fc_v = nn.Linear(hid_dim, hid_dim)\n",
    "        \n",
    "        self.fc_o = nn.Linear(hid_dim, hid_dim)\n",
    "        \n",
    "        self.dropout = nn.Dropout(dropout)\n",
    "        \n",
    "        self.scale = torch.sqrt(torch.FloatTensor([self.head_dim])).to(device)\n",
    "        \n",
    "    def forward(self, query, key, value, mask = None):\n",
    "        \n",
    "        batch_size = query.shape[0]\n",
    "        \n",
    "        #query = [batch size, query len, hid dim]\n",
    "        #key = [batch size, key len, hid dim]\n",
    "        #value = [batch size, value len, hid dim]\n",
    "                \n",
    "        Q = self.fc_q(query)\n",
    "        K = self.fc_k(key)\n",
    "        V = self.fc_v(value)\n",
    "        \n",
    "        #Q = [batch size, query len, hid dim]\n",
    "        #K = [batch size, key len, hid dim]\n",
    "        #V = [batch size, value len, hid dim]\n",
    "                \n",
    "        Q = Q.view(batch_size, -1, self.n_heads, self.head_dim).permute(0, 2, 1, 3)\n",
    "        K = K.view(batch_size, -1, self.n_heads, self.head_dim).permute(0, 2, 1, 3)\n",
    "        V = V.view(batch_size, -1, self.n_heads, self.head_dim).permute(0, 2, 1, 3)\n",
    "        \n",
    "        #Q = [batch size, n heads, query len, head dim]\n",
    "        #K = [batch size, n heads, key len, head dim]\n",
    "        #V = [batch size, n heads, value len, head dim]\n",
    "                \n",
    "        energy = torch.matmul(Q, K.permute(0, 1, 3, 2)) / self.scale\n",
    "        \n",
    "        #energy = [batch size, n heads, query len, key len]\n",
    "        \n",
    "        if mask is not None:\n",
    "            energy = energy.masked_fill(mask == 0, -1e10)\n",
    "        \n",
    "        attention = torch.softmax(energy, dim = -1)\n",
    "                \n",
    "        #attention = [batch size, n heads, query len, key len]\n",
    "                \n",
    "        x = torch.matmul(self.dropout(attention), V)\n",
    "        \n",
    "        #x = [batch size, n heads, query len, head dim]\n",
    "        \n",
    "        x = x.permute(0, 2, 1, 3).contiguous()\n",
    "        \n",
    "        #x = [batch size, query len, n heads, head dim]\n",
    "        \n",
    "        x = x.view(batch_size, -1, self.hid_dim)\n",
    "        \n",
    "        #x = [batch size, query len, hid dim]\n",
    "        \n",
    "        x = self.fc_o(x)\n",
    "        \n",
    "        #x = [batch size, query len, hid dim]\n",
    "        \n",
    "        return x, attention\n",
    "    \n",
    "\n",
    "class PositionwiseFeedforwardLayer(nn.Module):\n",
    "    \n",
    "    def __init__(self, hid_dim, pf_dim, dropout):\n",
    "        super().__init__()\n",
    "        \n",
    "        self.fc_1 = nn.Linear(hid_dim, pf_dim)\n",
    "        self.fc_2 = nn.Linear(pf_dim, hid_dim)\n",
    "        \n",
    "        self.dropout = nn.Dropout(dropout)\n",
    "        \n",
    "    def forward(self, x):\n",
    "        \n",
    "        #x = [batch size, seq len, hid dim]\n",
    "        \n",
    "        x = self.dropout(torch.relu(self.fc_1(x)))\n",
    "        \n",
    "        #x = [batch size, seq len, pf dim]\n",
    "        \n",
    "        x = self.fc_2(x)\n",
    "        \n",
    "        #x = [batch size, seq len, hid dim]\n",
    "        \n",
    "        return x"
   ]
  },
  {
   "cell_type": "code",
   "execution_count": 6,
   "metadata": {
    "tags": []
   },
   "outputs": [],
   "source": [
    "class Attention(nn.Module):\n",
    "    def __init__(self, enc_hid_dim, dec_hid_dim):\n",
    "        super().__init__()\n",
    "        \n",
    "        self.attn = nn.Linear(enc_hid_dim + dec_hid_dim, dec_hid_dim)\n",
    "        self.v = nn.Linear(dec_hid_dim, 1, bias = False)\n",
    "        \n",
    "    def forward(self, hidden, encoder_outputs, mask):\n",
    "        \n",
    "        #hidden = [batch size, dec hid dim]\n",
    "        #encoder_outputs = [src len, batch size, enc hid dim * 2]\n",
    "        \n",
    "        batch_size = encoder_outputs.shape[1]\n",
    "        src_len = encoder_outputs.shape[0]\n",
    "        \n",
    "        #repeat decoder hidden state src_len times\n",
    "        hidden = hidden.unsqueeze(1).repeat(1, src_len, 1)\n",
    "  \n",
    "        encoder_outputs = encoder_outputs.permute(1, 0, 2)\n",
    "        \n",
    "        #hidden = [batch size, src len, dec hid dim]\n",
    "        #encoder_outputs = [batch size, src len, enc hid dim * 2]\n",
    "        \n",
    "        energy = torch.tanh(self.attn(torch.cat((hidden, encoder_outputs), dim = 2))) \n",
    "        \n",
    "        #energy = [batch size, src len, dec hid dim]\n",
    "\n",
    "        attention = self.v(energy).squeeze(2)\n",
    "        \n",
    "        #attention = [batch size, src len]\n",
    "        \n",
    "        attention = attention.masked_fill(mask == 0, -1e10)\n",
    "        \n",
    "        return F.softmax(attention, dim = 1)\n",
    "    \n",
    "\n",
    "class Decoder(nn.Module):\n",
    "    def __init__(self, output_dim, emb_dim, enc_hid_dim, dec_hid_dim, dropout, attention):\n",
    "        super().__init__()\n",
    "\n",
    "        self.output_dim = output_dim\n",
    "        self.attention = attention\n",
    "        \n",
    "        self.embedding = nn.Embedding(output_dim, emb_dim)\n",
    "        \n",
    "        self.rnn = nn.GRU(enc_hid_dim + emb_dim, dec_hid_dim)\n",
    "        \n",
    "        self.fc_out = nn.Linear(enc_hid_dim + dec_hid_dim + emb_dim, output_dim)\n",
    "        \n",
    "        self.dropout = nn.Dropout(dropout)\n",
    "        \n",
    "    def forward(self, input, hidden, encoder_outputs, mask):\n",
    "             \n",
    "        #input = [batch size]\n",
    "        #hidden = [batch size, dec hid dim]\n",
    "        #encoder_outputs = [src len, batch size, enc hid dim * 2]\n",
    "        #mask = [batch size, src len]\n",
    "        \n",
    "        input = input.unsqueeze(0)\n",
    "        \n",
    "        #input = [1, batch size]\n",
    "        \n",
    "        embedded = self.dropout(self.embedding(input))\n",
    "        \n",
    "        #embedded = [1, batch size, emb dim]\n",
    "        \n",
    "        a = self.attention(hidden, encoder_outputs, mask)\n",
    "                \n",
    "        #a = [batch size, src len]\n",
    "        \n",
    "        a = a.unsqueeze(1)\n",
    "        \n",
    "        #a = [batch size, 1, src len]\n",
    "        \n",
    "        encoder_outputs = encoder_outputs.permute(1, 0, 2)\n",
    "        \n",
    "        #encoder_outputs = [batch size, src len, enc hid dim * 2]\n",
    "        \n",
    "        weighted = torch.bmm(a, encoder_outputs)\n",
    "        \n",
    "        #weighted = [batch size, 1, enc hid dim * 2]\n",
    "        \n",
    "        weighted = weighted.permute(1, 0, 2)\n",
    "        \n",
    "        #weighted = [1, batch size, enc hid dim * 2]\n",
    "        \n",
    "        rnn_input = torch.cat((embedded, weighted), dim = 2)\n",
    "        \n",
    "        #rnn_input = [1, batch size, (enc hid dim * 2) + emb dim]\n",
    "            \n",
    "        output, hidden = self.rnn(rnn_input, hidden.unsqueeze(0))\n",
    "        \n",
    "        #output = [seq len, batch size, dec hid dim * n directions]\n",
    "        #hidden = [n layers * n directions, batch size, dec hid dim]\n",
    "        \n",
    "        #seq len, n layers and n directions will always be 1 in this decoder, therefore:\n",
    "        #output = [1, batch size, dec hid dim]\n",
    "        #hidden = [1, batch size, dec hid dim]\n",
    "        #this also means that output == hidden\n",
    "        assert (output == hidden).all()\n",
    "        \n",
    "        embedded = embedded.squeeze(0)\n",
    "        output = output.squeeze(0)\n",
    "        weighted = weighted.squeeze(0)\n",
    "        \n",
    "        prediction = self.fc_out(torch.cat((output, weighted, embedded), dim = 1))\n",
    "        \n",
    "        #prediction = [batch size, output dim]\n",
    "        \n",
    "        return prediction, hidden.squeeze(0), a.squeeze(1)"
   ]
  },
  {
   "cell_type": "code",
   "execution_count": 7,
   "metadata": {
    "tags": []
   },
   "outputs": [],
   "source": [
    "class Seq2Seq(nn.Module):\n",
    "    def __init__(self, \n",
    "                 encoder, \n",
    "                 decoder, \n",
    "                 src_pad_idx, \n",
    "                 trg_pad_idx, \n",
    "                 device):\n",
    "        super().__init__()\n",
    "        \n",
    "        self.encoder = encoder\n",
    "        self.decoder = decoder\n",
    "        self.src_pad_idx = src_pad_idx\n",
    "        self.trg_pad_idx = trg_pad_idx\n",
    "        self.device = device\n",
    "\n",
    "    def make_src_mask(self, src):\n",
    "        \n",
    "        #src = [batch size, src len]\n",
    "        \n",
    "        src_mask = (src != self.src_pad_idx).unsqueeze(1).unsqueeze(2)\n",
    "\n",
    "        #src_mask = [batch size, 1, 1, src len]\n",
    "\n",
    "        return src_mask\n",
    "    \n",
    "    def forward(self, src, trg, teacher_forcing_ratio = 0.5):\n",
    "        \n",
    "        #src = [batch size, src len]\n",
    "        #trg = [batch size, trg len]\n",
    "\n",
    "        batch_size = src.shape[0]\n",
    "        trg_len = trg.shape[1]\n",
    "        trg_vocab_size = self.decoder.output_dim\n",
    "\n",
    "        #tensor to store decoder outputs\n",
    "        outputs = torch.zeros(trg_len, batch_size, trg_vocab_size).to(self.device)\n",
    "        \n",
    "        src_mask = self.make_src_mask(src)\n",
    "        #src_mask = [batch size, 1, 1, src len]\n",
    "\n",
    "        enc_src = self.encoder(src, src_mask)\n",
    "        \n",
    "        #enc_src = [batch size, src len, hid dim]\n",
    "\n",
    "        enc_src = enc_src.permute(1, 0, 2).contiguous()\n",
    "        #enc_src = [src len, batch size, enc hid dim * 2]\n",
    "        \n",
    "        trg = trg.permute(1, 0).contiguous()\n",
    "        #trg = [trg len, batch size]\n",
    "\n",
    "        #first input to the decoder is the <sos> tokens\n",
    "        input = trg[0,:].contiguous()\n",
    "\n",
    "        hidden = enc_src[0,:,:]\n",
    "        #hidden = [batch size, dec hid dim]\n",
    "\n",
    "        mask=src_mask.squeeze()\n",
    "        #mask = [batch size, src len]\n",
    "        \n",
    "        for t in range(1, trg_len):\n",
    "            \n",
    "            #insert input token embedding, previous hidden state, all encoder hidden states \n",
    "            #  and mask\n",
    "            #receive output tensor (predictions) and new hidden state\n",
    "            output, hidden, _ = self.decoder(input, hidden, enc_src, mask)\n",
    "            \n",
    "            #place predictions in a tensor holding predictions for each token\n",
    "            outputs[t] = output\n",
    "            \n",
    "            #decide if we are going to use teacher forcing or not\n",
    "            teacher_force = random.random() < teacher_forcing_ratio\n",
    "            \n",
    "            #get the highest predicted token from our predictions\n",
    "            top1 = output.argmax(1) \n",
    "            \n",
    "            #if teacher forcing, use actual next token as next input\n",
    "            #if not, use predicted token\n",
    "            input = trg[t] if teacher_force else top1\n",
    "            \n",
    "        return outputs"
   ]
  },
  {
   "cell_type": "code",
   "execution_count": 8,
   "metadata": {
    "tags": []
   },
   "outputs": [],
   "source": [
    "import torch\n",
    "import torch.nn as nn\n",
    "\n",
    "from tqdm import tqdm\n",
    "\n",
    "\n",
    "def initialize_weights(m):\n",
    "    if hasattr(m, 'weight') and m.weight.dim() > 1:\n",
    "        nn.init.xavier_uniform_(m.weight.data)\n",
    "\n",
    "\n",
    "def train(model, iterator, optimizer, criterion, clip):\n",
    "    \n",
    "    model.train()\n",
    "    \n",
    "    epoch_loss = 0\n",
    "    \n",
    "    # for i, batch in enumerate(iterator):\n",
    "    for i, batch in tqdm(enumerate(iterator), total=len(iterator)):\n",
    "        \n",
    "        src = batch.src\n",
    "        trg = batch.trg\n",
    "        \n",
    "        optimizer.zero_grad()\n",
    "        \n",
    "        output = model(src, trg)\n",
    "        trg = trg.permute(1, 0)\n",
    "                \n",
    "        #trg = [trg len, batch size]\n",
    "        #output = [trg len, batch size, output dim]\n",
    "\n",
    "        output_dim = output.shape[-1]\n",
    "            \n",
    "        output = output[1:].view(-1, output_dim)\n",
    "        trg = trg[1:].contiguous().view(-1)\n",
    "        \n",
    "        #trg = [(trg len - 1) * batch size]\n",
    "        #output = [(trg len - 1) * batch size, output dim]\n",
    "            \n",
    "        loss = criterion(output, trg)\n",
    "        \n",
    "        loss.backward()\n",
    "        \n",
    "        torch.nn.utils.clip_grad_norm_(model.parameters(), clip)\n",
    "        \n",
    "        optimizer.step()\n",
    "        \n",
    "        epoch_loss += loss.item()\n",
    "        \n",
    "    return epoch_loss / len(iterator)\n",
    "\n",
    "\n",
    "def evaluate(model, iterator, criterion):\n",
    "    \n",
    "    model.eval()\n",
    "    \n",
    "    epoch_loss = 0\n",
    "    \n",
    "    with torch.no_grad():\n",
    "    \n",
    "        for i, batch in enumerate(iterator):\n",
    "\n",
    "            src = batch.src\n",
    "            trg = batch.trg\n",
    "            \n",
    "            output = model(src, trg)\n",
    "            trg = trg.permute(1, 0)\n",
    "\n",
    "            #trg = [trg len, batch size]\n",
    "            #output = [trg len, batch size, output dim]\n",
    "\n",
    "            output_dim = output.shape[-1]\n",
    "                \n",
    "            output = output[1:].view(-1, output_dim)\n",
    "            trg = trg[1:].contiguous().view(-1)\n",
    "            \n",
    "            #trg = [(trg len - 1) * batch size]\n",
    "            #output = [(trg len - 1) * batch size, output dim]\n",
    "                \n",
    "            loss = criterion(output, trg)\n",
    "            \n",
    "            epoch_loss += loss.item()\n",
    "        \n",
    "        \n",
    "    return epoch_loss / len(iterator)"
   ]
  },
  {
   "cell_type": "code",
   "execution_count": 9,
   "metadata": {
    "tags": []
   },
   "outputs": [],
   "source": [
    "INPUT_DIM = len(SRC.vocab)\n",
    "OUTPUT_DIM = len(TRG.vocab)\n",
    "# HID_DIM = 256\n",
    "HID_DIM = 512\n",
    "ENC_LAYERS = 3\n",
    "ENC_HEADS = 8\n",
    "ENC_PF_DIM = 512\n",
    "ENC_DROPOUT = 0.1\n",
    "DEC_DROPOUT = 0.1\n",
    "SRC_PAD_IDX = SRC.vocab.stoi[SRC.pad_token]\n",
    "TRG_PAD_IDX = TRG.vocab.stoi[TRG.pad_token]\n",
    "\n",
    "attn = Attention(HID_DIM, HID_DIM)\n",
    "enc = Encoder(INPUT_DIM, \n",
    "            HID_DIM, \n",
    "            ENC_LAYERS, \n",
    "            ENC_HEADS, \n",
    "            ENC_PF_DIM, \n",
    "            ENC_DROPOUT, \n",
    "            device)\n",
    "\n",
    "dec = Decoder(OUTPUT_DIM, \n",
    "            HID_DIM, \n",
    "            HID_DIM, \n",
    "            HID_DIM, \n",
    "            DEC_DROPOUT, \n",
    "            attn)\n",
    "model = Seq2Seq(enc, dec, SRC_PAD_IDX, TRG_PAD_IDX, device).to(device)"
   ]
  },
  {
   "cell_type": "code",
   "execution_count": 10,
   "metadata": {
    "tags": []
   },
   "outputs": [
    {
     "data": {
      "text/plain": [
       "12277661"
      ]
     },
     "execution_count": 10,
     "metadata": {},
     "output_type": "execute_result"
    }
   ],
   "source": [
    "from utils import count_parameters, train_loop\n",
    "model.apply(initialize_weights)\n",
    "count_parameters(model)"
   ]
  },
  {
   "cell_type": "code",
   "execution_count": 22,
   "metadata": {
    "tags": []
   },
   "outputs": [
    {
     "name": "stdout",
     "output_type": "stream",
     "text": [
      "model will be saved to result/hybrid-model-rule-v2.2.pt\n"
     ]
    },
    {
     "name": "stderr",
     "output_type": "stream",
     "text": [
      "100%|██████████| 454/454 [00:43<00:00, 10.47it/s]\n"
     ]
    },
    {
     "name": "stdout",
     "output_type": "stream",
     "text": [
      "Epoch: 01 | Time: 0m 44s\n",
      "\tTrain Loss: 2.418 | Train PPL:  11.228\n",
      "\t Val. Loss: 1.227 |  Val. PPL:   3.412\n"
     ]
    },
    {
     "name": "stderr",
     "output_type": "stream",
     "text": [
      "100%|██████████| 454/454 [00:41<00:00, 10.89it/s]\n"
     ]
    },
    {
     "name": "stdout",
     "output_type": "stream",
     "text": [
      "Epoch: 02 | Time: 0m 42s\n",
      "\tTrain Loss: 0.923 | Train PPL:   2.516\n",
      "\t Val. Loss: 0.700 |  Val. PPL:   2.014\n"
     ]
    },
    {
     "name": "stderr",
     "output_type": "stream",
     "text": [
      "100%|██████████| 454/454 [00:41<00:00, 10.94it/s]\n"
     ]
    },
    {
     "name": "stdout",
     "output_type": "stream",
     "text": [
      "Epoch: 03 | Time: 0m 42s\n",
      "\tTrain Loss: 0.640 | Train PPL:   1.897\n",
      "\t Val. Loss: 0.569 |  Val. PPL:   1.767\n"
     ]
    },
    {
     "name": "stderr",
     "output_type": "stream",
     "text": [
      "100%|██████████| 454/454 [00:41<00:00, 10.92it/s]\n"
     ]
    },
    {
     "name": "stdout",
     "output_type": "stream",
     "text": [
      "Epoch: 04 | Time: 0m 42s\n",
      "\tTrain Loss: 0.506 | Train PPL:   1.659\n",
      "\t Val. Loss: 0.522 |  Val. PPL:   1.686\n"
     ]
    },
    {
     "name": "stderr",
     "output_type": "stream",
     "text": [
      "100%|██████████| 454/454 [00:42<00:00, 10.80it/s]\n"
     ]
    },
    {
     "name": "stdout",
     "output_type": "stream",
     "text": [
      "Epoch: 05 | Time: 0m 42s\n",
      "\tTrain Loss: 0.418 | Train PPL:   1.518\n",
      "\t Val. Loss: 0.428 |  Val. PPL:   1.535\n"
     ]
    },
    {
     "name": "stderr",
     "output_type": "stream",
     "text": [
      "100%|██████████| 454/454 [00:41<00:00, 10.89it/s]\n"
     ]
    },
    {
     "name": "stdout",
     "output_type": "stream",
     "text": [
      "Epoch: 06 | Time: 0m 42s\n",
      "\tTrain Loss: 0.359 | Train PPL:   1.432\n",
      "\t Val. Loss: 0.333 |  Val. PPL:   1.396\n"
     ]
    },
    {
     "name": "stderr",
     "output_type": "stream",
     "text": [
      "100%|██████████| 454/454 [00:41<00:00, 10.96it/s]\n"
     ]
    },
    {
     "name": "stdout",
     "output_type": "stream",
     "text": [
      "Epoch: 07 | Time: 0m 42s\n",
      "\tTrain Loss: 0.323 | Train PPL:   1.382\n",
      "\t Val. Loss: 0.406 |  Val. PPL:   1.500\n"
     ]
    },
    {
     "name": "stderr",
     "output_type": "stream",
     "text": [
      "100%|██████████| 454/454 [00:41<00:00, 10.98it/s]\n"
     ]
    },
    {
     "name": "stdout",
     "output_type": "stream",
     "text": [
      "Epoch: 08 | Time: 0m 42s\n",
      "\tTrain Loss: 0.313 | Train PPL:   1.368\n",
      "\t Val. Loss: 0.324 |  Val. PPL:   1.383\n"
     ]
    },
    {
     "name": "stderr",
     "output_type": "stream",
     "text": [
      "100%|██████████| 454/454 [00:41<00:00, 11.04it/s]\n"
     ]
    },
    {
     "name": "stdout",
     "output_type": "stream",
     "text": [
      "Epoch: 09 | Time: 0m 41s\n",
      "\tTrain Loss: 0.289 | Train PPL:   1.335\n",
      "\t Val. Loss: 0.325 |  Val. PPL:   1.384\n"
     ]
    },
    {
     "name": "stderr",
     "output_type": "stream",
     "text": [
      "100%|██████████| 454/454 [00:41<00:00, 10.93it/s]\n"
     ]
    },
    {
     "name": "stdout",
     "output_type": "stream",
     "text": [
      "Epoch: 10 | Time: 0m 42s\n",
      "\tTrain Loss: 0.262 | Train PPL:   1.300\n",
      "\t Val. Loss: 0.331 |  Val. PPL:   1.392\n"
     ]
    }
   ],
   "source": [
    "LEARNING_RATE = 0.0005\n",
    "optimizer = torch.optim.Adam(model.parameters(), lr = LEARNING_RATE)\n",
    "criterion = nn.CrossEntropyLoss(ignore_index = TRG_PAD_IDX)\n",
    "train_loop(model, optimizer, criterion, train, evaluate,\n",
    "           train_iterator, valid_iterator, \n",
    "           save_path='result/', file_name='hybrid-model-rule-v2.2.pt', load_before_train=True)"
   ]
  },
  {
   "cell_type": "code",
   "execution_count": 11,
   "metadata": {
    "tags": []
   },
   "outputs": [],
   "source": [
    "import math\n",
    "def tok_cat(toks: list, delim: str = '')->str:\n",
    "    s = ''\n",
    "    for t in toks:\n",
    "        s += t + delim\n",
    "    return s\n",
    "\n",
    "def beam_search(sentence, src_field, trg_field, model, device, max_len = 50, beam_size=3, print_per_step=False, branch_size=None):\n",
    "    if branch_size is None:\n",
    "        branch_size = beam_size\n",
    "    \n",
    "    model.eval()\n",
    "        \n",
    "    if isinstance(sentence, str):\n",
    "        nlp = src_field.tokenize\n",
    "        tokens = [token.lower() for token in nlp(sentence)]\n",
    "    else:\n",
    "        tokens = [token.lower() for token in sentence]\n",
    "\n",
    "    tokens = [src_field.init_token] + tokens + [src_field.eos_token]\n",
    "        \n",
    "    src_indexes = [src_field.vocab.stoi[token] for token in tokens]\n",
    "    \n",
    "    src_tensor = torch.LongTensor(src_indexes).unsqueeze(0).to(device)\n",
    "\n",
    "    src_len = torch.LongTensor([len(src_indexes)]).to(device)\n",
    "    \n",
    "    with torch.no_grad():\n",
    "        encoder_outputs = model.encoder(src_tensor, src_len).permute(1, 0, 2)\n",
    "        hidden = encoder_outputs[0,:,:]\n",
    "\n",
    "    mask = model.make_src_mask(src_tensor).squeeze().to(device)\n",
    "        \n",
    "    attentions = torch.zeros(max_len, 1, len(src_indexes)).to(device)\n",
    "\n",
    "    trg_indexes = [(.0, [trg_field.vocab.stoi[trg_field.init_token]], hidden, attentions)]\n",
    "    \n",
    "    for i in range(max_len):\n",
    "\n",
    "        candidates = []\n",
    "        terminate = True\n",
    "        for j in range(len(trg_indexes)):\n",
    "            \n",
    "            cur_prob, cur_list, cur_hid, cur_att = trg_indexes[j]\n",
    "            if cur_list[-1] == trg_field.vocab.stoi[trg_field.eos_token]:\n",
    "                candidates.append(trg_indexes[j])\n",
    "                continue\n",
    "            \n",
    "            terminate = False\n",
    "\n",
    "            trg_tensor = torch.LongTensor([cur_list[-1]]).to(device)\n",
    "                    \n",
    "            with torch.no_grad():\n",
    "                output, hidden, attention = model.decoder(trg_tensor, cur_hid, encoder_outputs, mask)\n",
    "                output = F.softmax(output, dim=1)\n",
    "            cur_attentions = cur_att.clone()\n",
    "            cur_attentions[i] = attention\n",
    "\n",
    "            prob_tokens, pos_tokens = torch.topk(output, branch_size, dim=1)\n",
    "            for prob, pos in zip(prob_tokens[0], pos_tokens[0]):\n",
    "                candidates.append((cur_prob + math.log(prob), cur_list + [pos], hidden, cur_attentions))\n",
    "        \n",
    "        if terminate:\n",
    "            break\n",
    "\n",
    "        candidates.sort(reverse=True, key = lambda x: x[0])\n",
    "        trg_indexes = candidates[:beam_size]\n",
    "        if print_per_step:\n",
    "            trg_tokens = [[trg_field.vocab.itos[i] for i in id_list[1:]] for _, id_list, __, ___ in trg_indexes]\n",
    "            print(f'candidates of step {i}')\n",
    "            print([tok_cat(t) for t in trg_tokens])\n",
    "            print([math.exp(p) for p, _, _, _ in trg_indexes])\n",
    "\n",
    "\n",
    "    trg_tokens = [[trg_field.vocab.itos[i] for i in id_list[1:]] for _, id_list, _, _ in trg_indexes]\n",
    "    probs = [math.exp(p) for p, _, _, _ in trg_indexes]\n",
    "    atts = [att[:len(tok_list)-1] for _, tok_list, _, att in trg_indexes]\n",
    "\n",
    "    return trg_tokens, probs, atts"
   ]
  },
  {
   "cell_type": "code",
   "execution_count": 12,
   "metadata": {
    "tags": []
   },
   "outputs": [],
   "source": [
    "from utils.translate import Translator\n",
    "model.load_state_dict(torch.load('result/hybrid-model-rule-v2.2.pt', map_location=torch.device(device)))\n",
    "T = Translator(SRC, TRG, model, device, beam_search)"
   ]
  },
  {
   "cell_type": "code",
   "execution_count": 13,
   "metadata": {
    "tags": []
   },
   "outputs": [
    {
     "name": "stdout",
     "output_type": "stream",
     "text": [
      "['目标', '生物', '得', '-', '1', '/', '-', '1', '直到', '回合', '结束', '。', '<eos>']\n",
      "['目标', '生物', '得', '-', '1', '1', '/', '-', '1', '直到', '回合', '结束', '。', '<eos>']\n",
      "['目标', '生物', '得', '+', '1', '/', '-', '1', '直到', '回合', '结束', '。', '<eos>']\n"
     ]
    }
   ],
   "source": [
    "data = 'Whenever <1> becomes attached to a creature, for as long as <1> remains attached to it, you may have that creature become a copy of another target creature you control.'\n",
    "data = 'target creature gets - 1 / - 1 until end of turn .'\n",
    "ret, prob = T.translate(data, max_len=100)\n",
    "print(*ret[:3], sep='\\n')"
   ]
  },
  {
   "cell_type": "code",
   "execution_count": 14,
   "metadata": {
    "tags": []
   },
   "outputs": [
    {
     "name": "stdout",
     "output_type": "stream",
     "text": [
      "path: d:\\Desktop\\mtg-cards-translation\\models\\card_name_detector\n"
     ]
    }
   ],
   "source": [
    "from dataset.mtgcards import TestSets\n",
    "from utils import calculate_bleu\n",
    "from torchtext.legacy.data import Field\n",
    "from models.card_name_detector.definition import TrainedDetector\n",
    "from utils.translate import sentencize, CardTranslator, CTHelper\n",
    "\n",
    "fields = {'src-rule': ('src', Field(tokenize=lambda x: x.split(' '))), 'trg-rule': ('trg', Field())}\n",
    "test_data = TestSets.load(fields)\n",
    "\n",
    "D = TrainedDetector()"
   ]
  },
  {
   "cell_type": "code",
   "execution_count": 16,
   "metadata": {
    "tags": []
   },
   "outputs": [
    {
     "name": "stdout",
     "output_type": "stream",
     "text": [
      "{'src': ['Hexproof\\n+2:', 'Each', 'opponent', 'loses', '3', 'life', 'and', 'you', 'gain', '3', 'life.\\n0:', 'You', 'draw', 'two', 'cards.', 'Then', 'each', 'opponent', 'may', 'scry', '1.\\n−3:', 'Exile', 'target', 'creature', 'or', 'enchantment.', 'If', 'it', \"wasn't\", 'an', 'Aura,', 'create', 'a', 'token', \"that's\", 'a', 'copy', 'of', 'it,', 'except', \"it's\", 'a', '1/1', 'white', 'Spirit', 'creature', 'with', 'flying', 'in', 'addition', 'to', 'its', 'other', 'types.'], 'trg': ['辟邪', '+2：每位对手各失去3点生命且你获得3点生命。', '0：你抓两张牌。然后每位对手各可以占卜1。', '−3：放逐目标生物或结界。如果它不是灵气，则派出一个为其复制品的衍生物，但它是1/1白色，具飞行异能的精怪生物，且仍具有原本类别。']}\n",
      "[after preprocess]:hexproof\n",
      "[before postprocess]:辟邪\n",
      "[after preprocess]:+ 2 : each opponent loses 3 life and you gain 3 life .\n",
      "[before postprocess]:+2：每位对手各失去3点生命且你获得3点生命。\n",
      "[after preprocess]:0 : you draw two cards .\n",
      "[before postprocess]:0：你抓两张牌。\n",
      "[after preprocess]:then each opponent may scry 1 .\n",
      "[before postprocess]:然后每位对手各可以占卜1。\n",
      "[after preprocess]:− 3 : exile target creature or enchantment .\n",
      "[before postprocess]:−3：放逐目标生物或结界。\n",
      "[after preprocess]:if it was n't an aura , create a token that 's a copy of it , except it 's a 1 / 1 white spirit creature with flying in addition to its other types .\n",
      "[before postprocess]:如果它不是灵气，则派出一个衍生物，此衍生物为该衍生物的复制品，但它是1/1白色，具飞行异能的精怪衍生生物，且具有精怪此类别。\n",
      "辟邪 +2：每位对手各失去3点生命且你获得3点生命。 0：你抓两张牌。 然后每位对手各可以占卜1。 −3：放逐目标生物或结界。 如果它不是灵气，则派出一个衍生物，此衍生物为该衍生物的复制品，但它是1/1白色，具飞行异能的精怪衍生生物，且具有精怪此类别。\n",
      "{'src': ['At', 'the', 'beginning', 'of', 'your', 'upkeep,', 'put', 'an', 'oil', 'counter', 'on', 'another', 'target', 'nontoken', 'artifact', 'or', 'creature', 'you', 'control.\\n{2},', '{T}:', 'Create', 'a', '1/1', 'red', 'Phyrexian', 'Goblin', 'creature', 'token.', 'Activate', 'only', 'if', 'an', 'oil', 'counter', 'was', 'removed', 'from', 'a', 'permanent', 'you', 'controlled', 'this', 'turn', 'or', 'a', 'permanent', 'with', 'an', 'oil', 'counter', 'on', 'it', 'was', 'put', 'into', 'a', 'graveyard', 'this', 'turn.'], 'trg': ['在你的维持开始时，在另一个目标由你操控且非衍生物的神器或生物上放置一个烁油指示物。', '{2}，{T}：派出一个1/1红色非瑞人／鬼怪衍生生物。只能于由你操控的永久物上移去烁油指示物，或是其上有烁油指示物之永久物进入坟墓场的回合中起动。']}\n",
      "[after preprocess]:at the beginning of your upkeep , put an <0> counter on another target non token artifact or creature you control .\n",
      "[before postprocess]:在你的维持开始时，在一个目标由你操控且非衍生物的生物上放置一个<0>指示物。\n",
      "[after preprocess]:{2} , {t} : create a 1 / 1 red phyrexian goblin creature token .\n",
      "[before postprocess]:{2}，{t}：将一个1/1红色鬼怪衍生生物放进战场。\n",
      "[after preprocess]:activate only if an <0> counter was removed from a permanent you controlled this turn or a permanent with an <0> counter on it was put into a graveyard this turn .\n",
      "[before postprocess]:只能于有一个由你操控的永久物中的<0>中起动。\n",
      "在你的维持开始时，在一个目标由你操控且非衍生物的生物上放置一个烁油指示物。 {2}，{t}：将一个1/1红色鬼怪衍生生物放进战场。 只能于有一个由你操控的永久物中的烁油中起动。\n",
      "{'src': ['Equipped', 'creature', 'gets', '+2/+2', 'and', 'has', 'protection', 'from', 'red', 'and', 'from', 'green.\\nWhenever', 'equipped', 'creature', 'deals', 'combat', 'damage', 'to', 'a', 'player,', 'exile', 'the', 'top', 'two', 'cards', 'of', 'your', 'library.', 'You', 'may', 'play', 'those', 'cards', 'this', 'turn.', 'You', 'may', 'play', 'an', 'additional', 'land', 'this', 'turn.\\nEquip', '{2}'], 'trg': ['佩带此武具的生物得+2/+2且具有反红保护与反绿保护。', '每当佩带此武具的生物对任一牌手造成战斗伤害时，放逐你牌库顶的两张牌。本回合中，你可以使用这些牌。本回合中，你可以额外使用一个地。', '佩带{2}']}\n",
      "[after preprocess]:equipped creature gets + 2 / + 2 and has protection from red and from green .\n",
      "[before postprocess]:佩带此武具的生物得+2/+2并具有反绿保护与反绿保护。\n",
      "[after preprocess]:whenever equipped creature deals combat damage to a player , exile the top two cards of your library .\n",
      "[before postprocess]:每当佩带此武具的生物对任一牌手造成战斗伤害时，放逐你牌库顶的两张牌。\n",
      "[after preprocess]:you may play those cards this turn .\n",
      "[before postprocess]:本回合中，你可以使用这些牌。\n",
      "[after preprocess]:you may play an additional land this turn .\n",
      "[before postprocess]:你本回合可以额外使用一个地。\n",
      "[after preprocess]:equip {2}\n",
      "[before postprocess]:佩带{2}\n",
      "佩带此武具的生物得+2/+2并具有反绿保护与反绿保护。 每当佩带此武具的生物对任一牌手造成战斗伤害时，放逐你牌库顶的两张牌。 本回合中，你可以使用这些牌。 你本回合可以额外使用一个地。 佩带{2}\n"
     ]
    }
   ],
   "source": [
    "dic = {}\n",
    "dic = {'oil':'烁油', 'rebel':'反抗军'}\n",
    "helper = CTHelper(D, dic)\n",
    "CT = CardTranslator(sentencize, T, \n",
    "                    preprocess=lambda x: helper.preprocess(x, False), \n",
    "                    postprocess=lambda x: helper.postprocess(x, False))\n",
    "\n",
    "example = list(test_data)[13]\n",
    "example = list(test_data)[8]\n",
    "# ret = CT.translate(' '.join(example.src))\n",
    "# print(ret)\n",
    "for example in random.sample(list(test_data), 3):\n",
    "    print(vars(example))\n",
    "    ret = CT.translate(' '.join(example.src))\n",
    "    print(ret)"
   ]
  },
  {
   "cell_type": "code",
   "execution_count": 17,
   "metadata": {},
   "outputs": [
    {
     "name": "stderr",
     "output_type": "stream",
     "text": [
      "  0%|          | 0/100 [00:00<?, ?it/s]"
     ]
    },
    {
     "name": "stdout",
     "output_type": "stream",
     "text": [
      "[after preprocess]:whenever another artifact or creature you control is put into a graveyard from the battlefield , put an <1> counter on <0> .\n",
      "[before postprocess]:每当另一个由你操控的神器或生物从战场进入坟墓场时，在<1>上放置一个<1>指示物。\n",
      "[after preprocess]:{2} {b} , {t} , remove four <1> counters from <0> : return target creature card from your graveyard to the battlefield .\n"
     ]
    },
    {
     "name": "stderr",
     "output_type": "stream",
     "text": [
      "  1%|          | 1/100 [00:00<00:47,  2.07it/s]"
     ]
    },
    {
     "name": "stdout",
     "output_type": "stream",
     "text": [
      "[before postprocess]:{2}{b}，{t}，从<0>上移去四个充电指示物：将目标生物牌从你的坟墓场移回战场。\n",
      "[after preprocess]:activate only as a sorcery .\n",
      "[before postprocess]:只可以于你能施放法术的时机下起动此异能。\n",
      "[after preprocess]:vigilance\n",
      "[before postprocess]:警戒\n",
      "[after preprocess]:<0> enters the battlefield with an <1> counter on it .\n",
      "[before postprocess]:<0>进战场时上面有一个<1>指示物。\n",
      "[after preprocess]:remove an <1> counter from <0> : it becomes an artifact creature until end of turn .\n",
      "[before postprocess]:从<1>上移去一个<1>：它成为成为神器生物直到回合结束。\n",
      "[after preprocess]:crew 3\n",
      "[before postprocess]:搭载3\n",
      "[after preprocess]:tap any number of creatures you control with total power 3 or more : this vehicle becomes an artifact creature until end of turn .\n"
     ]
    },
    {
     "name": "stderr",
     "output_type": "stream",
     "text": [
      "  2%|▏         | 2/100 [00:00<00:46,  2.12it/s]"
     ]
    },
    {
     "name": "stdout",
     "output_type": "stream",
     "text": [
      "[before postprocess]:横置任意数量由你操控且力量总和等于或大于3的生物：此载具成为神器生物直到回合结束。\n",
      "[after preprocess]:menace , reach\n",
      "[before postprocess]:威慑，延势\n",
      "[after preprocess]:{t} : add {c} .\n",
      "[before postprocess]:{t}：加{1}到你的法术力池中。\n",
      "[after preprocess]:{t} : add one mana of any color .\n",
      "[before postprocess]:{t}：加一点任意颜色的法术力到你的法术力池中。\n",
      "[after preprocess]:spend this mana only to cast phyrexian creature spells .\n",
      "[before postprocess]:此法术力只能用来施放生物咒语。\n",
      "[after preprocess]:corrupted — {t} : target 1 / 1 creature gets + 2 / + 1 until end of turn .\n",
      "[before postprocess]:腐化～{t}：目标生物得+1/+1直到回合结束。\n",
      "[after preprocess]:activate only if an opponent has three or more poison counters .\n",
      "[before postprocess]:只能于某对手操控三个或更多中毒指示物时起动此异能。\n"
     ]
    },
    {
     "name": "stderr",
     "output_type": "stream",
     "text": [
      "  4%|▍         | 4/100 [00:01<00:30,  3.15it/s]"
     ]
    },
    {
     "name": "stdout",
     "output_type": "stream",
     "text": [
      "[after preprocess]:{t} , pay 1 life : destroy target permanent you own .\n",
      "[before postprocess]:{t}，支付1点生命：消灭目标由你拥有的永久物。\n",
      "[after preprocess]:{t} , pay 2 life : add one mana of any color .\n",
      "[before postprocess]:{t}，支付2点生命：加一点任意颜色的法术力到你的法术力池中。\n",
      "[after preprocess]:{t} , pay 3 life : proliferate .\n",
      "[before postprocess]:{t}，支付3点生命：增殖。\n",
      "[after preprocess]:{t} , pay 4 life : draw a card .\n",
      "[before postprocess]:{t}，支付4点生命：抓一张牌。\n",
      "[after preprocess]:{5} : untap <0> .\n"
     ]
    },
    {
     "name": "stderr",
     "output_type": "stream",
     "text": [
      "  5%|▌         | 5/100 [00:01<00:33,  2.84it/s]"
     ]
    },
    {
     "name": "stdout",
     "output_type": "stream",
     "text": [
      "[before postprocess]:{5}：重置<0>。\n",
      "[after preprocess]:<0> ca n't be blocked .\n",
      "[before postprocess]:<0>不能被阻挡。\n",
      "[after preprocess]:whenever you cast a non creature spell , put an <1> counter on <0> .\n",
      "[before postprocess]:每当你施放非生物咒语时，在<0>上放置一个<1>指示物。\n",
      "[after preprocess]:whenever <0> deals combat damage to a player , you may remove two <1> counters from it .\n",
      "[before postprocess]:每当<0>对任一牌手造成战斗伤害时，你可以从<1>上移去两个计时指示物。\n",
      "[after preprocess]:if you do , when you cast your next instant or sorcery spell this turn , copy that spell .\n",
      "[before postprocess]:若你如此作，则本回合中，当你施放你的下一个瞬间或法术咒语时，复制该咒语。\n",
      "[after preprocess]:you may choose new targets for the copy .\n",
      "[before postprocess]:你可以为该复制品选择新的目标。\n"
     ]
    },
    {
     "name": "stderr",
     "output_type": "stream",
     "text": [
      "  6%|▌         | 6/100 [00:02<00:38,  2.41it/s]"
     ]
    },
    {
     "name": "stdout",
     "output_type": "stream",
     "text": [
      "[after preprocess]:whenever one or more other creatures you control die , each opponent loses 2 life and you gain 2 life .\n",
      "[before postprocess]:每当由你操控的一个或数个由你操控的其他生物死去时，每位对手各失去2点生命，且你获得2点生命。\n",
      "[after preprocess]:this ability triggers only once each turn .\n"
     ]
    },
    {
     "name": "stderr",
     "output_type": "stream",
     "text": [
      "  7%|▋         | 7/100 [00:02<00:34,  2.73it/s]"
     ]
    },
    {
     "name": "stdout",
     "output_type": "stream",
     "text": [
      "[before postprocess]:此异能每回合只会触发一次。\n",
      "[after preprocess]:{t} , sacrifice an artifact : add an amount of {r} equal to the sacrificed artifact 's mana value .\n",
      "[before postprocess]:{t}，牺牲一个神器：加若干{r}，其数量等同于所牺牲之神器的法术术力费用。\n",
      "[after preprocess]:spend this mana only to cast artifact spells or activate abilities of artifacts .\n"
     ]
    },
    {
     "name": "stderr",
     "output_type": "stream",
     "text": [
      "  8%|▊         | 8/100 [00:02<00:31,  2.90it/s]"
     ]
    },
    {
     "name": "stdout",
     "output_type": "stream",
     "text": [
      "[before postprocess]:此法术力只能用来施放神器咒语，或是神器神器的神器的神器。\n",
      "[after preprocess]:flying\n",
      "[before postprocess]:飞行\n",
      "[after preprocess]:whenever you cast a non creature spell , put an <1> counter on <0> .\n",
      "[before postprocess]:每当你施放非生物咒语时，在<0>上放置一个<1>指示物。\n",
      "[after preprocess]:{u} , remove an <1> counter from <0> : draw a card , then scry 2 .\n"
     ]
    },
    {
     "name": "stderr",
     "output_type": "stream",
     "text": [
      "  9%|▉         | 9/100 [00:03<00:30,  2.96it/s]"
     ]
    },
    {
     "name": "stdout",
     "output_type": "stream",
     "text": [
      "[before postprocess]:{u}，从<0>上移去一个<1>：抓一张牌，然后占卜2，然后占卜2。\n",
      "[after preprocess]:when <0> enters the battlefield , create a 3 / 3 colorless phyrexian golem artifact creature token .\n",
      "[before postprocess]:当<0>进战场时，将一个3/3无色魔像衍生神器生物放进战场。\n",
      "[after preprocess]:at the beginning of your end step , if three or more artifacts entered the battlefield under your control this turn , create a 3 / 3 colorless phyrexian golem artifact creature token .\n"
     ]
    },
    {
     "name": "stderr",
     "output_type": "stream",
     "text": [
      " 10%|█         | 10/100 [00:03<00:31,  2.86it/s]"
     ]
    },
    {
     "name": "stdout",
     "output_type": "stream",
     "text": [
      "[before postprocess]:在你的结束步骤开始时，若本回合中三个或更多神器在你的操控下进战场，则派出一个3/3无色神器神器神器生物放进战场。\n",
      "[after preprocess]:{t} , sacrifice an artifact : add an amount of {r} equal to the sacrificed artifact 's mana value .\n",
      "[before postprocess]:{t}，牺牲一个神器：加若干{r}，其数量等同于所牺牲之神器的法术术力费用。\n",
      "[after preprocess]:spend this mana only to cast artifact spells or activate abilities of artifacts .\n"
     ]
    },
    {
     "name": "stderr",
     "output_type": "stream",
     "text": [
      " 12%|█▏        | 12/100 [00:04<00:23,  3.76it/s]"
     ]
    },
    {
     "name": "stdout",
     "output_type": "stream",
     "text": [
      "[before postprocess]:此法术力只能用来施放神器咒语，或是神器神器的神器的神器。\n",
      "[after preprocess]:menace\n",
      "[before postprocess]:威慑\n",
      "[after preprocess]:toxic 2\n",
      "[before postprocess]:铭勇2\n",
      "[after preprocess]:players dealt combat damage by this creature also gets two poison counter .\n",
      "[before postprocess]:受此战斗伤害会受得到两个中毒指示物。\n",
      "[after preprocess]:trample\n",
      "[before postprocess]:践踏\n",
      "[after preprocess]:whenever <0> attacks , it gets + x / + x until end of turn , where x is the number of equipped creatures you control .\n"
     ]
    },
    {
     "name": "stderr",
     "output_type": "stream",
     "text": [
      " 13%|█▎        | 13/100 [00:04<00:23,  3.73it/s]"
     ]
    },
    {
     "name": "stdout",
     "output_type": "stream",
     "text": [
      "[before postprocess]:每当<0>攻击时，它得+x/+x直到回合结束，x为由你操控的生物数量。\n",
      "[after preprocess]:then if <0> 's power is 4 or greater , draw a card .\n",
      "[before postprocess]:然后如果<0>的力量等于或大于4，则抓一张牌。\n",
      "[after preprocess]:for <mirrodin !\n",
      "[before postprocess]:<unk>共鸣\n",
      "[after preprocess]:when this equipment enters the battlefield , create a 2 / 2 red <0> creature token , then attach this to it .\n",
      "[before postprocess]:当此武具进战场时，派出一个2/2红色<0>衍生生物，然后将它装备上去。\n",
      "[after preprocess]:equipped creature gets + 0 / + 1 .\n",
      "[before postprocess]:佩带此武具的生物得+0/+1。\n",
      "[after preprocess]:equip {1} {w}\n",
      "[before postprocess]:佩带{1}{w}\n",
      "[after preprocess]:{1} {w} : attach to target creature you control .\n",
      "[before postprocess]:{1}{w}：装备在目标由你操控的生物上。\n"
     ]
    },
    {
     "name": "stderr",
     "output_type": "stream",
     "text": [
      " 15%|█▌        | 15/100 [00:04<00:23,  3.68it/s]"
     ]
    },
    {
     "name": "stdout",
     "output_type": "stream",
     "text": [
      "[after preprocess]:equip only as a sorcery .\n",
      "[before postprocess]:只能于法术时机佩带。\n",
      "[after preprocess]:target creature gains deathtouch and indestructible until end of turn .\n",
      "[before postprocess]:目标生物获得死触与不灭异能直到回合结束。\n",
      "[after preprocess]:damage and effects that say \" destroy \" do n't destroy it .\n",
      "[before postprocess]:伤害与注明\"消灭\"的效应不会将它消灭。\n",
      "[after preprocess]:flying\n",
      "[before postprocess]:飞行\n",
      "[after preprocess]:<0> enters the battlefield with two <1> counters on it .\n",
      "[before postprocess]:<0>进战场时上面有两个<1>指示物。\n",
      "[after preprocess]:<0> gets + 1 / + 1 for each <1> counter on it .\n"
     ]
    },
    {
     "name": "stderr",
     "output_type": "stream",
     "text": [
      " 16%|█▌        | 16/100 [00:05<00:26,  3.19it/s]"
     ]
    },
    {
     "name": "stdout",
     "output_type": "stream",
     "text": [
      "[before postprocess]:<1>上每有一个指示物，<0>便得+1/+1。\n",
      "[after preprocess]:whenever another creature or artifact you control is put into a graveyard from the battlefield , put an <1> counter on <0> .\n",
      "[before postprocess]:每当另一个由你操控的神器或生物从战场进入坟墓场时，在<1>上放置一个<1>指示物。\n",
      "[after preprocess]:flying\n",
      "[before postprocess]:飞行\n",
      "[after preprocess]:<0> 's power is equal to the number of artifacts you control .\n",
      "[before postprocess]:<0>的力量等同于由你操控的神器数量。\n",
      "[after preprocess]:{1} , sacrifice <0> : draw a card .\n",
      "[before postprocess]:{1}，牺牲<0>：抓一张牌。\n",
      "[after preprocess]:{2} {b} , sacrifice <0> : return target creature card from your graveyard to your hand .\n",
      "[before postprocess]:{2}{b}，牺牲<0>：将目标生物牌从你的坟墓场移回你手上。\n"
     ]
    },
    {
     "name": "stderr",
     "output_type": "stream",
     "text": [
      " 18%|█▊        | 18/100 [00:05<00:21,  3.81it/s]"
     ]
    },
    {
     "name": "stdout",
     "output_type": "stream",
     "text": [
      "[after preprocess]:draw a card .\n",
      "[before postprocess]:抓一张牌。\n",
      "[after preprocess]:activate only as a sorcery .\n",
      "[before postprocess]:只可以于你能施放法术的时机下起动此异能。\n",
      "[after preprocess]:this spell costs {1} less to cast for each permanent you control with <0> counters on it .\n"
     ]
    },
    {
     "name": "stderr",
     "output_type": "stream",
     "text": [
      " 19%|█▉        | 19/100 [00:06<00:21,  3.71it/s]"
     ]
    },
    {
     "name": "stdout",
     "output_type": "stream",
     "text": [
      "[before postprocess]:你每操控一个<0>上的指示物，此咒语便减少{1}来施放。\n",
      "[after preprocess]:vigilance\n",
      "[before postprocess]:警戒\n",
      "[after preprocess]:when <0> enters the battlefield , it deals 1 damage to each creature your opponents control .\n",
      "[before postprocess]:当<0>进战场时，它向由对手操控的每个生物各造成1点伤害。\n",
      "[after preprocess]:deathtouch\n",
      "[before postprocess]:死触\n",
      "[after preprocess]:toxic 1\n",
      "[before postprocess]:铭勇1\n"
     ]
    },
    {
     "name": "stderr",
     "output_type": "stream",
     "text": [
      " 20%|██        | 20/100 [00:06<00:18,  4.40it/s]"
     ]
    },
    {
     "name": "stdout",
     "output_type": "stream",
     "text": [
      "[after preprocess]:players dealt combat damage by this creature also get a poison counter .\n",
      "[before postprocess]:受此生物战斗伤害的牌手得到一个中毒指示物。\n",
      "[after preprocess]:<0> enters the battlefield with two <1> counters on it .\n",
      "[before postprocess]:<0>进战场时上面有两个<1>指示物。\n",
      "[after preprocess]:remove an <1> counter from <0> : target creature you control gains haste until end of turn .\n"
     ]
    },
    {
     "name": "stderr",
     "output_type": "stream",
     "text": [
      " 22%|██▏       | 22/100 [00:06<00:16,  4.74it/s]"
     ]
    },
    {
     "name": "stdout",
     "output_type": "stream",
     "text": [
      "[before postprocess]:从<1>上移去一个<1>：目标由你操控的生物获得敏捷异能直到回合结束。\n",
      "[after preprocess]:lifelink\n",
      "[before postprocess]:系命\n",
      "[after preprocess]:whenever another artifact enters the battlefield under your control , <0> gets + 1 / + 1 until end of turn .\n",
      "[before postprocess]:每当另一个神器在你的操控下进战场时，<0>得+1/+1直到回合结束。\n",
      "[after preprocess]:<0> enters the battlefield with four <1> counters on it .\n",
      "[before postprocess]:<0>进场时上面有四个<1>。\n",
      "[after preprocess]:<0> has trample as long as it has two or fewer <1> counters on it .\n",
      "[before postprocess]:只要<0>上有两个或更少，它便具有践踏异能。\n",
      "[after preprocess]:otherwise , it has hexproof .\n",
      "[before postprocess]:若否，则它具有辟邪异能。\n",
      "[after preprocess]:at the beginning of your upkeep , remove an <1> counter from <0> .\n"
     ]
    },
    {
     "name": "stderr",
     "output_type": "stream",
     "text": [
      " 23%|██▎       | 23/100 [00:07<00:22,  3.44it/s]"
     ]
    },
    {
     "name": "stdout",
     "output_type": "stream",
     "text": [
      "[before postprocess]:在你的维持开始时，从<0>上移去一个<1>上移去一个指示物。\n",
      "[after preprocess]:then if it has no <0> counters on it , sacrifice it .\n",
      "[before postprocess]:然后如果其没有没有指示物指示物，则将它牺牲。\n",
      "[after preprocess]:return target non land permanent to its owner 's hand .\n",
      "[before postprocess]:将目标非地永久物移回其拥有者手上。\n",
      "[after preprocess]:if that permanent had mana value 3 or less , proliferate .\n"
     ]
    },
    {
     "name": "stderr",
     "output_type": "stream",
     "text": [
      " 24%|██▍       | 24/100 [00:07<00:22,  3.37it/s]"
     ]
    },
    {
     "name": "stdout",
     "output_type": "stream",
     "text": [
      "[before postprocess]:如果该永久物的法术力值等于或小于，则增殖。\n",
      "[after preprocess]:choose any number of permanents and / or players , then give each another counter of each kind already there .\n",
      "[before postprocess]:选择任意数量的永久物和／或牌手，然后为其已有之每种指示物各多放置一个同类的指示物。\n",
      "[after preprocess]:other creatures you control get - 1 / - 1 .\n",
      "[before postprocess]:由你操控的其他生物得-1/-1。\n",
      "[after preprocess]:{1} {b} {b} , {t} : return target creature card from your graveyard to the battlefield .\n"
     ]
    },
    {
     "name": "stderr",
     "output_type": "stream",
     "text": [
      " 25%|██▌       | 25/100 [00:07<00:25,  2.96it/s]"
     ]
    },
    {
     "name": "stdout",
     "output_type": "stream",
     "text": [
      "[before postprocess]:{1}{b}{b}，{t}：将目标生物牌从你的坟墓场移回战场。\n",
      "[after preprocess]:it gains \" if this creature would leave the battlefield , exile it instead of putting it anywhere else . \" activate only as a sorcery .\n",
      "[before postprocess]:它获得\"如果此生物将离开战场，则改为将它放逐，而非置入你的法术力池中。\"\n",
      "[after preprocess]:when <0> enters the battlefield , create two 3 / 3 green phyrexian beast creature tokens with toxic 1 .\n",
      "[before postprocess]:当<0>进场时，将两个3/3，具敏捷异能的野兽衍生生物放进战场。\n",
      "[after preprocess]:players dealt combat damage by them also get a poison counter .\n",
      "[before postprocess]:牌手位牌手造成得到一个中毒指示物。\n",
      "[after preprocess]:corrupted — at the beginning of your upkeep , if an opponent has three or more poison counters , choose a creature you control , then draw cards equal to its total toxic value .\n"
     ]
    },
    {
     "name": "stderr",
     "output_type": "stream",
     "text": [
      " 27%|██▋       | 27/100 [00:08<00:22,  3.27it/s]"
     ]
    },
    {
     "name": "stdout",
     "output_type": "stream",
     "text": [
      "[before postprocess]:腐化～在你的维持开始时，若某对手操控三个或更多中毒指示物，则由你操控的生物，然后抓若干牌，其数量等同于由你操控的生物数量。\n",
      "[after preprocess]:target creature gets + 2 / + 2 until end of turn .\n",
      "[before postprocess]:目标生物得+2/+2直到回合结束。\n",
      "[after preprocess]:put two <0> counters on it .\n",
      "[before postprocess]:在其上放置两个<0>指示物。\n",
      "[after preprocess]:flying\n",
      "[before postprocess]:飞行\n",
      "[after preprocess]:when <0> enters the battlefield , draw a card , then discard a card .\n"
     ]
    },
    {
     "name": "stderr",
     "output_type": "stream",
     "text": [
      " 28%|██▊       | 28/100 [00:08<00:18,  3.96it/s]"
     ]
    },
    {
     "name": "stdout",
     "output_type": "stream",
     "text": [
      "[before postprocess]:当<0>进战场时，抓一张牌，然后弃一张牌。\n",
      "[after preprocess]:for <mirrodin !\n",
      "[before postprocess]:<unk>共鸣\n",
      "[after preprocess]:when this equipment enters the battlefield , create a 2 / 2 red <0> creature token , then attach this to it .\n",
      "[before postprocess]:当此武具进战场时，派出一个2/2红色<0>衍生生物，然后将它装备上去。\n",
      "[after preprocess]:equipped creature gets + 1 / - 1 .\n"
     ]
    },
    {
     "name": "stderr",
     "output_type": "stream",
     "text": [
      " 29%|██▉       | 29/100 [00:08<00:21,  3.38it/s]"
     ]
    },
    {
     "name": "stdout",
     "output_type": "stream",
     "text": [
      "[before postprocess]:佩带此武具的生物得+1/+1。\n",
      "[after preprocess]:equip {1}\n",
      "[before postprocess]:佩带{1}\n",
      "[after preprocess]:{1} : attach to target creature you control .\n",
      "[before postprocess]:{1}：装备在目标由你操控的生物上。\n",
      "[after preprocess]:equip only as a sorcery .\n",
      "[before postprocess]:只能于法术时机佩带。\n",
      "[after preprocess]:whenever one or more creatures you control deal combat damage to a player , you may return one of them to its owner 's hand .\n",
      "[before postprocess]:每当由你操控的一个或数个生物对任一牌手造成战斗伤害时，你可以将其中一张移回其拥有者手上。\n",
      "[after preprocess]:if you do , you may activate loyalty abilities of kaito twice this turn rather than only once .\n",
      "[before postprocess]:若你如此作，则你可以于本回合中的忠诚异能，而只能起动一次。\n",
      "[after preprocess]:+ 1 : up to one target creature ca n't attack or block until your next turn .\n",
      "[before postprocess]:+1：至多一个目标生物本回合不能进行攻击或阻挡。\n",
      "[after preprocess]:0 : draw a card .\n",
      "[before postprocess]:0：抓一张牌。\n",
      "[after preprocess]:− 2 : create a 2 / 2 colorless drone artifact creature token with deathtouch and \" when this creature leaves the battlefield , each opponent loses 2 life and you gain 2 life . \"\n"
     ]
    },
    {
     "name": "stderr",
     "output_type": "stream",
     "text": [
      " 30%|███       | 30/100 [00:09<00:29,  2.38it/s]"
     ]
    },
    {
     "name": "stdout",
     "output_type": "stream",
     "text": [
      "[before postprocess]:−2：派出一个2/2无色，名称为<unk>的<unk>生神器生物，且具有\"当此生物进场时，每位对手各失去2点生命，且你获得2点生命。\"\n",
      "[after preprocess]:toxic 1\n",
      "[before postprocess]:铭勇1\n",
      "[after preprocess]:players dealt combat damage by this creature also get a poison counter .\n",
      "[before postprocess]:受此生物战斗伤害的牌手得到一个中毒指示物。\n",
      "[after preprocess]:when <0> enters the battlefield , up to one target artifact you control becomes an artifact creature with base power and toughness 4 / 4 for as long as <1> remains on the battlefield .\n"
     ]
    },
    {
     "name": "stderr",
     "output_type": "stream",
     "text": [
      " 31%|███       | 31/100 [00:09<00:27,  2.52it/s]"
     ]
    },
    {
     "name": "stdout",
     "output_type": "stream",
     "text": [
      "[before postprocess]:当<0>进战场时，于<4>上的时段内，至多一个目标由你操控的神器生物基础力量与防御力为4/4的神器生物。\n",
      "[after preprocess]:for <mirrodin !\n",
      "[before postprocess]:<unk>共鸣\n",
      "[after preprocess]:when this equipment enters the battlefield , create a 2 / 2 red <0> creature token , then attach this to it .\n",
      "[before postprocess]:当此武具进战场时，派出一个2/2红色<0>衍生生物，然后将它装备上去。\n",
      "[after preprocess]:equipped creature gets + 2 / + 2 and has flying and haste .\n"
     ]
    },
    {
     "name": "stderr",
     "output_type": "stream",
     "text": [
      " 32%|███▏      | 32/100 [00:10<00:26,  2.58it/s]"
     ]
    },
    {
     "name": "stdout",
     "output_type": "stream",
     "text": [
      "[before postprocess]:佩带此武具的生物得+2/+2且具有飞行异能。\n",
      "[after preprocess]:equip {3} {r} {r}\n",
      "[before postprocess]:佩带{3}{r}{r}\n",
      "[after preprocess]:whenever a creature enters the battlefield under your control , if it has one or more <0> counters on it , put an <0> counter on it .\n"
     ]
    },
    {
     "name": "stderr",
     "output_type": "stream",
     "text": [
      " 33%|███▎      | 33/100 [00:10<00:24,  2.71it/s]"
     ]
    },
    {
     "name": "stdout",
     "output_type": "stream",
     "text": [
      "[before postprocess]:每当一个生物在你的操控下进战场时，若其上放置一个或数个<0>指示物，则在其上放置一个<0>指示物。\n",
      "[after preprocess]:creatures you control with <0> counters on them get + 1 / + 1 .\n",
      "[before postprocess]:由你操控且其上有指示物的生物得+1/+1。\n",
      "[after preprocess]:this spell costs {3} less to cast if you have nine or more cards in your graveyard .\n",
      "[before postprocess]:如果你的坟墓场中牌的九张或更多，则此咒语减少{3}来施放。\n",
      "[after preprocess]:flying\n",
      "[before postprocess]:飞行\n",
      "[after preprocess]:when <0> enters the battlefield , exile three cards at random from your graveyard .\n",
      "[before postprocess]:当<0>进战场时，从你的坟墓场放逐三张牌。\n",
      "[after preprocess]:choose a non creature , non land card from among them and copy it .\n",
      "[before postprocess]:说出其中的非生物且非地的牌，并将其复制。\n",
      "[after preprocess]:you may cast the copy without paying its mana cost .\n"
     ]
    },
    {
     "name": "stderr",
     "output_type": "stream",
     "text": [
      " 34%|███▍      | 34/100 [00:11<00:25,  2.58it/s]"
     ]
    },
    {
     "name": "stdout",
     "output_type": "stream",
     "text": [
      "[before postprocess]:你可以施放该复制品，且不需支付其法术力费用。\n",
      "[after preprocess]:<0> enters the battlefield with four <1> counters on it .\n",
      "[before postprocess]:<0>进场时上面有四个<1>。\n",
      "[after preprocess]:<0> has trample as long as it has two or fewer <1> counters on it .\n",
      "[before postprocess]:只要<0>上有两个或更少，它便具有践踏异能。\n",
      "[after preprocess]:otherwise , it has hexproof .\n",
      "[before postprocess]:若否，则它具有辟邪异能。\n",
      "[after preprocess]:at the beginning of your upkeep , remove an <1> counter from <0> .\n",
      "[before postprocess]:在你的维持开始时，从<0>上移去一个<1>上移去一个指示物。\n",
      "[after preprocess]:then if it has no <0> counters on it , sacrifice it .\n"
     ]
    },
    {
     "name": "stderr",
     "output_type": "stream",
     "text": [
      " 35%|███▌      | 35/100 [00:11<00:26,  2.42it/s]"
     ]
    },
    {
     "name": "stdout",
     "output_type": "stream",
     "text": [
      "[before postprocess]:然后如果其没有没有指示物指示物，则将它牺牲。\n",
      "[after preprocess]:whenever <0> or another cat enters the battlefield under your control , attach up to one target equipment you control to that creature .\n",
      "[before postprocess]:每当<0>或另一个或在你的操控下进战场时，将至多一个目标由你操控的生物上。\n",
      "[after preprocess]:equipped creatures you control get + 1 / + 1 .\n"
     ]
    },
    {
     "name": "stderr",
     "output_type": "stream",
     "text": [
      " 36%|███▌      | 36/100 [00:11<00:26,  2.44it/s]"
     ]
    },
    {
     "name": "stdout",
     "output_type": "stream",
     "text": [
      "[before postprocess]:由你操控且已佩带武具的生物得+1/+1。\n",
      "[after preprocess]:{3} {w} {w} : create a 2 / 2 white cat creature token .\n",
      "[before postprocess]:{3}{w}{w}：派出一个2/2白色的猫衍生生物。\n",
      "[after preprocess]:choose one —\n",
      "[before postprocess]:选择一项～\n",
      "[after preprocess]:• <0> deals damage equal to the number of creatures you control to target creature or planeswalker .\n",
      "[before postprocess]:•<0>对目标生物或鹏洛客造成伤害，其数量等同于由你操控的生物数量。\n",
      "[after preprocess]:• create two 1 / 1 colorless phyrexian mite artifact creature tokens with toxic 1 and \" this creature ca n't block . \"\n",
      "[before postprocess]:•派出两个1/1无色组构体衍生神器生物，且具有\"此生物\"此生物不能进行阻挡。\"\n",
      "[after preprocess]:players dealt combat damage by them also get a poison counter .\n"
     ]
    },
    {
     "name": "stderr",
     "output_type": "stream",
     "text": [
      " 37%|███▋      | 37/100 [00:12<00:25,  2.44it/s]"
     ]
    },
    {
     "name": "stdout",
     "output_type": "stream",
     "text": [
      "[before postprocess]:牌手位牌手造成得到一个中毒指示物。\n",
      "[after preprocess]:equipped creature gets + 2 / + 0 .\n",
      "[before postprocess]:佩带此武具的生物得+2/+0。\n",
      "[after preprocess]:whenever equipped creature attacks , create a 1 / 1 colorless phyrexian mite artifact creature token with toxic 1 and \" this creature ca n't block . \"\n"
     ]
    },
    {
     "name": "stderr",
     "output_type": "stream",
     "text": [
      " 38%|███▊      | 38/100 [00:12<00:25,  2.44it/s]"
     ]
    },
    {
     "name": "stdout",
     "output_type": "stream",
     "text": [
      "[before postprocess]:每当佩带此武具的生物攻击时，派出一个1/1无色组构体衍生神器生物，且具有\"此生物不能进行阻挡。\"\n",
      "[after preprocess]:players dealt combat damage by it also get a poison counter .\n",
      "[before postprocess]:受牌手造成战斗伤害会得到得到得到指示物。\n",
      "[after preprocess]:equip {2} {w}\n",
      "[before postprocess]:佩带{2}{w}\n",
      "[after preprocess]:creatures you control get + 2 / + 2 until end of turn .\n"
     ]
    },
    {
     "name": "stderr",
     "output_type": "stream",
     "text": [
      " 39%|███▉      | 39/100 [00:12<00:21,  2.90it/s]"
     ]
    },
    {
     "name": "stdout",
     "output_type": "stream",
     "text": [
      "[before postprocess]:由你操控的生物得+2/+2直到回合结束。\n",
      "[after preprocess]:whenever a creature blocks this turn , its controller gets a poison counter .\n",
      "[before postprocess]:本回合中，每当一个生物进行阻挡时，其操控者得到一个中毒指示物。\n",
      "[after preprocess]:toxic 2\n",
      "[before postprocess]:铭勇2\n",
      "[after preprocess]:players dealt combat damage by this creature also get two poison counters .\n"
     ]
    },
    {
     "name": "stderr",
     "output_type": "stream",
     "text": [
      " 40%|████      | 40/100 [00:13<00:16,  3.66it/s]"
     ]
    },
    {
     "name": "stdout",
     "output_type": "stream",
     "text": [
      "[before postprocess]:受此战斗伤害会受得到两个中毒指示物。\n",
      "[after preprocess]:return target permanent card from your graveyard to your hand .\n",
      "[before postprocess]:将目标永久物牌从你的坟墓场移回你手上。\n",
      "[after preprocess]:proliferate .\n",
      "[before postprocess]:增殖。\n",
      "[after preprocess]:choose any number of permanents and / or players , then give each another counter of each kind already there .\n"
     ]
    },
    {
     "name": "stderr",
     "output_type": "stream",
     "text": [
      " 41%|████      | 41/100 [00:13<00:16,  3.68it/s]"
     ]
    },
    {
     "name": "stdout",
     "output_type": "stream",
     "text": [
      "[before postprocess]:选择任意数量的永久物和／或牌手，然后为其已有之每种指示物各多放置一个同类的指示物。\n",
      "[after preprocess]:destroy target artifact , enchantment , or creature with flying .\n",
      "[before postprocess]:消灭目标神器，结界或具飞行异能的生物。\n",
      "[after preprocess]:if that permanent 's mana value was 3 or less , proliferate .\n",
      "[before postprocess]:如果该永久物的法术力值等于或小于，则增殖。\n",
      "[after preprocess]:choose any number of permanents and / or players , then give each another counter of each kind already there .\n"
     ]
    },
    {
     "name": "stderr",
     "output_type": "stream",
     "text": [
      " 42%|████▏     | 42/100 [00:13<00:16,  3.48it/s]"
     ]
    },
    {
     "name": "stdout",
     "output_type": "stream",
     "text": [
      "[before postprocess]:选择任意数量的永久物和／或牌手，然后为其已有之每种指示物各多放置一个同类的指示物。\n",
      "[after preprocess]:hexproof\n",
      "[before postprocess]:辟邪\n",
      "[after preprocess]:+ 2 : each opponent loses 3 life and you gain 3 life .\n",
      "[before postprocess]:+2：每位对手各失去3点生命且你获得3点生命。\n",
      "[after preprocess]:0 : you draw two cards .\n",
      "[before postprocess]:0：你抓两张牌。\n",
      "[after preprocess]:then each opponent may scry 1 .\n",
      "[before postprocess]:然后每位对手各可以占卜1。\n",
      "[after preprocess]:− 3 : exile target creature or enchantment .\n",
      "[before postprocess]:−3：放逐目标生物或结界。\n",
      "[after preprocess]:if it was n't an aura , create a token that 's a copy of it , except it 's a 1 / 1 white spirit creature with flying in addition to its other types .\n"
     ]
    },
    {
     "name": "stderr",
     "output_type": "stream",
     "text": [
      " 43%|████▎     | 43/100 [00:14<00:21,  2.69it/s]"
     ]
    },
    {
     "name": "stdout",
     "output_type": "stream",
     "text": [
      "[before postprocess]:如果它不是灵气，则派出一个衍生物，此衍生物为该衍生物的复制品，但它是1/1白色，具飞行异能的精怪衍生生物，且具有精怪此类别。\n",
      "[after preprocess]:you gain x life .\n",
      "[before postprocess]:你获得x点生命。\n",
      "[after preprocess]:create x 1 / 1 colorless phyrexian mite artifact creature tokens with toxic 1 and \" this creature ca n't block . \" if x is 5 or more , destroy all other creatures .\n"
     ]
    },
    {
     "name": "stderr",
     "output_type": "stream",
     "text": [
      " 44%|████▍     | 44/100 [00:14<00:20,  2.78it/s]"
     ]
    },
    {
     "name": "stdout",
     "output_type": "stream",
     "text": [
      "[before postprocess]:派出x个1/1无色驾手衍生神器衍生生物，且具有\"此生物具有\"此生物不能进行阻挡，则消灭所有生物。\n",
      "[after preprocess]:players dealt combat damage by a creature with toxic 1 also get a poison counter .\n",
      "[before postprocess]:每位牌手造成战斗伤害的生物会得到一个中毒指示物。\n",
      "[after preprocess]:this spell costs {3} more to cast if it targets a creature .\n",
      "[before postprocess]:如果此咒语以生物为目标，则它它减少{3}来施放。\n",
      "[after preprocess]:exile target non land permanent .\n"
     ]
    },
    {
     "name": "stderr",
     "output_type": "stream",
     "text": [
      " 45%|████▌     | 45/100 [00:14<00:16,  3.38it/s]"
     ]
    },
    {
     "name": "stdout",
     "output_type": "stream",
     "text": [
      "[before postprocess]:放逐目标非地永久物。\n",
      "[after preprocess]:compleated\n",
      "[before postprocess]:<unk>风暴\n",
      "[after preprocess]:{u/p} can be paid with {u} or 2 life .\n",
      "[before postprocess]:{u/p}可用{u}或2点生命来支付。\n",
      "[after preprocess]:if life was paid , this planeswalker enters with two fewer loyalty counters .\n",
      "[before postprocess]:如果曾支付此生命，则此鹏洛少，两个忠诚指示物的忠诚数量。\n",
      "[after preprocess]:+ 1 : until your next turn , up to one target creature gets - 3 / - 0 .\n",
      "[before postprocess]:+1：直到你的下一个回合，至多一个目标生物得-3/-0。\n",
      "[after preprocess]:− 2 : target player mills three cards .\n",
      "[before postprocess]:−2：目标牌手将其牌库顶的三张牌置入其坟墓场。\n",
      "[after preprocess]:then if a graveyard has twenty or more cards in it , you draw three cards .\n",
      "[before postprocess]:然后如果某个坟墓场中有二十张牌或更多，则你抓三张牌。\n",
      "[after preprocess]:otherwise , you draw a card .\n",
      "[before postprocess]:若否，你抓一张牌。\n",
      "[after preprocess]:− x : target player mills three times x cards .\n"
     ]
    },
    {
     "name": "stderr",
     "output_type": "stream",
     "text": [
      " 46%|████▌     | 46/100 [00:15<00:22,  2.38it/s]"
     ]
    },
    {
     "name": "stdout",
     "output_type": "stream",
     "text": [
      "[before postprocess]:−x：目标牌手将其牌库顶的三张牌置入其坟墓场。\n",
      "[after preprocess]:{1} , sacrifice <0> : draw a card .\n",
      "[before postprocess]:{1}，牺牲<0>：抓一张牌。\n",
      "[after preprocess]:{2} {g} , sacrifice <0> : target creature you control gets + 3 / + 3 and gains trample until end of turn .\n"
     ]
    },
    {
     "name": "stderr",
     "output_type": "stream",
     "text": [
      " 47%|████▋     | 47/100 [00:15<00:21,  2.48it/s]"
     ]
    },
    {
     "name": "stdout",
     "output_type": "stream",
     "text": [
      "[before postprocess]:{2}{g}，牺牲<0>：直到回合结束，目标由你操控的生物得+3/+3且获得践踏异能。\n",
      "[after preprocess]:draw a card .\n",
      "[before postprocess]:抓一张牌。\n",
      "[after preprocess]:activate only as a sorcery .\n",
      "[before postprocess]:只可以于你能施放法术的时机下起动此异能。\n",
      "[after preprocess]:this spell ca n't be countered .\n",
      "[before postprocess]:此咒语不能被反击。\n",
      "[after preprocess]:trample\n",
      "[before postprocess]:践踏\n",
      "[after preprocess]:<0> ca n't be the target of non green spells your opponents control or abilities from non green sources your opponents control .\n"
     ]
    },
    {
     "name": "stderr",
     "output_type": "stream",
     "text": [
      " 48%|████▊     | 48/100 [00:16<00:19,  2.73it/s]"
     ]
    },
    {
     "name": "stdout",
     "output_type": "stream",
     "text": [
      "[before postprocess]:<0>不能成为由对手操控之咒语或异能的目标。\n",
      "[after preprocess]:as long as it 's your turn , <0> has indestructible .\n",
      "[before postprocess]:只要是在你的回合中，<0>便具有不灭异能。\n",
      "[after preprocess]:<0> enters the battlefield with two <1> counters on it .\n",
      "[before postprocess]:<0>进战场时上面有两个<1>指示物。\n",
      "[after preprocess]:{t} : add {c} .\n",
      "[before postprocess]:{t}：加{1}到你的法术力池中。\n",
      "[after preprocess]:{t} , remove an <1> counter from <0> : put an <1> counter on target artifact or creature you control .\n",
      "[before postprocess]:{t}，从<0>上移去一个<1>上移去一个<1>：在目标由你操控的生物上放置一个<1>指示物。\n"
     ]
    },
    {
     "name": "stderr",
     "output_type": "stream",
     "text": [
      " 49%|████▉     | 49/100 [00:16<00:20,  2.55it/s]"
     ]
    },
    {
     "name": "stdout",
     "output_type": "stream",
     "text": [
      "[after preprocess]:activate only as a sorcery .\n",
      "[before postprocess]:只可以于你能施放法术的时机下起动此异能。\n",
      "[after preprocess]:for <mirrodin !\n",
      "[before postprocess]:<unk>共鸣\n",
      "[after preprocess]:when this equipment enters the battlefield , create a 2 / 2 red <0> creature token , then attach this to it .\n",
      "[before postprocess]:当此武具进战场时，派出一个2/2红色<0>衍生生物，然后将它装备上去。\n",
      "[after preprocess]:whenever <0> becomes attached to a creature , for as long as blade of <1> remains attached to it , you may have that creature become a copy of another target creature you control .\n"
     ]
    },
    {
     "name": "stderr",
     "output_type": "stream",
     "text": [
      " 50%|█████     | 50/100 [00:16<00:20,  2.40it/s]"
     ]
    },
    {
     "name": "stdout",
     "output_type": "stream",
     "text": [
      "[before postprocess]:每当<0>上贴附在生物上结附的时段内，于<1>上的时段内，你可以将另一个目标由你操控的生物上。\n",
      "[after preprocess]:equip {2}\n",
      "[before postprocess]:佩带{2}\n",
      "[after preprocess]:lifelink , toxic 1\n",
      "[before postprocess]:系命，下毒1\n",
      "[after preprocess]:whenever you proliferate , choose one —\n",
      "[before postprocess]:每当你施放时，选择一项～\n",
      "[after preprocess]:• if you do n't control a creature named <0> , create the hollow <1> , a legendary 3 / 3 colorless phyrexian golem artifact creature token .\n"
     ]
    },
    {
     "name": "stderr",
     "output_type": "stream",
     "text": [
      " 51%|█████     | 51/100 [00:17<00:20,  2.40it/s]"
     ]
    },
    {
     "name": "stdout",
     "output_type": "stream",
     "text": [
      "[before postprocess]:•如果未未名称为默武的名称为<1>，则派出传奇3/3无色，名称为3/3无色组构体衍生神器生物。\n",
      "[after preprocess]:• target artifact creature you control gains flying and lifelink until end of turn .\n",
      "[before postprocess]:•目标由你操控的神器生物获得飞行与系命异能直到回合结束。\n",
      "[after preprocess]:<0> enters the battlefield with four <1> counters on it .\n",
      "[before postprocess]:<0>进场时上面有四个<1>。\n"
     ]
    },
    {
     "name": "stderr",
     "output_type": "stream",
     "text": [
      " 52%|█████▏    | 52/100 [00:17<00:17,  2.77it/s]"
     ]
    },
    {
     "name": "stdout",
     "output_type": "stream",
     "text": [
      "[after preprocess]:{t} , remove an <1> counter from <0> : tap target artifact or creature .\n",
      "[before postprocess]:{t}，从<0>上移去一个<1>：横置目标神器或生物。\n",
      "[after preprocess]:for <mirrodin !\n",
      "[before postprocess]:<unk>共鸣\n",
      "[after preprocess]:when this equipment enters the battlefield , create a 2 / 2 red <0> creature token , then attach this to it .\n",
      "[before postprocess]:当此武具进战场时，派出一个2/2红色<0>衍生生物，然后将它装备上去。\n",
      "[after preprocess]:equip abilities you activate of other equipment cost {1} less to activate .\n",
      "[before postprocess]:你起动之其他武具的其他异能减少减少{1}来起动。\n",
      "[after preprocess]:equipped creature has double strike .\n",
      "[before postprocess]:佩带此武具的生物具有连击异能。\n",
      "[after preprocess]:equip {3} {r} {w}\n"
     ]
    },
    {
     "name": "stderr",
     "output_type": "stream",
     "text": [
      " 53%|█████▎    | 53/100 [00:18<00:17,  2.64it/s]"
     ]
    },
    {
     "name": "stdout",
     "output_type": "stream",
     "text": [
      "[before postprocess]:佩带{3}{r}{w}\n",
      "[after preprocess]:whenever one or more creatures you control deal combat damage to a player , you may return one of them to its owner 's hand .\n",
      "[before postprocess]:每当由你操控的一个或数个生物对任一牌手造成战斗伤害时，你可以将其中一张移回其拥有者手上。\n",
      "[after preprocess]:if you do , you may activate loyalty abilities of kaito twice this turn rather than only once .\n",
      "[before postprocess]:若你如此作，则你可以于本回合中的忠诚异能，而只能起动一次。\n",
      "[after preprocess]:+ 1 : up to one target creature ca n't attack or block until your next turn .\n",
      "[before postprocess]:+1：至多一个目标生物本回合不能进行攻击或阻挡。\n",
      "[after preprocess]:0 : draw a card .\n",
      "[before postprocess]:0：抓一张牌。\n",
      "[after preprocess]:− 2 : create a 2 / 2 colorless drone artifact creature token with deathtouch and \" when this creature leaves the battlefield , each opponent loses 2 life and you gain 2 life . \"\n"
     ]
    },
    {
     "name": "stderr",
     "output_type": "stream",
     "text": [
      " 54%|█████▍    | 54/100 [00:18<00:22,  2.07it/s]"
     ]
    },
    {
     "name": "stdout",
     "output_type": "stream",
     "text": [
      "[before postprocess]:−2：派出一个2/2无色，名称为<unk>的<unk>生神器生物，且具有\"当此生物进场时，每位对手各失去2点生命，且你获得2点生命。\"\n",
      "[after preprocess]:{t} : put an <1> counter on <0> .\n",
      "[before postprocess]:{t}：将<1>上放置一个<1>指示物。\n",
      "[after preprocess]:{t} , sacrifice <0> : destroy each non land permanent with mana value equal to the number of <2> counters on <1> .\n"
     ]
    },
    {
     "name": "stderr",
     "output_type": "stream",
     "text": [
      " 55%|█████▌    | 55/100 [00:19<00:21,  2.09it/s]"
     ]
    },
    {
     "name": "stdout",
     "output_type": "stream",
     "text": [
      "[before postprocess]:{t}，牺牲<0>：消灭所有非地永久物，且其数量等同于<2>上的数量。\n",
      "[after preprocess]:{t} , remove ten <1> counters from among permanents you control and sacrifice <0> : it deals 1 0 damage to any target .\n",
      "[before postprocess]:{t}，从<由你操控的<1>上移去十个<1>：将它对目标生物或牌手造成1点伤害。\n",
      "[after preprocess]:trample\n",
      "[before postprocess]:践踏\n",
      "[after preprocess]:toxic 1\n",
      "[before postprocess]:铭勇1\n",
      "[after preprocess]:players dealt combat damage by this creature also get a poison counter .\n",
      "[before postprocess]:受此生物战斗伤害的牌手得到一个中毒指示物。\n",
      "[after preprocess]:whenever <0> deals combat damage to a player , proliferate .\n",
      "[before postprocess]:每当<0>对任一牌手造成战斗伤害时，增殖。\n",
      "[after preprocess]:choose any number of permanents and / or players , then give each another counter of each kind already there .\n"
     ]
    },
    {
     "name": "stderr",
     "output_type": "stream",
     "text": [
      " 56%|█████▌    | 56/100 [00:19<00:19,  2.27it/s]"
     ]
    },
    {
     "name": "stdout",
     "output_type": "stream",
     "text": [
      "[before postprocess]:选择任意数量的永久物和／或牌手，然后为其已有之每种指示物各多放置一个同类的指示物。\n",
      "[after preprocess]:<0> enters the battlefield with five <1> counters on it .\n",
      "[before postprocess]:<0>进场时上面有五个<1>。\n",
      "[after preprocess]:{1} , remove an <1> counter from <0> : it gains vigilance and menace until end of turn .\n",
      "[before postprocess]:{1}，从<0>上移去一个<1>上移去一个<0>：它获得威慑异能直到回合结束。\n",
      "[after preprocess]:{2} , remove two <1> counters from <0> : it gets + 2 / + 2 until end of turn .\n",
      "[before postprocess]:{2}，从<0>上移去两个<1>：它得+2/+2直到回合结束。\n",
      "[after preprocess]:{3} , remove three <1> counters from <0> : destroy target artifact or enchantment .\n"
     ]
    },
    {
     "name": "stderr",
     "output_type": "stream",
     "text": [
      " 57%|█████▋    | 57/100 [00:20<00:20,  2.09it/s]"
     ]
    },
    {
     "name": "stdout",
     "output_type": "stream",
     "text": [
      "[before postprocess]:{3}，从<0>上移去三个<1>：消灭目标神器或结界。\n",
      "[after preprocess]:+ 2 : search your library for a basic mountain card , reveal it , put it into your hand , then shuffle .\n",
      "[before postprocess]:+2：从你的牌库中搜寻一张基本地牌，展示该牌，将它置于你手上，然后将你的牌库洗牌。\n",
      "[after preprocess]:− 3 : <0> deals damage to target creature equal to the number of mountains you control .\n"
     ]
    },
    {
     "name": "stderr",
     "output_type": "stream",
     "text": [
      " 58%|█████▊    | 58/100 [00:20<00:20,  2.07it/s]"
     ]
    },
    {
     "name": "stdout",
     "output_type": "stream",
     "text": [
      "[before postprocess]:−3：<0>对目标生物造成伤害，其数量等同于由你操控的山脉数量。\n",
      "[after preprocess]:− 7 : you get an emblem with \" whenever a mountain enters the battlefield under your control , this emblem deals 4 damage to any target . \"\n",
      "[before postprocess]:−7：你获得具有\"每当一个山脉在你的操控下进战场时，此徽记对目标生物或牌手造成4点伤害。\"\n",
      "[after preprocess]:choose one —\n",
      "[before postprocess]:选择一项～\n",
      "[after preprocess]:• each opponent sacrifices a non token creature .\n",
      "[before postprocess]:•每位对手各牺牲一个非衍生物的生物。\n",
      "[after preprocess]:• each opponent sacrifices a creature token .\n",
      "[before postprocess]:•每位对手各牺牲一个生物。\n",
      "[after preprocess]:• each opponent sacrifices a planeswalker .\n"
     ]
    },
    {
     "name": "stderr",
     "output_type": "stream",
     "text": [
      " 59%|█████▉    | 59/100 [00:20<00:16,  2.47it/s]"
     ]
    },
    {
     "name": "stdout",
     "output_type": "stream",
     "text": [
      "[before postprocess]:•每位对手各牺牲一个鹏洛客。\n",
      "[after preprocess]:choose one or both —\n",
      "[before postprocess]:选择一项或都选～\n",
      "[after preprocess]:• exile target artifact or creature you control , then return it to the battlefield under its owner 's control .\n",
      "[before postprocess]:•放逐目标由你操控的神器或生物，然后将它在其拥有者的操控下移回战场。\n"
     ]
    },
    {
     "name": "stderr",
     "output_type": "stream",
     "text": [
      " 60%|██████    | 60/100 [00:21<00:15,  2.64it/s]"
     ]
    },
    {
     "name": "stdout",
     "output_type": "stream",
     "text": [
      "[after preprocess]:• return target artifact or creature card with mana value 3 or less from your graveyard to the battlefield .\n",
      "[before postprocess]:•将目标法术力值等于或小于3的神器或生物牌从你的坟墓场移回战场。\n",
      "[after preprocess]:{3} {w} , {t} : tap target creature .\n"
     ]
    },
    {
     "name": "stderr",
     "output_type": "stream",
     "text": [
      " 61%|██████    | 61/100 [00:21<00:13,  2.87it/s]"
     ]
    },
    {
     "name": "stdout",
     "output_type": "stream",
     "text": [
      "[before postprocess]:{3}{w}，{t}：横置目标生物。\n",
      "[after preprocess]:corrupted — {w} , {t} : tap target creature .\n",
      "[before postprocess]:腐化～{w}，{t}：横置目标生物。\n",
      "[after preprocess]:activate only if an opponent has three or more poison counters .\n",
      "[before postprocess]:只能于某对手操控三个或更多中毒指示物时起动此异能。\n",
      "[after preprocess]:vigilance\n",
      "[before postprocess]:警戒\n",
      "[after preprocess]:when <0> enters the battlefield , choose one —\n",
      "[before postprocess]:当<0>进战场时，选择一项～\n",
      "[after preprocess]:• target creature gets + 2 / + 2 and gains vigilance until end of turn .\n",
      "[before postprocess]:•直到回合结束，目标生物得+2/+2且获得警戒异能。\n",
      "[after preprocess]:• proliferate .\n"
     ]
    },
    {
     "name": "stderr",
     "output_type": "stream",
     "text": [
      " 62%|██████▏   | 62/100 [00:21<00:13,  2.79it/s]"
     ]
    },
    {
     "name": "stdout",
     "output_type": "stream",
     "text": [
      "[before postprocess]:•增殖。\n",
      "[after preprocess]:choose any number of permanents and / or players , then give each another counter of each kind already there .\n",
      "[before postprocess]:选择任意数量的永久物和／或牌手，然后为其已有之每种指示物各多放置一个同类的指示物。\n",
      "[after preprocess]:for <mirrodin !\n",
      "[before postprocess]:<unk>共鸣\n",
      "[after preprocess]:when this equipment enters the battlefield , create a 2 / 2 red <0> creature token , then attach this to it .\n",
      "[before postprocess]:当此武具进战场时，派出一个2/2红色<0>衍生生物，然后将它装备上去。\n",
      "[after preprocess]:equipped creature gets + 2 / + 1 and has vigilance .\n",
      "[before postprocess]:佩带此武具的生物得+2/+1且具有警戒异能。\n",
      "[after preprocess]:equip {3} {w}\n",
      "[before postprocess]:佩带{3}{w}\n",
      "[after preprocess]:{3} {w} : attach to target creature you control .\n",
      "[before postprocess]:{3}{w}：装备在目标由你操控的生物上。\n",
      "[after preprocess]:equip only as a sorcery .\n"
     ]
    },
    {
     "name": "stderr",
     "output_type": "stream",
     "text": [
      " 63%|██████▎   | 63/100 [00:22<00:14,  2.48it/s]"
     ]
    },
    {
     "name": "stdout",
     "output_type": "stream",
     "text": [
      "[before postprocess]:只能于法术时机佩带。\n",
      "[after preprocess]:counter target spell .\n",
      "[before postprocess]:反击目标咒语咒语。\n",
      "[after preprocess]:if that spell 's mana value was 3 or less , proliferate .\n",
      "[before postprocess]:如果该咒语的法术力值等于或小于3，则增殖。\n",
      "[after preprocess]:choose any number of permanents and / or players , then give each another counter of each kind already there .\n"
     ]
    },
    {
     "name": "stderr",
     "output_type": "stream",
     "text": [
      " 64%|██████▍   | 64/100 [00:22<00:13,  2.70it/s]"
     ]
    },
    {
     "name": "stdout",
     "output_type": "stream",
     "text": [
      "[before postprocess]:选择任意数量的永久物和／或牌手，然后为其已有之每种指示物各多放置一个同类的指示物。\n",
      "[after preprocess]:{t} : add {c} .\n",
      "[before postprocess]:{t}：加{1}到你的法术力池中。\n",
      "[after preprocess]:{1} , {t} : add one mana of any color .\n",
      "[before postprocess]:{1}，{t}：加一点任意颜色的法术力到你的法术力池中。\n",
      "[after preprocess]:{x} , {t} : <0> becomes a copy of target non token artifact you control with mana value x .\n"
     ]
    },
    {
     "name": "stderr",
     "output_type": "stream",
     "text": [
      " 65%|██████▌   | 65/100 [00:22<00:12,  2.78it/s]"
     ]
    },
    {
     "name": "stdout",
     "output_type": "stream",
     "text": [
      "[before postprocess]:{x}，{t}：<0>成为目标由你操控之非生神器生物的复制品。\n",
      "[after preprocess]:counter target spell with mana value 1 or less .\n",
      "[before postprocess]:反击目标总法术力费用等于或小于1的咒语。\n",
      "[after preprocess]:target creature gets + 3 / + 1 until end of turn .\n",
      "[before postprocess]:目标生物得+3/+1直到回合结束。\n",
      "[after preprocess]:exile the top card of your library .\n",
      "[before postprocess]:放逐你的牌库顶牌。\n",
      "[after preprocess]:until the end of your next turn , you may play that card .\n"
     ]
    },
    {
     "name": "stderr",
     "output_type": "stream",
     "text": [
      " 67%|██████▋   | 67/100 [00:23<00:08,  3.88it/s]"
     ]
    },
    {
     "name": "stdout",
     "output_type": "stream",
     "text": [
      "[before postprocess]:直到你下一个回合的回合结束，你可以使用该牌。\n",
      "[after preprocess]:flying\n",
      "[before postprocess]:飞行\n",
      "[after preprocess]:ward — {3} , pay 3 life .\n",
      "[before postprocess]:守护～{3}，支付3点生命。\n",
      "[after preprocess]:whenever you cast a non creature spell , create x 1 / 1 red phyrexian goblin creature tokens , where x is the mana value of that spell .\n"
     ]
    },
    {
     "name": "stderr",
     "output_type": "stream",
     "text": [
      " 68%|██████▊   | 68/100 [00:23<00:08,  3.65it/s]"
     ]
    },
    {
     "name": "stdout",
     "output_type": "stream",
     "text": [
      "[before postprocess]:每当你施放非生物咒语时，派出一个1/1红色鬼怪衍生生物放进战场，x为该咒语的总法术力费用。\n",
      "[after preprocess]:they gain haste until end of turn .\n",
      "[before postprocess]:它们获得敏捷异能直到回合结束。\n",
      "[after preprocess]:as an additional cost to cast this spell , sacrifice an artifact or creature with mana value x .\n",
      "[before postprocess]:牺牲一个总法术力费用等于或大于x的神器，以作为施放此咒语的额外费用。\n",
      "[after preprocess]:<0> sacrifice deals x damage divided as you choose among any number of target creatures .\n"
     ]
    },
    {
     "name": "stderr",
     "output_type": "stream",
     "text": [
      " 69%|██████▉   | 69/100 [00:23<00:08,  3.79it/s]"
     ]
    },
    {
     "name": "stdout",
     "output_type": "stream",
     "text": [
      "[before postprocess]:<0>对任意数量的目标生物造成共x点伤害，你可以任意分配。\n",
      "[after preprocess]:flying\n",
      "[before postprocess]:飞行\n",
      "[after preprocess]:corrupted — whenever <0> attacks , if an opponent has three or more poison counters , creatures you control get + 1 / + 1 until end of turn .\n"
     ]
    },
    {
     "name": "stderr",
     "output_type": "stream",
     "text": [
      " 70%|███████   | 70/100 [00:24<00:07,  3.93it/s]"
     ]
    },
    {
     "name": "stdout",
     "output_type": "stream",
     "text": [
      "[before postprocess]:腐化～每当<0>攻击时，若某对手操控三个或更多中毒指示物，由你操控的生物得+1/+1直到回合结束。\n",
      "[after preprocess]:battle cry\n",
      "[before postprocess]:战嚎\n",
      "[after preprocess]:whenever this creature attacks , each other attacking creature gets + 1 / + 0 until end of turn .\n",
      "[before postprocess]:每当此生物攻击时，每个进行攻击的其他生物各得+1/+0直到回合结束。\n",
      "[after preprocess]:at the beginning of combat on your turn , the next time target creature would deal combat damage to one or more players this combat , prevent that damage .\n"
     ]
    },
    {
     "name": "stderr",
     "output_type": "stream",
     "text": [
      " 71%|███████   | 71/100 [00:24<00:09,  3.08it/s]"
     ]
    },
    {
     "name": "stdout",
     "output_type": "stream",
     "text": [
      "[before postprocess]:在你回合的战斗开始时，直到回合中，防止目标生物或牌手造成战斗伤害，则防止该伤害。\n",
      "[after preprocess]:if damage is prevented this way , create that many 1 / 1 colorless phyrexian mite artifact creature tokens with toxic 1 and \" this creature ca n't block . \"\n",
      "[before postprocess]:如果以此法防止伤害，则改为派出等量的1/1无色组构体衍生神器生物，且具有\"此生物不能进行阻挡。\"\n"
     ]
    },
    {
     "name": "stderr",
     "output_type": "stream",
     "text": [
      " 72%|███████▏  | 72/100 [00:24<00:08,  3.44it/s]"
     ]
    },
    {
     "name": "stdout",
     "output_type": "stream",
     "text": [
      "[after preprocess]:toxic 6\n",
      "[before postprocess]:66\n",
      "[after preprocess]:players dealt combat damage by\n",
      "[before postprocess]:受位牌手造成战斗伤害战斗伤害。\n",
      "[after preprocess]:this creature also get six poison counters .\n",
      "[before postprocess]:此生物会得到六个中毒指示物。\n",
      "[after preprocess]:<0> ca n't be blocked by creatures with power 2 or less .\n",
      "[before postprocess]:<0>不能被力量等于或小于2的生物阻挡。\n"
     ]
    },
    {
     "name": "stderr",
     "output_type": "stream",
     "text": [
      " 73%|███████▎  | 73/100 [00:24<00:06,  3.90it/s]"
     ]
    },
    {
     "name": "stdout",
     "output_type": "stream",
     "text": [
      "[after preprocess]:<0> deals 2 damage to target creature .\n",
      "[before postprocess]:<0>对目标生物造成2点伤害。\n",
      "[after preprocess]:if that creature <0> deals 4 damage to that creature instead .\n",
      "[before postprocess]:如果该生物<0>改为改为改为对该生物造成4点伤害。\n",
      "[after preprocess]:equipped creature gets + 0 / + 2 and has toxic 1 .\n"
     ]
    },
    {
     "name": "stderr",
     "output_type": "stream",
     "text": [
      " 74%|███████▍  | 74/100 [00:25<00:06,  4.18it/s]"
     ]
    },
    {
     "name": "stdout",
     "output_type": "stream",
     "text": [
      "[before postprocess]:佩带此武具的生物得+0/+2且具有下毒1。\n",
      "[after preprocess]:players dealt damage by equipped creature also get a poison counter .\n",
      "[before postprocess]:受此武具的生物佩带牌手得到一个中毒指示物。\n",
      "[after preprocess]:equip {1}\n",
      "[before postprocess]:佩带{1}\n",
      "[after preprocess]:look at the top three cards of your library .\n",
      "[before postprocess]:检视你牌库顶的三张牌。\n",
      "[after preprocess]:put one of them into your hand and the rest on the bottom of your library in any order .\n"
     ]
    },
    {
     "name": "stderr",
     "output_type": "stream",
     "text": [
      " 75%|███████▌  | 75/100 [00:25<00:07,  3.56it/s]"
     ]
    },
    {
     "name": "stdout",
     "output_type": "stream",
     "text": [
      "[before postprocess]:将其中一张置于你手上，其余的牌则以任意顺序置于你的牌库底。\n",
      "[after preprocess]:proliferate .\n",
      "[before postprocess]:增殖。\n",
      "[after preprocess]:choose any number of permanents and / or players , then give each another counter of each kind already there .\n",
      "[before postprocess]:选择任意数量的永久物和／或牌手，然后为其已有之每种指示物各多放置一个同类的指示物。\n"
     ]
    },
    {
     "name": "stderr",
     "output_type": "stream",
     "text": [
      " 76%|███████▌  | 76/100 [00:25<00:06,  3.87it/s]"
     ]
    },
    {
     "name": "stdout",
     "output_type": "stream",
     "text": [
      "[after preprocess]:toxic 1\n",
      "[before postprocess]:铭勇1\n",
      "[after preprocess]:players dealt combat damage by this creature also get a poison counter .\n",
      "[before postprocess]:受此生物战斗伤害的牌手得到一个中毒指示物。\n",
      "[after preprocess]:as long as it 's your turn , <0> has first strike .\n",
      "[before postprocess]:只要是在你的回合中，<0>便具有先攻异能。\n",
      "[after preprocess]:at the beginning of combat on your turn , target creature you control gets + 1 / + 1 until end of turn .\n",
      "[before postprocess]:在你回合的战斗开始时，目标由你操控的生物得+1/+1直到回合结束。\n",
      "[after preprocess]:if that creature has toxic , instead it gets + 2 / + 2 until end of turn .\n"
     ]
    },
    {
     "name": "stderr",
     "output_type": "stream",
     "text": [
      " 78%|███████▊  | 78/100 [00:26<00:04,  4.61it/s]"
     ]
    },
    {
     "name": "stdout",
     "output_type": "stream",
     "text": [
      "[before postprocess]:如果该生物具有生物，则改为改为它得+2/+2直到回合结束。\n",
      "[after preprocess]:deathtouch\n",
      "[before postprocess]:死触\n",
      "[after preprocess]:toxic 1\n",
      "[before postprocess]:铭勇1\n",
      "[after preprocess]:players dealt combat damage by this creature also get a poison counter .\n",
      "[before postprocess]:受此生物战斗伤害的牌手得到一个中毒指示物。\n",
      "[after preprocess]:<0> ca n't be blocked .\n",
      "[before postprocess]:<0>不能被阻挡。\n",
      "[after preprocess]:whenever you cast a non creature spell , put an <1> counter on <0> .\n",
      "[before postprocess]:每当你施放非生物咒语时，在<0>上放置一个<1>指示物。\n",
      "[after preprocess]:whenever <0> deals combat damage to a player , you may remove two <1> counters from it .\n",
      "[before postprocess]:每当<0>对任一牌手造成战斗伤害时，你可以从<1>上移去两个计时指示物。\n",
      "[after preprocess]:if you do , when you cast your next instant or sorcery spell this turn , copy that spell .\n"
     ]
    },
    {
     "name": "stderr",
     "output_type": "stream",
     "text": [
      " 79%|███████▉  | 79/100 [00:26<00:06,  3.14it/s]"
     ]
    },
    {
     "name": "stdout",
     "output_type": "stream",
     "text": [
      "[before postprocess]:若你如此作，则本回合中，当你施放你的下一个瞬间或法术咒语时，复制该咒语。\n",
      "[after preprocess]:you may choose new targets for the copy .\n",
      "[before postprocess]:你可以为该复制品选择新的目标。\n",
      "[after preprocess]:vigilance\n",
      "[before postprocess]:警戒\n",
      "[after preprocess]:if a permanent entering the battlefield causes a triggered ability of a permanent you control to trigger , that ability triggers an additional time .\n"
     ]
    },
    {
     "name": "stderr",
     "output_type": "stream",
     "text": [
      " 80%|████████  | 80/100 [00:26<00:06,  3.33it/s]"
     ]
    },
    {
     "name": "stdout",
     "output_type": "stream",
     "text": [
      "[before postprocess]:如果进战场的触发式发由发由你操控之永久物的触发式异能，则该异能额外触发一次。\n",
      "[after preprocess]:permanents entering the battlefield do n't cause abilities of permanents your opponents control to trigger .\n",
      "[before postprocess]:进战场的永久物不会由你操控的永久物。\n",
      "[after preprocess]:vigilance\n",
      "[before postprocess]:警戒\n",
      "[after preprocess]:if a permanent entering the battlefield causes a triggered ability of a permanent you control to trigger , that ability triggers an additional time .\n"
     ]
    },
    {
     "name": "stderr",
     "output_type": "stream",
     "text": [
      " 81%|████████  | 81/100 [00:27<00:05,  3.56it/s]"
     ]
    },
    {
     "name": "stdout",
     "output_type": "stream",
     "text": [
      "[before postprocess]:如果进战场的触发式发由发由你操控之永久物的触发式异能，则该异能额外触发一次。\n",
      "[after preprocess]:permanents entering the battlefield do n't cause abilities of permanents your opponents control to trigger .\n",
      "[before postprocess]:进战场的永久物不会由你操控的永久物。\n",
      "[after preprocess]:first strike , protection from multicolored\n",
      "[before postprocess]:先攻，反多色保护\n",
      "[after preprocess]:at the beginning of your upkeep , sacrifice <0> unless you discard a card .\n",
      "[before postprocess]:在你的维持开始时，除非你弃一张牌，否则牺牲<0>。\n",
      "[after preprocess]:when you discard a card this way , destroy target non land permanent an opponent controls with mana value less than or equal to the mana value of the discarded card .\n"
     ]
    },
    {
     "name": "stderr",
     "output_type": "stream",
     "text": [
      " 82%|████████▏ | 82/100 [00:27<00:05,  3.23it/s]"
     ]
    },
    {
     "name": "stdout",
     "output_type": "stream",
     "text": [
      "[before postprocess]:当你以此法弃掉一张牌时，消灭目标由对手操控且非地永久物，且其总法术力费用等于或小于该牌的总法术力费用。\n",
      "[after preprocess]:corrupted — {2} {b} : return <0> from your graveyard to the battlefield tapped .\n",
      "[before postprocess]:腐化～{2}{b}：将<0>从你的坟墓场横置移回战场。\n",
      "[after preprocess]:you lose 1 life .\n",
      "[before postprocess]:你失去1点生命。\n",
      "[after preprocess]:activate only if an opponent has three or more poison counters .\n"
     ]
    },
    {
     "name": "stderr",
     "output_type": "stream",
     "text": [
      " 83%|████████▎ | 83/100 [00:27<00:05,  3.36it/s]"
     ]
    },
    {
     "name": "stdout",
     "output_type": "stream",
     "text": [
      "[before postprocess]:只能于某对手操控三个或更多中毒指示物时起动此异能。\n",
      "[after preprocess]:other blue creatures you control have \" whenever this creature becomes tapped , draw a card , then discard a card . \"\n",
      "[before postprocess]:由你操控的其他蓝色生物具有\"每当此生物成为横置时，抓一张牌，然后弃一张牌。\n",
      "[after preprocess]:other artifact creatures you control get + 1 / + 1 .\n",
      "[before postprocess]:由你操控的其他神器生物得+1/+1。\n",
      "[after preprocess]:{u/p} : until end of turn , target creature you control becomes a blue artifact in addition to its other colors and types .\n",
      "[before postprocess]:{u/p}：直到回合结束，目标由你操控的生物成为由你操控的蓝色神器生物，且具有原本类别。\n",
      "[after preprocess]:activate only as a sorcery .\n"
     ]
    },
    {
     "name": "stderr",
     "output_type": "stream",
     "text": [
      " 84%|████████▍ | 84/100 [00:28<00:06,  2.57it/s]"
     ]
    },
    {
     "name": "stdout",
     "output_type": "stream",
     "text": [
      "[before postprocess]:只可以于你能施放法术的时机下起动此异能。\n",
      "[after preprocess]:{u/p} can be paid with either {u} or 2 life .\n",
      "[before postprocess]:{u/p}可用{u}或2点生命来支付。\n",
      "[after preprocess]:flying , vigilance\n",
      "[before postprocess]:飞行，警戒\n",
      "[after preprocess]:when <0> dies , draw a card .\n"
     ]
    },
    {
     "name": "stderr",
     "output_type": "stream",
     "text": [
      " 86%|████████▌ | 86/100 [00:28<00:03,  3.54it/s]"
     ]
    },
    {
     "name": "stdout",
     "output_type": "stream",
     "text": [
      "[before postprocess]:当<0>死去时，抓一张牌。\n",
      "[after preprocess]:vigilance\n",
      "[before postprocess]:警戒\n",
      "[after preprocess]:corrupted — when <0> enters the battlefield , if an opponent has three or more poison counters , destroy target creature or planeswalker an opponent controls .\n",
      "[before postprocess]:腐化～当<0>进战场时，若某对手操控三个或更多中毒指示物，则消灭目标由对手操控的生物或鹏洛客。\n",
      "[after preprocess]:at the beginning of your upkeep , you lose 1 life and create a 1 / 1 colorless phyrexian mite artifact creature token with toxic 1 and \" this creature ca n't block . \"\n",
      "[before postprocess]:在你的维持开始时，你失去1点生命且你派出一个1/1无色组构体衍生神器生物，且具有\"此生物不能进行阻挡。\"\n"
     ]
    },
    {
     "name": "stderr",
     "output_type": "stream",
     "text": [
      " 87%|████████▋ | 87/100 [00:29<00:04,  3.25it/s]"
     ]
    },
    {
     "name": "stdout",
     "output_type": "stream",
     "text": [
      "[after preprocess]:corrupted — as long as an opponent has three or more poison counters , creatures you control with toxic have lifelink .\n",
      "[before postprocess]:腐化～只要某对手操控三个或更多中毒指示物，由你操控的生物便具有系命异能。\n",
      "[after preprocess]:whenever you cast a non creature spell , put an <1> counter on <0> .\n",
      "[before postprocess]:每当你施放非生物咒语时，在<0>上放置一个<1>指示物。\n",
      "[after preprocess]:{6} {r} , sacrifice <0> : discard your hand , then draw four cards .\n",
      "[before postprocess]:{6}{r}，牺牲<0>：弃掉你的手牌，然后抓四张牌。\n",
      "[after preprocess]:this ability costs {1} less to activate for each <1> counter on <0> .\n"
     ]
    },
    {
     "name": "stderr",
     "output_type": "stream",
     "text": [
      " 88%|████████▊ | 88/100 [00:29<00:03,  3.03it/s]"
     ]
    },
    {
     "name": "stdout",
     "output_type": "stream",
     "text": [
      "[before postprocess]:<0>上每有一个<1>，此异能便减少{1}来起动。\n",
      "[after preprocess]:if one or more tokens would be created under your control , twice that many of those tokens are created instead .\n",
      "[before postprocess]:如果将在你的操控下派出一个或数个衍生物，则改为派出两倍数量的该类数量。\n",
      "[after preprocess]:{1} {w/p} {w/p} , sacrifice two other artifacts and / or creatures : put an indestructible counter on <0> .\n"
     ]
    },
    {
     "name": "stderr",
     "output_type": "stream",
     "text": [
      " 89%|████████▉ | 89/100 [00:29<00:04,  2.74it/s]"
     ]
    },
    {
     "name": "stdout",
     "output_type": "stream",
     "text": [
      "[before postprocess]:{1}{w/p}{w/w}，牺牲两个神器和／或生物：在<0>上放置一个不灭指示物。\n",
      "[after preprocess]:{w/p} can be paid with either {w} or 2 life .\n",
      "[before postprocess]:{w/p}可用{w}或2点生命来支付。\n",
      "[after preprocess]:if one or more tokens would be created under your control , twice that many of those tokens are created instead .\n",
      "[before postprocess]:如果将在你的操控下派出一个或数个衍生物，则改为派出两倍数量的该类数量。\n",
      "[after preprocess]:{1} {w/p} {w/p} , sacrifice two other artifacts and / or creatures : put an indestructible counter on <0> .\n",
      "[before postprocess]:{1}{w/p}{w/w}，牺牲两个神器和／或生物：在<0>上放置一个不灭指示物。\n"
     ]
    },
    {
     "name": "stderr",
     "output_type": "stream",
     "text": [
      " 90%|█████████ | 90/100 [00:30<00:03,  2.55it/s]"
     ]
    },
    {
     "name": "stdout",
     "output_type": "stream",
     "text": [
      "[after preprocess]:{w/p} can be paid with either {w} or 2 life .\n",
      "[before postprocess]:{w/p}可用{w}或2点生命来支付。\n",
      "[after preprocess]:<0> enters the battlefield with five <1> counters on it .\n",
      "[before postprocess]:<0>进场时上面有五个<1>。\n",
      "[after preprocess]:{1} , remove an <1> counter from <0> : it gains vigilance and menace until end of turn .\n",
      "[before postprocess]:{1}，从<0>上移去一个<1>上移去一个<0>：它获得威慑异能直到回合结束。\n",
      "[after preprocess]:{2} , remove two <1> counters from <0> : it gets + 2 / + 2 until end of turn .\n",
      "[before postprocess]:{2}，从<0>上移去两个<1>：它得+2/+2直到回合结束。\n",
      "[after preprocess]:{3} , remove three <1> counters from <0> : destroy target artifact or enchantment .\n"
     ]
    },
    {
     "name": "stderr",
     "output_type": "stream",
     "text": [
      " 91%|█████████ | 91/100 [00:30<00:03,  2.29it/s]"
     ]
    },
    {
     "name": "stdout",
     "output_type": "stream",
     "text": [
      "[before postprocess]:{3}，从<0>上移去三个<1>：消灭目标神器或结界。\n",
      "[after preprocess]:flying\n",
      "[before postprocess]:飞行\n",
      "[after preprocess]:if you would proliferate , proliferate twice instead .\n",
      "[before postprocess]:如果你将将两次，则改为改为该数量两倍。\n",
      "[after preprocess]:{1} {u/p} {u/p} , remove three counters from among other artifacts , creatures , and planeswalkers you control : put an indestructible counter on <0> .\n"
     ]
    },
    {
     "name": "stderr",
     "output_type": "stream",
     "text": [
      " 92%|█████████▏| 92/100 [00:31<00:03,  2.23it/s]"
     ]
    },
    {
     "name": "stdout",
     "output_type": "stream",
     "text": [
      "[before postprocess]:{1}{u/p}{u/u}，从由你操控的其他神器生物上移去三个其他指示物，以及由你操控的生物上放置一个忠诚指示物。\n",
      "[after preprocess]:{u/p} can be paid with either {u} or 2 life .\n",
      "[before postprocess]:{u/p}可用{u}或2点生命来支付。\n",
      "[after preprocess]:toxic 2\n",
      "[before postprocess]:铭勇2\n",
      "[after preprocess]:{2} {g} : each other creature you control with <0> gains toxic 1 until end of turn .\n"
     ]
    },
    {
     "name": "stderr",
     "output_type": "stream",
     "text": [
      " 93%|█████████▎| 93/100 [00:31<00:02,  2.34it/s]"
     ]
    },
    {
     "name": "stdout",
     "output_type": "stream",
     "text": [
      "[before postprocess]:{2}{g}：每个由你操控且具<0>异能的其他生物生物获得1/1直到回合结束。\n",
      "[after preprocess]:activate only once each turn .\n",
      "[before postprocess]:此异能每回合中只能使用一次。\n",
      "[after preprocess]:a player dealt combat damage by a creature with toxic also gets poison counters equal to that creature 's total toxic value .\n",
      "[before postprocess]:如果某牌手将造成的生物造成伤害，生物，则会会因生物的总法术力费用。\n",
      "[after preprocess]:whenever one or more other creatures you control die , each opponent loses 2 life and you gain 2 life .\n",
      "[before postprocess]:每当由你操控的一个或数个由你操控的其他生物死去时，每位对手各失去2点生命，且你获得2点生命。\n",
      "[after preprocess]:this ability triggers only once each turn .\n"
     ]
    },
    {
     "name": "stderr",
     "output_type": "stream",
     "text": [
      " 95%|█████████▌| 95/100 [00:32<00:01,  3.15it/s]"
     ]
    },
    {
     "name": "stdout",
     "output_type": "stream",
     "text": [
      "[before postprocess]:此异能每回合只会触发一次。\n",
      "[after preprocess]:whenever you put one or more counters on a permanent or player , all will be one deals that much damage to target opponent , creature an opponent controls , or planeswalker an opponent controls .\n",
      "[before postprocess]:每当你在一个永久物或牌手上放置一个或数个指示物时，由目标由对手操控的生物造成等量的伤害。\n",
      "[after preprocess]:<0> enters the battlefield with two <1> counters on it .\n",
      "[before postprocess]:<0>进战场时上面有两个<1>指示物。\n",
      "[after preprocess]:{t} : add {c} .\n",
      "[before postprocess]:{t}：加{1}到你的法术力池中。\n",
      "[after preprocess]:{t} , remove an <1> counter from <0> : put an <1> counter on target artifact or creature you control .\n"
     ]
    },
    {
     "name": "stderr",
     "output_type": "stream",
     "text": [
      " 96%|█████████▌| 96/100 [00:32<00:01,  2.78it/s]"
     ]
    },
    {
     "name": "stdout",
     "output_type": "stream",
     "text": [
      "[before postprocess]:{t}，从<0>上移去一个<1>上移去一个<1>：在目标由你操控的生物上放置一个<1>指示物。\n",
      "[after preprocess]:activate only as a sorcery .\n",
      "[before postprocess]:只可以于你能施放法术的时机下起动此异能。\n",
      "[after preprocess]:{1} , sacrifice <0> : draw a card .\n",
      "[before postprocess]:{1}，牺牲<0>：抓一张牌。\n",
      "[after preprocess]:{1} {r} , sacrifice <0> : put two <1> counters on target artifact or creature you control .\n"
     ]
    },
    {
     "name": "stderr",
     "output_type": "stream",
     "text": [
      " 97%|█████████▋| 97/100 [00:33<00:01,  2.76it/s]"
     ]
    },
    {
     "name": "stdout",
     "output_type": "stream",
     "text": [
      "[before postprocess]:{1}{r}，牺牲<0>：在目标由你操控的生物上放置两个或指示物。\n",
      "[after preprocess]:draw a card .\n",
      "[before postprocess]:抓一张牌。\n",
      "[after preprocess]:activate only as a sorcery .\n",
      "[before postprocess]:只可以于你能施放法术的时机下起动此异能。\n",
      "[after preprocess]:<0> enters the battlefield with an <1> counter on it .\n",
      "[before postprocess]:<0>进战场时上面有一个<1>指示物。\n",
      "[after preprocess]:{1} , remove an <2> counter from <0> : <1> gains indestructible until end of turn .\n"
     ]
    },
    {
     "name": "stderr",
     "output_type": "stream",
     "text": [
      " 98%|█████████▊| 98/100 [00:33<00:00,  3.08it/s]"
     ]
    },
    {
     "name": "stdout",
     "output_type": "stream",
     "text": [
      "[before postprocess]:{1}，从<2>上移去一个<2>：<1>获得不灭异能直到回合结束。\n",
      "[after preprocess]:<0> enters the battlefield tapped .\n",
      "[before postprocess]:<0>须横置进战场。\n",
      "[after preprocess]:{t} : add {g} .\n",
      "[before postprocess]:{t}：加{g}到\n",
      "[after preprocess]:{1} {g} , {t} , sacrifice <0> : draw a card .\n"
     ]
    },
    {
     "name": "stderr",
     "output_type": "stream",
     "text": [
      " 99%|█████████▉| 99/100 [00:33<00:00,  3.35it/s]"
     ]
    },
    {
     "name": "stdout",
     "output_type": "stream",
     "text": [
      "[before postprocess]:{1}{g}，{t}，牺牲<0>：抓一张牌。\n",
      "[after preprocess]:choose one —\n",
      "[before postprocess]:选择一项～\n",
      "[after preprocess]:• each opponent sacrifices a non token creature .\n",
      "[before postprocess]:•每位对手各牺牲一个非衍生物的生物。\n",
      "[after preprocess]:• each opponent sacrifices a creature token .\n"
     ]
    },
    {
     "name": "stderr",
     "output_type": "stream",
     "text": [
      "100%|██████████| 100/100 [00:33<00:00,  2.96it/s]"
     ]
    },
    {
     "name": "stdout",
     "output_type": "stream",
     "text": [
      "[before postprocess]:•每位对手各牺牲一个生物。\n",
      "[after preprocess]:• each opponent sacrifices a planeswalker .\n",
      "[before postprocess]:•每位对手各牺牲一个鹏洛客。\n"
     ]
    },
    {
     "name": "stderr",
     "output_type": "stream",
     "text": [
      "\n"
     ]
    },
    {
     "data": {
      "text/plain": [
       "0.6673989994232405"
      ]
     },
     "execution_count": 17,
     "metadata": {},
     "output_type": "execute_result"
    }
   ],
   "source": [
    "from utils import calculate_testset_bleu\n",
    "calculate_testset_bleu(list(test_data)[:100], CT)"
   ]
  }
 ],
 "metadata": {
  "kernelspec": {
   "display_name": "Python 3 (ipykernel)",
   "language": "python",
   "name": "python3"
  },
  "language_info": {
   "codemirror_mode": {
    "name": "ipython",
    "version": 3
   },
   "file_extension": ".py",
   "mimetype": "text/x-python",
   "name": "python",
   "nbconvert_exporter": "python",
   "pygments_lexer": "ipython3",
   "version": "3.9.16"
  }
 },
 "nbformat": 4,
 "nbformat_minor": 4
}
