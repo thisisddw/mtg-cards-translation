{
 "cells": [
  {
   "cell_type": "code",
   "execution_count": 1,
   "metadata": {},
   "outputs": [
    {
     "name": "stderr",
     "output_type": "stream",
     "text": [
      "d:\\Miniconda3\\envs\\seq2seq\\lib\\site-packages\\tqdm\\auto.py:21: TqdmWarning: IProgress not found. Please update jupyter and ipywidgets. See https://ipywidgets.readthedocs.io/en/stable/user_install.html\n",
      "  from .autonotebook import tqdm as notebook_tqdm\n"
     ]
    }
   ],
   "source": [
    "import torch\n",
    "import torch.nn as nn\n",
    "import torch.optim as optim\n",
    "import torch.nn.functional as F\n",
    "\n",
    "from torchtext.legacy.data import Field\n",
    "\n",
    "from dataset.mtgcards import RuleText\n",
    "from utils.preprocess import fields_for_rule_text\n",
    "\n",
    "import random\n",
    "from tqdm import tqdm\n",
    "\n",
    "import models.model6_1 as model6_1\n",
    "from dataset.mtgcards import TestSets\n",
    "from models.card_name_detector.definition import TrainedDetector\n",
    "from utils.translate import sentencize, CardTranslator, CTHelper"
   ]
  },
  {
   "cell_type": "code",
   "execution_count": 2,
   "metadata": {},
   "outputs": [],
   "source": [
    "fields = {'src-rule': ('src', Field(tokenize=lambda x: x.split(' '))), 'trg-rule': ('trg', Field())}\n",
    "test_data = TestSets.load(fields,'bro')"
   ]
  },
  {
   "cell_type": "code",
   "execution_count": 4,
   "metadata": {},
   "outputs": [
    {
     "name": "stdout",
     "output_type": "stream",
     "text": [
      "path: d:\\Desktop\\mtg-cards-translation\\models\\card_name_detector\n"
     ]
    }
   ],
   "source": [
    "T = {\n",
    "    'model4-T-v2.1': torch.load('result/model4-T-v2.1.pt'),\n",
    "    'model4-T-v2.2': torch.load('result/model4-T-v2.2.pt'),\n",
    "    #'model6-T-v2.1': torch.load('result/model6-T-v2.1.pt'),\n",
    "    'model6-T-v2.2': torch.load('result/model6-T-v2.2.pt'),\n",
    "    'model6.1-T-v2.2': torch.load('result/model6.1-T-v2.2.pt'),\n",
    "    #'hybrid-T-v2.2': torch.load('result/hybrid-T-v2.2.pt'),\n",
    "}\n",
    "D = TrainedDetector()"
   ]
  },
  {
   "cell_type": "code",
   "execution_count": 8,
   "metadata": {},
   "outputs": [
    {
     "name": "stdout",
     "output_type": "stream",
     "text": [
      "{'src': ['Flying\\nArchfiend', 'of', 'the', 'Dross', 'enters', 'the', 'battlefield', 'with', 'four', 'oil', 'counters', 'on', 'it.\\nAt', 'the', 'beginning', 'of', 'your', 'upkeep,', 'remove', 'an', 'oil', 'counter', 'from', 'Archfiend', 'of', 'the', 'Dross.', 'Then', 'if', 'it', 'has', 'no', 'oil', 'counters', 'on', 'it,', 'you', 'lose', 'the', 'game.\\nWhenever', 'a', 'creature', 'an', 'opponent', 'controls', 'dies,', 'its', 'controller', 'loses', '2', 'life.'], 'trg': ['飞行', '深沼翼邪鬼进战场时上面有四个烁油指示物。', '在你的维持开始时，从深沼翼邪鬼上移去一个烁油指示物。然后如果其上没有烁油指示物，则你输掉这盘游戏。', '每当一个由对手操控的生物死去时，其操控者失去2点生命。']}\n",
      "飞行 <archfiend of the dross>进战场时上面有四个充电指示物。 在你的维持开始时，从<archfiend of the dross>上放置一个烁油指示物。 然后如果其上有烁油上，则你输掉这盘游戏。 每当一个由对手操控的生物死去时，其操控者失去2点生命。\n",
      "{'src': ['Flying\\nArchfiend', 'of', 'the', 'Dross', 'enters', 'the', 'battlefield', 'with', 'four', 'oil', 'counters', 'on', 'it.\\nAt', 'the', 'beginning', 'of', 'your', 'upkeep,', 'remove', 'an', 'oil', 'counter', 'from', 'Archfiend', 'of', 'the', 'Dross.', 'Then', 'if', 'it', 'has', 'no', 'oil', 'counters', 'on', 'it,', 'you', 'lose', 'the', 'game.\\nWhenever', 'a', 'creature', 'an', 'opponent', 'controls', 'dies,', 'its', 'controller', 'loses', '2', 'life.'], 'trg': ['飞行', '深沼翼邪鬼进战场时上面有四个烁油指示物。', '在你的维持开始时，从深沼翼邪鬼上移去一个烁油指示物。然后如果其上没有烁油指示物，则你输掉这盘游戏。', '每当一个由对手操控的生物死去时，其操控者失去2点生命。']}\n",
      "飞行 <archfiend of the dross>进战场时上面有四个烁油指示物。 在你的维持开始时，从<archfiend of the dross>上移去一个烁油指示物。 然后若其上没有烁油指示物，则你输掉这盘游戏。 每当一个由对手操控的生物死去时，其操控者失去2点生命。\n",
      "{'src': ['Flying\\nArchfiend', 'of', 'the', 'Dross', 'enters', 'the', 'battlefield', 'with', 'four', 'oil', 'counters', 'on', 'it.\\nAt', 'the', 'beginning', 'of', 'your', 'upkeep,', 'remove', 'an', 'oil', 'counter', 'from', 'Archfiend', 'of', 'the', 'Dross.', 'Then', 'if', 'it', 'has', 'no', 'oil', 'counters', 'on', 'it,', 'you', 'lose', 'the', 'game.\\nWhenever', 'a', 'creature', 'an', 'opponent', 'controls', 'dies,', 'its', 'controller', 'loses', '2', 'life.'], 'trg': ['飞行', '深沼翼邪鬼进战场时上面有四个烁油指示物。', '在你的维持开始时，从深沼翼邪鬼上移去一个烁油指示物。然后如果其上没有烁油指示物，则你输掉这盘游戏。', '每当一个由对手操控的生物死去时，其操控者失去2点生命。']}\n",
      "飞行 <archfiend of the dross>进战场时上面有四个烁油指示物。 在你的维持开始时，从<archfiend of the dross>上移去一个指示物。 然后如果烁油上没有指示物，则你输掉这盘游戏。 每当一个由对手操控的生物死去时，其操控者失去2点生命。\n",
      "{'src': ['Flying\\nArchfiend', 'of', 'the', 'Dross', 'enters', 'the', 'battlefield', 'with', 'four', 'oil', 'counters', 'on', 'it.\\nAt', 'the', 'beginning', 'of', 'your', 'upkeep,', 'remove', 'an', 'oil', 'counter', 'from', 'Archfiend', 'of', 'the', 'Dross.', 'Then', 'if', 'it', 'has', 'no', 'oil', 'counters', 'on', 'it,', 'you', 'lose', 'the', 'game.\\nWhenever', 'a', 'creature', 'an', 'opponent', 'controls', 'dies,', 'its', 'controller', 'loses', '2', 'life.'], 'trg': ['飞行', '深沼翼邪鬼进战场时上面有四个烁油指示物。', '在你的维持开始时，从深沼翼邪鬼上移去一个烁油指示物。然后如果其上没有烁油指示物，则你输掉这盘游戏。', '每当一个由对手操控的生物死去时，其操控者失去2点生命。']}\n",
      "飞行 <archfiend of the dross>进战场时上面有四个烁油指示物。 在你的维持开始时，从<archfiend of the dross>上移去一个烁油指示物。 然后如果其上没有烁油指示物，则你输掉这盘游戏。 每当一个由对手操控的生物死去时，其操控者失去2点生命。\n"
     ]
    }
   ],
   "source": [
    "dic = {}\n",
    "dic = {'oil':'烁油', 'rebel':'反抗军','compleat':'完化'}\n",
    "helper = CTHelper(D, dic)\n",
    "silent = True\n",
    "CT={}\n",
    "for key in T:\n",
    "    value = T[key]\n",
    "    CT[key]=CardTranslator(sentencize, value, \n",
    "                    preprocess=lambda x: helper.preprocess(x, silent), \n",
    "                    postprocess=lambda x: helper.postprocess(x, silent))\n",
    "\n",
    "# ret = CT.translate(' '.join(example.src))\n",
    "# print(ret)\n",
    "from utils import calculate_testset_bleu\n",
    "for example in random.sample(list(test_data), 1):\n",
    "    for key in CT:\n",
    "        ct=CT[key]\n",
    "        print(vars(example))\n",
    "        ret = ct.translate(' '.join(example.src))\n",
    "        print(ret)\n",
    "        calculate_testset_bleu(list(test_data)[:100], ct)\n",
    "\n"
   ]
  }
 ],
 "metadata": {
  "kernelspec": {
   "display_name": "seq2seq",
   "language": "python",
   "name": "python3"
  },
  "language_info": {
   "codemirror_mode": {
    "name": "ipython",
    "version": 3
   },
   "file_extension": ".py",
   "mimetype": "text/x-python",
   "name": "python",
   "nbconvert_exporter": "python",
   "pygments_lexer": "ipython3",
   "version": "3.9.16"
  },
  "orig_nbformat": 4
 },
 "nbformat": 4,
 "nbformat_minor": 2
}
