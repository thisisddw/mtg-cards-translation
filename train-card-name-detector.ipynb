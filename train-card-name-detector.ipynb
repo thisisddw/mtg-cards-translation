{
 "cells": [
  {
   "cell_type": "code",
   "execution_count": 1,
   "metadata": {},
   "outputs": [
    {
     "name": "stderr",
     "output_type": "stream",
     "text": [
      "c:\\Users\\ddw\\Anaconda3\\envs\\seq2seq\\lib\\site-packages\\tqdm\\auto.py:21: TqdmWarning: IProgress not found. Please update jupyter and ipywidgets. See https://ipywidgets.readthedocs.io/en/stable/user_install.html\n",
      "  from .autonotebook import tqdm as notebook_tqdm\n"
     ]
    }
   ],
   "source": [
    "import torch\n",
    "import torch.nn as nn\n",
    "import torch.optim as optim\n",
    "import torch.nn.functional as F\n",
    "\n",
    "from torchtext.legacy.data import Field, TabularDataset, BucketIterator\n",
    "from dataset.mtgcards import RuleText\n",
    "\n",
    "import random\n",
    "import math\n",
    "import time\n",
    "import os\n",
    "import re\n",
    "import spacy\n",
    "from typing import Callable\n",
    "\n",
    "from tqdm import tqdm"
   ]
  },
  {
   "cell_type": "code",
   "execution_count": 2,
   "metadata": {},
   "outputs": [
    {
     "name": "stdout",
     "output_type": "stream",
     "text": [
      "Number of train_data: 37240  Number of train_data: 980  Number of train_data: 981\n"
     ]
    }
   ],
   "source": [
    "def simple_tokenize(x: str)->list:\n",
    "    return x.split()\n",
    "\n",
    "SRC = Field(tokenize = simple_tokenize, \n",
    "            init_token = '<sos>', \n",
    "            eos_token = '<eos>', \n",
    "            lower = True, \n",
    "            include_lengths=True)\n",
    "TRG = Field(tokenize = simple_tokenize, \n",
    "            init_token = '0', \n",
    "            eos_token = '0', \n",
    "            lower = True)\n",
    "\n",
    "fields = {'src': ('src', SRC), 'trg': ('trg', TRG)}\n",
    "train_data, valid_data, test_data = RuleText.splits(fields=fields, version='cnd')\n",
    "print(f'Number of train_data: {len(train_data)}  Number of train_data: {len(valid_data)}  Number of train_data: {len(test_data)}')"
   ]
  },
  {
   "cell_type": "code",
   "execution_count": 3,
   "metadata": {},
   "outputs": [
    {
     "name": "stdout",
     "output_type": "stream",
     "text": [
      "Unique tokens in source (en) vocabulary: 4844\n",
      "Unique tokens in target (0/1) vocabulary: 4\n"
     ]
    }
   ],
   "source": [
    "SRC.build_vocab(train_data, min_freq = 2)\n",
    "TRG.build_vocab(train_data, min_freq = 2)\n",
    "print(f\"Unique tokens in source (en) vocabulary: {len(SRC.vocab)}\")\n",
    "print(f\"Unique tokens in target (0/1) vocabulary: {len(TRG.vocab)}\")"
   ]
  },
  {
   "cell_type": "code",
   "execution_count": 4,
   "metadata": {},
   "outputs": [
    {
     "name": "stdout",
     "output_type": "stream",
     "text": [
      "cpu\n"
     ]
    }
   ],
   "source": [
    "device = torch.device('cuda' if torch.cuda.is_available() else 'cpu')\n",
    "print(device)\n",
    "BATCH_SIZE = 128\n",
    "\n",
    "train_iterator, valid_iterator, test_iterator = BucketIterator.splits(\n",
    "    (train_data, valid_data, test_data), \n",
    "    batch_size = BATCH_SIZE, \n",
    "    sort_within_batch = True,\n",
    "    sort_key = lambda x: len(x.src),\n",
    "    device = device)"
   ]
  },
  {
   "cell_type": "code",
   "execution_count": 5,
   "metadata": {},
   "outputs": [],
   "source": [
    "class Detector(nn.Module):\n",
    "    def __init__(self, input_dim, emb_dim, hid_dim, output_dim, num_layers, dropout):\n",
    "        super().__init__()\n",
    "        \n",
    "        self.embedding = nn.Embedding(input_dim, emb_dim)\n",
    "        \n",
    "        self.rnn = nn.GRU(emb_dim, hid_dim, num_layers = num_layers, bidirectional = True)\n",
    "\n",
    "        self.fc_out = nn.Linear(hid_dim * 2 + emb_dim, output_dim)\n",
    "        \n",
    "        self.dropout = nn.Dropout(dropout)\n",
    "        \n",
    "    def forward(self, src, src_len):\n",
    "        \n",
    "        #src = [src len, batch size]\n",
    "        #src_len = [batch size]\n",
    "        \n",
    "        embedded = self.dropout(self.embedding(src))\n",
    "        \n",
    "        #embedded = [src len, batch size, emb dim]\n",
    "                \n",
    "        #need to explicitly put lengths on cpu!\n",
    "        packed_embedded = nn.utils.rnn.pack_padded_sequence(embedded, src_len.to('cpu'))\n",
    "                \n",
    "        packed_outputs, hidden = self.rnn(packed_embedded)\n",
    "                                 \n",
    "        #packed_outputs is a packed sequence containing all hidden states\n",
    "        #hidden is now from the final non-padded element in the batch\n",
    "            \n",
    "        outputs, _ = nn.utils.rnn.pad_packed_sequence(packed_outputs) \n",
    "            \n",
    "        #outputs is now a non-packed sequence, all hidden states obtained\n",
    "        #  when the input is a pad token are all zeros\n",
    "            \n",
    "        #outputs = [src len, batch size, hid dim * num directions]\n",
    "        #hidden = [n layers * num directions, batch size, hid dim]\n",
    "        \n",
    "        #hidden is stacked [forward_1, backward_1, forward_2, backward_2, ...]\n",
    "        #outputs are always from the last layer\n",
    "        \n",
    "        outputs = self.fc_out(torch.cat((outputs, embedded), 2))\n",
    "        # outputs = self.fc_out(outputs)\n",
    "        \n",
    "        #outputs = [src len, batch size, output_dim]\n",
    "        \n",
    "        return outputs"
   ]
  },
  {
   "cell_type": "code",
   "execution_count": 6,
   "metadata": {},
   "outputs": [],
   "source": [
    "from models.model4.train import init_weights\n",
    "from utils import count_parameters, train_loop"
   ]
  },
  {
   "cell_type": "code",
   "execution_count": 7,
   "metadata": {},
   "outputs": [
    {
     "data": {
      "text/plain": [
       "Detector(\n",
       "  (embedding): Embedding(4844, 256)\n",
       "  (rnn): GRU(256, 512, num_layers=2, bidirectional=True)\n",
       "  (fc_out): Linear(in_features=1280, out_features=4, bias=True)\n",
       "  (dropout): Dropout(p=0.5, inplace=False)\n",
       ")"
      ]
     },
     "execution_count": 7,
     "metadata": {},
     "output_type": "execute_result"
    }
   ],
   "source": [
    "INPUT_DIM = len(SRC.vocab)\n",
    "OUTPUT_DIM = len(TRG.vocab)\n",
    "EMB_DIM = 256\n",
    "HID_DIM = 512\n",
    "DROPOUT = 0.5\n",
    "NUM_LAYERS = 2\n",
    "SRC_PAD_IDX = SRC.vocab.stoi[SRC.pad_token]\n",
    "\n",
    "model = Detector(INPUT_DIM, EMB_DIM, HID_DIM, OUTPUT_DIM, NUM_LAYERS, DROPOUT).to(device)\n",
    "\n",
    "model.apply(init_weights)"
   ]
  },
  {
   "cell_type": "code",
   "execution_count": 8,
   "metadata": {},
   "outputs": [
    {
     "name": "stdout",
     "output_type": "stream",
     "text": [
      "The model has 8,335,364 trainable parameters\n"
     ]
    }
   ],
   "source": [
    "print(f'The model has {count_parameters(model):,} trainable parameters')"
   ]
  },
  {
   "cell_type": "code",
   "execution_count": 9,
   "metadata": {},
   "outputs": [],
   "source": [
    "def train(model, iterator, optimizer, criterion, clip):\n",
    "    \n",
    "    model.train()\n",
    "    \n",
    "    epoch_loss = 0\n",
    "    \n",
    "    # print(f'Number of batchs: {len(iterator)}')\n",
    "    for i, batch in tqdm(enumerate(iterator), total=len(iterator)):\n",
    "        \n",
    "        src, src_len = batch.src\n",
    "        trg = batch.trg\n",
    "        \n",
    "        optimizer.zero_grad()\n",
    "        \n",
    "        output = model(src, src_len)\n",
    "        \n",
    "        #trg = [trg len, batch size]\n",
    "        #output = [src len, batch size, output dim]\n",
    "        \n",
    "        output_dim = output.shape[-1]\n",
    "        \n",
    "        output = output[1:].view(-1, output_dim)\n",
    "        trg = trg[1:].view(-1)\n",
    "        \n",
    "        #trg = [(trg len - 1) * batch size]\n",
    "        #output = [(trg len - 1) * batch size, output dim]\n",
    "        \n",
    "        loss = criterion(output, trg)\n",
    "\n",
    "        loss.backward()\n",
    "        \n",
    "        torch.nn.utils.clip_grad_norm_(model.parameters(), clip)\n",
    "        \n",
    "        optimizer.step()\n",
    "        \n",
    "        epoch_loss += loss.item()\n",
    "        \n",
    "    return epoch_loss / len(iterator)\n",
    "\n",
    "def evaluate(model, iterator, criterion):\n",
    "    \n",
    "    model.eval()\n",
    "    \n",
    "    epoch_loss = 0\n",
    "    \n",
    "    with torch.no_grad():\n",
    "    \n",
    "        for i, batch in tqdm(enumerate(iterator), total=len(iterator)):\n",
    "            \n",
    "            src, src_len = batch.src\n",
    "            trg = batch.trg\n",
    "            \n",
    "            output = model(src, src_len)\n",
    "            \n",
    "            #trg = [trg len, batch size]\n",
    "            #output = [src len, batch size, output dim]\n",
    "            \n",
    "            output_dim = output.shape[-1]\n",
    "            \n",
    "            output = output[1:].view(-1, output_dim)\n",
    "            trg = trg[1:].view(-1)\n",
    "            \n",
    "            #trg = [(trg len - 1) * batch size]\n",
    "            #output = [(trg len - 1) * batch size, output dim]\n",
    "            \n",
    "            loss = criterion(output, trg)\n",
    "\n",
    "            epoch_loss += loss.item()\n",
    "        \n",
    "    return epoch_loss / len(iterator)"
   ]
  },
  {
   "cell_type": "code",
   "execution_count": 10,
   "metadata": {},
   "outputs": [],
   "source": [
    "optimizer = optim.Adam(model.parameters())\n",
    "TRG_PAD_IDX = TRG.vocab.stoi[TRG.pad_token]\n",
    "criterion = nn.CrossEntropyLoss(ignore_index = TRG_PAD_IDX)\n",
    "\n",
    "def epoch_time(start_time, end_time):\n",
    "    elapsed_time = end_time - start_time\n",
    "    elapsed_mins = int(elapsed_time / 60)\n",
    "    elapsed_secs = int(elapsed_time - (elapsed_mins * 60))\n",
    "    return elapsed_mins, elapsed_secs"
   ]
  },
  {
   "cell_type": "code",
   "execution_count": 11,
   "metadata": {},
   "outputs": [
    {
     "name": "stderr",
     "output_type": "stream",
     "text": [
      "  2%|▏         | 5/291 [00:11<11:25,  2.40s/it]\n"
     ]
    },
    {
     "ename": "KeyboardInterrupt",
     "evalue": "",
     "output_type": "error",
     "traceback": [
      "\u001b[1;31m---------------------------------------------------------------------------\u001b[0m",
      "\u001b[1;31mKeyboardInterrupt\u001b[0m                         Traceback (most recent call last)",
      "Cell \u001b[1;32mIn[11], line 12\u001b[0m\n\u001b[0;32m      8\u001b[0m \u001b[39mfor\u001b[39;00m epoch \u001b[39min\u001b[39;00m \u001b[39mrange\u001b[39m(N_EPOCHS):\n\u001b[0;32m     10\u001b[0m     start_time \u001b[39m=\u001b[39m time\u001b[39m.\u001b[39mtime()\n\u001b[1;32m---> 12\u001b[0m     train_loss \u001b[39m=\u001b[39m train(model, train_iterator, optimizer, criterion, CLIP)\n\u001b[0;32m     13\u001b[0m     valid_loss \u001b[39m=\u001b[39m evaluate(model, valid_iterator, criterion)\n\u001b[0;32m     15\u001b[0m     end_time \u001b[39m=\u001b[39m time\u001b[39m.\u001b[39mtime()\n",
      "Cell \u001b[1;32mIn[9], line 30\u001b[0m, in \u001b[0;36mtrain\u001b[1;34m(model, iterator, optimizer, criterion, clip)\u001b[0m\n\u001b[0;32m     25\u001b[0m \u001b[39m#trg = [(trg len - 1) * batch size]\u001b[39;00m\n\u001b[0;32m     26\u001b[0m \u001b[39m#output = [(trg len - 1) * batch size, output dim]\u001b[39;00m\n\u001b[0;32m     28\u001b[0m loss \u001b[39m=\u001b[39m criterion(output, trg)\n\u001b[1;32m---> 30\u001b[0m loss\u001b[39m.\u001b[39;49mbackward()\n\u001b[0;32m     32\u001b[0m torch\u001b[39m.\u001b[39mnn\u001b[39m.\u001b[39mutils\u001b[39m.\u001b[39mclip_grad_norm_(model\u001b[39m.\u001b[39mparameters(), clip)\n\u001b[0;32m     34\u001b[0m optimizer\u001b[39m.\u001b[39mstep()\n",
      "File \u001b[1;32mc:\\Users\\ddw\\Anaconda3\\envs\\seq2seq\\lib\\site-packages\\torch\\_tensor.py:255\u001b[0m, in \u001b[0;36mTensor.backward\u001b[1;34m(self, gradient, retain_graph, create_graph, inputs)\u001b[0m\n\u001b[0;32m    246\u001b[0m \u001b[39mif\u001b[39;00m has_torch_function_unary(\u001b[39mself\u001b[39m):\n\u001b[0;32m    247\u001b[0m     \u001b[39mreturn\u001b[39;00m handle_torch_function(\n\u001b[0;32m    248\u001b[0m         Tensor\u001b[39m.\u001b[39mbackward,\n\u001b[0;32m    249\u001b[0m         (\u001b[39mself\u001b[39m,),\n\u001b[1;32m   (...)\u001b[0m\n\u001b[0;32m    253\u001b[0m         create_graph\u001b[39m=\u001b[39mcreate_graph,\n\u001b[0;32m    254\u001b[0m         inputs\u001b[39m=\u001b[39minputs)\n\u001b[1;32m--> 255\u001b[0m torch\u001b[39m.\u001b[39;49mautograd\u001b[39m.\u001b[39;49mbackward(\u001b[39mself\u001b[39;49m, gradient, retain_graph, create_graph, inputs\u001b[39m=\u001b[39;49minputs)\n",
      "File \u001b[1;32mc:\\Users\\ddw\\Anaconda3\\envs\\seq2seq\\lib\\site-packages\\torch\\autograd\\__init__.py:147\u001b[0m, in \u001b[0;36mbackward\u001b[1;34m(tensors, grad_tensors, retain_graph, create_graph, grad_variables, inputs)\u001b[0m\n\u001b[0;32m    144\u001b[0m \u001b[39mif\u001b[39;00m retain_graph \u001b[39mis\u001b[39;00m \u001b[39mNone\u001b[39;00m:\n\u001b[0;32m    145\u001b[0m     retain_graph \u001b[39m=\u001b[39m create_graph\n\u001b[1;32m--> 147\u001b[0m Variable\u001b[39m.\u001b[39;49m_execution_engine\u001b[39m.\u001b[39;49mrun_backward(\n\u001b[0;32m    148\u001b[0m     tensors, grad_tensors_, retain_graph, create_graph, inputs,\n\u001b[0;32m    149\u001b[0m     allow_unreachable\u001b[39m=\u001b[39;49m\u001b[39mTrue\u001b[39;49;00m, accumulate_grad\u001b[39m=\u001b[39;49m\u001b[39mTrue\u001b[39;49;00m)\n",
      "\u001b[1;31mKeyboardInterrupt\u001b[0m: "
     ]
    }
   ],
   "source": [
    "N_EPOCHS = 10\n",
    "CLIP = 1\n",
    "\n",
    "best_valid_loss = float('inf')\n",
    "\n",
    "file_name = 'cn-mask-model.pt'\n",
    "\n",
    "for epoch in range(N_EPOCHS):\n",
    "    \n",
    "    start_time = time.time()\n",
    "    \n",
    "    train_loss = train(model, train_iterator, optimizer, criterion, CLIP)\n",
    "    valid_loss = evaluate(model, valid_iterator, criterion)\n",
    "    \n",
    "    end_time = time.time()\n",
    "    \n",
    "    epoch_mins, epoch_secs = epoch_time(start_time, end_time)\n",
    "    \n",
    "    if valid_loss < best_valid_loss:\n",
    "        best_valid_loss = valid_loss\n",
    "        torch.save(model.state_dict(), file_name)\n",
    "    \n",
    "    print(f'Epoch: {epoch+1:02} | Time: {epoch_mins}m {epoch_secs}s')\n",
    "    print(f'\\tTrain Loss: {train_loss:.3f} | Train PPL: {math.exp(train_loss):7.3f}')\n",
    "    print(f'\\t Val. Loss: {valid_loss:.3f} |  Val. PPL: {math.exp(valid_loss):7.3f}')"
   ]
  },
  {
   "cell_type": "code",
   "execution_count": 79,
   "metadata": {},
   "outputs": [
    {
     "name": "stdout",
     "output_type": "stream",
     "text": [
      "['when', 'squadron', 'hawk', 'enters', 'the', 'battlefield', ',', 'you', 'may', 'search', 'your', 'library', 'for', 'up', 'to', 'three', 'cards', 'named', 'squadron', 'hawk', ',', 'reveal', 'them', ',', 'put', 'them', 'into', 'your', 'hand', ',', 'then', 'shuffle', '.']\n",
      "([['0', '1', '1', '0', '0', '0', '0', '0', '0', '0', '0', '0', '0', '0', '0', '0', '0', '0', '0', '0', '0', '0', '0', '0', '0', '0', '0', '0', '0', '0', '0', '0', '0', '0']], [0.000128699277411215, 0.9999594688415527, 0.9999862909317017, 1.820418901843368e-06, 2.550347133478681e-08, 4.9496897247536253e-08, 1.0808946626639226e-08, 1.3701204615301776e-09, 1.541576821750823e-08, 1.489890109951375e-05, 9.471022188733969e-09, 6.454686118928521e-09, 4.723096580505626e-09, 3.0016389374054597e-09, 2.962586176380455e-09, 7.407108260082396e-10, 8.776032123236632e-10, 5.687177804247767e-07, 0.10927976667881012, 0.16197699308395386, 1.6219815734075382e-05, 1.3087503303310655e-09, 1.3123041542328906e-10, 5.978242345605622e-10, 1.0656882043491578e-09, 8.850917915248502e-11, 7.594312956271665e-10, 1.9492875369397922e-10, 1.1810461941763606e-08, 3.97065935686669e-09, 1.2549069561273996e-09, 3.4697238415759557e-09, 1.9787858462905206e-08, 1.909196534199964e-08])\n"
     ]
    }
   ],
   "source": [
    "def detect_card_name(sentence: str, src_field: Field, trg_field: Field, model, device, **kwargs):\n",
    "    model.eval()\n",
    "\n",
    "    with torch.no_grad():\n",
    "        input = src_field.preprocess(sentence)\n",
    "        print(input)\n",
    "        input, len = src_field.process([input])\n",
    "        logits = model(input.to(device), len).squeeze(dim=1)\n",
    "        probs = F.softmax(logits, dim=1)[:,trg_field.vocab.stoi['1']]\n",
    "        id_list = logits.argmax(dim=1)\n",
    "        output = [trg_field.vocab.itos[x] for x in id_list]\n",
    "\n",
    "    return [output[1:]], [x.item() for x in list(probs)[1:]]\n",
    "\n",
    "model.load_state_dict(torch.load(file_name, map_location=torch.device(device)))\n",
    "data = 'when squadron hawk enters the battlefield , you may search your library for up to three cards named squadron hawk , reveal them , put them into your hand , then shuffle .'\n",
    "pred = detect_card_name(data, SRC, TRG, model, device)\n",
    "print(pred)"
   ]
  },
  {
   "cell_type": "code",
   "execution_count": 72,
   "metadata": {},
   "outputs": [],
   "source": [
    "from utils.translate import Translator\n",
    "model.load_state_dict(torch.load(file_name, map_location=torch.device(device)))\n",
    "T = Translator(SRC, TRG, model, device, detect_card_name)"
   ]
  },
  {
   "cell_type": "code",
   "execution_count": 74,
   "metadata": {},
   "outputs": [
    {
     "name": "stdout",
     "output_type": "stream",
     "text": [
      "['when', 'xbp', ',', 'the', 'greatest', 'one', 'enters', 'the', 'battlefield', ',', 'other', 'creatures', 'you', 'control', 'get', '+', '1', '/', '+', '1', 'until', 'end', 'of', 'turn', '.']\n",
      "[['0', '0', '0', '0', '0', '0', '0', '0', '0', '0', '0', '0', '0', '0', '0', '0', '0', '0', '0', '0', '0', '0', '0', '0', '0', '0']]\n",
      "[2.3747002160234842e-06, 0.4759068787097931, 0.06690655648708344, 0.15563955903053284, 0.0015627037500962615, 0.008867300115525723, 1.6062978502873193e-08, 4.173410417251944e-08, 2.9044116445220425e-07, 6.742133251691484e-08, 3.217904553931561e-10, 1.353527290248735e-10, 3.536294035377807e-10, 1.516903380682777e-09, 2.9533731016329057e-09, 9.621600405296249e-09, 3.1035025660486326e-09, 5.420458526472771e-10, 7.021184078581655e-09, 3.5951785992693885e-09, 6.923982276418883e-09, 5.586129555013031e-05, 2.3767276502439927e-07, 1.3846920410287566e-07, 1.6650687939545605e-08, 3.5055805369665904e-08]\n"
     ]
    }
   ],
   "source": [
    "data = 'when xbp , the greatest one enters the battlefield , other creatures you control get + 1 / + 1 until end of turn .'\n",
    "ret, probs = T.translate(data)\n",
    "print(ret)\n",
    "print(probs)"
   ]
  },
  {
   "cell_type": "code",
   "execution_count": 78,
   "metadata": {},
   "outputs": [
    {
     "name": "stdout",
     "output_type": "stream",
     "text": [
      "Number of samples: 49\n",
      "['when', 'squadron', 'hawk', 'enters', 'the', 'battlefield', ',', 'you', 'may', 'search', 'your', 'library', 'for', 'up', 'to', 'three', 'cards', 'named', 'squadron', 'hawk', ',', 'reveal', 'them', ',', 'put', 'them', 'into', 'your', 'hand', ',', 'then', 'shuffle', '.']\n",
      "src: [when squadron hawk enters the battlefield , you may search your library for up to three cards named squadron hawk , reveal them , put them into your hand , then shuffle . ] trg = [011000000000000000110000000000000]\n",
      "0110000000000000000000000000000000 \t[probability: 0.00013]\n"
     ]
    },
    {
     "ename": "IndexError",
     "evalue": "list index out of range",
     "output_type": "error",
     "traceback": [
      "\u001b[1;31m---------------------------------------------------------------------------\u001b[0m",
      "\u001b[1;31mIndexError\u001b[0m                                Traceback (most recent call last)",
      "Cell \u001b[1;32mIn[78], line 4\u001b[0m\n\u001b[0;32m      2\u001b[0m long_data \u001b[39m=\u001b[39m [x \u001b[39mfor\u001b[39;00m x \u001b[39min\u001b[39;00m test_data\u001b[39m.\u001b[39mexamples \u001b[39mif\u001b[39;00m \u001b[39mlen\u001b[39m(x\u001b[39m.\u001b[39msrc) \u001b[39m>\u001b[39m \u001b[39m30\u001b[39m]\n\u001b[0;32m      3\u001b[0m \u001b[39mprint\u001b[39m(\u001b[39mf\u001b[39m\u001b[39m'\u001b[39m\u001b[39mNumber of samples: \u001b[39m\u001b[39m{\u001b[39;00m\u001b[39mlen\u001b[39m(long_data)\u001b[39m}\u001b[39;00m\u001b[39m'\u001b[39m)\n\u001b[1;32m----> 4\u001b[0m show_samples(long_data, T, n\u001b[39m=\u001b[39;49m\u001b[39m3\u001b[39;49m, beam_size\u001b[39m=\u001b[39;49m\u001b[39m3\u001b[39;49m)\n",
      "File \u001b[1;32md:\\ddw\\school\\大三下\\语音信息处理技术\\期末作业\\code\\mtg-cards-translation\\utils\\__init__.py:67\u001b[0m, in \u001b[0;36mshow_samples\u001b[1;34m(dataset, translator, n, beam_size)\u001b[0m\n\u001b[0;32m     65\u001b[0m \u001b[39mprint\u001b[39m(\u001b[39mf\u001b[39m\u001b[39m'\u001b[39m\u001b[39msrc: [\u001b[39m\u001b[39m{\u001b[39;00mtmp\u001b[39m}\u001b[39;00m\u001b[39m] trg = [\u001b[39m\u001b[39m{\u001b[39;00mtok_cat(s\u001b[39m.\u001b[39mtrg)\u001b[39m}\u001b[39;00m\u001b[39m]\u001b[39m\u001b[39m'\u001b[39m)\n\u001b[0;32m     66\u001b[0m \u001b[39mfor\u001b[39;00m i \u001b[39min\u001b[39;00m \u001b[39mrange\u001b[39m(\u001b[39m3\u001b[39m):\n\u001b[1;32m---> 67\u001b[0m     \u001b[39mprint\u001b[39m(tok_cat(toks[i]), \u001b[39mf\u001b[39m\u001b[39m'\u001b[39m\u001b[39m\\t\u001b[39;00m\u001b[39m[probability: \u001b[39m\u001b[39m{\u001b[39;00mprobs[i]\u001b[39m:\u001b[39;00m\u001b[39m.5f\u001b[39m\u001b[39m}\u001b[39;00m\u001b[39m]\u001b[39m\u001b[39m'\u001b[39m)\n\u001b[0;32m     68\u001b[0m \u001b[39mprint\u001b[39m(\u001b[39m'\u001b[39m\u001b[39m'\u001b[39m)\n",
      "\u001b[1;31mIndexError\u001b[0m: list index out of range"
     ]
    }
   ],
   "source": [
    "from utils import show_samples\n",
    "long_data = [x for x in test_data.examples if len(x.src) > 30]\n",
    "print(f'Number of samples: {len(long_data)}')\n",
    "show_samples(long_data, T, n=3, beam_size=3)"
   ]
  },
  {
   "cell_type": "code",
   "execution_count": null,
   "metadata": {},
   "outputs": [],
   "source": [
    "from utils import calculate_bleu\n",
    "\n",
    "bleu = calculate_bleu(long_data, lambda x: T.translate(x, beam_size=3)[0][0])\n",
    "print(bleu*100)"
   ]
  },
  {
   "cell_type": "code",
   "execution_count": 14,
   "metadata": {},
   "outputs": [],
   "source": [
    "import json\n",
    "\n",
    "with open('src_vocab.json', 'w') as f:\n",
    "    json.dump(SRC.vocab.stoi, f, ensure_ascii=False)\n",
    "with open('trg_vocab.json', 'w') as f:\n",
    "    json.dump(TRG.vocab.stoi, f, ensure_ascii=False)"
   ]
  },
  {
   "cell_type": "code",
   "execution_count": 25,
   "metadata": {},
   "outputs": [],
   "source": [
    "torch.save(SRC.vocab, 'src_vocab.pt')\n",
    "torch.save(TRG.vocab, 'trg_vocab.pt')"
   ]
  },
  {
   "cell_type": "code",
   "execution_count": 24,
   "metadata": {},
   "outputs": [
    {
     "name": "stdout",
     "output_type": "stream",
     "text": [
      "defaultdict(<bound method Vocab._default_unk_index of <torchtext.legacy.vocab.Vocab object at 0x00000225449CF190>>, {'<unk>': 0, '<pad>': 1, '<sos>': 2, '<eos>': 3, '.': 4, ',': 5, 'you': 6, '{': 7, '}': 8, 'the': 9, 'a': 10, 'creature': 11, '1': 12, 'of': 13, '+': 14, 'your': 15, '/': 16, 'to': 17, 'target': 18, 'it': 19, 'card': 20, 'this': 21, 'control': 22, ':': 23, 'battlefield': 24, 'or': 25, 'turn': 26, '2': 27, 'and': 28, 'that': 29, 'if': 30, 'enters': 31, 'on': 32, 'put': 33, 'whenever': 34, 'may': 35, 'with': 36, \"'s\": 37, 'end': 38, 'each': 39, 'when': 40, 'cast': 41, 'from': 42, 'until': 43, 'damage': 44, 'spell': 45, 'as': 46, 'an': 47, 'player': 48, 'cards': 49, 'flying': 50, 'creatures': 51, 't': 52, 'counter': 53, 'for': 54, '3': 55, 'its': 56, 'hand': 57, 'life': 58, 'library': 59, 'deals': 60, 'graveyard': 61, 'gets': 62, \"n't\": 63, 'x': 64, 'mana': 65, '-': 66, 'draw': 67, 'at': 68, 'is': 69, 'create': 70, 'exile': 71, 'opponent': 72, 'token': 73, '—': 74, 'any': 75, 'two': 76, '\"': 77, 'sacrifice': 78, 'land': 79, 'one': 80, 'gain': 81, 'in': 82, 'artifact': 83, 'then': 84, '0': 85, 'return': 86, 'counters': 87, 'into': 88, 'r': 89, '4': 90, 'add': 91, 'beginning': 92, 'cost': 93, 'b': 94, 'ca': 95, 'top': 96, 'do': 97, 'has': 98, 'number': 99, 'g': 100, 'u': 101, 'be': 102, 'power': 103, 'other': 104, 'w': 105, 'have': 106, 'choose': 107, 'gains': 108, 'permanent': 109, 'combat': 110, 'non': 111, 'more': 112, 'all': 113, 'another': 114, 'up': 115, 'attacks': 116, 'their': 117, 'destroy': 118, 'under': 119, 'pay': 120, 'equal': 121, 'haste': 122, 'get': 123, 'tapped': 124, 'less': 125, 'discard': 126, 'only': 127, 'sorcery': 128, 'trample': 129, 'enchanted': 130, 'step': 131, 'untap': 132, 'three': 133, 'dies': 134, 'owner': 135, 'becomes': 136, 'long': 137, 'next': 138, '•': 139, 'reveal': 140, 'controls': 141, '5': 142, 'planeswalker': 143, 'first': 144, 'white': 145, 'tap': 146, 'value': 147, 'copy': 148, 'upkeep': 149, 'them': 150, 'color': 151, 'strike': 152, 'enchant': 153, 'onto': 154, 'green': 155, 'blocked': 156, 'tokens': 157, 'among': 158, 'they': 159, 'activate': 160, 'vigilance': 161, 'by': 162, 'where': 163, 'loses': 164, 'attacking': 165, 'spells': 166, 'than': 167, 'can': 168, 'black': 169, 'instant': 170, 'would': 171, 'controller': 172, 'way': 173, 'shuffle': 174, 'bottom': 175, 'dealt': 176, 'search': 177, 'time': 178, 'instead': 179, 'additional': 180, 'look': 181, 'was': 182, 'enchantment': 183, '−': 184, 'costs': 185, 'face': 186, 'those': 187, 'toughness': 188, 'block': 189, 'red': 190, 'equipped': 191, 'rest': 192, 'ability': 193, 'lifelink': 194, 'are': 195, 'during': 196, 'abilities': 197, 'unless': 198, 'permanents': 199, 'c': 200, 'remove': 201, 'without': 202, 'equip': 203, 'opponents': 204, 'exiled': 205, 'order': 206, 'paying': 207, 'attack': 208, 'flash': 209, 'lands': 210, 'deathtouch': 211, 'four': 212, 'blue': 213, 'type': 214, 'dragon': 215, 'e': 216, 'random': 217, 'indestructible': 218, 'targets': 219, 'discards': 220, 'colorless': 221, 'menace': 222, 'greater': 223, 'spirit': 224, 'artifacts': 225, 'basic': 226, 'except': 227, 'scry': 228, 'types': 229, 'chosen': 230, 'lose': 231, 'down': 232, 'no': 233, 'reach': 234, 'zombie': 235, 'able': 236, 'defender': 237, 'name': 238, 'double': 239, '6': 240, 'many': 241, 'does': 242, 'warrior': 243, 'play': 244, 'total': 245, 'partner': 246, 'sacrifices': 247, 'both': 248, '7': 249, 'game': 250, 'legendary': 251, 'untapped': 252, 'after': 253, 'players': 254, 'treasure': 255, 'attach': 256, 'prevent': 257, 'there': 258, 'human': 259, 'named': 260, 'deal': 261, 'five': 262, 'hexproof': 263, 'pays': 264, 'elemental': 265, 'charge': 266, 'addition': 267, 'kicked': 268, 'mills': 269, 'much': 270, 'draws': 271, 'goblin': 272, 'reveals': 273, 'own': 274, 'paid': 275, \"'\": 276, 'defending': 277, 'protection': 278, 'form': 279, 'activated': 280, 'aura': 281, 'cycling': 282, 'blocks': 283, 'enter': 284, 'new': 285, 'had': 286, 'spent': 287, 'equipment': 288, 'once': 289, 'rather': 290, 'commander': 291, 'leaves': 292, 'mill': 293, 'base': 294, 'kicker': 295, 'though': 296, 'attached': 297, 'soldier': 298, 'seven': 299, 'spend': 300, 'source': 301, 'plus': 302, 'amount': 303, 'revealed': 304, '8': 305, 'landfall': 306, 'morph': 307, 'sacrificed': 308, 'vehicle': 309, 'puts': 310, 'same': 311, '|': 312, 'level': 313, 'vampire': 314, 'casts': 315, 'iii': 316, 'colors': 317, 'phase': 318, 'second': 319, 'still': 320, 'were': 321, 'arcane': 322, 'blocking': 323, 'crew': 324, 'angel': 325, 'commanders': 326, 'attacked': 327, 'blood': 328, 'causes': 329, 'could': 330, 'devotion': 331, 'also': 332, 'foretell': 333, 'regenerate': 334, 'roll': 335, 'snow': 336, 'mutate': 337, 's': 338, 'giant': 339, 'knight': 340, 'last': 341, 'otherwise': 342, 'shuffles': 343, '9': 344, 'countered': 345, \"'ve\": 346, 'either': 347, 'while': 348, 'not': 349, 'effects': 350, 'poison': 351, 'rogue': 352, \"'re\": 353, 'creates': 354, 'lore': 355, 'wizard': 356, 'monstrous': 357, 'ward': 358, 'graveyards': 359, 'least': 360, 'cleric': 361, 'different': 362, 'wolf': 363, 'elf': 364, 'merfolk': 365, 'lost': 366, 'choice': 367, 'loyalty': 368, 'owners': 369, 'removed': 370, 'who': 371, 'd': 372, 'alone': 373, 'become': 374, 'room': 375, 'greatest': 376, 'emblem': 377, 'anywhere': 378, 'madness': 379, 'energy': 380, 'party': 381, 'multicolored': 382, 'win': 383, 'saga': 384, 'unearth': 385, 'copies': 386, 'died': 387, 'dungeon': 388, 'forest': 389, 'phyrexian': 390, 'infect': 391, 'exiles': 392, 'triggers': 393, 'changeling': 394, 'hydra': 395, 'planeswalkers': 396, 'saproling': 397, 'sliver': 398, 'times': 399, 'bestow': 400, 'background': 401, 'six': 402, 'starting': 403, 'twice': 404, 'champion': 405, 'hands': 406, 'city': 407, 'monarch': 408, 'beast': 409, 'every': 410, 'fights': 411, 'demon': 412, 'die': 413, 'flip': 414, 'megamorph': 415, 'zone': 416, 'ally': 417, 'chandra': 418, 'draft': 419, 'plains': 420, 'kind': 421, 'ten': 422, 'channel': 423, 'chooses': 424, 'command': 425, 'blessing': 426, 'destroyed': 427, 'domain': 428, 'night': 429, 'say': 430, 'shares': 431, 'controlled': 432, 'cycle': 433, 'discarded': 434, 'help': 435, 'ii': 436, 'leave': 437, 'soul': 438, 'suspend': 439, 'take': 440, 'before': 441, 'cascade': 442, 'evoke': 443, 'golem': 444, 'paired': 445, 'splice': 446, 'start': 447, 'storm': 448, 'did': 449, 'escape': 450, 'half': 451, 'p': 452, 'i': 453, 'island': 454, 'casting': 455, 'day': 456, 'excess': 457, 'quest': 458, 'army': 459, 'dinosaur': 460, 'enough': 461, 'historic': 462, 'delirium': 463, 'flame': 464, 'overload': 465, 'samurai': 466, 'shield': 467, 'eldrazi': 468, 'fire': 469, 'gate': 470, 'mage': 471, 'main': 472, 'myr': 473, 'turned': 474, 'change': 475, 'dash': 476, 'devoid': 477, 'later': 478, 'lesser': 479, 'result': 480, 'share': 481, 'construct': 482, 'gained': 483, 'shadow': 484, 'size': 485, 'enchantments': 486, 'venture': 487, 'bird': 488, 'resolves': 489, 'again': 490, 'cat': 491, 'heroic': 492, 'maximum': 493, 'outside': 494, 'returned': 495, 'shaman': 496, 'wurm': 497, 'age': 498, 'conspiracy': 499, 'divided': 500, 'insect': 501, 'prowess': 502, 'remains': 503, 'auras': 504, 'ogre': 505, 'shrine': 506, 'zombies': 507, 'cause': 508, 'convoke': 509, 'desert': 510, 'echo': 511, 'faerie': 512, 'monstrosity': 513, 'proliferate': 514, 'remain': 515, 'represents': 516, 'swamp': 517, 'war': 518, 'already': 519, 'blitz': 520, 'devil': 521, 'exalted': 522, 'give': 523, 'master': 524, 'mountain': 525, 'pack': 526, 'rounded': 527, 'serpent': 528, 'advance': 529, 'ancient': 530, 'captain': 531, 'citizen': 532, 'extra': 533, 'horror': 534, 'hunter': 535, 'ninjutsu': 536, 'wither': 537, 'clash': 538, 'counts': 539, 'god': 540, 'guardian': 541, 'metalcraft': 542, 'prevented': 543, 'q': 544, 'steps': 545, 'surge': 546, 'toward': 547, 'troll': 548, 'votes': 549, 'embalm': 550, 'exert': 551, 'lightning': 552, 'most': 553, 'paladin': 554, 'pirate': 555, 'servo': 556, 'surveil': 557, 'triggered': 558, 'tyrant': 559, 'eight': 560, 'food': 561, 'higher': 562, 'initiative': 563, 'kithkin': 564, 'myojin': 565, 'over': 566, 'raid': 567, 'returns': 568, 'thopter': 569, 'back': 570, 'constellation': 571, 'deck': 572, 'dragons': 573, 'drake': 574, 'exactly': 575, 'manifest': 576, 'phoenix': 577, 'putting': 578, 'reconfigure': 579, 'replicate': 580, 'spawn': 581, 'sphinx': 582, 'treefolk': 583, 'wins': 584, 'wo': 585, 'aether': 586, 'bushido': 587, 'clashing': 588, 'entered': 589, 'fewer': 590, 'instances': 591, 'left': 592, 'mentor': 593, 'must': 594, 'mutates': 595, 'out': 596, 'turns': 597, 'vehicles': 598, 'beyond': 599, 'coin': 600, 'consists': 601, 'eye': 602, 'goad': 603, 'highest': 604, 'magecraft': 605, 'miracle': 606, 'ooze': 607, 'tied': 608, 'trigger': 609, 'companion': 610, 'effect': 611, 'kami': 612, 'single': 613, 'spore': 614, 'blade': 615, 'created': 616, 'death': 617, 'discarding': 618, 'elite': 619, 'elves': 620, 'lord': 621, 'sky': 622, 'snake': 623, 'soulbond': 624, 'spider': 625, 'text': 626, 'third': 627, 'titan': 628, 'warden': 629, 'ascend': 630, 'eternalize': 631, 'exerted': 632, 'kraken': 633, 'outlast': 634, 'pair': 635, 'persist': 636, 'phases': 637, 'powers': 638, 'rats': 639, 'rebound': 640, 'scavenge': 641, 'sentinel': 642, 'totem': 643, 'unblocked': 644, 'bolster': 645, 'dead': 646, 'eternal': 647, 'flanking': 648, 'ice': 649, 'legendaries': 650, 'rage': 651, 'sagas': 652, 'sun': 653, 'unpaired': 654, 'affinity': 655, 'amass': 656, 'attacker': 657, 'battle': 658, 'cleave': 659, 'decayed': 660, 'distribute': 661, 'encoded': 662, 'fleet': 663, 'learn': 664, 'legion': 665, 'living': 666, 'milled': 667, 'modified': 668, 'move': 669, 'names': 670, 'pile': 671, 'prowl': 672, 'replacing': 673, 'spectacle': 674, 'tribute': 675, 'wall': 676, 'werewolf': 677, 'aven': 678, 'bloodthirst': 679, 'combination': 680, 'difference': 681, 'druid': 682, 'exchange': 683, 'explores': 684, 'gideon': 685, 'griffin': 686, 'illusion': 687, 'kor': 688, 'lesson': 689, 'modular': 690, 'piles': 691, 'symbol': 692, 'targeted': 693, 'courier': 694, 'emerge': 695, 'encore': 696, 'fury': 697, 'guide': 698, 'hellkite': 699, 'humans': 700, 'intimidate': 701, 'pit': 702, 'process': 703, 'regular': 704, 'rider': 705, 'skyclave': 706, 'stack': 707, 'unattach': 708, 'vampires': 709, 'vote': 710, 'blast': 711, 'boar': 712, 'bridge': 713, 'cavalier': 714, 'centaur': 715, 'council': 716, 'disciple': 717, 'drew': 718, 'exploit': 719, 'ferocious': 720, 'frost': 721, 'gargoyle': 722, 'ghost': 723, 'growth': 724, 'heart': 725, 'hellbent': 726, 'hero': 727, 'infiltrator': 728, 'minotaur': 729, 'modifications': 730, 'ravenous': 731, 'repeat': 732, 'sacrificing': 733, 'scion': 734, 'scourge': 735, 'so': 736, 'soulshift': 737, 'veteran': 738, 'adamant': 739, 'anything': 740, 'bear': 741, 'berserker': 742, 'brawler': 743, 'comes': 744, 'completed': 745, 'connives': 746, 'coven': 747, 'done': 748, 'enrage': 749, 'exploits': 750, 'fiend': 751, 'fight': 752, 'fractal': 753, 'improvise': 754, 'libraries': 755, 'molten': 756, 'myriad': 757, 'priest': 758, 'pyromancer': 759, 'rakdos': 760, 'sage': 761, 'servant': 762, 'shade': 763, 'siege': 764, 'slivers': 765, 'spirits': 766, 'swarm': 767, 'activating': 768, 'avenger': 769, 'burning': 770, 'cohort': 771, 'cumulative': 772, 'dark': 773, 'gates': 774, 'inferno': 775, 'jace': 776, 'melee': 777, 'mirror': 778, 'ninja': 779, 'opening': 780, 'plague': 781, 'protector': 782, 'rat': 783, 'reduced': 784, 'regenerated': 785, 'renegade': 786, 'shroud': 787, 'skeleton': 788, 'split': 789, 'squirrel': 790, 'team': 791, 'thief': 792, 'underworld': 793, 'void': 794, 'adds': 795, 'adventure': 796, 'alliance': 797, 'battalion': 798, 'boast': 799, 'booster': 800, 'came': 801, 'casualty': 802, 'corruption': 803, 'cyclops': 804, 'doom': 805, 'guard': 806, 'hatchling': 807, 'hidden': 808, 'inspired': 809, 'islands': 810, 'keeper': 811, 'leyline': 812, 'midnight': 813, 'mimic': 814, 'mode': 815, 'nine': 816, 'reduces': 817, 'revolt': 818, 'sentry': 819, 'sources': 820, 'strive': 821, 'weapon': 822, ';': 823, '[': 824, ']': 825, 'agent': 826, 'been': 827, 'corpse': 828, 'devour': 829, 'drafted': 830, 'eidolon': 831, 'evolve': 832, 'falkenrath': 833, 'firebrand': 834, 'frog': 835, 'herald': 836, 'lieutenant': 837, 'liliana': 838, 'loss': 839, 'noted': 840, 'queen': 841, 'raptor': 842, 'relic': 843, 'rune': 844, 'scavenger': 845, 'secretly': 846, 'since': 847, 'soon': 848, 'sunburst': 849, 'switch': 850, 'thallid': 851, 'unleash': 852, 'wild': 853, 'agenda': 854, 'armor': 855, 'assassin': 856, 'assigns': 857, 'assist': 858, 'augur': 859, 'bat': 860, 'bolt': 861, 'boros': 862, 'but': 863, 'chaos': 864, 'charger': 865, 'dream': 866, 'else': 867, 'emissary': 868, 'extort': 869, 'fabricate': 870, 'familiar': 871, 'forests': 872, 'friend': 873, 'geist': 874, 'goblins': 875, 'grim': 876, 'mardu': 877, 'mind': 878, 'mountains': 879, 'multikicker': 880, 'mystic': 881, 'neither': 882, 'rally': 883, 'ranger': 884, 'realm': 885, 'rhino': 886, 'river': 887, 'sanctuary': 888, 'scarecrow': 889, 'sea': 890, 'slime': 891, 'squad': 892, 'stalker': 893, 'support': 894, 'trigon': 895, 'undergrowth': 896, 'undying': 897, 'values': 898, 'vanguard': 899, 'weaver': 900, 'will': 901, 'words': 902, 'ajani': 903, 'automaton': 904, 'avatar': 905, 'bloodrush': 906, 'cemetery': 907, 'cipher': 908, 'converge': 909, 'core': 910, 'divinity': 911, 'drawn': 912, 'egg': 913, 'elder': 914, 'enforcer': 915, 'expedition': 916, 'flames': 917, 'harbinger': 918, 'hoplite': 919, 'itself': 920, 'king': 921, 'manticore': 922, 'monk': 923, 'monster': 924, 'morbid': 925, 'nor': 926, 'note': 927, 'oracle': 928, 'regent': 929, 'retrace': 930, 'runner': 931, 'satyr': 932, 'secrets': 933, 'shapeshifter': 934, 'star': 935, 'strider': 936, 'tracker': 937, 'tree': 938, 'true': 939, 'vanishing': 940, 'viashino': 941, 'voracious': 942, 'adversary': 943, 'allies': 944, 'apprentice': 945, 'archer': 946, 'archon': 947, 'baku': 948, 'baloth': 949, 'begin': 950, 'binding': 951, 'brackets': 952, 'breath': 953, 'chapter': 954, 'collector': 955, 'colossus': 956, 'controllers': 957, 'crewed': 958, 'crown': 959, 'cry': 960, 'dawn': 961, 'dice': 962, 'dire': 963, 'field': 964, 'ghoul': 965, 'grove': 966, 'hedge': 967, 'heroes': 968, 'him': 969, 'imprint': 970, 'iron': 971, 'keldon': 972, 'knowledge': 973, 'mechtitan': 974, 'monocolored': 975, 'pest': 976, 'reckless': 977, 'sarkhan': 978, 'scout': 979, 'seer': 980, 'sorin': 981, 'square': 982, 'sword': 983, 'temple': 984, 'tribe': 985, 'vengeful': 986, 'vizier': 987, 'voice': 988, 'witch': 989, 'zealot': 990, 'acolyte': 991, 'adapt': 992, 'afterlife': 993, 'ascendant': 994, 'azorius': 995, 'bearer': 996, 'behemoth': 997, 'blades': 998, 'bolas': 999, 'conspire': 1000, 'crawler': 1001, 'crews': 1002, 'curse': 1003, 'delve': 1004, 'detain': 1005, 'dimir': 1006, 'djinn': 1007, 'dusk': 1008, 'dwarf': 1009, 'elvish': 1010, 'enlist': 1011, 'entwine': 1012, 'escapes': 1013, 'foe': 1014, 'germ': 1015, 'glint': 1016, 'golden': 1017, 'graft': 1018, 'heir': 1019, 'hellion': 1020, 'hope': 1021, 'initiate': 1022, 'inkling': 1023, 'jump': 1024, 'keyrune': 1025, 'ki': 1026, 'kinship': 1027, 'lantern': 1028, 'lion': 1029, 'loathsome': 1030, 'mare': 1031, 'phantom': 1032, 'populate': 1033, 'pride': 1034, 'produced': 1035, 'prowler': 1036, 'radha': 1037, 'read': 1038, 'reduce': 1039, 'savage': 1040, 'sickness': 1041, 'simic': 1042, 'skips': 1043, 'skulk': 1044, 'sleeper': 1045, 'sphere': 1046, 'stone': 1047, 'summoning': 1048, 'swamps': 1049, 'tactics': 1050, 'teammate': 1051, 'territorial': 1052, 'vessel': 1053, 'vivid': 1054, 'vodalian': 1055, 'wandering': 1056, 'abomination': 1057, 'adept': 1058, 'adventurer': 1059, 'afflict': 1060, 'ahead': 1061, 'ascendancy': 1062, 'being': 1063, 'body': 1064, 'boo': 1065, 'burn': 1066, 'cartouche': 1067, 'cavalry': 1068, 'chamber': 1069, 'chimera': 1070, 'chose': 1071, 'circle': 1072, 'cluestone': 1073, 'court': 1074, 'crop': 1075, 'crypt': 1076, 'dethrone': 1077, 'devourer': 1078, 'elephant': 1079, 'even': 1080, 'experience': 1081, 'fallen': 1082, 'fate': 1083, 'fiery': 1084, 'flashback': 1085, 'forecast': 1086, 'forge': 1087, 'formidable': 1088, 'foundry': 1089, 'garruk': 1090, 'gruul': 1091, 'guildgate': 1092, 'harvester': 1093, 'haunting': 1094, 'he': 1095, 'hound': 1096, 'hunted': 1097, 'implement': 1098, 'kavu': 1099, 'khans': 1100, 'kin': 1101, 'leonin': 1102, 'lurking': 1103, 'magma': 1104, 'marsh': 1105, 'memorial': 1106, 'minus': 1107, 'moon': 1108, 'noble': 1109, 'oath': 1110, 'oathsworn': 1111, 'off': 1112, 'old': 1113, 'omen': 1114, 'onna': 1115, 'operative': 1116, 'ordeal': 1117, 'owns': 1118, 'pegasus': 1119, 'phantasm': 1120, 'portal': 1121, 'precombat': 1122, 'primal': 1123, 'raider': 1124, 'raiders': 1125, 'resolved': 1126, 'ring': 1127, 'shambler': 1128, 'silent': 1129, 'skip': 1130, 'snarl': 1131, 'sorcerer': 1132, 'specter': 1133, 'spire': 1134, 'storage': 1135, 'thought': 1136, 'thousand': 1137, 'thriving': 1138, 'tomb': 1139, 'training': 1140, 'trap': 1141, 'trial': 1142, 'tyranid': 1143, 'valakut': 1144, 'volley': 1145, 'vortex': 1146, 'whose': 1147, 'zubera': 1148, 'addendum': 1149, 'akki': 1150, 'annihilator': 1151, 'ascension': 1152, 'astral': 1153, 'band': 1154, 'barrage': 1155, 'beacon': 1156, 'brick': 1157, 'buyback': 1158, 'cathar': 1159, 'chapters': 1160, 'chroma': 1161, 'contains': 1162, 'count': 1163, 'creeper': 1164, 'cunning': 1165, 'dauntless': 1166, 'deceiver': 1167, 'deep': 1168, 'devouring': 1169, 'district': 1170, 'dread': 1171, 'eater': 1172, 'engine': 1173, 'entering': 1174, 'goat': 1175, 'golgari': 1176, 'haunt': 1177, 'heliod': 1178, 'high': 1179, 'hit': 1180, 'hour': 1181, 'idol': 1182, 'islandwalk': 1183, 'izzet': 1184, 'kinds': 1185, 'kyodai': 1186, 'light': 1187, 'locket': 1188, 'martyr': 1189, 'mech': 1190, 'nissa': 1191, 'orzhov': 1192, 'outrider': 1193, 'pirates': 1194, 'plant': 1195, 'plaza': 1196, 'pool': 1197, 'postcombat': 1198, 'produce': 1199, 'puzzleknot': 1200, 'quandrix': 1201, 'radiance': 1202, 'radiant': 1203, 'reaver': 1204, 'rebel': 1205, 'reckoner': 1206, 'refuge': 1207, 'reinforce': 1208, 'rig': 1209, 'round': 1210, 'ruin': 1211, 'sanctum': 1212, 'searched': 1213, 'setessan': 1214, 'silver': 1215, 'skipped': 1216, 'specialist': 1217, 'spike': 1218, 'station': 1219, 'strength': 1220, 'talisman': 1221, 'teferi': 1222, 'thrull': 1223, 'tide': 1224, 'timeless': 1225, 'trickster': 1226, 'undead': 1227, 'unspent': 1228, 'volatile': 1229, 'warlord': 1230, 'watcher': 1231, 'world': 1232, 'akroan': 1233, 'apply': 1234, 'arcbound': 1235, 'ashiok': 1236, 'assign': 1237, 'auriok': 1238, 'bane': 1239, 'beetle': 1240, 'between': 1241, 'blaze': 1242, 'bloodcrazed': 1243, 'bog': 1244, 'brimstone': 1245, 'brute': 1246, 'butcher': 1247, 'coalition': 1248, 'cogwork': 1249, 'cultist': 1250, 'custodi': 1251, 'deadeye': 1252, 'descent': 1253, 'devils': 1254, 'dog': 1255, 'earth': 1256, 'emperor': 1257, 'eruption': 1258, 'escalate': 1259, 'fish': 1260, 'fist': 1261, 'fountain': 1262, 'full': 1263, 'galvanic': 1264, 'garrison': 1265, 'goaded': 1266, 'grace': 1267, 'hawk': 1268, 'heavy': 1269, 'how': 1270, 'includes': 1271, 'including': 1272, 'jaya': 1273, 'jukai': 1274, 'kosei': 1275, 'kozilek': 1276, 'legend': 1277, 'lit': 1278, 'lotus': 1279, 'loyal': 1280, 'magus': 1281, 'marshal': 1282, 'maw': 1283, 'mindsinger': 1284, 'mine': 1285, 'minsc': 1286, 'mogis': 1287, 'monument': 1288, 'multiple': 1289, 'nightmare': 1290, 'oak': 1291, 'obscura': 1292, 'olivia': 1293, 'oran': 1294, 'ox': 1295, 'pain': 1296, 'palace': 1297, 'paragon': 1298, 'pilgrim': 1299, 'pilot': 1300, 'predator': 1301, 'primeval': 1302, 'ral': 1303, 'ravager': 1304, 'reaper': 1305, 'reborn': 1306, 'rejuvenator': 1307, 'relentless': 1308, 'reservoir': 1309, 'resolute': 1310, 'rief': 1311, 'rogues': 1312, 'rot': 1313, 'rule': 1314, 'sands': 1315, 'searches': 1316, 'selfless': 1317, 'separates': 1318, 'sigil': 1319, 'siren': 1320, 'skaab': 1321, 'sneak': 1322, 'soaring': 1323, 'spectral': 1324, 'spellbomb': 1325, 'staff': 1326, 'stinger': 1327, 'syr': 1328, 'tail': 1329, 'taps': 1330, 'terror': 1331, 'thran': 1332, 'throne': 1333, 'thunder': 1334, 'thundering': 1335, 'toxic': 1336, 'vial': 1337, 'vicious': 1338, 'voldaren': 1339, 'vraska': 1340, 'walker': 1341, 'walking': 1342, 'wanderer': 1343, 'warriors': 1344, 'wedding': 1345, 'weird': 1346, 'wrath': 1347, '!': 1348, 'aeronaut': 1349, 'alchemist': 1350, 'alpine': 1351, 'ander': 1352, 'artisan': 1353, 'aspirant': 1354, 'assault': 1355, 'auntie': 1356, 'bankbuster': 1357, 'banner': 1358, 'benalia': 1359, 'blazing': 1360, 'boggart': 1361, 'bold': 1362, 'bombardment': 1363, 'boundless': 1364, 'brain': 1365, 'bronze': 1366, 'cannon': 1367, 'castle': 1368, 'celebrant': 1369, 'celestial': 1370, 'channeler': 1371, 'clan': 1372, 'corrupted': 1373, 'creeping': 1374, 'crusader': 1375, 'cryptic': 1376, 'cult': 1377, 'cultivator': 1378, 'cursed': 1379, 'defiance': 1380, 'depths': 1381, 'dreadhorde': 1382, 'empires': 1383, 'endless': 1384, 'executioner': 1385, 'exist': 1386, 'explosive': 1387, 'fang': 1388, 'flesh': 1389, 'font': 1390, 'foretold': 1391, 'fungus': 1392, 'glory': 1393, 'gorgon': 1394, 'great': 1395, 'gremlin': 1396, 'hanweir': 1397, 'hauler': 1398, 'haunts': 1399, 'healing': 1400, 'hedron': 1401, 'homunculus': 1402, 'hulk': 1403, 'hunt': 1404, 'identity': 1405, 'ingenuity': 1406, 'inspiring': 1407, 'intervention': 1408, 'investigate': 1409, 'jeskai': 1410, 'kappa': 1411, 'kitesail': 1412, 'knights': 1413, 'leader': 1414, 'leaf': 1415, 'llanowar': 1416, 'lorehold': 1417, 'marauder': 1418, 'mastiff': 1419, 'mist': 1420, 'mob': 1421, 'naga': 1422, 'necron': 1423, 'nephilim': 1424, 'nessian': 1425, 'nexus': 1426, 'nylea': 1427, 'octopus': 1428, 'offering': 1429, 'ojutai': 1430, 'open': 1431, 'paliano': 1432, 'patrol': 1433, 'primordial': 1434, 'prismari': 1435, 'pulse': 1436, 'pummeler': 1437, 'purphoros': 1438, 'rescuer': 1439, 'roc': 1440, 'ronin': 1441, 'saprolings': 1442, 'scrapper': 1443, 'scythe': 1444, 'searing': 1445, 'seeker': 1446, 'separately': 1447, 'sergeant': 1448, 'shaper': 1449, 'shieldmate': 1450, 'shipwreck': 1451, 'shivan': 1452, 'shrines': 1453, 'silencer': 1454, 'silumgar': 1455, 'sniper': 1456, 'souls': 1457, 'sovereign': 1458, 'spires': 1459, 'splicer': 1460, 'spy': 1461, 'squee': 1462, 'squire': 1463, 'steed': 1464, 'steel': 1465, 'street': 1466, 'stun': 1467, 'surtland': 1468, 'symbols': 1469, 'tajuru': 1470, 'thassa': 1471, 'tiger': 1472, 'tome': 1473, 'torch': 1474, 'tower': 1475, 'towering': 1476, 'trainee': 1477, 'trawler': 1478, 'ugin': 1479, 'undaunted': 1480, 'vexing': 1481, 'volcanic': 1482, 'vulshok': 1483, 'wand': 1484, 'wears': 1485, 'wildwood': 1486, 'windgrace': 1487, 'wizards': 1488, 'wolves': 1489, 'woodland': 1490, 'zenith': 1491, '&': 1492, 'activates': 1493, 'aerial': 1494, 'ageless': 1495, 'akoum': 1496, 'ambusher': 1497, 'ancestral': 1498, 'angelic': 1499, 'angels': 1500, 'angrath': 1501, 'arbiter': 1502, 'archers': 1503, 'archmage': 1504, 'astartes': 1505, 'attackers': 1506, 'awakener': 1507, 'basri': 1508, 'beastcaller': 1509, 'beastmaster': 1510, 'below': 1511, 'betrayal': 1512, 'biting': 1513, 'bladewing': 1514, 'blessed': 1515, 'blight': 1516, 'bloom': 1517, 'bounty': 1518, 'brazen': 1519, 'briefcase': 1520, 'calamity': 1521, 'caller': 1522, 'campus': 1523, 'cave': 1524, 'chasm': 1525, 'cinder': 1526, 'clockwork': 1527, 'clue': 1528, 'coins': 1529, 'crackling': 1530, 'crag': 1531, 'crocodile': 1532, 'cruel': 1533, 'crystal': 1534, 'crystalline': 1535, 'danitha': 1536, 'darien': 1537, 'daring': 1538, 'declare': 1539, 'den': 1540, 'despair': 1541, 'destiny': 1542, 'dovin': 1543, 'draconic': 1544, 'dragonlord': 1545, 'drizzt': 1546, 'dubious': 1547, 'duelist': 1548, 'duo': 1549, 'dwarven': 1550, 'dwarves': 1551, 'elementals': 1552, 'ember': 1553, 'empty': 1554, 'entity': 1555, 'erebos': 1556, 'evolved': 1557, 'eyes': 1558, 'faces': 1559, 'faith': 1560, 'faithful': 1561, 'fathom': 1562, 'favored': 1563, 'fear': 1564, 'feather': 1565, 'feral': 1566, 'fervent': 1567, 'flare': 1568, 'forebear': 1569, 'forerunner': 1570, 'fox': 1571, 'frenzied': 1572, 'garden': 1573, 'gatekeeper': 1574, 'gearhulk': 1575, 'giants': 1576, 'gorger': 1577, 'grasp': 1578, 'grave': 1579, 'grist': 1580, 'guild': 1581, 'hamster': 1582, 'haunted': 1583, 'her': 1584, 'hermit': 1585, 'hive': 1586, 'hoard': 1587, 'hooded': 1588, 'il': 1589, 'immersturm': 1590, 'imp': 1591, 'impetuous': 1592, 'infinite': 1593, 'invader': 1594, 'jeska': 1595, 'jhoira': 1596, 'journal': 1597, 'jungle': 1598, 'keimi': 1599, 'kolaghan': 1600, 'kotose': 1601, 'landcycling': 1602, 'leech': 1603, 'lich': 1604, 'liege': 1605, 'limousine': 1606, 'loxodon': 1607, 'maestros': 1608, 'mantle': 1609, 'markov': 1610, 'masticore': 1611, 'mausoleum': 1612, 'mysterious': 1613, 'nahiri': 1614, 'nalaar': 1615, 'nautiloid': 1616, 'noggle': 1617, 'noncreature': 1618, 'obelisk': 1619, 'obsidian': 1620, 'omnath': 1621, 'owl': 1622, 'page': 1623, 'parasite': 1624, 'parley': 1625, 'phantasmal': 1626, 'port': 1627, 'prismatic': 1628, 'prophetic': 1629, 'psychic': 1630, 'pyre': 1631, 'quakebringer': 1632, 'quill': 1633, 'quirion': 1634, 'raffine': 1635, 'raging': 1636, 'rampant': 1637, 'recover': 1638, 'recruiter': 1639, 'renowned': 1640, 'resounding': 1641, 'resplendent': 1642, 'rhox': 1643, 'ripple': 1644, 'rise': 1645, 'risona': 1646, 'ritualist': 1647, 'roar': 1648, 'roaring': 1649, 'rubblebelt': 1650, 'sabertooth': 1651, 'salvage': 1652, 'scarred': 1653, 'selesnya': 1654, 'sengir': 1655, 'shell': 1656, 'shepherd': 1657, 'shigeki': 1658, 'ship': 1659, 'slayer': 1660, 'slinger': 1661, 'slogurk': 1662, 'sokenzan': 1663, 'sparkmage': 1664, 'spiteful': 1665, 'sprite': 1666, 'squirrels': 1667, 'stomper': 1668, 'striker': 1669, 'strix': 1670, 'suspended': 1671, 'sweep': 1672, 'tainted': 1673, 'tanazir': 1674, 'tezzeret': 1675, 'thrice': 1676, 'totals': 1677, 'transience': 1678, 'treasures': 1679, 'treat': 1680, 'triton': 1681, 'tuktuk': 1682, 'twenty': 1683, 'unity': 1684, 'urza': 1685, 'vadrik': 1686, 'vale': 1687, 'valkyrie': 1688, 'vandal': 1689, 'vault': 1690, 'vec': 1691, 'vedalken': 1692, 'visionary': 1693, 'whale': 1694, 'wight': 1695, 'wilds': 1696, 'wind': 1697, 'winds': 1698, 'witness': 1699, 'wretched': 1700, 'abzan': 1701, 'aegis': 1702, 'agonies': 1703, 'altar': 1704, 'amalgam': 1705, 'amulet': 1706, 'ancients': 1707, 'apparition': 1708, 'arashin': 1709, 'archangel': 1710, 'arctic': 1711, 'armory': 1712, 'arrow': 1713, 'artificer': 1714, 'artist': 1715, 'assembly': 1716, 'atarka': 1717, 'aurora': 1718, 'azor': 1719, 'banneret': 1720, 'belligerent': 1721, 'benalish': 1722, 'bishop': 1723, 'blaring': 1724, 'bloodhall': 1725, 'bloodthirsty': 1726, 'blooming': 1727, 'bojuka': 1728, 'bond': 1729, 'bones': 1730, 'book': 1731, 'boon': 1732, 'borderpost': 1733, 'botanical': 1734, 'bramble': 1735, 'brass': 1736, 'brood': 1737, 'bruiser': 1738, 'canal': 1739, 'canopy': 1740, 'carrion': 1741, 'carthalion': 1742, 'caves': 1743, 'charm': 1744, 'chimeric': 1745, 'chronicler': 1746, 'cleansing': 1747, 'clouds': 1748, 'colfenor': 1749, 'colony': 1750, 'component': 1751, 'conclave': 1752, 'condemnation': 1753, 'consul': 1754, 'cosmos': 1755, 'crab': 1756, 'crucible': 1757, 'crusher': 1758, 'cub': 1759, 'cycled': 1760, 'daxos': 1761, 'decoy': 1762, 'defiant': 1763, 'depietro': 1764, 'desecrator': 1765, 'detention': 1766, 'devastator': 1767, 'devoured': 1768, 'diamond': 1769, 'dilemma': 1770, 'dogs': 1771, 'door': 1772, 'dracolich': 1773, 'dragonfire': 1774, 'dreams': 1775, 'drinker': 1776, 'ebondeath': 1777, 'empire': 1778, 'enigma': 1779, 'eternity': 1780, 'exiling': 1781, 'experiment': 1782, 'experimental': 1783, 'explorer': 1784, 'extraction': 1785, 'faceless': 1786, 'falls': 1787, 'fanatic': 1788, 'farideh': 1789, 'favor': 1790, 'fearless': 1791, 'fell': 1792, 'filigree': 1793, 'firecannon': 1794, 'flamekin': 1795, 'flayer': 1796, 'flight': 1797, 'fortress': 1798, 'foul': 1799, 'furnace': 1800, 'garenbrig': 1801, 'gatekeepers': 1802, 'gateway': 1803, 'gavony': 1804, 'gemstone': 1805, 'genesis': 1806, 'genius': 1807, 'glacial': 1808, 'glade': 1809, 'gloom': 1810, 'gnarlid': 1811, 'gnoll': 1812, 'gold': 1813, 'gomazoa': 1814, 'grandeur': 1815, 'grasping': 1816, 'grief': 1817, 'grotag': 1818, 'haazda': 1819, 'hall': 1820, 'harpy': 1821, 'harvest': 1822, 'haven': 1823, 'headed': 1824, 'healer': 1825, 'heartstabber': 1826, 'herd': 1827, 'hideaway': 1828, 'hidetsugu': 1829, 'hierophant': 1830, 'horrors': 1831, 'host': 1832, 'huatli': 1833, 'ignore': 1834, 'imperial': 1835, 'informant': 1836, 'ingenious': 1837, 'intrepid': 1838, 'ire': 1839, 'jar': 1840, 'jared': 1841, 'javelineer': 1842, 'journey': 1843, 'juggernaut': 1844, 'justice': 1845, 'kathari': 1846, 'kaya': 1847, 'keep': 1848, 'khenra': 1849, 'kher': 1850, 'kill': 1851, 'kitsune': 1852, 'kobold': 1853, 'koma': 1854, 'lasts': 1855, 'leviathan': 1856, 'librarian': 1857, 'line': 1858, 'littjara': 1859, 'locus': 1860, 'magic': 1861, 'makindi': 1862, 'march': 1863, 'market': 1864, 'merrow': 1865, 'might': 1866, 'mire': 1867, 'mnemonic': 1868, 'mold': 1869, 'monitor': 1870, 'mummy': 1871, 'natural': 1872, 'necromancer': 1873, 'needle': 1874, 'nested': 1875, 'nicol': 1876, 'nimble': 1877, 'null': 1878, 'oblivion': 1879, 'odd': 1880, 'odric': 1881, 'oil': 1882, 'ominous': 1883, 'orchard': 1884, 'origin': 1885, 'ornery': 1886, 'overgrown': 1887, 'overlord': 1888, 'overseer': 1889, 'palm': 1890, 'pass': 1891, 'peacekeeper': 1892, 'peaks': 1893, 'phalanx': 1894, 'pharaoh': 1895, 'pheres': 1896, 'piercer': 1897, 'piercing': 1898, 'pitlord': 1899, 'poisoned': 1900, 'prison': 1901, 'protean': 1902, 'pup': 1903, 'quarry': 1904, 'ragefire': 1905, 'rakshasa': 1906, 'ramirez': 1907, 'rampager': 1908, 'ray': 1909, 'raze': 1910, 'razer': 1911, 'redcap': 1912, 'reflection': 1913, 'replica': 1914, 'retriever': 1915, 'revenant': 1916, 'rhonas': 1917, 'ridge': 1918, 'righteous': 1919, 'riveteers': 1920, 'rock': 1921, 'rowan': 1922, 'rust': 1923, 'sakashima': 1924, 'sandsteppe': 1925, 'sarulf': 1926, 'scarab': 1927, 'scepter': 1928, 'scheming': 1929, 'scholar': 1930, 'scroll': 1931, 'sculptor': 1932, 'security': 1933, 'seismic': 1934, 'sejiri': 1935, 'sentinels': 1936, 'separate': 1937, 'shambling': 1938, 'shard': 1939, 'shinen': 1940, 'silence': 1941, 'skeletal': 1942, 'skemfar': 1943, 'skulker': 1944, 'slaughter': 1945, 'slumber': 1946, 'smash': 1947, 'smasher': 1948, 'smuggler': 1949, 'sojourners': 1950, \"sol'kanar\": 1951, 'spring': 1952, 'stadium': 1953, 'stalwart': 1954, 'stars': 1955, 'stenn': 1956, 'steward': 1957, 'stromkirk': 1958, 'suns': 1959, 'surveyor': 1960, 'survive': 1961, 'syndicate': 1962, 'tactician': 1963, 'tangle': 1964, 'tattered': 1965, 'temporal': 1966, 'tenth': 1967, 'thorn': 1968, 'thornling': 1969, 'thrasher': 1970, 'thresher': 1971, 'torchling': 1972, 'triumph': 1973, 'trove': 1974, 'turntimber': 1975, 'turtle': 1976, 'twilight': 1977, 'twin': 1978, 'ulamog': 1979, 'unicorn': 1980, 'urborg': 1981, 'village': 1982, 'viridian': 1983, 'vision': 1984, 'volo': 1985, 'voyager': 1986, 'walls': 1987, 'warlock': 1988, 'wave': 1989, 'wayfinder': 1990, 'which': 1991, 'wicked': 1992, 'wish': 1993, 'wojek': 1994, 'worm': 1995, 'yanling': 1996, 'acid': 1997, 'aerialist': 1998, 'aetherling': 1999, 'ahn': 2000, 'alley': 2001, 'ambition': 2002, 'anax': 2003, 'anointed': 2004, 'ape': 2005, 'apocalypse': 2006, 'approach': 2007, 'arc': 2008, 'archaeologist': 2009, 'archelos': 2010, 'archfiend': 2011, 'archive': 2012, 'ardent': 2013, 'arena': 2014, 'aria': 2015, 'arrogant': 2016, 'arsonist': 2017, 'ashes': 2018, 'ashmouth': 2019, 'assistant': 2020, 'athrid': 2021, 'atlas': 2022, 'attendant': 2023, 'aurochs': 2024, 'avernus': 2025, 'axe': 2026, 'bag': 2027, 'barrens': 2028, 'bastion': 2029, 'begins': 2030, 'bell': 2031, 'betrayer': 2032, 'biblioplex': 2033, 'blind': 2034, 'blinkmoth': 2035, 'bloodchief': 2036, 'bloodletter': 2037, 'bloodlord': 2038, 'bodyguard': 2039, 'bomat': 2040, 'bomber': 2041, 'bone': 2042, 'boreal': 2043, 'boseiju': 2044, 'boss': 2045, 'brawl': 2046, 'bretagard': 2047, 'brightling': 2048, 'broker': 2049, 'brushfire': 2050, 'bugbear': 2051, 'cabaretti': 2052, 'call': 2053, 'carnage': 2054, 'cats': 2055, 'cauldron': 2056, 'ceratops': 2057, 'chained': 2058, 'chains': 2059, 'chakram': 2060, 'chalice': 2061, 'charging': 2062, 'chariot': 2063, 'chill': 2064, 'chrome': 2065, 'citadel': 2066, 'clattering': 2067, 'clever': 2068, 'clique': 2069, 'clock': 2070, 'coast': 2071, 'collection': 2072, 'combustion': 2073, 'commando': 2074, 'commons': 2075, 'complete': 2076, 'connive': 2077, 'conquistador': 2078, 'courtyard': 2079, 'crater': 2080, 'croak': 2081, 'crumbling': 2082, 'cube': 2083, 'cutthroat': 2084, \"d'avenant\": 2085, 'dagger': 2086, 'daredevil': 2087, 'deathless': 2088, 'declared': 2089, 'defiler': 2090, 'demons': 2091, 'demonstrate': 2092, 'dermotaxi': 2093, 'devoted': 2094, 'dinosaurs': 2095, 'diregraf': 2096, 'disturb': 2097, 'divine': 2098, 'domri': 2099, 'dragonsguard': 2100, 'drain': 2101, 'draugr': 2102, 'draz': 2103, 'dress': 2104, 'drownyard': 2105, 'druids': 2106, 'duergar': 2107, 'dutiful': 2108, 'ebony': 2109, 'efreet': 2110, 'electrostatic': 2111, 'elementalist': 2112, 'en': 2113, 'endling': 2114, 'endurance': 2115, 'enlightened': 2116, 'entourage': 2117, 'eon': 2118, 'eriksson': 2119, 'esika': 2120, 'esper': 2121, 'essence': 2122, 'etched': 2123, 'etrata': 2124, 'evil': 2125, 'exemplar': 2126, 'exploration': 2127, 'exquisite': 2128, 'exterminator': 2129, 'exuberant': 2130, 'faeries': 2131, 'fairgrounds': 2132, 'farm': 2133, 'fateseal': 2134, 'fence': 2135, 'festering': 2136, 'fifteen': 2137, 'final': 2138, 'fireball': 2139, 'firemane': 2140, 'flamesage': 2141, 'fledgling': 2142, 'fly': 2143, 'forestwalk': 2144, 'forgotten': 2145, 'fortune': 2146, 'friends': 2147, 'frilled': 2148, 'frontline': 2149, 'frostpyre': 2150, 'gale': 2151, 'garbage': 2152, 'garna': 2153, 'garza': 2154, 'gatebreaker': 2155, 'gavel': 2156, 'gelatinous': 2157, 'genestealer': 2158, 'geopede': 2159, 'ghitu': 2160, 'gift': 2161, 'glass': 2162, 'glittering': 2163, 'glorious': 2164, 'golems': 2165, 'goliath': 2166, 'gone': 2167, 'gonti': 2168, 'gorm': 2169, 'graf': 2170, 'grakmaw': 2171, 'grime': 2172, 'grimgrin': 2173, 'grisly': 2174, 'grixis': 2175, 'gryff': 2176, 'guildmage': 2177, 'guul': 2178, 'hagra': 2179, 'hans': 2180, 'harbor': 2181, 'harsh': 2182, 'havengul': 2183, 'hellhole': 2184, 'hellhound': 2185, 'helm': 2186, 'herder': 2187, 'highland': 2188, 'historian': 2189, 'honor': 2190, 'honored': 2191, 'horde': 2192, 'hornet': 2193, 'hunger': 2194, 'hussar': 2195, 'ich': 2196, 'icingdeath': 2197, 'igneous': 2198, 'immolation': 2199, 'incendiary': 2200, 'incinerator': 2201, 'indefinitely': 2202, 'infantry': 2203, 'innovator': 2204, 'insight': 2205, 'inspiration': 2206, 'instigator': 2207, 'intellect': 2208, 'invoke': 2209, 'iroas': 2210, 'isle': 2211, 'iv': 2212, 'iymrith': 2213, 'jackal': 2214, 'jagged': 2215, 'jelly': 2216, 'jokulmorder': 2217, 'joraga': 2218, 'juri': 2219, 'kabira': 2220, 'kalastria': 2221, 'kangee': 2222, 'karn': 2223, 'keld': 2224, 'kemba': 2225, 'key': 2226, 'khalni': 2227, 'kinsbaile': 2228, 'kiyomaro': 2229, 'kjeldoran': 2230, 'kobolds': 2231, 'krakens': 2232, 'krasis': 2233, 'kraul': 2234, 'kuldotha': 2235, 'labyrinth': 2236, 'lage': 2237, 'lagonna': 2238, 'lair': 2239, 'lake': 2240, 'landwalk': 2241, 'launderer': 2242, 'legions': 2243, 'leviathans': 2244, 'lizard': 2245, 'lockdown': 2246, 'locthwain': 2247, 'lookout': 2248, 'lowest': 2249, 'luck': 2250, 'lurker': 2251, 'lynx': 2252, 'mad': 2253, 'maelstrom': 2254, 'magosi': 2255, 'make': 2256, 'malakir': 2257, 'mangler': 2258, 'marauding': 2259, 'marit': 2260, 'marrow': 2261, 'masked': 2262, 'mass': 2263, 'matsu': 2264, 'mayhem': 2265, 'medic': 2266, 'mercenaries': 2267, 'merchant': 2268, 'mercurial': 2269, 'messenger': 2270, 'meteor': 2271, 'mighty': 2272, 'mindlink': 2273, 'mishra': 2274, 'mizzet': 2275, 'mizzium': 2276, 'moldgraf': 2277, 'moloch': 2278, 'monoskelion': 2279, 'moonfolk': 2280, 'moorland': 2281, 'moss': 2282, 'murasa': 2283, 'murder': 2284, 'muse': 2285, 'mutated': 2286, 'myth': 2287, 'nacatl': 2288, 'nadier': 2289, 'need': 2290, 'nemesis': 2291, 'neonate': 2292, 'neurok': 2293, 'nevinyrral': 2294, 'nezumi': 2295, 'nightshade': 2296, 'nihil': 2297, 'niv': 2298, 'nonartifact': 2299, 'noxious': 2300, 'ochre': 2301, 'octopuses': 2302, 'ojanen': 2303, 'orcish': 2304, 'orochi': 2305, 'otharri': 2306, 'outcast': 2307, 'palliation': 2308, 'peace': 2309, 'penitent': 2310, 'pentarch': 2311, 'perrie': 2312, 'pharika': 2313, 'pia': 2314, 'pilferer': 2315, 'pillar': 2316, 'pious': 2317, 'piper': 2318, 'piru': 2319, 'plasma': 2320, 'played': 2321, 'plays': 2322, 'pledgemage': 2323, 'point': 2324, 'polukranos': 2325, 'poppet': 2326, 'presence': 2327, 'preserver': 2328, 'professor': 2329, 'protege': 2330, 'prowling': 2331, 'punisher': 2332, 'pupil': 2333, 'pure': 2334, 'puzzlebox': 2335, 'pyretic': 2336, 'pyrogenius': 2337, 'quicksmith': 2338, 'racers': 2339, 'rampaging': 2340, 'reality': 2341, 'rebirth': 2342, 'recruit': 2343, 'reinforced': 2344, 'renewal': 2345, 'replicator': 2346, 'researcher': 2347, 'restoration': 2348, 'results': 2349, 'rift': 2350, 'ringleader': 2351, 'robber': 2352, 'rod': 2353, 'roil': 2354, 'rona': 2355, 'ronom': 2356, 'rope': 2357, 'ruins': 2358, 'rumbling': 2359, 'ruthless': 2360, 'salamander': 2361, 'salvager': 2362, 'sanctifier': 2363, 'sanguine': 2364, 'sanity': 2365, 'savant': 2366, 'scorpion': 2367, 'scuttling': 2368, 'seasoned': 2369, 'seeing': 2370, 'sekki': 2371, 'serpents': 2372, 'serra': 2373, 'servitor': 2374, 'shakedown': 2375, 'sheoldred': 2376, 'shrewd': 2377, 'sigarda': 2378, 'sigardian': 2379, 'sigrid': 2380, 'singularity': 2381, 'skeletons': 2382, 'skirmisher': 2383, 'skophos': 2384, 'skybridge': 2385, 'skyship': 2386, 'slash': 2387, 'slasher': 2388, 'slug': 2389, 'snare': 2390, 'snitch': 2391, 'socialite': 2392, 'solidarity': 2393, 'somberwald': 2394, 'soulblade': 2395, 'souleater': 2396, 'spare': 2397, 'spark': 2398, 'speaker': 2399, 'spear': 2400, 'spiked': 2401, 'spitfire': 2402, 'sprouting': 2403, 'stag': 2404, 'stangg': 2405, 'stensia': 2406, 'steppe': 2407, 'storyteller': 2408, 'stray': 2409, 'stronghold': 2410, 'structural': 2411, 'subterranean': 2412, 'sultai': 2413, 'summoner': 2414, 'sunlit': 2415, 'surrakar': 2416, 'survivors': 2417, 'sylvan': 2418, 'tails': 2419, 'taker': 2420, 'takes': 2421, 'tar': 2422, 'tarrasque': 2423, 'tech': 2424, 'tectonic': 2425, 'tekik': 2426, 'tempest': 2427, 'temporary': 2428, 'temur': 2429, 'thaumaturge': 2430, 'theater': 2431, 'thieving': 2432, 'thirteen': 2433, 'thrash': 2434, 'throng': 2435, 'tiamat': 2436, 'tiller': 2437, 'tilonalli': 2438, 'toothy': 2439, 'torrent': 2440, 'touch': 2441, 'towers': 2442, 'trail': 2443, 'trailblazer': 2444, 'tramway': 2445, 'tranquil': 2446, 'triome': 2447, 'tymaret': 2448, 'tyrannical': 2449, 'unholy': 2450, 'urn': 2451, 'ursine': 2452, 'utopia': 2453, 'vantress': 2454, 'vein': 2455, 'vengeance': 2456, 'verdant': 2457, 'vermin': 2458, 'vile': 2459, 'viper': 2460, 'warcaller': 2461, 'warleader': 2462, 'waterveil': 2463, 'weathered': 2464, 'weatherlight': 2465, 'well': 2466, 'werewolves': 2467, 'whelp': 2468, 'whisper': 2469, 'whispers': 2470, 'windreaver': 2471, 'woe': 2472, 'word': 2473, 'wrecker': 2474, 'wurms': 2475, 'yavimaya': 2476, 'yew': 2477, 'yorvo': 2478, 'zero': 2479, 'ziatora': 2480, 'abandoned': 2481, 'abominable': 2482, 'absorption': 2483, 'academy': 2484, 'accord': 2485, 'acererak': 2486, 'acquisitions': 2487, 'adder': 2488, 'advisors': 2489, 'aethertorch': 2490, 'ages': 2491, 'aid': 2492, 'ainok': 2493, 'alirios': 2494, 'allenal': 2495, 'ammit': 2496, 'angelheart': 2497, 'animus': 2498, 'annihilation': 2499, 'anthem': 2500, 'ao': 2501, 'apex': 2502, 'arashi': 2503, 'arcanist': 2504, 'archdemon': 2505, 'archlich': 2506, 'archway': 2507, 'armored': 2508, 'array': 2509, 'arrows': 2510, 'asari': 2511, 'ascetic': 2512, 'ash': 2513, 'ashenmoor': 2514, 'ashling': 2515, 'asp': 2516, 'aspect': 2517, 'assassins': 2518, 'assemble': 2519, 'astor': 2520, 'atsushi': 2521, 'audacious': 2522, 'avizoa': 2523, 'awakening': 2524, 'away': 2525, 'axgard': 2526, 'ayesha': 2527, 'badger': 2528, 'bairn': 2529, 'bala': 2530, 'balduvian': 2531, 'ballista': 2532, 'bandar': 2533, 'bandit': 2534, 'banisher': 2535, 'banishment': 2536, 'banshee': 2537, 'barbarian': 2538, 'barbed': 2539, 'bard': 2540, 'barkhide': 2541, 'baron': 2542, 'barrenton': 2543, 'battlesphere': 2544, 'bazaar': 2545, 'began': 2546, 'beholder': 2547, 'bellowing': 2548, 'beloved': 2549, 'benevolent': 2550, 'berserkers': 2551, 'bess': 2552, 'bhaal': 2553, 'bio': 2554, 'blademane': 2555, 'blizzard': 2556, 'bloodfist': 2557, 'bloodghast': 2558, 'bloodscale': 2559, 'bloodtithe': 2560, 'blossoming': 2561, 'blow': 2562, 'boiler': 2563, 'bonerattle': 2564, 'bontu': 2565, 'borborygmos': 2566, 'borderland': 2567, 'born': 2568, 'bortuk': 2569, 'bosk': 2570, 'boughs': 2571, 'bound': 2572, 'bow': 2573, 'breach': 2574, 'breaker': 2575, 'breya': 2576, 'bribe': 2577, 'bride': 2578, 'brigand': 2579, 'brimaz': 2580, 'bring': 2581, 'bristling': 2582, 'brokers': 2583, 'bull': 2584, 'butler': 2585, 'cabal': 2586, 'caelus': 2587, 'cage': 2588, 'cannonade': 2589, 'capsule': 2590, 'carriage': 2591, 'castigator': 2592, 'catalyst': 2593, 'catoblepas': 2594, 'cavern': 2595, 'caverns': 2596, 'censer': 2597, 'cerberus': 2598, 'cerebral': 2599, 'chaplain': 2600, 'charmed': 2601, 'chaser': 2602, 'chauffeur': 2603, 'chittering': 2604, 'chronatog': 2605, 'circuit': 2606, 'clerics': 2607, 'cliffs': 2608, 'cloister': 2609, 'coatl': 2610, 'coil': 2611, 'cold': 2612, 'collapse': 2613, 'colored': 2614, 'colossal': 2615, 'come': 2616, 'common': 2617, 'company': 2618, 'conductor': 2619, 'conduit': 2620, 'cone': 2621, 'confinement': 2622, 'conjurant': 2623, 'connoisseur': 2624, 'consulate': 2625, 'consuming': 2626, 'contain': 2627, 'contested': 2628, 'cookbook': 2629, 'copper': 2630, 'corrupter': 2631, 'coward': 2632, 'cowards': 2633, 'crackdown': 2634, 'crasher': 2635, 'creation': 2636, 'crimson': 2637, 'crossroads': 2638, 'crowbar': 2639, 'crowded': 2640, 'crowned': 2641, 'cruelties': 2642, 'culling': 2643, 'cur': 2644, 'current': 2645, 'cyclopean': 2646, 'dais': 2647, 'dakkon': 2648, 'dancer': 2649, 'darigaaz': 2650, 'darkness': 2651, 'dart': 2652, 'dawnbringer': 2653, 'dawnhart': 2654, 'deathbringer': 2655, 'deathcap': 2656, 'deity': 2657, 'demise': 2658, 'demonic': 2659, 'demonlord': 2660, 'departed': 2661, 'deputy': 2662, 'descendant': 2663, 'designs': 2664, 'desperate': 2665, 'destinies': 2666, 'destroyer': 2667, 'diabolist': 2668, 'distinction': 2669, 'diviner': 2670, 'doomed': 2671, 'doppelganger': 2672, 'dormant': 2673, 'dragonsoul': 2674, 'dragonspark': 2675, 'drana': 2676, 'drifter': 2677, 'dromedary': 2678, 'drone': 2679, 'dross': 2680, 'drover': 2681, 'dryad': 2682, 'dungeoneer': 2683, 'dungeons': 2684, 'dweller': 2685, 'dynastic': 2686, 'earthshaker': 2687, 'edge': 2688, 'effigy': 2689, 'efrava': 2690, 'eiganjo': 2691, 'elaborate': 2692, 'elenda': 2693, 'elk': 2694, 'elocutors': 2695, 'elspeth': 2696, 'emancipation': 2697, 'emberwilde': 2698, 'embraal': 2699, 'emergence': 2700, 'emeria': 2701, 'emrakul': 2702, 'ends': 2703, 'endures': 2704, 'engineer': 2705, 'enlightenment': 2706, 'envoy': 2707, 'eos': 2708, 'ephara': 2709, 'ertai': 2710, 'escaped': 2711, 'escort': 2712, 'etchings': 2713, 'etherium': 2714, 'evangel': 2715, 'ever': 2716, 'evershrike': 2717, 'everything': 2718, 'example': 2719, 'excavation': 2720, 'explosion': 2721, 'ezuri': 2722, 'faced': 2723, 'factory': 2724, 'famished': 2725, 'fateful': 2726, 'fblthp': 2727, 'feast': 2728, 'felidar': 2729, 'figment': 2730, 'figure': 2731, 'filibuster': 2732, 'find': 2733, 'firebird': 2734, 'fireblade': 2735, 'firemaw': 2736, 'firemind': 2737, 'flameskull': 2738, 'flamespeaker': 2739, 'flinger': 2740, 'flood': 2741, 'floodchaser': 2742, 'flourishing': 2743, 'followed': 2744, 'force': 2745, 'forever': 2746, 'foriysian': 2747, 'forsaken': 2748, 'frenzy': 2749, 'frontier': 2750, 'fumarole': 2751, 'futurist': 2752, 'fylgja': 2753, 'gathering': 2754, 'gauntlet': 2755, 'gearsmith': 2756, 'ged': 2757, 'geistcatcher': 2758, 'gemini': 2759, 'geralf': 2760, 'ghostly': 2761, 'gilded': 2762, 'gladiator': 2763, 'glider': 2764, 'glistening': 2765, 'glorifier': 2766, 'gnarled': 2767, 'gnat': 2768, 'go': 2769, 'goldnight': 2770, 'grand': 2771, 'graypelt': 2772, 'grenzo': 2773, 'grinder': 2774, 'grothama': 2775, 'gust': 2776, 'gustcloak': 2777, 'haakon': 2778, 'hag': 2779, 'haktos': 2780, 'halimar': 2781, 'hammer': 2782, 'harmony': 2783, 'harness': 2784, 'hearse': 2785, 'hedonist': 2786, 'heights': 2787, 'helix': 2788, 'hell': 2789, 'heron': 2790, 'hex': 2791, 'hexavus': 2792, 'hide': 2793, 'hissing': 2794, 'hoarding': 2795, 'hobgoblin': 2796, 'hold': 2797, 'hostile': 2798, 'hub': 2799, 'hungering': 2800, 'hungry': 2801, 'hypnotist': 2802, 'ibex': 2803, 'icefall': 2804, 'ichor': 2805, 'ideal': 2806, 'idyllic': 2807, 'ignus': 2808, 'illuminator': 2809, 'illusionary': 2810, 'image': 2811, 'imminent': 2812, 'impact': 2813, 'impostor': 2814, 'imps': 2815, 'iname': 2816, 'industry': 2817, 'infestation': 2818, 'inga': 2819, 'inquisitor': 2820, 'inspector': 2821, 'instance': 2822, 'instants': 2823, 'intruder': 2824, 'investigator': 2825, 'invoker': 2826, 'ironclad': 2827, 'ish': 2828, 'jade': 2829, 'jester': 2830, 'jetmir': 2831, 'jiwari': 2832, 'jund': 2833, 'junji': 2834, 'just': 2835, 'kaito': 2836, 'kaldra': 2837, 'kamigawa': 2838, 'kanto': 2839, 'kardur': 2840, 'kargan': 2841, 'karplusan': 2842, 'kashi': 2843, 'kazandu': 2844, 'keen': 2845, 'keranos': 2846, 'kessig': 2847, 'khorvath': 2848, 'kiln': 2849, 'kingpin': 2850, 'kiran': 2851, 'kiss': 2852, 'kitt': 2853, 'knuckleblade': 2854, 'kogla': 2855, 'korlash': 2856, 'krav': 2857, 'kumano': 2858, 'kura': 2859, 'lagac': 2860, 'larva': 2861, 'lash': 2862, 'lava': 2863, 'legacy': 2864, 'lena': 2865, 'leopard': 2866, 'lhurgoyf': 2867, 'limbs': 2868, 'limitless': 2869, 'linvala': 2870, 'lives': 2871, 'looked': 2872, 'looks': 2873, 'lotleth': 2874, 'lunar': 2875, 'magister': 2876, 'magmatic': 2877, 'makeshift': 2878, 'malefic': 2879, 'malice': 2880, 'manifestation': 2881, 'manor': 2882, 'map': 2883, 'marang': 2884, 'marauders': 2885, 'marchesa': 2886, 'marine': 2887, 'maro': 2888, 'mask': 2889, 'massacre': 2890, 'masterpiece': 2891, 'mastery': 2892, 'mastodon': 2893, 'masumaro': 2894, 'mauler': 2895, 'maulfist': 2896, 'maze': 2897, 'mazemind': 2898, 'meadow': 2899, 'meglonoth': 2900, 'melds': 2901, 'mending': 2902, 'merciless': 2903, 'metallic': 2904, 'migration': 2905, 'mikaeus': 2906, 'militia': 2907, 'mindful': 2908, 'mindreaver': 2909, 'miner': 2910, 'minion': 2911, 'mirage': 2912, 'mirrodin': 2913, 'mirrorpool': 2914, 'mirthless': 2915, 'mists': 2916, 'monastery': 2917, 'mongrel': 2918, 'mons': 2919, 'mossbridge': 2920, 'mount': 2921, 'mourning': 2922, 'mowu': 2923, 'murmuring': 2924, 'nael': 2925, 'nath': 2926, 'navigator': 2927, 'necrogen': 2928, 'nemata': 2929, 'nest': 2930, 'network': 2931, 'neverwinter': 2932, 'nim': 2933, 'nin': 2934, 'nishoba': 2935, 'nixilis': 2936, 'node': 2937, 'nontoken': 2938, 'novice': 2939, 'nyx': 2940, 'o': 2941, 'ob': 2942, 'obsessive': 2943, 'occultist': 2944, 'odunos': 2945, 'officer': 2946, 'okaun': 2947, 'oketra': 2948, 'oko': 2949, 'ondu': 2950, 'opal': 2951, 'ordruun': 2952, 'oreskos': 2953, 'otawara': 2954, 'outburst': 2955, 'outpost': 2956, 'ozolith': 2957, 'packbeast': 2958, 'painter': 2959, 'paradise': 2960, 'paradox': 2961, 'paranoid': 2962, 'parcel': 2963, 'pardic': 2964, 'parish': 2965, 'partisan': 2966, 'past': 2967, 'patchwork': 2968, 'path': 2969, 'patriarch': 2970, 'patron': 2971, 'paws': 2972, 'perilous': 2973, 'pestilent': 2974, 'phyresis': 2975, 'phytohydra': 2976, 'pick': 2977, 'planar': 2978, 'plans': 2979, 'poet': 2980, 'poisoner': 2981, 'pools': 2982, 'powerstone': 2983, 'prahv': 2984, 'predation': 2985, 'pretender': 2986, 'prime': 2987, 'prized': 2988, 'prodigy': 2989, 'produces': 2990, 'progenitus': 2991, 'promenade': 2992, 'prototype': 2993, 'psionic': 2994, 'psychosis': 2995, 'punishment': 2996, 'purse': 2997, 'putrid': 2998, 'pyramid': 2999, 'pyrewild': 3000, 'pyroclastic': 3001, 'quality': 3002, 'rager': 3003, 'raiju': 3004, 'raker': 3005, 'rallier': 3006, 'raptors': 3007, 'rascal': 3008, 'rasputin': 3009, 'raven': 3010, 'razor': 3011, 'razorback': 3012, 'reactor': 3013, 'realized': 3014, 'recluse': 3015, 'redeemer': 3016, 'reef': 3017, 'rending': 3018, 'repository': 3019, 'restless': 3020, 'resurrected': 3021, 'reveler': 3022, 'revenge': 3023, 'revolutionary': 3024, 'rhoda': 3025, 'riders': 3026, 'right': 3027, 'ripper': 3028, 'rising': 3029, 'rite': 3030, 'ritual': 3031, 'road': 3032, 'rockslide': 3033, 'roiling': 3034, 'roost': 3035, 'roper': 3036, 'ruadach': 3037, 'ruinous': 3038, 'rumbler': 3039, 'run': 3040, 'runaway': 3041, 'runed': 3042, 'rupture': 3043, 'rush': 3044, 'rusted': 3045, 'sadist': 3046, 'sah': 3047, 'samite': 3048, 'sardian': 3049, 'satchel': 3050, 'satsuki': 3051, 'scale': 3052, 'scar': 3053, 'scars': 3054, 'scavengers': 3055, 'scorch': 3056, 'screeching': 3057, 'scute': 3058, 'seal': 3059, 'searcher': 3060, 'seas': 3061, 'seat': 3062, 'secluded': 3063, 'see': 3064, 'seekers': 3065, 'sell': 3066, 'shadowed': 3067, 'shadows': 3068, 'shandalar': 3069, 'shape': 3070, 'shark': 3071, 'shattered': 3072, 'shintai': 3073, 'shizuki': 3074, 'shorecrasher': 3075, 'shrieking': 3076, 'sibsig': 3077, 'sidisi': 3078, 'silverquill': 3079, 'simian': 3080, 'sinkhole': 3081, 'sisay': 3082, 'sister': 3083, 'skarrgan': 3084, 'skilled': 3085, 'skittering': 3086, 'skydiver': 3087, 'skyguard': 3088, 'skyknight': 3089, 'slag': 3090, 'sleep': 3091, 'slumbering': 3092, 'slurrk': 3093, 'smith': 3094, 'smoke': 3095, 'smoldering': 3096, 'snapping': 3097, 'soldiers': 3098, 'solemn': 3099, 'sorcerous': 3100, 'sorrow': 3101, 'soulstinger': 3102, 'soulsworn': 3103, 'spawning': 3104, 'specimen': 3105, 'spellblade': 3106, 'spincrusher': 3107, 'spine': 3108, 'spores': 3109, 'spyglass': 3110, 'squid': 3111, 'stand': 3112, 'stash': 3113, 'staticaster': 3114, 'statue': 3115, 'staunch': 3116, 'steadfast': 3117, 'stealer': 3118, 'stillmoon': 3119, 'sting': 3120, 'stirring': 3121, 'stitched': 3122, 'stitcher': 3123, 'stockpile': 3124, 'stoic': 3125, 'strixhaven': 3126, 'stromgald': 3127, 'stunning': 3128, 'suit': 3129, 'sulfurous': 3130, 'suncleanser': 3131, 'suncrusher': 3132, 'sundering': 3133, 'sunrise': 3134, 'supplies': 3135, 'survivalist': 3136, 'survivor': 3137, 'swallower': 3138, 'swimmer': 3139, 'swine': 3140, 'szat': 3141, 'takenuma': 3142, 'talon': 3143, 'tatsunari': 3144, 'technomancer': 3145, 'tenacious': 3146, 'tender': 3147, 'terrarion': 3148, 'tetsuo': 3149, 'tevesh': 3150, 'thieves': 3151, 'thoctar': 3152, 'thunderwave': 3153, 'ti': 3154, 'tibalt': 3155, 'tin': 3156, 'tishana': 3157, 'toad': 3158, 'tongue': 3159, 'topiary': 3160, 'tori': 3161, 'tormented': 3162, 'traitor': 3163, 'transform': 3164, 'triple': 3165, 'trophy': 3166, 'trudge': 3167, 'truths': 3168, 'turf': 3169, 'twelve': 3170, 'twinblade': 3171, 'twins': 3172, 'twisted': 3173, 'ultimatum': 3174, 'ulvenwald': 3175, 'umara': 3176, 'unattached': 3177, 'undercity': 3178, 'unlicensed': 3179, 'unquenchable': 3180, 'untaps': 3181, 'using': 3182, 'valiant': 3183, 'valor': 3184, 'veiled': 3185, 'velomachus': 3186, 'venerable': 3187, 'venerated': 3188, 'victory': 3189, 'vigilante': 3190, 'villainous': 3191, 'vindictive': 3192, 'vine': 3193, 'virtus': 3194, 'vivien': 3195, 'vohar': 3196, 'voidmage': 3197, 'voting': 3198, 'wanderwine': 3199, 'warchief': 3200, 'warder': 3201, 'warp': 3202, 'warren': 3203, 'wastes': 3204, 'waterfront': 3205, 'web': 3206, 'wheel': 3207, 'whether': 3208, 'whisperer': 3209, 'whispering': 3210, 'wing': 3211, 'wishclaw': 3212, 'wolverine': 3213, 'won': 3214, 'woolly': 3215, 'worker': 3216, 'workshop': 3217, 'worthy': 3218, 'yamabushi': 3219, 'yarok': 3220, 'youthful': 3221, 'yuan': 3222, 'zar': 3223, 'zeal': 3224, 'zegana': 3225, 'zendikar': 3226, 'zephyr': 3227, 'zol': 3228, 'zulaport': 3229, 'zurgo': 3230, 'abdel': 3231, 'aberrant': 3232, 'ablaze': 3233, 'above': 3234, 'accursed': 3235, 'ace': 3236, 'acorn': 3237, 'activation': 3238, 'acuity': 3239, 'adamaro': 3240, 'adanto': 3241, 'adaptive': 3242, 'adapts': 3243, 'adeline': 3244, 'adephage': 3245, 'admiral': 3246, 'admirers': 3247, 'adrian': 3248, 'advanced': 3249, 'advisor': 3250, 'aeon': 3251, 'aerie': 3252, 'aeromoeba': 3253, 'aetherborn': 3254, 'aetherflame': 3255, 'aethergeode': 3256, 'aetherplasm': 3257, 'aethersphere': 3258, 'aetherstorm': 3259, 'aetherstream': 3260, 'aethertide': 3261, 'aetherwind': 3262, 'aeve': 3263, 'affliction': 3264, 'agents': 3265, 'agonas': 3266, 'agrus': 3267, 'aim': 3268, 'air': 3269, 'alara': 3270, 'alarm': 3271, 'aldergard': 3272, 'alena': 3273, 'alharu': 3274, 'aligned': 3275, 'allosaurus': 3276, 'alphas': 3277, 'ambassador': 3278, 'ambush': 3279, 'amnesia': 3280, 'amphitheater': 3281, 'anafenza': 3282, 'anarch': 3283, 'anger': 3284, 'angler': 3285, 'animate': 3286, 'animator': 3287, 'ants': 3288, 'anurid': 3289, 'anvil': 3290, 'appraiser': 3291, 'aqueduct': 3292, 'aracnir': 3293, 'arbalest': 3294, 'arborea': 3295, 'archaeomancer': 3296, 'architect': 3297, 'arco': 3298, 'ardenvale': 3299, 'aristocrat': 3300, 'armasaur': 3301, 'armix': 3302, 'arrest': 3303, 'arsenal': 3304, 'artificers': 3305, 'artillerist': 3306, 'artillery': 3307, 'ashcloud': 3308, 'ashen': 3309, 'asmoranomardicadaistinaculdacar': 3310, 'assembled': 3311, 'atonement': 3312, 'attendants': 3313, 'attraction': 3314, 'atzocan': 3315, 'augury': 3316, 'auratouched': 3317, 'aurelia': 3318, 'authority': 3319, 'autumn': 3320, 'available': 3321, 'avarice': 3322, 'avengers': 3323, 'azra': 3324, 'azure': 3325, 'backlash': 3326, 'backwater': 3327, 'baffling': 3328, 'balefire': 3329, 'baleful': 3330, 'ballard': 3331, 'ballroom': 3332, 'ballynock': 3333, 'balor': 3334, 'banana': 3335, 'banewhip': 3336, 'bangchuckers': 3337, 'bant': 3338, 'bards': 3339, 'barge': 3340, 'barrowin': 3341, 'basalt': 3342, 'bash': 3343, 'basilica': 3344, 'basker': 3345, 'bats': 3346, 'battered': 3347, 'battlecaster': 3348, 'battlemaster': 3349, 'battlement': 3350, 'battlements': 3351, 'battlerager': 3352, 'battlewand': 3353, 'battlewise': 3354, 'bauble': 3355, 'beach': 3356, 'beam': 3357, 'bearclaw': 3358, 'bees': 3359, 'belzenlok': 3360, 'ben': 3361, 'beneath': 3362, 'benediction': 3363, 'benthicore': 3364, 'benthid': 3365, 'bewitching': 3366, 'bioessence': 3367, 'biomancer': 3368, 'birthing': 3369, 'bitter': 3370, 'blackblade': 3371, 'blackstaff': 3372, 'bladeblesser': 3373, 'blaster': 3374, 'blasting': 3375, 'blazethorn': 3376, 'blighted': 3377, 'blim': 3378, 'blisterspit': 3379, 'blob': 3380, 'blockade': 3381, 'blockers': 3382, 'bloodfell': 3383, 'bloodflies': 3384, 'bloodline': 3385, 'bloodmist': 3386, 'bloodseeker': 3387, 'bloodshot': 3388, 'bloodsoaked': 3389, 'bloodstained': 3390, 'bloodthirster': 3391, 'blyte': 3392, 'bodyguards': 3393, 'bogardan': 3394, 'boilerworks': 3395, 'bomb': 3396, 'bombshell': 3397, 'bonded': 3398, 'boneyard': 3399, 'bookwurm': 3400, 'boom': 3401, 'boomerang': 3402, 'boonweaver': 3403, 'borca': 3404, 'borrowed': 3405, 'bot': 3406, 'bouncer': 3407, 'brackish': 3408, 'brainstone': 3409, 'brash': 3410, 'brawlers': 3411, 'breaching': 3412, 'breathless': 3413, 'briar': 3414, 'bribery': 3415, 'brigade': 3416, 'brightflame': 3417, 'brinelin': 3418, 'broken': 3419, 'bronzehide': 3420, 'buccaneer': 3421, 'bug': 3422, 'bulette': 3423, 'bully': 3424, 'burakos': 3425, 'burdened': 3426, 'burglar': 3427, 'burrenton': 3428, 'burst': 3429, 'bushwhacker': 3430, 'buzzardiers': 3431, 'cabin': 3432, 'cackling': 3433, 'cadira': 3434, 'calciform': 3435, 'callous': 3436, 'camel': 3437, 'camp': 3438, 'campaign': 3439, 'canker': 3440, 'cannons': 3441, 'cantor': 3442, 'canyon': 3443, 'capridor': 3444, 'car': 3445, 'carah': 3446, 'caretaker': 3447, 'carnarium': 3448, 'carnifex': 3449, 'carrier': 3450, 'carth': 3451, 'casket': 3452, 'castaway': 3453, 'caterer': 3454, 'cathedral': 3455, 'caustic': 3456, 'celebrants': 3457, 'celestus': 3458, 'cell': 3459, 'centipede': 3460, 'cephalid': 3461, 'cerulean': 3462, 'cervin': 3463, 'chain': 3464, 'chainweb': 3465, 'chancellor': 3466, 'chancery': 3467, 'channelers': 3468, 'chant': 3469, 'char': 3470, 'characteristics': 3471, 'charioteers': 3472, 'charix': 3473, 'charmaw': 3474, 'charnel': 3475, 'chest': 3476, 'chick': 3477, 'chief': 3478, 'child': 3479, 'children': 3480, 'chitterspitter': 3481, 'choices': 3482, 'choked': 3483, 'chromatic': 3484, 'cinderhaze': 3485, 'cinderhorn': 3486, 'cindervines': 3487, 'citizens': 3488, 'civic': 3489, 'civil': 3490, 'clachan': 3491, 'clackbridge': 3492, 'clarion': 3493, 'claw': 3494, 'claws': 3495, 'cleaving': 3496, 'cliffgate': 3497, 'clone': 3498, 'cloud': 3499, 'cloudform': 3500, 'cloudgoat': 3501, 'clues': 3502, 'coastline': 3503, 'cobra': 3504, 'coercive': 3505, 'coldsteel': 3506, 'collective': 3507, 'colonnade': 3508, 'combustible': 3509, 'comedic': 3510, 'comeuppance': 3511, 'commandos': 3512, 'compleated': 3513, 'concealed': 3514, 'confessor': 3515, 'confounding': 3516, 'conjurer': 3517, 'conqueror': 3518, 'conscript': 3519, 'constable': 3520, 'constrictor': 3521, 'contagion': 3522, 'contender': 3523, 'contract': 3524, 'conundrum': 3525, 'conversion': 3526, 'cornucopia': 3527, 'corps': 3528, 'corsair': 3529, 'cottage': 3530, 'countless': 3531, 'courser': 3532, 'cove': 3533, 'covetous': 3534, 'crabs': 3535, 'cradle': 3536, 'cragganwick': 3537, 'crane': 3538, 'cratermaker': 3539, 'creative': 3540, 'creativity': 3541, 'creek': 3542, 'cremator': 3543, 'crested': 3544, 'crossing': 3545, 'cruelty': 3546, 'crushing': 3547, 'cullblade': 3548, 'cure': 3549, 'currency': 3550, 'custodian': 3551, 'custody': 3552, 'cutpurse': 3553, 'cyclone': 3554, 'cytoplast': 3555, 'daemogoth': 3556, 'daggertooth': 3557, 'dal': 3558, 'damned': 3559, 'dapper': 3560, 'darkslick': 3561, 'dawnguard': 3562, 'daya': 3563, 'daybreak': 3564, 'deadbridge': 3565, 'deadly': 3566, 'deathbellow': 3567, 'deathdealer': 3568, 'deathgorge': 3569, 'deathknell': 3570, 'deathspore': 3571, 'deciding': 3572, 'decimator': 3573, 'deckhand': 3574, 'deem': 3575, 'deeproot': 3576, 'defenders': 3577, 'delina': 3578, 'demilich': 3579, 'denial': 3580, 'denry': 3581, 'deserted': 3582, 'despoiler': 3583, 'destruction': 3584, 'devilish': 3585, 'differently': 3586, 'dilophosaur': 3587, 'disaster': 3588, 'discord': 3589, 'discordant': 3590, 'disinformation': 3591, 'disintegration': 3592, 'dismal': 3593, 'displacer': 3594, 'dissolve': 3595, 'diversion': 3596, 'djinni': 3597, \"do'urden\": 3598, 'dodger': 3599, 'dominate': 3600, 'doomscourge': 3601, 'doorbuster': 3602, 'dourbark': 3603, 'dracogenius': 3604, 'drafting': 3605, 'drag': 3606, 'dragonheart': 3607, 'dragonspeaker': 3608, 'dragoon': 3609, 'drakes': 3610, 'drakestown': 3611, 'drannith': 3612, 'dreadknight': 3613, 'dreadmaw': 3614, 'dreadship': 3615, 'dreamcaller': 3616, 'dreamer': 3617, 'dreamroot': 3618, 'dredger': 3619, 'dressed': 3620, 'drift': 3621, 'dromoka': 3622, 'drop': 3623, 'dropper': 3624, 'drudge': 3625, 'dryads': 3626, 'dueling': 3627, 'dukhara': 3628, 'dunes': 3629, 'duplication': 3630, 'durable': 3631, 'durkwood': 3632, 'duskenel': 3633, 'eager': 3634, 'eagle': 3635, 'ebon': 3636, 'eccentric': 3637, 'ecologist': 3638, 'eddytrail': 3639, 'edifice': 3640, 'eel': 3641, 'eerie': 3642, 'elderhall': 3643, 'electromancer': 3644, 'elegant': 3645, 'elenora': 3646, 'eliminator': 3647, 'elixir': 3648, 'elminster': 3649, 'elsewhere': 3650, 'elusive': 3651, 'elven': 3652, 'embereth': 3653, 'emberstrike': 3654, 'embodiment': 3655, 'embrace': 3656, 'enagos': 3657, 'endbringer': 3658, 'enduring': 3659, 'enemy': 3660, 'enforcers': 3661, 'engulfing': 3662, 'enraged': 3663, 'enthralling': 3664, 'entomber': 3665, 'entrancing': 3666, 'entropic': 3667, 'ephemera': 3668, 'epic': 3669, 'epicure': 3670, 'equenaut': 3671, 'erasure': 3672, 'errant': 3673, 'estuary': 3674, 'eternals': 3675, 'ethereal': 3676, 'ethersworn': 3677, 'evelyn': 3678, 'everflowing': 3679, 'evolution': 3680, 'examination': 3681, 'excavating': 3682, 'exclusion': 3683, 'exemplars': 3684, 'expert': 3685, 'exploited': 3686, 'express': 3687, 'extinction': 3688, 'eyeblight': 3689, 'eyed': 3690, 'facetaker': 3691, 'fair': 3692, 'falco': 3693, 'fall': 3694, 'falling': 3695, 'false': 3696, 'fame': 3697, 'fangren': 3698, 'faren': 3699, 'farmer': 3700, 'farmland': 3701, 'farmstead': 3702, 'fatal': 3703, 'fears': 3704, 'feed': 3705, 'feedback': 3706, 'felhide': 3707, 'fencer': 3708, 'fenlurker': 3709, 'ferocity': 3710, 'ferox': 3711, 'ferropede': 3712, 'festercreep': 3713, 'fewest': 3714, 'fields': 3715, 'fighting': 3716, 'fingers': 3717, 'finish': 3718, 'firedrinker': 3719, 'fireforger': 3720, 'fires': 3721, 'fixer': 3722, 'flagellant': 3723, 'flagship': 3724, 'flailer': 3725, 'flameblade': 3726, 'flamefiend': 3727, 'flametongue': 3728, 'flamewake': 3729, 'flaring': 3730, 'flask': 3731, 'fleeting': 3732, 'flitter': 3733, 'floor': 3734, 'flowers': 3735, 'fodder': 3736, 'folly': 3737, 'foods': 3738, 'fool': 3739, 'fools': 3740, 'foot': 3741, 'footed': 3742, 'foragers': 3743, 'forcemage': 3744, 'foreboding': 3745, 'foremost': 3746, 'forerunners': 3747, 'foreshadow': 3748, 'forgeborn': 3749, 'forger': 3750, 'forgestoker': 3751, 'forms': 3752, 'forward': 3753, 'found': 3754, 'fractured': 3755, 'fraying': 3756, 'free': 3757, 'freeblade': 3758, 'freebooter': 3759, 'freewind': 3760, 'froghemoth': 3761, 'front': 3762, 'frostboil': 3763, 'frostwalk': 3764, 'frostwielder': 3765, 'furycalm': 3766, 'future': 3767, 'gaea': 3768, 'gala': 3769, 'galazeth': 3770, 'gales': 3771, 'galloping': 3772, 'gambit': 3773, 'gang': 3774, 'gargadon': 3775, 'gargantua': 3776, 'gargantuan': 3777, 'gateless': 3778, 'gatherer': 3779, 'geargrabber': 3780, 'geistblast': 3781, 'geistflame': 3782, 'gelectrode': 3783, 'gem': 3784, 'gemblades': 3785, 'general': 3786, 'generous': 3787, 'geometric': 3788, 'geothermal': 3789, 'germinator': 3790, 'gerrard': 3791, 'getaway': 3792, 'ghastly': 3793, 'ghazi': 3794, 'ghirapur': 3795, 'ghor': 3796, 'ghostfire': 3797, 'ghostform': 3798, 'gibbering': 3799, 'gigantiform': 3800, 'gilt': 3801, 'gingerbread': 3802, 'gingerbrute': 3803, 'gisa': 3804, 'gladewalker': 3805, 'glaring': 3806, 'glassblower': 3807, 'gleaner': 3808, 'glen': 3809, 'glimmer': 3810, 'glimpse': 3811, 'glinting': 3812, 'globe': 3813, 'glorified': 3814, 'gnottvold': 3815, 'gobhobbler': 3816, 'gods': 3817, 'gorex': 3818, 'gorge': 3819, 'gotten': 3820, 'gouged': 3821, 'graces': 3822, 'grafted': 3823, 'grange': 3824, 'gravelord': 3825, 'graven': 3826, 'gray': 3827, 'greatmaw': 3828, 'greenbelt': 3829, 'greensleeves': 3830, 'greenwidow': 3831, 'greeters': 3832, 'greeting': 3833, 'grid': 3834, 'grimoire': 3835, 'grindclock': 3836, 'gristle': 3837, 'gristleback': 3838, 'grotesque': 3839, 'ground': 3840, 'grub': 3841, 'grubs': 3842, 'grunn': 3843, 'grunts': 3844, 'gudul': 3845, 'guenhwyvar': 3846, 'guessed': 3847, 'guest': 3848, 'guidance': 3849, 'guildless': 3850, 'guildpact': 3851, 'guile': 3852, 'gutter': 3853, 'gutterbones': 3854, 'hacker': 3855, 'hackrobat': 3856, 'hada': 3857, 'halana': 3858, 'halberdiers': 3859, 'hallar': 3860, 'hallowed': 3861, 'halo': 3862, 'hamlet': 3863, 'hanabi': 3864, 'hanged': 3865, 'harmonious': 3866, 'harper': 3867, 'haru': 3868, 'haruspex': 3869, 'hatchery': 3870, 'having': 3871, 'hazoret': 3872, 'headless': 3873, 'heads': 3874, 'headstrong': 3875, 'hearted': 3876, 'heat': 3877, 'helmsmasher': 3878, 'hemorrhage': 3879, 'heretic': 3880, 'heronblade': 3881, 'hierarch': 3882, 'hieromancer': 3883, 'highlands': 3884, 'hightide': 3885, 'hinterland': 3886, 'hireling': 3887, 'holding': 3888, 'hole': 3889, 'hollow': 3890, 'homage': 3891, 'hoodlums': 3892, 'hoofprint': 3893, 'hoofprints': 3894, 'hopper': 3895, 'horizon': 3896, 'horizons': 3897, 'horn': 3898, 'horncrest': 3899, 'horse': 3900, 'hostage': 3901, 'hot': 3902, 'houndmaster': 3903, 'hourglass': 3904, 'hours': 3905, 'hovel': 3906, 'hoverguard': 3907, 'howling': 3908, 'humanity': 3909, 'husher': 3910, 'hybrid': 3911, 'icebreaker': 3912, 'iconoclast': 3913, 'icy': 3914, 'ignite': 3915, 'iguanar': 3916, 'ilharg': 3917, 'ill': 3918, 'illusions': 3919, 'illusory': 3920, 'imaginary': 3921, 'immolating': 3922, 'immortal': 3923, 'immortality': 3924, 'impaler': 3925, 'impelled': 3926, 'imperious': 3927, 'imposter': 3928, 'improvement': 3929, 'impure': 3930, 'incandescent': 3931, 'incarnate': 3932, 'incarnation': 3933, 'increased': 3934, 'incubation': 3935, 'incursion': 3936, 'indomitable': 3937, 'indrik': 3938, 'induced': 3939, 'inescapable': 3940, 'infection': 3941, 'infectious': 3942, 'infernal': 3943, 'ingester': 3944, 'ingesting': 3945, 'inheritance': 3946, 'ink': 3947, 'inkrise': 3948, 'innkeeper': 3949, 'inquisitive': 3950, 'insatiable': 3951, 'instinct': 3952, 'instrument': 3953, 'intentions': 3954, 'interloper': 3955, 'intet': 3956, 'invasion': 3957, 'inventor': 3958, 'inventory': 3959, 'invigorating': 3960, 'invisimancer': 3961, 'invitation': 3962, 'ior': 3963, 'ironclaw': 3964, 'ironfoot': 3965, 'ironscale': 3966, 'ironsoul': 3967, 'ishi': 3968, 'islet': 3969, 'isolation': 3970, 'isperia': 3971, 'istfell': 3972, 'ivy': 3973, 'ixalan': 3974, 'ixalli': 3975, 'jack': 3976, 'javelin': 3977, 'jays': 3978, 'jedit': 3979, 'jeering': 3980, 'jewel': 3981, 'jilad': 3982, 'judge': 3983, 'juggler': 3984, 'juniper': 3985, 'jura': 3986, 'jwar': 3987, 'kaleidostone': 3988, 'kalonian': 3989, 'kamber': 3990, 'karametra': 3991, 'karfell': 3992, 'karstoderm': 3993, 'kazarov': 3994, 'kederekt': 3995, 'keene': 3996, 'keening': 3997, 'kefnet': 3998, 'keg': 3999, 'kemuri': 4000, 'khârn': 4001, 'kibo': 4002, 'kinetic': 4003, 'kinseekers': 4004, 'kiri': 4005, 'klauth': 4006, 'klothys': 4007, 'knollspine': 4008, 'knot': 4009, 'kos': 4010, 'krenko': 4011, 'kronch': 4012, 'kroxa': 4013, 'kunai': 4014, 'kurbis': 4015, 'kuro': 4016, 'kyler': 4017, 'laelia': 4018, 'lagoon': 4019, 'lairwatch': 4020, 'lamia': 4021, 'lancer': 4022, 'landscape': 4023, 'larcenist': 4024, 'lathnu': 4025, 'laurine': 4026, 'lavabrink': 4027, 'law': 4028, 'ledev': 4029, 'legionnaire': 4030, 'leina': 4031, 'leotau': 4032, 'leovold': 4033, 'ley': 4034, 'lieutenants': 4035, 'lifeblood': 4036, 'lightform': 4037, 'lizrog': 4038, 'loam': 4039, 'lobber': 4040, 'loch': 4041, 'lochmere': 4042, 'lolth': 4043, 'lone': 4044, 'lonely': 4045, 'longer': 4046, 'longtusk': 4047, 'looter': 4048, 'losing': 4049, 'low': 4050, 'lozhan': 4051, 'lucius': 4052, 'lumbering': 4053, 'lumberknot': 4054, 'luminarch': 4055, 'lurebound': 4056, 'lux': 4057, 'luxa': 4058, 'luxury': 4059, 'lyre': 4060, 'maadi': 4061, 'machinations': 4062, 'maddening': 4063, 'maga': 4064, 'maggot': 4065, 'magical': 4066, 'magistrate': 4067, 'magmaroth': 4068, 'magmutt': 4069, 'magnanimous': 4070, 'magnet': 4071, 'magnus': 4072, 'malanthrope': 4073, 'malfegor': 4074, 'malignus': 4075, 'malison': 4076, 'manalith': 4077, 'maniac': 4078, 'mannequin': 4079, 'marble': 4080, 'martial': 4081, 'masters': 4082, 'mate': 4083, 'maul': 4084, 'maverick': 4085, 'measure': 4086, 'mechanic': 4087, 'medomai': 4088, 'meek': 4089, 'megaliths': 4090, 'melancholy': 4091, 'meld': 4092, 'meletis': 4093, 'mender': 4094, 'mephitic': 4095, 'mercenary': 4096, 'mesa': 4097, 'mesmerizing': 4098, 'metalspinner': 4099, 'miasma': 4100, 'micromancer': 4101, 'millipede': 4102, 'mindbreaker': 4103, 'mindleech': 4104, 'minimum': 4105, 'minister': 4106, 'minotaurs': 4107, 'mirran': 4108, 'mirri': 4109, 'mirrorlake': 4110, 'misfortune': 4111, 'missionary': 4112, 'mole': 4113, 'momentum': 4114, 'money': 4115, 'monkey': 4116, 'monks': 4117, 'moondrakes': 4118, 'moonglove': 4119, 'moonlit': 4120, 'moonring': 4121, 'moonsilver': 4122, 'moonsnare': 4123, 'moray': 4124, 'mordant': 4125, 'moriok': 4126, 'morkrut': 4127, 'morningstar': 4128, 'morselhoarder': 4129, 'mortality': 4130, 'mortals': 4131, 'mortis': 4132, 'moth': 4133, 'motorist': 4134, 'mounts': 4135, 'mu': 4136, 'mudbrawler': 4137, 'mudbutton': 4138, 'mukotai': 4139, 'mul': 4140, 'mulligans': 4141, 'multani': 4142, 'munitions': 4143, 'murktide': 4144, 'muster': 4145, 'mutalith': 4146, 'mycoderm': 4147, 'mycologist': 4148, 'mycon': 4149, 'myconid': 4150, 'mycosynth': 4151, 'myrkul': 4152, 'najal': 4153, 'nar': 4154, 'narfi': 4155, 'narnam': 4156, 'narset': 4157, 'nav': 4158, 'naya': 4159, 'nearheath': 4160, 'nebelgast': 4161, 'necroblossom': 4162, 'necrotic': 4163, 'negotiator': 4164, 'neheb': 4165, 'nephalia': 4166, 'netcaster': 4167, 'nettle': 4168, 'newsie': 4169, 'newt': 4170, 'niambi': 4171, 'nightfire': 4172, 'nightmares': 4173, 'nightveil': 4174, 'nightwatch': 4175, 'nikko': 4176, 'nimana': 4177, 'nimbus': 4178, 'ninjas': 4179, 'nonbasic': 4180, 'nonland': 4181, 'noosegraf': 4182, 'nosferatu': 4183, 'nothing': 4184, 'nothingness': 4185, 'nourisher': 4186, 'nucklavee': 4187, 'nullhide': 4188, 'numbers': 4189, 'nurgle': 4190, 'nurturer': 4191, 'nurturing': 4192, 'nyxathid': 4193, 'nyxborn': 4194, 'oaken': 4195, 'oasis': 4196, 'observer': 4197, 'obstinate': 4198, 'obzedat': 4199, 'oculus': 4200, 'oddity': 4201, 'offer': 4202, 'officiant': 4203, 'ohran': 4204, 'oji': 4205, 'oozes': 4206, 'opportunistic': 4207, 'opus': 4208, 'orator': 4209, 'orazca': 4210, 'orb': 4211, 'orca': 4212, 'oreads': 4213, 'oros': 4214, 'orzhova': 4215, 'otherworld': 4216, 'ouphe': 4217, 'outlaw': 4218, 'overgrowth': 4219, 'overslime': 4220, 'owlbear': 4221, 'oxidda': 4222, 'packleader': 4223, 'packs': 4224, 'packsong': 4225, 'pact': 4226, 'pactweaver': 4227, 'paincaster': 4228, 'palette': 4229, 'pallid': 4230, 'pandemonium': 4231, 'panic': 4232, 'pantheon': 4233, 'paperfin': 4234, 'parasitic': 4235, 'park': 4236, 'pashalik': 4237, 'passage': 4238, 'passageway': 4239, 'passed': 4240, 'patagia': 4241, 'pathbreaker': 4242, 'patterns': 4243, 'peak': 4244, 'pearl': 4245, 'peema': 4246, 'pelakka': 4247, 'pendant': 4248, 'pendulum': 4249, 'perdition': 4250, 'perimeter': 4251, 'perished': 4252, 'permeating': 4253, 'persistent': 4254, 'petal': 4255, 'petrahydrox': 4256, 'phantasmagorian': 4257, 'pharagax': 4258, 'phased': 4259, 'phenax': 4260, 'phylath': 4261, 'pierce': 4262, 'pillardrop': 4263, 'pink': 4264, 'pioneer': 4265, 'pir': 4266, 'piranha': 4267, 'piston': 4268, 'pitiless': 4269, 'plainscycling': 4270, 'plasmic': 4271, 'plot': 4272, 'plow': 4273, 'plume': 4274, 'plunderer': 4275, 'plundering': 4276, 'poisonous': 4277, 'polis': 4278, 'polyraptor': 4279, 'portable': 4280, 'potion': 4281, 'pouch': 4282, 'pouncing': 4283, 'powder': 4284, 'prayer': 4285, 'precinct': 4286, 'prey': 4287, 'pridemate': 4288, 'primaris': 4289, 'prism': 4290, 'pristine': 4291, 'progenitor': 4292, 'project': 4293, 'projection': 4294, 'prophet': 4295, 'prosperous': 4296, 'protocols': 4297, 'proud': 4298, 'psychopath': 4299, 'psychotrope': 4300, 'pterodon': 4301, 'pteron': 4302, 'puca': 4303, 'puppet': 4304, 'puppeteer': 4305, 'purestrain': 4306, 'purifying': 4307, 'pursued': 4308, 'pyroclast': 4309, 'pyrohemia': 4310, 'pyxis': 4311, 'qal': 4312, 'qasali': 4313, 'quagmire': 4314, 'quakefoot': 4315, 'quartermaster': 4316, 'quartermasters': 4317, 'questing': 4318, 'quicksilver': 4319, 'quillmane': 4320, 'rabbit': 4321, 'rabble': 4322, 'rack': 4323, 'racketeer': 4324, 'rael': 4325, 'rain': 4326, 'ram': 4327, 'rampage': 4328, 'ramunap': 4329, 'ransom': 4330, 'rapacious': 4331, 'ratchet': 4332, 'rattleblaze': 4333, 'ravenloft': 4334, 'ravine': 4335, 'raving': 4336, 'razerunners': 4337, 'reaches': 4338, 'realmwalker': 4339, 'rebuke': 4340, 'reclaimer': 4341, 'reclusive': 4342, 'recovery': 4343, 'redemption': 4344, 'regal': 4345, 'regicide': 4346, 'regisaur': 4347, 'regna': 4348, 'reinforcements': 4349, 'reins': 4350, 'rekindled': 4351, 'rekindling': 4352, 'release': 4353, 'reliquary': 4354, 'remaining': 4355, 'remembrance': 4356, 'removing': 4357, 'renewer': 4358, 'renown': 4359, 'repossession': 4360, 'reprieve': 4361, 'research': 4362, 'reselect': 4363, 'resilient': 4364, 'resolve': 4365, 'resolving': 4366, 'resurgence': 4367, 'retreat': 4368, 'retribution': 4369, 'retributive': 4370, 'revel': 4371, 'revelers': 4372, 'reverent': 4373, 'reversal': 4374, 'revival': 4375, 'revolution': 4376, 'revue': 4377, 'ridges': 4378, 'ridgewolf': 4379, 'rigger': 4380, 'rilsa': 4381, 'ringskipper': 4382, 'riot': 4383, 'rioters': 4384, 'riparian': 4385, 'risen': 4386, 'rites': 4387, 'rix': 4388, 'robaran': 4389, 'rocco': 4390, 'rockfall': 4391, 'rocks': 4392, 'root': 4393, 'rootwalla': 4394, 'rootweaver': 4395, 'rose': 4396, 'rousing': 4397, 'roving': 4398, 'rowdy': 4399, 'royal': 4400, 'rubblehulk': 4401, 'rugged': 4402, 'rustic': 4403, 'rutstein': 4404, 'saboteur': 4405, 'sacred': 4406, 'saddle': 4407, 'saheeli': 4408, 'saint': 4409, 'salamanders': 4410, 'salt': 4411, 'saltskitter': 4412, 'salvo': 4413, 'san': 4414, 'sanctions': 4415, 'sand': 4416, 'sanwell': 4417, 'sarcomite': 4418, 'sarevok': 4419, 'sash': 4420, 'savai': 4421, 'savior': 4422, 'sawblade': 4423, 'sawjack': 4424, 'sawtooth': 4425, 'scab': 4426, 'scalding': 4427, 'scaleguard': 4428, 'scamp': 4429, 'scavenged': 4430, 'schematic': 4431, 'school': 4432, 'scions': 4433, 'scorching': 4434, 'scoundrel': 4435, 'scoured': 4436, 'scrap': 4437, 'scrapheap': 4438, 'scrapyard': 4439, 'scream': 4440, 'scribe': 4441, 'scrounger': 4442, 'scrounging': 4443, 'scrutiny': 4444, 'scrying': 4445, 'sculler': 4446, 'scythecat': 4447, 'seacliff': 4448, 'sealock': 4449, 'searchlight': 4450, 'seasons': 4451, 'sedraxis': 4452, 'self': 4453, 'selhoff': 4454, 'selkie': 4455, 'selvala': 4456, 'senate': 4457, 'senses': 4458, 'seraph': 4459, 'serenity': 4460, 'serum': 4461, 'shanna': 4462, 'sharpshooter': 4463, 'shatterskull': 4464, 'shessra': 4465, 'shieldguard': 4466, 'shikari': 4467, 'shimatsu': 4468, 'shimmerdrift': 4469, 'shinechaser': 4470, 'shineshadow': 4471, 'shinewend': 4472, 'shinobi': 4473, 'shipbreaker': 4474, 'shot': 4475, 'shredder': 4476, 'shrieker': 4477, 'shriekhorn': 4478, 'shrike': 4479, 'shuffled': 4480, 'sickle': 4481, 'sifter': 4482, 'sifters': 4483, 'sight': 4484, 'signal': 4485, 'silkwrap': 4486, 'sin': 4487, 'sinuous': 4488, 'sire': 4489, 'sisma': 4490, 'sisters': 4491, 'skald': 4492, 'skimmer': 4493, 'skin': 4494, 'skithiryx': 4495, 'skitter': 4496, 'skola': 4497, 'skull': 4498, 'skullcairn': 4499, 'skullmane': 4500, 'skulls': 4501, 'skullslither': 4502, 'skyblade': 4503, 'skyclaves': 4504, 'skyclaw': 4505, 'skyjek': 4506, 'skyline': 4507, 'skyrider': 4508, 'skyturtle': 4509, 'slabs': 4510, 'slagheap': 4511, 'slagwurm': 4512, 'sled': 4513, 'sledge': 4514, 'sling': 4515, 'slipstream': 4516, 'slithering': 4517, 'slumbermound': 4518, 'small': 4519, 'smelt': 4520, 'snapper': 4521, 'snarespinner': 4522, 'snoop': 4523, 'snooping': 4524, 'snowcrusher': 4525, 'solar': 4526, 'song': 4527, 'sorrows': 4528, 'soulbinders': 4529, 'soulflayer': 4530, 'soulripper': 4531, 'soultender': 4532, 'sower': 4533, 'space': 4534, 'spara': 4535, 'sparkhunter': 4536, 'sparring': 4537, 'spawnwrithe': 4538, 'species': 4539, 'speed': 4540, 'spellbound': 4541, 'spending': 4542, 'spewer': 4543, 'spikes': 4544, 'spinal': 4545, 'spirited': 4546, 'spit': 4547, 'spite': 4548, 'spitter': 4549, 'splendor': 4550, 'splitting': 4551, 'spoils': 4552, 'spreading': 4553, 'springjack': 4554, 'sprout': 4555, 'stair': 4556, 'stampeding': 4557, 'standard': 4558, 'starfall': 4559, 'starnheim': 4560, 'statuette': 4561, 'stickfingers': 4562, 'stingmoggie': 4563, 'stirge': 4564, 'stitchwing': 4565, 'stomping': 4566, 'stonehorn': 4567, 'stonespeaker': 4568, 'stormcaller': 4569, 'stormcarved': 4570, 'stormchaser': 4571, 'stormcloud': 4572, 'stormfront': 4573, 'storms': 4574, 'stormscale': 4575, 'stormsurge': 4576, 'stormwild': 4577, 'stormwing': 4578, 'story': 4579, 'stream': 4580, 'stroke': 4581, 'study': 4582, 'sturmgeist': 4583, 'subtlety': 4584, 'summary': 4585, 'summons': 4586, 'sunblade': 4587, 'sunchaser': 4588, 'sunder': 4589, 'sundown': 4590, 'sungold': 4591, 'sunhome': 4592, 'sunspring': 4593, 'sunstreak': 4594, 'supply': 4595, 'sure': 4596, 'surgehacker': 4597, 'suspect': 4598, 'suspension': 4599, 'sustenance': 4600, 'svyelun': 4601, 'swampwalk': 4602, 'swarmborn': 4603, 'swashbuckler': 4604, 'swift': 4605, 'swiftwater': 4606, 'swooper': 4607, 'swordtooth': 4608, 'sylex': 4609, 'sylvia': 4610, 'synthesizer': 4611, 'szadek': 4612, 'taa': 4613, 'tablet': 4614, 'taborax': 4615, 'taken': 4616, 'takeno': 4617, 'takeover': 4618, 'taking': 4619, 'talons': 4620, 'talus': 4621, 'tamiyo': 4622, 'tanuki': 4623, 'targ': 4624, 'tarox': 4625, 'task': 4626, 'taskmaster': 4627, 'tatsumasa': 4628, 'taunter': 4629, 'taunting': 4630, 'taxes': 4631, 'tazeem': 4632, 'tears': 4633, 'technician': 4634, 'teetering': 4635, 'tel': 4636, 'telepathy': 4637, 'tendo': 4638, 'tenuous': 4639, 'termagant': 4640, 'terrain': 4641, 'terrarium': 4642, 'tetzimoc': 4643, 'thalia': 4644, 'thermo': 4645, 'thicket': 4646, 'thin': 4647, 'thirst': 4648, 'thistledown': 4649, 'thopters': 4650, 'thorns': 4651, 'thornwatch': 4652, 'thornwood': 4653, 'thoughtbound': 4654, 'thraben': 4655, 'thraximundar': 4656, 'threshold': 4657, 'thrinax': 4658, 'through': 4659, 'thunderblade': 4660, 'thunderhoof': 4661, 'thunderkin': 4662, 'thunderous': 4663, 'tick': 4664, 'tidebinder': 4665, 'tidehollow': 4666, 'tides': 4667, 'tidewalker': 4668, 'tieflings': 4669, 'timin': 4670, 'tinkering': 4671, 'tireless': 4672, 'toluz': 4673, 'torment': 4674, 'tornado': 4675, 'torsten': 4676, 'torturer': 4677, 'toski': 4678, 'tourach': 4679, 'towashi': 4680, 'town': 4681, 'township': 4682, 'transformation': 4683, 'transguild': 4684, 'transmogrifying': 4685, 'transreliquat': 4686, 'trapjaw': 4687, 'traxos': 4688, 'treacherous': 4689, 'trebuchet': 4690, 'treeshaker': 4691, 'tremors': 4692, 'tresserhorn': 4693, 'trest': 4694, 'tribal': 4695, 'tribunal': 4696, 'triumphant': 4697, 'tromokratis': 4698, 'trostani': 4699, 'truce': 4700, 'truefire': 4701, 'trueheart': 4702, 'trufflesnout': 4703, 'trumpeter': 4704, 'trustworthy': 4705, 'trygon': 4706, 'tumble': 4707, 'tunnel': 4708, 'tusker': 4709, 'tuya': 4710, 'twingrove': 4711, 'twinshot': 4712, 'tycoon': 4713, 'tyr': 4714, 'tyvar': 4715, 'tzeentch': 4716, 'uchuulon': 4717, 'ula': 4718, 'umbris': 4719, 'unbound': 4720, 'unbreathing': 4721, 'unbroken': 4722, 'uncharted': 4723, 'undercellar': 4724, 'underdark': 4725, 'undurr': 4726, 'unhallowed': 4727, 'unite': 4728, 'unleashed': 4729, 'unliving': 4730, 'unredeemed': 4731, 'unsealing': 4732, 'untamed': 4733, 'unyaro': 4734, 'unyielding': 4735, 'uprising': 4736, 'upstart': 4737, 'urami': 4738, 'urban': 4739, 'urchin': 4740, 'urchins': 4741, 'use': 4742, 'valet': 4743, 'vargus': 4744, 'vat': 4745, 'vecna': 4746, 'vectis': 4747, 'velocity': 4748, 'velus': 4749, 'venturer': 4750, 'verazol': 4751, 'verse': 4752, 'vestige': 4753, 'vesuvan': 4754, 'vigor': 4755, 'vigorspore': 4756, 'vineglimmer': 4757, 'vineshaper': 4758, 'virtuoso': 4759, 'vishgraz': 4760, 'visions': 4761, 'vitality': 4762, 'vitaspore': 4763, 'vithian': 4764, 'vitu': 4765, 'vizkopa': 4766, 'voda': 4767, 'voja': 4768, 'voltage': 4769, 'voltaic': 4770, 'vorosh': 4771, 'vorpal': 4772, 'vow': 4773, 'vrondiss': 4774, 'vulturous': 4775, 'wailing': 4776, 'wakening': 4777, 'warchanter': 4778, 'warform': 4779, 'warhorse': 4780, 'warhound': 4781, 'warkite': 4782, 'warmind': 4783, 'warsinger': 4784, 'watchers': 4785, 'watchful': 4786, 'water': 4787, 'waterdeep': 4788, 'waves': 4789, 'waxmane': 4790, 'wayfaring': 4791, 'ways': 4792, 'wayward': 4793, 'weak': 4794, 'welder': 4795, 'weldfast': 4796, 'wellspring': 4797, 'whichever': 4798, 'whiptail': 4799, 'whispergear': 4800, 'wickedness': 4801, 'wickerbough': 4802, 'wielder': 4803, 'wildfire': 4804, 'willow': 4805, 'windrobber': 4806, 'windseer': 4807, 'wingmate': 4808, 'wingrattle': 4809, 'wings': 4810, 'wingshield': 4811, 'wingsteed': 4812, 'winnower': 4813, 'winter': 4814, 'wintermoor': 4815, 'wirefly': 4816, 'wisdom': 4817, 'wishes': 4818, 'witching': 4819, 'witherscale': 4820, 'wolfbear': 4821, 'wolfir': 4822, 'wolfrider': 4823, 'woodweaver': 4824, 'worldspine': 4825, 'worth': 4826, 'wretch': 4827, 'writhing': 4828, 'wumpus': 4829, 'y': 4830, 'yahenni': 4831, 'yanggu': 4832, 'yearling': 4833, 'yidaro': 4834, 'yuki': 4835, 'zacama': 4836, 'zada': 4837, 'zareth': 4838, 'zektar': 4839, 'zephyrnaut': 4840, 'zhalfir': 4841, 'zhur': 4842, 'zndrsplt': 4843, 'sinks': 0, 'contaminated': 0, 'aquifer': 0, 'floodplain': 0, 'drossforge': 0, 'ketria': 0, 'veinfire': 0, 'tombs': 0, 'evolves': 0, 'bladeseeker': 0, 'dynavolt': 0, 'tethmos': 0, 'yomiji': 0, 'bars': 0, 'rosnakht': 0, 'rohgahh': 0, 'profaner': 0, 'vista': 0, 'extractor': 0, 'previous': 0, 'ravnica': 0, 'era': 0, 'innovation': 0, 'hamletback': 0, 'spiritkeeper': 0, 'utopian': 0, 'meria': 0, 'excavator': 0, 'tzaangor': 0, 'answered': 0, 'prayers': 0, 'pet': 0, 'vengevine': 0, 'burnished': 0, 'hart': 0, 'cacophony': 0, 'dominator': 0, 'dazzling': 0, 'racketeers': 0, 'scuttler': 0, 'keepsake': 0, 'volition': 0, 'beckoner': 0, 'hatching': 0, 'elgaud': 0, 'reincarnated': 0, 'unraveler': 0, 'submersible': 0, 'scarland': 0, 'wharf': 0, 'bloodflow': 0, 'mistcutter': 0, 'cutlass': 0, 'vineweft': 0, 'fetid': 0, 'rotting': 0, 'firewild': 0, 'sightless': 0, 'silverbluff': 0, 'tanglepool': 0, 'jhessian': 0, 'fjord': 0, 'indatha': 0, 'curator': 0, 'loud': 0, 'ruckus': 0, 'rapid': 0, 'wake': 0, 'armorguard': 0, 'brave': 0, 'stench': 0, 'roadside': 0, 'waverider': 0, 'ampryn': 0, 'reflective': 0, 'yeva': 0, 'shoal': 0, 'wiitigo': 0, 'tormentor': 0, 'inscribed': 0, 'mischievous': 0, 'shiny': 0, 'malignity': 0, 'judith': 0, 'diva': 0})\n"
     ]
    }
   ],
   "source": [
    "v = torch.load('src_vocab.pt')\n",
    "print(v.stoi)"
   ]
  }
 ],
 "metadata": {
  "kernelspec": {
   "display_name": "seq2seq",
   "language": "python",
   "name": "python3"
  },
  "language_info": {
   "codemirror_mode": {
    "name": "ipython",
    "version": 3
   },
   "file_extension": ".py",
   "mimetype": "text/x-python",
   "name": "python",
   "nbconvert_exporter": "python",
   "pygments_lexer": "ipython3",
   "version": "3.9.16"
  },
  "orig_nbformat": 4
 },
 "nbformat": 4,
 "nbformat_minor": 2
}
