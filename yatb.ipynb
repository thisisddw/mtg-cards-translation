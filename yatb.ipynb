{
 "cells": [
  {
   "attachments": {},
   "cell_type": "markdown",
   "metadata": {},
   "source": [
    "yatb - yet another test bench"
   ]
  },
  {
   "attachments": {},
   "cell_type": "markdown",
   "metadata": {},
   "source": [
    "Todo: Create a common test tool for all models. It should use a translator as input, and output bleu score for the test-set of choice."
   ]
  },
  {
   "cell_type": "code",
   "execution_count": 5,
   "metadata": {},
   "outputs": [],
   "source": [
    "from dataset.mtgcards import TestSets\n",
    "from utils import calculate_bleu\n",
    "from utils.preprocess import fields_for_rule_text\n",
    "from torchtext.legacy.data import Field"
   ]
  },
  {
   "cell_type": "code",
   "execution_count": 6,
   "metadata": {},
   "outputs": [],
   "source": [
    "SRC, TRG = fields_for_rule_text()\n",
    "fields = {'src-rule': ('src', SRC), 'trg-rule': ('trg', TRG)}\n",
    "fields = {'src-rule': ('src', Field()), 'trg-rule': ('trg', Field())}\n",
    "data = TestSets.load(fields)"
   ]
  },
  {
   "cell_type": "code",
   "execution_count": 7,
   "metadata": {},
   "outputs": [
    {
     "name": "stdout",
     "output_type": "stream",
     "text": [
      "{'src': ['Whenever', 'another', 'artifact', 'or', 'creature', 'you', 'control', 'is', 'put', 'into', 'a', 'graveyard', 'from', 'the', 'battlefield,', 'put', 'an', 'oil', 'counter', 'on', 'Vat', 'of', 'Rebirth.', '{2}{B},', '{T},', 'Remove', 'four', 'oil', 'counters', 'from', 'Vat', 'of', 'Rebirth:', 'Return', 'target', 'creature', 'card', 'from', 'your', 'graveyard', 'to', 'the', 'battlefield.', 'Activate', 'only', 'as', 'a', 'sorcery.'], 'trg': ['每当另一个由你操控的神器或生物从战场进入坟墓场时，在再生缸上放置一个烁油指示物。', '{2}{B}，{T}，从再生缸上移去四个烁油指示物：将目标生物牌从你的坟墓场移回战场。只能于法术时机起动。']}\n"
     ]
    }
   ],
   "source": [
    "print(vars(data.examples[0]))"
   ]
  },
  {
   "cell_type": "code",
   "execution_count": 6,
   "metadata": {},
   "outputs": [
    {
     "name": "stdout",
     "output_type": "stream",
     "text": [
      "path: d:\\ddw\\school\\大三下\\语音信息处理技术\\期末作业\\code\\mtg-cards-translation\\models\\card_name_detector\n",
      "['when', 'xbp', ',', 'nku', \"'s\", 'hope', 'enters', 'the', 'battlefield', ',', 'search', 'your', 'library', 'for', 'a', 'card', 'named', 'ddw', ',', 'xbp', \"'s\", 'minion', ',', 'put', 'it', 'into', 'your', 'hand', '.']\n"
     ]
    },
    {
     "data": {
      "text/plain": [
       "\" when <xbp , nku 's hope> enters the battlefield , search your library for a card named <ddw , xbp 's minion> , put it into your hand .\""
      ]
     },
     "execution_count": 6,
     "metadata": {},
     "output_type": "execute_result"
    }
   ],
   "source": [
    "from models.card_name_detector.definition import TrainedDetector\n",
    "\n",
    "D = TrainedDetector()\n",
    "D.annotate('when xbp, NKU\\'s hope enters the battlefield, search your library for a card named ddw, xbp\\'s minion, put it into your hand.',\n",
    "           threshold=1e-3)"
   ]
  }
 ],
 "metadata": {
  "kernelspec": {
   "display_name": "seq2seq",
   "language": "python",
   "name": "python3"
  },
  "language_info": {
   "codemirror_mode": {
    "name": "ipython",
    "version": 3
   },
   "file_extension": ".py",
   "mimetype": "text/x-python",
   "name": "python",
   "nbconvert_exporter": "python",
   "pygments_lexer": "ipython3",
   "version": "3.9.16"
  },
  "orig_nbformat": 4
 },
 "nbformat": 4,
 "nbformat_minor": 2
}
