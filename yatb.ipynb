{
 "cells": [
  {
   "attachments": {},
   "cell_type": "markdown",
   "metadata": {},
   "source": [
    "yatb - yet another test bench"
   ]
  },
  {
   "attachments": {},
   "cell_type": "markdown",
   "metadata": {},
   "source": [
    "Todo: Create a common test tool for all models. It should use a translator as input, and output bleu score for the test-set of choice."
   ]
  },
  {
   "cell_type": "code",
   "execution_count": 1,
   "metadata": {},
   "outputs": [
    {
     "name": "stderr",
     "output_type": "stream",
     "text": [
      "c:\\Users\\ddw\\Anaconda3\\envs\\seq2seq\\lib\\site-packages\\tqdm\\auto.py:21: TqdmWarning: IProgress not found. Please update jupyter and ipywidgets. See https://ipywidgets.readthedocs.io/en/stable/user_install.html\n",
      "  from .autonotebook import tqdm as notebook_tqdm\n"
     ]
    }
   ],
   "source": [
    "from dataset.mtgcards import TestSets\n",
    "from utils import calculate_bleu\n",
    "from utils.preprocess import fields_for_rule_text\n",
    "from torchtext.legacy.data import Field"
   ]
  },
  {
   "cell_type": "code",
   "execution_count": 10,
   "metadata": {},
   "outputs": [],
   "source": [
    "SRC, TRG = fields_for_rule_text()\n",
    "fields = {'src-rule': ('src', SRC), 'trg-rule': ('trg', TRG)}\n",
    "fields = {'src-rule': ('src', Field(tokenize=lambda x: x.split(' '))), 'trg-rule': ('trg', Field())}\n",
    "data = TestSets.load(fields)"
   ]
  },
  {
   "cell_type": "code",
   "execution_count": 11,
   "metadata": {},
   "outputs": [
    {
     "name": "stdout",
     "output_type": "stream",
     "text": [
      "{'src': ['Whenever', 'another', 'artifact', 'or', 'creature', 'you', 'control', 'is', 'put', 'into', 'a', 'graveyard', 'from', 'the', 'battlefield,', 'put', 'an', 'oil', 'counter', 'on', 'Vat', 'of', 'Rebirth.\\n{2}{B},', '{T},', 'Remove', 'four', 'oil', 'counters', 'from', 'Vat', 'of', 'Rebirth:', 'Return', 'target', 'creature', 'card', 'from', 'your', 'graveyard', 'to', 'the', 'battlefield.', 'Activate', 'only', 'as', 'a', 'sorcery.'], 'trg': ['每当另一个由你操控的神器或生物从战场进入坟墓场时，在再生缸上放置一个烁油指示物。', '{2}{B}，{T}，从再生缸上移去四个烁油指示物：将目标生物牌从你的坟墓场移回战场。只能于法术时机起动。']}\n"
     ]
    }
   ],
   "source": [
    "print(vars(data.examples[0]))"
   ]
  },
  {
   "cell_type": "code",
   "execution_count": 21,
   "metadata": {},
   "outputs": [
    {
     "name": "stdout",
     "output_type": "stream",
     "text": [
      "path: d:\\ddw\\school\\大三下\\语音信息处理技术\\期末作业\\code\\mtg-cards-translation\\models\\card_name_detector\n",
      "['when', 'xbp', ',', 'nku', \"'s\", 'hope', 'enters', 'the', 'battlefield', ',', 'search', 'your', 'library', 'for', 'a', 'card', 'named', 'ddw', ',', 'xbp', \"'s\", 'minion', ',', 'put', 'it', 'into', 'your', 'hand', '.']\n"
     ]
    },
    {
     "data": {
      "text/plain": [
       "\" when <xbp , nku 's hope> enters the battlefield , search your library for a card named <ddw , xbp 's minion> , put it into your hand .\""
      ]
     },
     "execution_count": 21,
     "metadata": {},
     "output_type": "execute_result"
    }
   ],
   "source": [
    "from models.card_name_detector.definition import TrainedDetector\n",
    "\n",
    "D = TrainedDetector()\n",
    "D.annotate('when xbp, NKU\\'s hope enters the battlefield, search your library for a card named ddw, xbp\\'s minion, put it into your hand.',\n",
    "           threshold=1e-3)"
   ]
  },
  {
   "cell_type": "code",
   "execution_count": 19,
   "metadata": {},
   "outputs": [],
   "source": [
    "def sentencize(text: str):\n",
    "    ignore = {' ', '(', ')', '\\n'}\n",
    "    while len(text) and text[0] in ignore:\n",
    "        text = text[1:]\n",
    "    if len(text) == 0:\n",
    "        return []\n",
    "    \n",
    "    r = 0\n",
    "    delims = {'.', '\\n', '('}\n",
    "    while r < len(text) and text[r] not in delims:\n",
    "        r += 1\n",
    "    \n",
    "    if r < len(text) and text[r] == '.':\n",
    "        return [text[:r + 1]] + sentencize(text[r + 1:])\n",
    "    return [text[:r]] + sentencize(text[r:])"
   ]
  },
  {
   "cell_type": "code",
   "execution_count": 20,
   "metadata": {},
   "outputs": [
    {
     "name": "stdout",
     "output_type": "stream",
     "text": [
      "['Toxic 2 ', 'Players dealt combat damage by this creature also get two poison counters.']\n",
      "['Whenever you cast a noncreature spell, put an oil counter on Atmosphere Surgeon.', 'Remove an oil counter from Atmosphere Surgeon: Target creature gains flying until end of turn.', 'Activate only as a sorcery.']\n",
      "['Enchant creature', 'When Mesmerizing Dose enters the battlefield, tap enchanted creature, then proliferate.', 'Choose any number of permanents and/or players, then give each another counter of each kind already there.', \"Enchanted creature doesn't untap during its controller's untap step.\"]\n",
      "['For Mirrodin! ', 'When this Equipment enters the battlefield, create a 2/2 red Rebel creature token, then attach this to it.', 'Whenever Blade of Shared Souls becomes attached to a creature, for as long as Blade of Shared Souls remains attached to it, you may have that creature become a copy of another target creature you control.', 'Equip {2}']\n",
      "['Compleated ', '{G/P} can be paid with {G} or 2 life.', 'For each {G/P} paid with life, this planeswalker enters with two fewer loyalty counters.', \"+1: Create an X/X green Phyrexian Horror creature token, where X is Nissa, Ascended Animist's loyalty.\", '−1: Destroy target artifact or enchantment.', '−7: Until end of turn, creatures you control get +1/+1 for each Forest you control and gain trample.']\n"
     ]
    }
   ],
   "source": [
    "class CardTranslator:\n",
    "    def __init__(self, sentencize, sent_translator, preprocess=None, postprocess=None) -> None:\n",
    "        self.sentencize = sentencize\n",
    "        self.sent_translator = sent_translator\n",
    "        self.preprocess = preprocess\n",
    "        self.postprocess = postprocess\n",
    "    \n",
    "    def translate(self, text: str)->str:\n",
    "        sents = self.sentencize(text)\n",
    "        result = []\n",
    "        for sent in sents:\n",
    "            if self.preprocess:\n",
    "                sent = self.preprocess(sent)\n",
    "            sent = self.sent_translator.translate(sent)\n",
    "            if self.postprocess:\n",
    "                sent = self.postprocess(sent)\n",
    "            result.append(sent)\n",
    "        return ' '.join(result)"
   ]
  }
 ],
 "metadata": {
  "kernelspec": {
   "display_name": "seq2seq",
   "language": "python",
   "name": "python3"
  },
  "language_info": {
   "codemirror_mode": {
    "name": "ipython",
    "version": 3
   },
   "file_extension": ".py",
   "mimetype": "text/x-python",
   "name": "python",
   "nbconvert_exporter": "python",
   "pygments_lexer": "ipython3",
   "version": "3.9.16"
  },
  "orig_nbformat": 4
 },
 "nbformat": 4,
 "nbformat_minor": 2
}
