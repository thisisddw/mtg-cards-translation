{
 "cells": [
  {
   "cell_type": "code",
   "execution_count": 2,
   "metadata": {},
   "outputs": [],
   "source": [
    "import torch\n",
    "T = torch.load('result/model6.1-T-v2.2.pt')"
   ]
  },
  {
   "cell_type": "code",
   "execution_count": 3,
   "metadata": {},
   "outputs": [
    {
     "name": "stdout",
     "output_type": "stream",
     "text": [
      "path: d:\\ddw\\school\\大三下\\语音信息处理技术\\期末作业\\code\\mtg-cards-translation\\models\\card_name_detector\n"
     ]
    }
   ],
   "source": [
    "from dataset.mtgcards import TestSets\n",
    "from utils import calculate_bleu\n",
    "from torchtext.legacy.data import Field\n",
    "from models.card_name_detector.definition import TrainedDetector\n",
    "from utils.translate import sentencize, CardTranslator, CTHelper\n",
    "\n",
    "fields = {'src-rule': ('src', Field(tokenize=lambda x: x.split(' '))), 'trg-rule': ('trg', Field())}\n",
    "test_data = TestSets.load(fields)\n",
    "\n",
    "D = TrainedDetector()"
   ]
  },
  {
   "cell_type": "code",
   "execution_count": 4,
   "metadata": {},
   "outputs": [
    {
     "name": "stdout",
     "output_type": "stream",
     "text": [
      "[after preprocess]:vigilance\n",
      "[before postprocess]:警戒\n",
      "[after preprocess]:if a permanent entering the battlefield causes a triggered ability of a permanent you control to trigger , that ability triggers an additional time .\n",
      "[before postprocess]:如果某个进战场的永久<unk>发由你操控之永久物的触发式异能，则该异能额外触发一次。\n",
      "[after preprocess]:permanents entering the battlefield do n't cause abilities of permanents your opponents control to trigger .\n",
      "[before postprocess]:进战场的永久<unk>发由对手操控之永久物的触发式异能。\n",
      "警戒 如果某个进战场的永久<unk>发由你操控之永久物的触发式异能，则该异能额外触发一次。 进战场的永久<unk>发由对手操控之永久物的触发式异能。\n"
     ]
    }
   ],
   "source": [
    "dic = {}\n",
    "dic = {'oil':'烁油', 'rebel':'反抗军','compleat':'顽化'}\n",
    "helper = CTHelper(D, dic)\n",
    "silent = False\n",
    "CT = CardTranslator(sentencize, T, \n",
    "                    preprocess=lambda x: helper.preprocess(x, silent), \n",
    "                    postprocess=lambda x: helper.postprocess(x, silent))\n",
    "\n",
    "example = list(test_data)[13]\n",
    "example = list(test_data)[80]\n",
    "ret = CT.translate(' '.join(example.src))\n",
    "print(ret)\n",
    "# for example in random.sample(list(test_data), 3):\n",
    "#     print(vars(example))\n",
    "#     ret = CT.translate(' '.join(example.src))\n",
    "#     print(ret)"
   ]
  }
 ],
 "metadata": {
  "kernelspec": {
   "display_name": "seq2seq",
   "language": "python",
   "name": "python3"
  },
  "language_info": {
   "name": "python",
   "version": "3.9.16"
  },
  "orig_nbformat": 4
 },
 "nbformat": 4,
 "nbformat_minor": 2
}
