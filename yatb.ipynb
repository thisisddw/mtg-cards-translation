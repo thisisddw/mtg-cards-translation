{
 "cells": [
  {
   "attachments": {},
   "cell_type": "markdown",
   "metadata": {},
   "source": [
    "yatb - yet another test bench"
   ]
  },
  {
   "cell_type": "code",
   "execution_count": 1,
   "metadata": {},
   "outputs": [
    {
     "name": "stderr",
     "output_type": "stream",
     "text": [
      "c:\\Users\\ddw\\Anaconda3\\envs\\seq2seq\\lib\\site-packages\\tqdm\\auto.py:21: TqdmWarning: IProgress not found. Please update jupyter and ipywidgets. See https://ipywidgets.readthedocs.io/en/stable/user_install.html\n",
      "  from .autonotebook import tqdm as notebook_tqdm\n"
     ]
    }
   ],
   "source": [
    "import torch\n",
    "import torch.nn as nn\n",
    "import torch.optim as optim\n",
    "import torch.nn.functional as F\n",
    "\n",
    "from torchtext.legacy.data import Field, TabularDataset, BucketIterator\n",
    "\n",
    "from dataset.mtgcards import RuleText\n",
    "from utils.preprocess import fields_for_rule_text\n",
    "\n",
    "import random\n",
    "from tqdm import tqdm"
   ]
  },
  {
   "cell_type": "code",
   "execution_count": 2,
   "metadata": {},
   "outputs": [],
   "source": [
    "SRC, TRG = fields_for_rule_text(include_lengths=False, batch_first=True)\n",
    "fields = {'src': ('src', SRC), 'trg': ('trg', TRG)}\n",
    "\n",
    "train_data, valid_data, test_data = RuleText.splits(fields=fields, version='v2.1')"
   ]
  },
  {
   "cell_type": "code",
   "execution_count": 3,
   "metadata": {},
   "outputs": [
    {
     "name": "stdout",
     "output_type": "stream",
     "text": [
      "Unique tokens in source (en) vocabulary: 1475\n",
      "Unique tokens in target (zh) vocabulary: 2306\n",
      "['if', 'this', 'spell', 'was', 'kicked', ',', 'sacrifice', 'that', 'creature', 'at', 'the', 'beginning', 'of', 'the', 'next', 'end', 'step', '.'] ['如果', '此', '咒语', '已', '增幅', '，', '则', '在', '下', '一个', '结束', '步骤', '开始', '时', '牺牲', '该', '生物', '。']\n"
     ]
    }
   ],
   "source": [
    "SRC.build_vocab(train_data, min_freq = 2)\n",
    "TRG.build_vocab(train_data, min_freq = 2)\n",
    "print(f\"Unique tokens in source (en) vocabulary: {len(SRC.vocab)}\")\n",
    "print(f\"Unique tokens in target (zh) vocabulary: {len(TRG.vocab)}\")\n",
    "\n",
    "for x in random.sample(list(train_data), 1):\n",
    "    print(x.src, x.trg)"
   ]
  },
  {
   "cell_type": "code",
   "execution_count": 4,
   "metadata": {},
   "outputs": [
    {
     "name": "stdout",
     "output_type": "stream",
     "text": [
      "cpu\n",
      "\n",
      "[torchtext.legacy.data.batch.Batch of size 128]\n",
      "\t[.src]:[torch.LongTensor of size 128x6]\n",
      "\t[.trg]:[torch.LongTensor of size 128x8]\n"
     ]
    }
   ],
   "source": [
    "device = torch.device('cuda' if torch.cuda.is_available() else 'cpu')\n",
    "print(device)\n",
    "BATCH_SIZE = 128\n",
    "\n",
    "train_iterator, valid_iterator, test_iterator = BucketIterator.splits(\n",
    "    (train_data, valid_data, test_data), \n",
    "    batch_size = BATCH_SIZE, \n",
    "    sort_within_batch = True,\n",
    "    sort_key = lambda x: len(x.src),\n",
    "    device = device)\n",
    "\n",
    "print(next(iter(train_iterator)))"
   ]
  },
  {
   "cell_type": "code",
   "execution_count": 5,
   "metadata": {},
   "outputs": [],
   "source": [
    "INPUT_DIM = len(SRC.vocab)\n",
    "OUTPUT_DIM = len(TRG.vocab)\n",
    "SRC_PAD_IDX = SRC.vocab.stoi[SRC.pad_token]\n",
    "TRG_PAD_IDX = TRG.vocab.stoi[TRG.pad_token]\n",
    "\n",
    "from models.model6.definition import create_model\n",
    "model = create_model(INPUT_DIM, OUTPUT_DIM, SRC_PAD_IDX, TRG_PAD_IDX, device)"
   ]
  },
  {
   "cell_type": "code",
   "execution_count": 6,
   "metadata": {},
   "outputs": [
    {
     "data": {
      "text/plain": [
       "5565442"
      ]
     },
     "execution_count": 6,
     "metadata": {},
     "output_type": "execute_result"
    }
   ],
   "source": [
    "from utils import count_parameters, train_loop\n",
    "from models.model6.train import initialize_weights, train, evaluate\n",
    "model.apply(initialize_weights)\n",
    "count_parameters(model)"
   ]
  },
  {
   "cell_type": "code",
   "execution_count": null,
   "metadata": {},
   "outputs": [],
   "source": [
    "LEARNING_RATE = 0.0005\n",
    "optimizer = torch.optim.Adam(model.parameters(), lr = LEARNING_RATE)\n",
    "criterion = nn.CrossEntropyLoss(ignore_index = TRG_PAD_IDX)\n",
    "train_loop(model, optimizer, criterion, train, evaluate,\n",
    "           train_iterator, valid_iterator, \n",
    "           save_path='result/', file_name='model6-rule-v2.1.pt', load_before_train=True)"
   ]
  },
  {
   "cell_type": "code",
   "execution_count": 8,
   "metadata": {},
   "outputs": [],
   "source": [
    "from utils.translate import Translator\n",
    "from models.model6.definition import beam_search\n",
    "model.load_state_dict(torch.load('result/model6-rule-v2.1.pt', map_location=torch.device(device)))\n",
    "T = Translator(SRC, TRG, model, device, beam_search)"
   ]
  },
  {
   "cell_type": "code",
   "execution_count": 9,
   "metadata": {},
   "outputs": [
    {
     "name": "stdout",
     "output_type": "stream",
     "text": [
      "['每当', '<', '1', '>', '贴附于', '其', '上', '结附', '灵气', '的', '时段', '内', '，', '你', '可以', '使', '<', '1', '>', '成为', '另', '一个', '目标', '生物', '，', '且', '你', '可以', '令', '该', '生物', '的', '复制品', '。', '<eos>']\n",
      "['每当', '<', '1', '>', '贴附于', '其', '上', '结附', '灵气', '的', '时段', '内', '，', '你', '可以', '使', '<', '1', '>', '成为', '另', '一个', '目标', '生物', '的', '复制品', '，', '且', '你', '可以', '令', '此', '衍生物', '成为', '另', '一个', '目标', '生物', '。', '<eos>']\n",
      "['每当', '<', '1', '>', '贴附于', '其', '上', '结附', '灵气', '的', '时段', '内', '，', '你', '可以', '使', '<', '1', '>', '成为', '另', '一个', '目标', '生物', '的', '复制品', '，', '且', '你', '可以', '令', '此', '衍生物', '成为', '另', '一个', '目标', '生物', '之', '复制品', '。', '<eos>']\n"
     ]
    }
   ],
   "source": [
    "data = 'target creature gets - 1 / - 1 until end of turn .'\n",
    "data = 'Whenever <1> becomes attached to a creature, for as long as <1> remains attached to it, you may have that creature become a copy of another target creature you control.'\n",
    "ret, prob = T.translate(data, max_len=100)\n",
    "print(*ret[:3], sep='\\n')"
   ]
  },
  {
   "cell_type": "code",
   "execution_count": 10,
   "metadata": {},
   "outputs": [
    {
     "name": "stdout",
     "output_type": "stream",
     "text": [
      "path: d:\\ddw\\school\\大三下\\语音信息处理技术\\期末作业\\code\\mtg-cards-translation\\models\\card_name_detector\n"
     ]
    }
   ],
   "source": [
    "from dataset.mtgcards import TestSets\n",
    "from utils import calculate_bleu\n",
    "from torchtext.legacy.data import Field\n",
    "from models.card_name_detector.definition import TrainedDetector\n",
    "from utils.translate import sentencize, CardTranslator, CTHelper\n",
    "\n",
    "fields = {'src-rule': ('src', Field(tokenize=lambda x: x.split(' '))), 'trg-rule': ('trg', Field())}\n",
    "test_data = TestSets.load(fields)\n",
    "\n",
    "D = TrainedDetector()"
   ]
  },
  {
   "cell_type": "code",
   "execution_count": 14,
   "metadata": {},
   "outputs": [
    {
     "name": "stdout",
     "output_type": "stream",
     "text": [
      "{'src': ['Return', 'target', 'nonland', 'permanent', 'to', 'its', \"owner's\", 'hand.', 'If', 'that', 'permanent', 'had', 'mana', 'value', '3', 'or', 'less,', 'proliferate.', '(Choose', 'any', 'number', 'of', 'permanents', 'and/or', 'players,', 'then', 'give', 'each', 'another', 'counter', 'of', 'each', 'kind', 'already', 'there.)'], 'trg': ['将目标非地永久物移回其拥有者手上。如果该永久物的法术力值等于或小于3，则增殖。（选择任意数量的永久物和／或牌手，然后为其已有之每种指示物各多放置一个同类的指示物。）']}\n",
      "[after preprocess]:return target non land permanent to its owner 's hand .\n",
      "[before postprocess]:将目标非地永久物移回其拥有者手上。\n",
      "[after preprocess]:if that permanent had mana value 3 or less , proliferate .\n",
      "[before postprocess]:如果该永久物的法术力值等于或小于3，则增殖。\n",
      "[after preprocess]:choose any number of permanents and / or players , then give each another counter of each kind already there .\n",
      "[before postprocess]:你选择任意数量其上有指示物的永久物和／或牌手，然后在其上放置一个它已有之类别的指示物。\n",
      "将目标非地永久物移回其拥有者手上。 如果该永久物的法术力值等于或小于3，则增殖。 你选择任意数量其上有指示物的永久物和／或牌手，然后在其上放置一个它已有之类别的指示物。\n",
      "{'src': ['Evolved', 'Spinoderm', 'enters', 'the', 'battlefield', 'with', 'four', 'oil', 'counters', 'on', 'it.\\nEvolved', 'Spinoderm', 'has', 'trample', 'as', 'long', 'as', 'it', 'has', 'two', 'or', 'fewer', 'oil', 'counters', 'on', 'it.', 'Otherwise,', 'it', 'has', 'hexproof.\\nAt', 'the', 'beginning', 'of', 'your', 'upkeep,', 'remove', 'an', 'oil', 'counter', 'from', 'Evolved', 'Spinoderm.', 'Then', 'if', 'it', 'has', 'no', 'oil', 'counters', 'on', 'it,', 'sacrifice', 'it.'], 'trg': ['蜕变斯宾驼登进战场时上面有四个烁油指示物。', '只要蜕变斯宾驼登上有两个或更少烁油指示物，它便具有践踏异能。若否，则它具有辟邪异能。', '在你的维持开始时，从蜕变斯宾驼登上移去一个烁油指示物。然后若其上没有烁油指示物，则将它牺牲。']}\n",
      "[after preprocess]:<0> enters the battlefield with four <1> counters on it .\n",
      "[before postprocess]:<0>进场时上面有四个指示物。\n",
      "[after preprocess]:<0> has trample as long as it has two or fewer <1> counters on it .\n",
      "[before postprocess]:只要<0>上面有两个或更少指示物，它便具有践踏异能。\n",
      "[after preprocess]:otherwise , it has hexproof .\n",
      "[before postprocess]:若否，则它具有辟邪异能。\n",
      "[after preprocess]:at the beginning of your upkeep , remove an <1> counter from <0> .\n",
      "[before postprocess]:在你的维持开始时，从<0>上移去一个指示物。\n",
      "[after preprocess]:then if it has no <0> counters on it , sacrifice it .\n",
      "[before postprocess]:然后如果<0>上没有指示物，则将它牺牲。\n",
      "<evolved spinoderm>进场时上面有四个指示物。 只要<evolved spinoderm>上面有两个或更少指示物，它便具有践踏异能。 若否，则它具有辟邪异能。 在你的维持开始时，从<evolved spinoderm>上移去一个指示物。 然后如果烁油上没有指示物，则将它牺牲。\n",
      "{'src': ['Target', 'creature', 'you', 'control', 'gets', '+2/+2', 'until', 'end', 'of', 'turn.', 'If', 'that', 'creature', 'has', 'toxic,', 'draw', 'a', 'card.'], 'trg': ['目标由你操控的生物得+2/+2直到回合结束。如果该生物具有下毒异能，则抓一张牌。']}\n",
      "[after preprocess]:target creature you control gets + 2 / + 2 until end of turn .\n",
      "[before postprocess]:目标由你操控的生物得+2/+2直到回合结束。\n",
      "[after preprocess]:if that creature has toxic , draw a card .\n",
      "[before postprocess]:若该生物具有恶魔，则抓一张牌。\n",
      "目标由你操控的生物得+2/+2直到回合结束。 若该生物具有恶魔，则抓一张牌。\n"
     ]
    }
   ],
   "source": [
    "dic = {}\n",
    "dic = {'oil':'烁油', 'rebel':'反抗军'}\n",
    "helper = CTHelper(D, dic)\n",
    "CT = CardTranslator(sentencize, T, \n",
    "                    preprocess=lambda x: helper.preprocess(x, False), \n",
    "                    postprocess=lambda x: helper.postprocess(x, False))\n",
    "\n",
    "example = list(test_data)[13]\n",
    "example = list(test_data)[8]\n",
    "# ret = CT.translate(' '.join(example.src))\n",
    "# print(ret)\n",
    "for example in random.sample(list(test_data), 3):\n",
    "    print(vars(example))\n",
    "    ret = CT.translate(' '.join(example.src))\n",
    "    print(ret)"
   ]
  },
  {
   "cell_type": "code",
   "execution_count": null,
   "metadata": {},
   "outputs": [],
   "source": [
    "from utils import calculate_testset_bleu\n",
    "calculate_testset_bleu(list(test_data)[:100], CT)"
   ]
  }
 ],
 "metadata": {
  "kernelspec": {
   "display_name": "seq2seq",
   "language": "python",
   "name": "python3"
  },
  "language_info": {
   "codemirror_mode": {
    "name": "ipython",
    "version": 3
   },
   "file_extension": ".py",
   "mimetype": "text/x-python",
   "name": "python",
   "nbconvert_exporter": "python",
   "pygments_lexer": "ipython3",
   "version": "3.9.16"
  },
  "orig_nbformat": 4
 },
 "nbformat": 4,
 "nbformat_minor": 2
}
