{
 "cells": [
  {
   "cell_type": "code",
   "execution_count": 1,
   "metadata": {},
   "outputs": [
    {
     "name": "stderr",
     "output_type": "stream",
     "text": [
      "c:\\Users\\ddw\\Anaconda3\\envs\\seq2seq\\lib\\site-packages\\tqdm\\auto.py:21: TqdmWarning: IProgress not found. Please update jupyter and ipywidgets. See https://ipywidgets.readthedocs.io/en/stable/user_install.html\n",
      "  from .autonotebook import tqdm as notebook_tqdm\n"
     ]
    }
   ],
   "source": [
    "import torch\n",
    "import torch.nn as nn\n",
    "import torch.optim as optim\n",
    "import torch.nn.functional as F\n",
    "\n",
    "from torchtext.legacy.data import Field, TabularDataset, BucketIterator\n",
    "\n",
    "from dataset.mtgcards import CardName\n",
    "import random\n",
    "import math\n",
    "import time\n",
    "import os\n",
    "from torchtext.legacy.data import Field, TabularDataset, BucketIterator\n",
    "import re\n",
    "import spacy\n",
    "from typing import Callable"
   ]
  },
  {
   "cell_type": "code",
   "execution_count": 2,
   "metadata": {},
   "outputs": [
    {
     "name": "stdout",
     "output_type": "stream",
     "text": [
      "Number of train data: 17014\n",
      "Number of valid data: 447\n",
      "Number of test data: 449\n"
     ]
    }
   ],
   "source": [
    "spacy_en = spacy.load('en_core_web_sm')\n",
    "spacy_zh = spacy.load(\"zh_core_web_sm\")\n",
    "\n",
    "def tokenizer_en(text):\n",
    "    # return [tok.text for tok in spacy_en.tokenizer(text)]\n",
    "    ret = []\n",
    "\n",
    "def tokenizer_zh(text):\n",
    "    # return [tok.text for tok in spacy_zh.tokenizer(text)]\n",
    "    return [c for c in text]\n",
    "\n",
    "\n",
    "SRC = Field(tokenize = tokenizer_en, \n",
    "                init_token = '<sos>', \n",
    "                eos_token = '<eos>', \n",
    "                lower = True)\n",
    "TRG = Field(tokenize = tokenizer_zh, \n",
    "                init_token = '<sos>', \n",
    "                eos_token = '<eos>', \n",
    "                lower = True)\n",
    "fields = {'src': ('src', SRC), 'trg': ('trg', TRG)}\n",
    "train_data, valid_data, test_data = CardName.splits(fields=fields)\n",
    "\n",
    "print(f'Number of train data: {len(train_data)}')\n",
    "print(f'Number of valid data: {len(valid_data)}')\n",
    "print(f'Number of test data: {len(test_data)}')"
   ]
  },
  {
   "cell_type": "code",
   "execution_count": 13,
   "metadata": {},
   "outputs": [
    {
     "name": "stdout",
     "output_type": "stream",
     "text": [
      "['angel', 'of', 'vitality'] ['活力', '天使']\n",
      "['lizard', 'blades'] ['蜥蜴', '双', '刀']\n",
      "['cemetery', 'gatekeeper'] ['墓地', '守门者']\n"
     ]
    }
   ],
   "source": [
    "# for data in test_data[:10]:\n",
    "for data in random.sample(test_data.examples, 3):\n",
    "    print(data.src, data.trg)"
   ]
  },
  {
   "cell_type": "code",
   "execution_count": 4,
   "metadata": {},
   "outputs": [
    {
     "name": "stdout",
     "output_type": "stream",
     "text": [
      "Unique tokens in source (en) vocabulary: 5604\n",
      "Unique tokens in target (zh) vocabulary: 2215\n"
     ]
    }
   ],
   "source": [
    "SRC.build_vocab(train_data, min_freq = 2)\n",
    "TRG.build_vocab(train_data, min_freq = 4)\n",
    "print(f\"Unique tokens in source (en) vocabulary: {len(SRC.vocab)}\")\n",
    "print(f\"Unique tokens in target (zh) vocabulary: {len(TRG.vocab)}\")"
   ]
  },
  {
   "cell_type": "code",
   "execution_count": 14,
   "metadata": {},
   "outputs": [
    {
     "name": "stdout",
     "output_type": "stream",
     "text": [
      "<unk> <pad> <sos> <eos> 的 之 兽 法师 妖 人 怪 地 灵 使 骑士 鬼 天使 巨人 蛇 裂片 太 兵 巨龙 魔 乙 像 手 恶魔 守护者 斗士 狼 元素 客 龙 不 武士 术士 吸血鬼 骑兵 仪式 公会 大 风暴 亚龙 信徒 大师 游魂 多 一 守卫 战士 烈焰 茜卓 专家 僧侣 先知 怒火 灵魂 神 神圣 祭师 智者 械 神秘 鱼 会 史芬斯 哨兵 暴君 能 虫 蜘蛛 心灵 树 那 艾文 邪鬼 鬼怪 鲜血 僧 咒 学者 护卫 非瑞克西亚 剑 哨卫 巨魔 月 都 队长 龙兽 力 后裔 复仇 破坏 蛮 诅咒 陷阱 食人 从 印记 地狱 狮鹫 秘耳 精怪 巨 火焰 舰队 魔力 冲锋 吞噬 指命 攫 机械 死 死亡 狂热 仙灵 伏击 传令 佣兽 精灵 肯 莉莲娜 魂 魔像 俄 命运 守护 护符 时间 残虐者 泰坦 英雄 荒野 远古 与 复生 夺命 幻象 成长 残酷 苦痛 记忆 遗迹 召唤 墙 多头龙 学徒 拒斥 永生 长 闪电 阿耶尼 食尸 黑暗 亡者 先锋 军团 劫掠者 可 向导 寇族 师 怒 战斗 无情 猫 王 精 自然 魔鬼 刃 古 基定 妮莎 导师 恶毒 意志 拉铎 明光 枯萎 殿堂 泰菲力 浪潮 独眼 祝福 突袭 行进 贝西摩斯 凤凰 墓地 家 工匠 希望 恐惧 明师 林地 洞察 混沌 灵俑 炼狱 爆发 秘教徒 米斯拉 纪念碑 统领 老兵 致命 虚空 连 迷雾 预言师 鼠 信念 冲击 击 勇士 回收 墓穴 密使 密探 幻灵 幽灵 思绪 活力 渗透者 灾祸 维多 罗堰 血 跛行 门 风 飞马 你 侍僧 反抗 地脉 岩浆 巡卫 干预 恶鬼 执法者 斥候 时 末日 杖 杰斯 狂 甲 盛宴 英勇 贤者 领主 鲁莽 加理 召现 吸血 回响 复仇者 天界 奴兽 尸嵌 巨灵 巴洛西 德鲁伊 心 攻城 斗篷 杀手 森林 死灵 法术师 波尬 狮族 猎手 眼 符文 老 联盟 觉醒 象 钢铁 饥渴 首领 骷髅 伊 佐立 启示 妖精 娜 将军 小 尸 巨兽 巫妖 指挥官 斗客 无 无畏 时刻 正义 火光 犬 玄铁 玛尔 祸害 空境 窃贼 翻腾 至 葛 蛮野 贾路 遗宝 野猪 隐士 主 冥界 利刃 力量 午夜 半 卫士 大地 女 实界 巨汉 巨海 帮 引擎 恶体 战争 探索 新手 暗夜 树灵 梦魇 欧佐夫 毁灭 深渊 炽天 焰 牛头 猎人 猎犬 疫病 盾 石 箭手 粉碎 职业 背叛 行客 裁决 赋礼 迷宫 野性 阴影 阴魂 霸权 ： 丝金 仆役 伊捷 先人 先兆 克撒 入侵 凡尔西诺 创生 前 化形 千 卡娅 原初 坚定 塑师 多头 大群 女王 宾纳里亚 寇 巨型 影 德鲁 忠诚 恐怖 恩泽 愤怒 战场 才 折磨 探险 新 旅人 无尽 明神 晶石 本 模范 毁坏 永恒 波涛 流浆 火热 熔炉 牛 狂搅 王侯 瑞 瑟雷尼亚 生体 盗贼 看守 祝愿 精兵 羊蹄人 腐化 藤蔓 血脉 讯使 阴谋 阿喀洛斯 不息 乱匠 传人 先 光 凯尔顿 化身 发妖 发现 可怖 史家 吼 呼唤 唤醒 喧哗 圣殿 坠饰 基雷 塔萨 声 大天 好斗 巫婆 席嘉妲 底密尔 形体 心智 收成 机体 极 水晶 法球 泥沼 滑翔 漩涡 灌输 炎身 炼金术士 特务 狂信者 生机 电流 真 种 秘法 突击 算师 精英 索霖 绝望 羁绊 舞者 船长 菁华 虔诚 蝙蝠 计划 象族 边境 通道 邪恶 铬铜 魂魅 麒麟 人马 仲裁者 兆 典范 刀 勇气 匠 十 卜 卫护 双 古鲁 唤师 地底 垂暮 塞 奥札奇 奥莉薇亚 娅 寒冰 寰宇 导兵 尖塔 屈东 屠夫 巨像 技艺 护教军 据地 掠行 掠食 暗碧族 暮影 最终 束缚 析米克 树丛 核心 步兵 武神 武装 波洛斯 泰兹 海岸 渎者 火山 火花 煽动 特裘 狂野 狐族 猪 班 瓦丝卡 盖亚 盟会 知识 矮人 石像 碎片 祭坛 祭祠 秘闻 突击队 细语 绿菌 美代 胜利 腐臭 荣光 莉莲 莎 萨坎 葬火 薇薇安 诈术师 诗人 车 辉光 达 进化 进展 阿布 预兆 马可夫 高塔 黜人 三 丰足 主教 低语 佐 侦卫 信标 元帅 兵团 具 兽师 冰霜 凯锡 印 厄睿柏斯 历时 受 图腾 圣客 墓 大胆 契约 如 小队 尖鸣 尸鬼 工程师 希丽 希欧 帝国 席 忍者 恶兽 恶意 所 扭曲 报偿 掠食者 撼地 教士 方阵 朝 格利 橡树 沃达 沙漠 洁 涤净 深 游掠者 滋养 爪 牧师 牧者 狂徒 独角兽 现师 瑟班 瓦拉库 瘟疫 监管 盔 真菌 眩目 督军 破碎 稻草人 终局 结桥 美洛 苏勒台 荒漠 蕊 蜥 裁定 誓约 贪婪 迅猛龙 遭缉 里 重装 铸造厂 锤 阿库姆 隐匿 雕像 雨 雾 领袖 驯 鼎镬 齐射 龟 世 丝 主祭 乌尔博格 乙金 偏执 先驱 克星 兽群 冠冕 击客 割喉 勤工 匍行 发明家 变幻 变节 咒语 喷泉 回忆 圣洁 坚毅 城市 基克斯 复归 大军 威严 完化 审判 将 尚 工人 巧手 巨身 巫师 幻影 幼雏 庇护 庇护地 开路 异界 得胜 憎恨 战墓 技师 拉铎司 拟态 挖掘 掘 探寻 探险家 接合师 掮客 携手 敌意 教团 教授 斧 晴空号 暴食 构生 林冠 械师 欧娜 欧祝泰 武器 毒蛇 永岩 河流 治疗师 沼 波拉斯 泰 洞窟 浪人 海盗 涅非利亚 漫游 焦炬 狂乱 狂风 狮 猎鸟 瓦许 瞥视 祝圣 神器师 神射 离 空民 窒息 策士 索命 索蓝 终结 老鼠 舞空 航筝 艾斯波 花 荣耀 蔓生 虹彩 血腥 血色 见证人 贵族 赠礼 躯壳 轰然 轻蔑 通牒 酋长 重生 野心 锋刃 镰刀 阴森 震惧军 霜剑山 预言 饰符 驹 魔法 鹰 龙王 万 世界 丛林 为 乌金 乐舞 亚维 交易 什 仙子 令 伊洛安斯 伐肯纳 优雅 使节 倪勒娅 催眠 全 再生 冲击波 冷酷 出击 刺 副官 力场 劫夺 劫掠 医士 卡恩 卡赞度 卫 原 双头 召 召令 命定 哈痞 围攻 圣战军 圣所 地城 坟场 城 城区 堡垒 塔 塞连 增 墨癸斯 复碧 天堂 天际 奈 威 宗师 寂静 射手 射线 尤依拉 屏障 屠戮 屠杀 峡谷 巴席利 幽谷 幽魂 庄严 庞巨 废铁 归返 征召 得 怨毒 惊惧 成 战术 打击 护盾 报复 披风 拉妲 挥击 掌旗 探子 搭档 救援 无面 时代 时空 曙光 木乃伊 木灵 未 机敏 树海 档案 欧 欧柯塔 欧瑞克 殿 水 沙丘 没 法杖 洛克鸟 浆液 涡心 溪堡 潜探 瀑布 灵师 灵气 炉 熔岩 狼群 猎物 猛击 猛攻 王子 琼浆 督长 破坏者 硫磺 祀群 神体 秘密 秘罗 箭 繁生 维齐尔 美 群 羽翼 翔空 翼 肉身 能手 脉动 脊 脓水 腐肉 艾维欣 蜥蜴 蝎狮 蟹 街头 裂肢 视像 计策 贩商 赞迪 赞迪卡 赫利欧德 轰炸 迁徙 逝者 避难所 部族 重新 野蛮 铁木尔 镜像 门卫 闪光 阿基夫 阿拉辛 陵墓 面具 鞭 预示 飘萍 首 马拉奇 骑 鬼影 齐心 龙侯 龙爪 七 不朽 中 乱心 乳齿 争斗 五阳 以 伊祖黎 伊莫库 伏特里亚 传说 伽 佐雅 体 依法 侵略 侵蚀 保镖 先祖 共 兹 冒险 军伍 军头 净化 利爪 剑师 剧毒 励志 化为 匿踪 华特莉 华辉 协力 卡 卷轴 双子 召兽 召唤师 召集 可靠 司 吉拉波 启迪 吸取 吻 咆哮 哈达 哲娜 嚎吼 团结 国王 圈套 圣主 地动 地壳 基图 基拉夫 塑型 大主教 天裔 头盔 夺尔 夺魂 子 学院 孽物 安戈斯 实验室 宿命 寺院 射击 小偷 尘土 居民 展现 峰顶 巢穴 巨械 巨物 幼兽 幼龙 幽暗 幽魅 广场 底 废品 异变 异狮 弓 必达 怀恨 思念 怪奇 怪灵 恐龙 恩赐 恼人 戒指 扶济社 拆解 拉 拖入 拼合 拿 持 指 振翼机 掠夺 收获 教众 斯肯法 新兵 旅伴 无形 昂度 显贵 智慧 暗影 暗渊 暴乱 暴怒 暴民 本能 札兹 术 杀戮 条约 松柏森 果园 枭 校区 梦 梦想 歪曲 死尸 殉道者 残暴 氏 永生者 汉 池 沼地 法拉吉 泞族 洛 海户 海神 消失 深海 渐 温 游掠 漫游者 火 火炬 烈火 烛光 爬虫 牙 牝马 狂奔 狂怒 狂欢 狡诈 狩猎 狱火 獾 玛 玻璃 瓦砾区 电击 皿 监卫 监视 眷恩 眷顾 眼镜蛇 知 碑 碧 祀徒 祀炼 祭礼 福音师 禽绝 穆嘉 穴 空行 穿 穿刺 突破 米尔寇 米捷 精神 糙节 系 繁殖地 终极 结点 绝艺盟 缰 美拉 翱翔 肃穆 腐沼 船 花园 芳瑞卡 苍鹭 莫测 莽闯 蔓非 虐杀 虫群 蛮力 螺旋 血狂 血领 行者 裘达 要塞 视师 触 议会 试炼 谜样 败坏 贪欲 超凡 辛格 适境 铬 银毫 锤炼 镰刃 阿士诺 隆响 隐密 雅亚 集结 集群 青铜 顽强 预视 风华 飞兽 马钦迪 驱散 骇人 骏鹭 骨碌 高 鬼火 鬼牧者 鬼魂 魁渡 魔头 鳄鱼 黎明 黯影 ！ 三角 不亡 不休 专才 之华 乌鸦 乐施 书 仇 仇敌 仇者 今田 介斯 代价 伏击客 佑天 使者 侍 侍卫 侵扰 信使 入侵者 全景 全面 其 具现 再现 冒险家 冠 冲动 净 凝神 出告 刀客 分灵 创新 判官 制品 前线 剑客 加持 加渥 动员 助手 助拳人 勇得 勇进 勒令 化尸 半兽人 博 占 卡拉美特拉 卡甫 卷 原祖 反射 反应 受福 叛徒 古物 史顿 合体 同 君王 吟颂 哥布 唤术 善变 喉客 喧闹 嗜血 嚎 四 回旋 地域 坑 坚忍 坟墓 城塞 壮汉 复苏 多重 大学院 大队 奇奥拉 奇技 套 奥术师 奥秘 女妖 好奇 始卡克 威权 学员 守护神 安塔卡 宝库 实验 宫殿 宿敌 寄生 寒灵 寡欲 对 小恶 尼兹 峭壁 巢居 巨石 巨神 布蕾德 帘幕 带刺 帮派 幸存者 幻术师 幼 庆典 底城 异常 异端 弄 引路人 强者 当空 形 征服者 心念 快 快速 思想 怨魂 恩典 恶憎 恶棍 悲剧 意外 感知 慧眼 战 战旗 战车 战马 扑击 托卡西雅 托玛 执政 护手 护持 报应 拉斐茵 拼 振奋 振翼 掌控 探险队 接师 控念 提亚 援救 摄政 撒拉 撤往 支配 收割 攻击 救赎 教军 教徒 斐力 斯 斯帕拉 新生 新绿 旅居者 旅途 旋律 旋风 无常 无私 日 旨意 时缝 明日 晶角 暮 暮篷 暴躁 有 末 松鼠 构体 枪 树妖 核欧 欢宴 欧吉克 欧尼希兹 欺瞒者 残迹 毒 比 毛象 永世 求索 沉船 泰兹瑞 泰坦尼亚 洞穴 洼巴司 浪客 海怪 深水 清风 渎神 渡桥 渴求 游侠 漂泊 潜伏 潜行 激昂 瀚力 火灵 灰灭 炎灵 炙热 点 炽场 烬身 热忱 热诚 熊 爆裂 爵士 犀牛 犄角龙 独行 狮群 猎者 猫头鹰 猿猴 玄云 王座 玖瑞 玛切莎 珍奇 理想 瑟特 璧合 疯狂 疾步 登 盖司 盖美拉 矛 研究 破晓 硌士 祝 神导士 税 穆嘉族 空卫 空行师 穿心 突然 突现 竹沼 符镇 筑师 精巧 精研 精魂 红 约格莫夫 纯净 组装 织 织匠 终命 绝情 绯红 维图 罗克 罗娜 美善 群列 群落 翻搅 老神 老练 考虑 而 联合 肯芭 胡狼人 脚 腐蚀 腾扬 自动 艾紫 艾莎 艾蕾 若纳 苦难 茂树 草人 草原 莽霸 薄暮 虎 虚相 虹霓 蛮荒 蜥怪 血侯 行列 袭击 装 西风 解放者 警戒员 设障 诞生 谋杀 贪食 贼 赞美诗 赫嘎 身 转世 转移 轮 辉煌 辉耀 迈勒提斯 迷途 追迹 逆徒 逐退 速腾 造妖 逮捕 部落 醒转 重 野林 金叶 钨拉莫 铸生 锐目 长生 门徒 闪击 防御 阻碍 降临 险恶 隐秘 雷动 静态 颅身 领 颤栗 飞射 飞空 飞翼 飞船 食客 食梦 食灵 首脑 骨击弹 高地 高大 高等 高阶 魔旋 魔神 魔符 黄金 黏菌 黑 黑土 黑曜 鼓动 齐朵拉 龙族 下 不屈 两 丰收 丰碑 丰饶 临终 九 乡客 二 五 井 亚崔 亡灵 仕绅 仙儿 伊美黎 伙伴 伟柯 传承 传谕 伤 伴侣 侦员 侯 修补 偷袭 傲 傲慢 兀鹰 克罗芬斯 克蜜娜 入 全能 公爵 六 兹族 内 军阀 冰冻 冰川 冰河 决心 决斗 凌虐 凡瑟 凯拉 凯旋 凶暴 创伤 刺尾 刻洛 刽子手 割 加基 加渥尼 加身 动物学家 勇 募兵 匕首 化术 区 华 卓茉 卜师 占师 卡尔札 卡族 卡普路 卡隆尼亚 危急 卷须 厄亡者 厄运 历史 压倒性 原质 双身 双重 发条 变异 叛行 古墓 叫 召集人 史革达 各 名客 名流 后 吐息 吕 否认 吱响 和 和谐 咒击弹 咒法 哈 哈利玛 哈资 唤 商队 善心 喷 喷吐 喷火 嘲弄 噬 噬生 围城 图集 土地 圣僧 圣甲 地图 地境 地带 地窖 场 坎尼 坐骑 垛格 城垛 培 基克斯派 基沙 堆 塑形 塔嘉 塞瓦拉 增援 壁垒 复灵 复造 外壳 外貌 夜 夜篷 大举 大使 大厅 大婶 天 天才 天空 天降 太阳 奇亚 奇异 奇术师 奇诡 奔流 奔腾 奥悉达 好斗者 妙手 妮 妲 威烈 威胁 威能 娜尔施 存在 孢子 宇宙 安梭苛 宝石 宠物 宫廷 害虫 宾客 寄生虫 寇安 对决 封锁 尊贵 尖刺 尖啸 尖峰 崩 嵌 工业 工段 工组 巨怪 巨车 市民 布林 希兹 帝皇 帽客 幼虫 广林 庇佑 库度 庭园 异见 弓箭 弧光 强制 强旺 彻底 彼方 径 御 御风 忠贞 怪兽 怪诞 恒久 恩惠 恶兆 恶徒 惊怖 惧 感 战嚎 战巫 战法 戟 扑翼机 打开 执政官 执政院 扫除 抗暴 护甲 护身符 拒绝 拘禁 拥 拦截者 拳 指引 指挥 掠盗 探 探究 掷 提 援助 撒姆特 撕裂 播疫 擎具 收成节 收集 放浪 放纵 敏锐 教堂 斩 斩击 斯科福 斯达 旅程 族树 族长 旗 无上 无孤 无惧 无拘 无踪 无餍 日落 明斯克 易 星界 映影 春叶 普罗烽斯 景仰 暗礁 暴烈 曙鹿 未来 杀 杀生 权力 权杖 村庄 来 杰米尔 板甲 极地 析米 林 林木 枪手 枷锁 柯帮 柯芬诺 柱 树林 格伦佐 格莉 梅泽悟 棘蜥 槌 欢腾 欧兰黎 欧尼 歌伶 歌者 正气 武僧 死冥 死神 母 母圣 气旋 水面院 沙地 沙漏 河童 河鼓 治疗 沼气 法 洁斯 洁斯凯 洁英 洗礼 洛司 活体 流星 浪 海姆 海贼 涌泉 深洋 清辉 渎圣 溃疽 演化 火树族 火爆 灯 灯魂 灵术士 灵龙 灾难 炙焰 炮 烈阳 烛堡 烟气 烬火 热火 焊工 焰术士 煽动者 熊哥 熔滓 熔融 燃烧 燃焰 爆破 爱 牧人 牲祭 狡黠 狮头 狮王 狱卒 猎捕 猎神 猎鹰 猛毒 猛烈 献礼 环塔 现身 班恩 瑟特萨 瓶 生 生灵 生长 画家 畸 疾风 病媒 瘴 白阳 白骨 百足虫 皮 盒 盖尔 盛怒 盟约 盲目 直觉 真相 眠梦 眷宠 石化 石碑 砍刀 研究员 破 破浪 破裂 破门 砾岩 碍眼 示石 祈愿 神器 神弓 神明 神殿 神河 神行 祭司 禁锢 离散 秩序 空骑士 窥心 立誓 符印 第十 筑塔族 筑防 管家 粹丽 精卫 索尔兽 繁花 纠结 纠缠 纬 纽若克 终时 编蛛 缚 网 罗兰 罗刹 罗噶克 罗纳斯 羊 群众 翅翼 翠玉 翰威 翻拣 老手 考古学家 聚合 聚群 聚骨场 肯理斯 育苗 胧宫 脑力 腐败 臂 船员 艾力 艾蓝卓 艾蕾侬 芭图 苍白 苍穹 苦力 苦涩 英庄园 茁壮 荒客 荒芜 荚 药剂 荷拉娜 莎利雅 莎娜 菲力 萌芽 萼城 葛加 蒂洛纳理 蓄势 蔓延 蚀刻 蛭 蜈蚣 蝎子 蝗虫 蝠 蠕虫 血肉 行动 衡鉴 补给 褴褛 西安 西摩斯 观客 角兽 誓言 警卫 警醒 计略 诈术 诺格 谜题 豹 豺狼人 资深 赛博派 赫利 越 足 路 路径 转化 转变 达克索斯 达成 迅速 过往 远沼 远见 迷林 迸发 追击 退 逆岛 遗世 遗忘 邪术 邪秽 酒廊 重击 重逢 野兽 量析 金吉塔厦 金夜 金属 金牧 金角板 鉴赏 钥匙 铁匠 铠甲 银毛 银海 锋 锐锋城 锻炉 镇兵 长官 阿雷娜 陶拉里亚 陷人 随员 雄心 集团 雷 雷霆 霸蛛 静电 非 非凡 鞭击 顶 顿悟 领航员 飞掠 驱策 驻防 骁勇 骏马 高手 魔杖 魔镜 麋鹿 黑檀 鼓舞 齐击 齿轮 龙卫 龙卷\n"
     ]
    }
   ],
   "source": [
    "print(*TRG.vocab.stoi.keys())"
   ]
  },
  {
   "cell_type": "code",
   "execution_count": 5,
   "metadata": {},
   "outputs": [
    {
     "name": "stdout",
     "output_type": "stream",
     "text": [
      "cpu\n",
      "\n",
      "[torchtext.legacy.data.batch.Batch of size 32]\n",
      "\t[.src]:[torch.LongTensor of size 4x32]\n",
      "\t[.trg]:[torch.LongTensor of size 5x32]\n"
     ]
    }
   ],
   "source": [
    "device = torch.device('cuda' if torch.cuda.is_available() else 'cpu')\n",
    "print(device)\n",
    "BATCH_SIZE = 32\n",
    "\n",
    "train_iterator, valid_iterator, test_iterator = BucketIterator.splits(\n",
    "    (train_data, valid_data, test_data), \n",
    "    batch_size = BATCH_SIZE, \n",
    "    sort_within_batch = True,\n",
    "    sort_key = lambda x: len(x.src),\n",
    "    device = device)\n",
    "\n",
    "tmp = next(iter(train_iterator))\n",
    "print(tmp)"
   ]
  },
  {
   "cell_type": "code",
   "execution_count": 6,
   "metadata": {},
   "outputs": [],
   "source": [
    "from models.model4.definition import Encoder, Attention, Decoder, Seq2Seq\n",
    "from models.model4.train import init_weights, train, evaluate\n",
    "from utils import count_parameters, train_loop"
   ]
  },
  {
   "cell_type": "code",
   "execution_count": 7,
   "metadata": {},
   "outputs": [
    {
     "name": "stdout",
     "output_type": "stream",
     "text": [
      "The model has 12,406,439 trainable parameters\n"
     ]
    }
   ],
   "source": [
    "INPUT_DIM = len(SRC.vocab)\n",
    "OUTPUT_DIM = len(TRG.vocab)\n",
    "ENC_EMB_DIM = 256\n",
    "DEC_EMB_DIM = 256\n",
    "ENC_HID_DIM = 512\n",
    "DEC_HID_DIM = 512\n",
    "ENC_DROPOUT = 0.5\n",
    "DEC_DROPOUT = 0.5\n",
    "SRC_PAD_IDX = SRC.vocab.stoi[SRC.pad_token]\n",
    "\n",
    "attn = Attention(ENC_HID_DIM, DEC_HID_DIM)\n",
    "enc = Encoder(INPUT_DIM, ENC_EMB_DIM, ENC_HID_DIM, DEC_HID_DIM, ENC_DROPOUT)\n",
    "dec = Decoder(OUTPUT_DIM, DEC_EMB_DIM, ENC_HID_DIM, DEC_HID_DIM, DEC_DROPOUT, attn)\n",
    "\n",
    "model = Seq2Seq(enc, dec, SRC_PAD_IDX, device).to(device)\n",
    "\n",
    "model.apply(init_weights)\n",
    "\n",
    "print(f'The model has {count_parameters(model):,} trainable parameters')"
   ]
  },
  {
   "cell_type": "code",
   "execution_count": null,
   "metadata": {},
   "outputs": [],
   "source": [
    "optimizer = optim.Adam(model.parameters())\n",
    "TRG_PAD_IDX = TRG.vocab.stoi[TRG.pad_token]\n",
    "criterion = nn.CrossEntropyLoss(ignore_index = TRG_PAD_IDX)\n",
    "\n",
    "train_loop(model, optimizer, criterion, train, evaluate,\n",
    "           train_iterator, valid_iterator, \n",
    "           save_path='result/', file_name='test-card-name-model.pt', load_before_train=True)"
   ]
  },
  {
   "cell_type": "code",
   "execution_count": 8,
   "metadata": {},
   "outputs": [],
   "source": [
    "from utils.translate import Translator\n",
    "from models.model4.definition import beam_search\n",
    "model.load_state_dict(torch.load('result/test-card-name-model.pt', map_location=torch.device(device)))\n",
    "T = Translator(SRC, TRG, model, device, beam_search)"
   ]
  },
  {
   "cell_type": "code",
   "execution_count": 67,
   "metadata": {},
   "outputs": [
    {
     "data": {
      "text/plain": [
       "([['<unk>', '守护者', '<eos>'],\n",
       "  ['<unk>', '守卫', '<eos>'],\n",
       "  ['<unk>', '<unk>', '<eos>']],\n",
       " [0.5978619184235284, 0.19217252471822394, 0.022983777595810998])"
      ]
     },
     "execution_count": 67,
     "metadata": {},
     "output_type": "execute_result"
    }
   ],
   "source": [
    "T.translate('guardian of solitude')"
   ]
  },
  {
   "cell_type": "code",
   "execution_count": 72,
   "metadata": {},
   "outputs": [
    {
     "name": "stdout",
     "output_type": "stream",
     "text": [
      "Number of samples: 449\n",
      "src: [justiciar 's portal ] trg = [大司法通道]\n",
      "<unk><unk>通道<eos> \t[probability: 0.27791]\n",
      "<unk>的通道<eos> \t[probability: 0.05891]\n",
      "<unk>法师通道<eos> \t[probability: 0.02660]\n",
      "\n",
      "src: [kor duelist ] trg = [寇族斗客]\n",
      "寇族<unk><eos> \t[probability: 0.14255]\n",
      "励志<unk><eos> \t[probability: 0.10460]\n",
      "励志斗客<eos> \t[probability: 0.06303]\n",
      "\n",
      "src: [foreboding fruit ] trg = [预兆果实]\n",
      "<unk><unk><eos> \t[probability: 0.79890]\n",
      "<unk><unk>兽<eos> \t[probability: 0.02685]\n",
      "<unk><unk><unk><eos> \t[probability: 0.02018]\n",
      "\n"
     ]
    }
   ],
   "source": [
    "from utils import show_samples\n",
    "print(f'Number of samples: {len(test_data)}')\n",
    "show_samples(test_data, T, n=3, beam_size=3)"
   ]
  }
 ],
 "metadata": {
  "kernelspec": {
   "display_name": "seq2seq",
   "language": "python",
   "name": "python3"
  },
  "language_info": {
   "codemirror_mode": {
    "name": "ipython",
    "version": 3
   },
   "file_extension": ".py",
   "mimetype": "text/x-python",
   "name": "python",
   "nbconvert_exporter": "python",
   "pygments_lexer": "ipython3",
   "version": "3.9.16"
  },
  "orig_nbformat": 4
 },
 "nbformat": 4,
 "nbformat_minor": 2
}
